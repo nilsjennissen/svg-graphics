{
 "cells": [
  {
   "cell_type": "markdown",
   "source": [
    "# Creating SVGs with Python\n",
    "\n",
    "Python is a great language for creating SVGs. It is a very flexible language that can be used to create SVGs in a variety of ways. In this notebook we will explore some of the ways that Python can be used to create SVGs.\n"
   ],
   "metadata": {
    "collapsed": false
   }
  },
  {
   "cell_type": "code",
   "execution_count": 1,
   "outputs": [],
   "source": [
    "# Importing packages\n",
    "import random\n",
    "import math\n",
    "import numpy as np\n",
    "import matplotlib.pyplot as plt\n",
    "import matplotlib.image as mpimg\n",
    "from IPython.display import SVG\n",
    "from graphviz import Digraph\n",
    "from IPython.display import SVG, display\n",
    "from graphviz import Digraph\n",
    "from IPython.display import SVG, display"
   ],
   "metadata": {
    "collapsed": false,
    "ExecuteTime": {
     "start_time": "2023-04-15T19:11:26.731776Z",
     "end_time": "2023-04-15T19:11:27.352870Z"
    }
   }
  },
  {
   "cell_type": "markdown",
   "source": [
    "### SVGs containing text"
   ],
   "metadata": {
    "collapsed": false
   }
  },
  {
   "cell_type": "code",
   "execution_count": 2,
   "outputs": [
    {
     "data": {
      "text/plain": "<IPython.core.display.SVG object>",
      "image/svg+xml": "<svg xmlns=\"http://www.w3.org/2000/svg\" xmlns:xlink=\"http://www.w3.org/1999/xlink\" width=\"231pt\" height=\"44pt\" viewBox=\"0.00 0.00 231.00 44.00\">\n<g id=\"graph0\" class=\"graph\" transform=\"scale(1 1) rotate(0) translate(4 40)\">\n<polygon fill=\"white\" stroke=\"none\" points=\"-4,4 -4,-40 227,-40 227,4 -4,4\"/>\n<!-- f_string -->\n<g id=\"node1\" class=\"node\">\n<title>f_string</title>\n<polygon fill=\"none\" stroke=\"black\" points=\"223,-36 0,-36 0,0 223,0 223,-36\"/>\n<text text-anchor=\"middle\" x=\"111.5\" y=\"-14.3\" font-family=\"Times,serif\" font-size=\"14.00\">This is an SVG containing some text!</text>\n</g>\n</g>\n</svg>"
     },
     "metadata": {},
     "output_type": "display_data"
    }
   ],
   "source": [
    "# Hello world for SVGs\n",
    "f_string = f\"This is an SVG containing some text!\"\n",
    "# Create a new graph\n",
    "dot = Digraph()\n",
    "# Add a node for the f string\n",
    "dot.node('f_string', label=f_string, shape='rectangle')\n",
    "# Render the graph as an SVG image\n",
    "dot.format = 'svg'\n",
    "svg_data = dot.pipe().decode('utf-8')\n",
    "# Display the SVG image in the notebook\n",
    "display(SVG(svg_data))"
   ],
   "metadata": {
    "collapsed": false,
    "ExecuteTime": {
     "start_time": "2023-04-15T19:11:29.218020Z",
     "end_time": "2023-04-15T19:11:29.375209Z"
    }
   }
  },
  {
   "cell_type": "markdown",
   "source": [],
   "metadata": {
    "collapsed": false
   }
  },
  {
   "cell_type": "code",
   "execution_count": 48,
   "outputs": [],
   "source": [
    "def show_svg(svg_string):\n",
    "    \"\"\"Display the SVG image in the notebook.\"\"\"\n",
    "    size = (500, 500)\n",
    "    # Add whitespace and frame to the SVG image\n",
    "    string = f'<svg width=\"100%\" height=\"100%\" viewBox=\"-10 -10 120 120\" xmlns=\"http://www.w3.org/2000/svg\" style=\"background-color: white\">'\n",
    "    string += f'<rect x=\"-5\" y=\"-5\" width=\"110\" height=\"110\" fill=\"none\" stroke=\"black\" stroke-width=\"1\"/>'\n",
    "    string += f'{svg_string}'\n",
    "    # Close the SVG image\n",
    "    string += '</svg>'\n",
    "    display(SVG(string))\n"
   ],
   "metadata": {
    "collapsed": false,
    "ExecuteTime": {
     "start_time": "2023-04-15T19:11:32.499163Z",
     "end_time": "2023-04-15T19:11:32.505112Z"
    }
   }
  },
  {
   "cell_type": "markdown",
   "source": [
    "### Drawing diagonal lines"
   ],
   "metadata": {
    "collapsed": false
   }
  },
  {
   "cell_type": "code",
   "execution_count": 49,
   "outputs": [
    {
     "data": {
      "text/plain": "<IPython.core.display.SVG object>",
      "image/svg+xml": "<svg xmlns=\"http://www.w3.org/2000/svg\" width=\"100%\" height=\"100%\" viewBox=\"-10 -10 120 120\" style=\"background-color: white\"><rect x=\"-5\" y=\"-5\" width=\"110\" height=\"110\" fill=\"none\" stroke=\"black\" stroke-width=\"1\"/><line x1=\"0\" y1=\"0\" x2=\"100\" y2=\"100\" stroke=\"black\"/></svg>"
     },
     "metadata": {},
     "output_type": "display_data"
    }
   ],
   "source": [
    "def draw_line(x1, y1, x2, y2, color='black'):\n",
    "    \"\"\"Draw a diagonal line from (x1, y1) to (x2, y2).\"\"\"\n",
    "    # Draw the diagonal line\n",
    "    string = f'<line x1=\"{x1}\" y1=\"{y1}\" x2=\"{x2}\" y2=\"{y2}\" stroke=\"{color}\" />'\n",
    "    return string\n",
    "\n",
    "show_svg(draw_line(0, 0, 100, 100))"
   ],
   "metadata": {
    "collapsed": false,
    "ExecuteTime": {
     "start_time": "2023-04-15T19:11:34.856322Z",
     "end_time": "2023-04-15T19:11:34.859599Z"
    }
   }
  },
  {
   "cell_type": "markdown",
   "source": [
    "### Draw some randome lines"
   ],
   "metadata": {
    "collapsed": false
   }
  },
  {
   "cell_type": "code",
   "execution_count": 34,
   "outputs": [
    {
     "data": {
      "text/plain": "<IPython.core.display.SVG object>",
      "image/svg+xml": "<svg xmlns=\"http://www.w3.org/2000/svg\" width=\"100%\" height=\"100%\" viewBox=\"-10 -10 120 120\" style=\"background-color: white\"><rect x=\"-5\" y=\"-5\" width=\"110\" height=\"110\" fill=\"none\" stroke=\"black\" stroke-width=\"1\"/><line x1=\"50\" y1=\"47\" x2=\"24\" y2=\"25\" stroke=\"black\"/><line x1=\"66\" y1=\"44\" x2=\"38\" y2=\"90\" stroke=\"black\"/><line x1=\"19\" y1=\"38\" x2=\"28\" y2=\"49\" stroke=\"black\"/><line x1=\"35\" y1=\"89\" x2=\"98\" y2=\"100\" stroke=\"black\"/><line x1=\"90\" y1=\"15\" x2=\"67\" y2=\"88\" stroke=\"black\"/><line x1=\"50\" y1=\"7\" x2=\"37\" y2=\"82\" stroke=\"black\"/><line x1=\"34\" y1=\"5\" x2=\"72\" y2=\"59\" stroke=\"black\"/><line x1=\"66\" y1=\"86\" x2=\"22\" y2=\"29\" stroke=\"black\"/><line x1=\"13\" y1=\"15\" x2=\"28\" y2=\"23\" stroke=\"black\"/><line x1=\"29\" y1=\"38\" x2=\"19\" y2=\"95\" stroke=\"black\"/><line x1=\"97\" y1=\"99\" x2=\"84\" y2=\"21\" stroke=\"black\"/><line x1=\"44\" y1=\"35\" x2=\"0\" y2=\"89\" stroke=\"black\"/><line x1=\"75\" y1=\"24\" x2=\"59\" y2=\"45\" stroke=\"black\"/><line x1=\"89\" y1=\"72\" x2=\"46\" y2=\"1\" stroke=\"black\"/><line x1=\"86\" y1=\"85\" x2=\"82\" y2=\"40\" stroke=\"black\"/><line x1=\"99\" y1=\"33\" x2=\"65\" y2=\"43\" stroke=\"black\"/><line x1=\"54\" y1=\"57\" x2=\"54\" y2=\"77\" stroke=\"black\"/><line x1=\"32\" y1=\"65\" x2=\"98\" y2=\"99\" stroke=\"black\"/><line x1=\"18\" y1=\"32\" x2=\"55\" y2=\"99\" stroke=\"black\"/><line x1=\"4\" y1=\"57\" x2=\"44\" y2=\"6\" stroke=\"black\"/><line x1=\"39\" y1=\"22\" x2=\"53\" y2=\"52\" stroke=\"black\"/><line x1=\"83\" y1=\"16\" x2=\"8\" y2=\"91\" stroke=\"black\"/><line x1=\"27\" y1=\"51\" x2=\"8\" y2=\"64\" stroke=\"black\"/><line x1=\"2\" y1=\"13\" x2=\"57\" y2=\"20\" stroke=\"black\"/><line x1=\"95\" y1=\"25\" x2=\"5\" y2=\"2\" stroke=\"black\"/><line x1=\"74\" y1=\"13\" x2=\"8\" y2=\"57\" stroke=\"black\"/><line x1=\"69\" y1=\"9\" x2=\"41\" y2=\"60\" stroke=\"black\"/><line x1=\"94\" y1=\"82\" x2=\"29\" y2=\"60\" stroke=\"black\"/><line x1=\"61\" y1=\"99\" x2=\"88\" y2=\"40\" stroke=\"black\"/><line x1=\"98\" y1=\"28\" x2=\"75\" y2=\"95\" stroke=\"black\"/><line x1=\"90\" y1=\"7\" x2=\"22\" y2=\"19\" stroke=\"black\"/><line x1=\"87\" y1=\"2\" x2=\"80\" y2=\"64\" stroke=\"black\"/><line x1=\"68\" y1=\"3\" x2=\"40\" y2=\"34\" stroke=\"black\"/><line x1=\"44\" y1=\"32\" x2=\"37\" y2=\"0\" stroke=\"black\"/><line x1=\"82\" y1=\"35\" x2=\"69\" y2=\"68\" stroke=\"black\"/><line x1=\"76\" y1=\"40\" x2=\"12\" y2=\"15\" stroke=\"black\"/><line x1=\"68\" y1=\"27\" x2=\"2\" y2=\"51\" stroke=\"black\"/><line x1=\"70\" y1=\"90\" x2=\"57\" y2=\"91\" stroke=\"black\"/><line x1=\"98\" y1=\"76\" x2=\"12\" y2=\"71\" stroke=\"black\"/><line x1=\"11\" y1=\"15\" x2=\"57\" y2=\"18\" stroke=\"black\"/><line x1=\"26\" y1=\"90\" x2=\"65\" y2=\"76\" stroke=\"black\"/><line x1=\"7\" y1=\"9\" x2=\"40\" y2=\"84\" stroke=\"black\"/><line x1=\"63\" y1=\"43\" x2=\"13\" y2=\"93\" stroke=\"black\"/><line x1=\"57\" y1=\"43\" x2=\"27\" y2=\"38\" stroke=\"black\"/><line x1=\"97\" y1=\"16\" x2=\"7\" y2=\"30\" stroke=\"black\"/><line x1=\"12\" y1=\"40\" x2=\"54\" y2=\"51\" stroke=\"black\"/><line x1=\"5\" y1=\"80\" x2=\"20\" y2=\"6\" stroke=\"black\"/><line x1=\"47\" y1=\"1\" x2=\"21\" y2=\"61\" stroke=\"black\"/><line x1=\"77\" y1=\"29\" x2=\"2\" y2=\"78\" stroke=\"black\"/><line x1=\"42\" y1=\"1\" x2=\"34\" y2=\"29\" stroke=\"black\"/><line x1=\"1\" y1=\"43\" x2=\"44\" y2=\"39\" stroke=\"black\"/><line x1=\"12\" y1=\"22\" x2=\"22\" y2=\"23\" stroke=\"black\"/><line x1=\"6\" y1=\"68\" x2=\"51\" y2=\"65\" stroke=\"black\"/><line x1=\"44\" y1=\"76\" x2=\"8\" y2=\"72\" stroke=\"black\"/><line x1=\"47\" y1=\"35\" x2=\"83\" y2=\"17\" stroke=\"black\"/><line x1=\"23\" y1=\"7\" x2=\"18\" y2=\"70\" stroke=\"black\"/><line x1=\"97\" y1=\"72\" x2=\"20\" y2=\"25\" stroke=\"black\"/><line x1=\"38\" y1=\"77\" x2=\"1\" y2=\"7\" stroke=\"black\"/><line x1=\"100\" y1=\"25\" x2=\"25\" y2=\"75\" stroke=\"black\"/><line x1=\"93\" y1=\"56\" x2=\"20\" y2=\"10\" stroke=\"black\"/><line x1=\"17\" y1=\"78\" x2=\"17\" y2=\"72\" stroke=\"black\"/><line x1=\"61\" y1=\"71\" x2=\"12\" y2=\"70\" stroke=\"black\"/><line x1=\"42\" y1=\"5\" x2=\"63\" y2=\"46\" stroke=\"black\"/><line x1=\"22\" y1=\"87\" x2=\"11\" y2=\"9\" stroke=\"black\"/><line x1=\"81\" y1=\"63\" x2=\"54\" y2=\"52\" stroke=\"black\"/><line x1=\"86\" y1=\"67\" x2=\"89\" y2=\"77\" stroke=\"black\"/><line x1=\"27\" y1=\"83\" x2=\"23\" y2=\"64\" stroke=\"black\"/><line x1=\"15\" y1=\"88\" x2=\"55\" y2=\"74\" stroke=\"black\"/><line x1=\"86\" y1=\"54\" x2=\"9\" y2=\"45\" stroke=\"black\"/><line x1=\"15\" y1=\"32\" x2=\"21\" y2=\"42\" stroke=\"black\"/><line x1=\"61\" y1=\"61\" x2=\"19\" y2=\"62\" stroke=\"black\"/><line x1=\"90\" y1=\"18\" x2=\"48\" y2=\"16\" stroke=\"black\"/><line x1=\"28\" y1=\"72\" x2=\"100\" y2=\"88\" stroke=\"black\"/><line x1=\"94\" y1=\"1\" x2=\"20\" y2=\"84\" stroke=\"black\"/><line x1=\"48\" y1=\"26\" x2=\"27\" y2=\"92\" stroke=\"black\"/><line x1=\"91\" y1=\"21\" x2=\"73\" y2=\"58\" stroke=\"black\"/><line x1=\"40\" y1=\"56\" x2=\"43\" y2=\"3\" stroke=\"black\"/><line x1=\"42\" y1=\"32\" x2=\"79\" y2=\"58\" stroke=\"black\"/><line x1=\"98\" y1=\"20\" x2=\"82\" y2=\"96\" stroke=\"black\"/><line x1=\"49\" y1=\"18\" x2=\"64\" y2=\"72\" stroke=\"black\"/><line x1=\"57\" y1=\"83\" x2=\"17\" y2=\"25\" stroke=\"black\"/><line x1=\"54\" y1=\"97\" x2=\"61\" y2=\"91\" stroke=\"black\"/><line x1=\"54\" y1=\"68\" x2=\"86\" y2=\"82\" stroke=\"black\"/><line x1=\"95\" y1=\"41\" x2=\"2\" y2=\"89\" stroke=\"black\"/><line x1=\"80\" y1=\"99\" x2=\"17\" y2=\"77\" stroke=\"black\"/><line x1=\"36\" y1=\"32\" x2=\"85\" y2=\"39\" stroke=\"black\"/><line x1=\"68\" y1=\"42\" x2=\"24\" y2=\"87\" stroke=\"black\"/><line x1=\"0\" y1=\"33\" x2=\"100\" y2=\"34\" stroke=\"black\"/><line x1=\"94\" y1=\"68\" x2=\"77\" y2=\"71\" stroke=\"black\"/><line x1=\"68\" y1=\"2\" x2=\"92\" y2=\"25\" stroke=\"black\"/><line x1=\"74\" y1=\"45\" x2=\"1\" y2=\"84\" stroke=\"black\"/><line x1=\"90\" y1=\"61\" x2=\"37\" y2=\"26\" stroke=\"black\"/><line x1=\"5\" y1=\"76\" x2=\"85\" y2=\"36\" stroke=\"black\"/><line x1=\"32\" y1=\"7\" x2=\"13\" y2=\"83\" stroke=\"black\"/><line x1=\"96\" y1=\"0\" x2=\"80\" y2=\"96\" stroke=\"black\"/><line x1=\"10\" y1=\"11\" x2=\"68\" y2=\"75\" stroke=\"black\"/><line x1=\"45\" y1=\"55\" x2=\"44\" y2=\"7\" stroke=\"black\"/><line x1=\"39\" y1=\"3\" x2=\"52\" y2=\"85\" stroke=\"black\"/><line x1=\"53\" y1=\"64\" x2=\"86\" y2=\"19\" stroke=\"black\"/><line x1=\"98\" y1=\"58\" x2=\"43\" y2=\"3\" stroke=\"black\"/></svg>"
     },
     "metadata": {},
     "output_type": "display_data"
    }
   ],
   "source": [
    "def draw_random_lines(n=100, color='black'):\n",
    "    \"\"\"Draw n random diagonals.\"\"\"\n",
    "    string = ''\n",
    "    for i in range(n):\n",
    "        # Generate random coordinates\n",
    "        x1 = random.randint(0, 100)\n",
    "        y1 = random.randint(0, 100)\n",
    "        x2 = random.randint(0, 100)\n",
    "        y2 = random.randint(0, 100)\n",
    "        # Draw the diagonal line\n",
    "        string += draw_line(x1, y1, x2, y2, color)\n",
    "    return string\n",
    "\n",
    "show_svg(draw_random_lines())"
   ],
   "metadata": {
    "collapsed": false,
    "ExecuteTime": {
     "start_time": "2023-04-15T19:11:36.193563Z",
     "end_time": "2023-04-15T19:11:36.195949Z"
    }
   }
  },
  {
   "cell_type": "markdown",
   "source": [
    "### Drawing a pattern"
   ],
   "metadata": {
    "collapsed": false
   }
  },
  {
   "cell_type": "code",
   "execution_count": 35,
   "outputs": [
    {
     "data": {
      "text/plain": "<IPython.core.display.SVG object>",
      "image/svg+xml": "<svg xmlns=\"http://www.w3.org/2000/svg\" width=\"100%\" height=\"100%\" viewBox=\"-10 -10 120 120\" style=\"background-color: white\"><rect x=\"-5\" y=\"-5\" width=\"110\" height=\"110\" fill=\"none\" stroke=\"black\" stroke-width=\"1\"/><line x1=\"0\" y1=\"0\" x2=\"0\" y2=\"100\" stroke=\"black\"/><line x1=\"0\" y1=\"0\" x2=\"100\" y2=\"0\" stroke=\"black\"/><line x1=\"10\" y1=\"0\" x2=\"10\" y2=\"100\" stroke=\"black\"/><line x1=\"0\" y1=\"10\" x2=\"100\" y2=\"10\" stroke=\"black\"/><line x1=\"20\" y1=\"0\" x2=\"20\" y2=\"100\" stroke=\"black\"/><line x1=\"0\" y1=\"20\" x2=\"100\" y2=\"20\" stroke=\"black\"/><line x1=\"30\" y1=\"0\" x2=\"30\" y2=\"100\" stroke=\"black\"/><line x1=\"0\" y1=\"30\" x2=\"100\" y2=\"30\" stroke=\"black\"/><line x1=\"40\" y1=\"0\" x2=\"40\" y2=\"100\" stroke=\"black\"/><line x1=\"0\" y1=\"40\" x2=\"100\" y2=\"40\" stroke=\"black\"/><line x1=\"50\" y1=\"0\" x2=\"50\" y2=\"100\" stroke=\"black\"/><line x1=\"0\" y1=\"50\" x2=\"100\" y2=\"50\" stroke=\"black\"/><line x1=\"60\" y1=\"0\" x2=\"60\" y2=\"100\" stroke=\"black\"/><line x1=\"0\" y1=\"60\" x2=\"100\" y2=\"60\" stroke=\"black\"/><line x1=\"70\" y1=\"0\" x2=\"70\" y2=\"100\" stroke=\"black\"/><line x1=\"0\" y1=\"70\" x2=\"100\" y2=\"70\" stroke=\"black\"/><line x1=\"80\" y1=\"0\" x2=\"80\" y2=\"100\" stroke=\"black\"/><line x1=\"0\" y1=\"80\" x2=\"100\" y2=\"80\" stroke=\"black\"/><line x1=\"90\" y1=\"0\" x2=\"90\" y2=\"100\" stroke=\"black\"/><line x1=\"0\" y1=\"90\" x2=\"100\" y2=\"90\" stroke=\"black\"/><line x1=\"100\" y1=\"0\" x2=\"100\" y2=\"100\" stroke=\"black\"/><line x1=\"0\" y1=\"100\" x2=\"100\" y2=\"100\" stroke=\"black\"/></svg>"
     },
     "metadata": {},
     "output_type": "display_data"
    }
   ],
   "source": [
    "def draw_maze(n=11, color='black'):\n",
    "    \"\"\"Draw a maze of diagonals.\"\"\"\n",
    "    string = ''\n",
    "    for i in range(n):\n",
    "        # Draw a vertical line\n",
    "        string += draw_line(i * 10, 0, i * 10, 100, color)\n",
    "        # Draw a horizontal line\n",
    "        string += draw_line(0, i * 10, 100, i * 10, color)\n",
    "    return string\n",
    "\n",
    "show_svg(draw_maze())"
   ],
   "metadata": {
    "collapsed": false,
    "ExecuteTime": {
     "start_time": "2023-04-15T19:11:37.845638Z",
     "end_time": "2023-04-15T19:11:37.848815Z"
    }
   }
  },
  {
   "cell_type": "markdown",
   "source": [
    "### Shapes and colors"
   ],
   "metadata": {
    "collapsed": false
   }
  },
  {
   "cell_type": "code",
   "execution_count": 7,
   "outputs": [
    {
     "data": {
      "text/plain": "<IPython.core.display.SVG object>",
      "image/svg+xml": "<svg xmlns=\"http://www.w3.org/2000/svg\" width=\"100%\" height=\"100%\" viewBox=\"-10 -10 120 120\" style=\"background-color: white\"><rect x=\"-5\" y=\"-5\" width=\"110\" height=\"110\" fill=\"none\" stroke=\"black\" stroke-width=\"1\"/><rect x=\"0\" y=\"0\" width=\"100\" height=\"100\" fill=\"blue\"/></svg>"
     },
     "metadata": {},
     "output_type": "display_data"
    }
   ],
   "source": [
    "def draw_rectangle(x, y, width, height, color='black'):\n",
    "    \"\"\"Draw a rectangle with the given coordinates and dimensions.\"\"\"\n",
    "    # Draw the rectangle\n",
    "    string = f'<rect x=\"{x}\" y=\"{y}\" width=\"{width}\" height=\"{height}\" fill=\"{color}\" />'\n",
    "    return string\n",
    "\n",
    "show_svg(draw_rectangle(0, 0, 100, 100, 'blue'))"
   ],
   "metadata": {
    "collapsed": false,
    "ExecuteTime": {
     "start_time": "2023-04-15T19:11:39.378699Z",
     "end_time": "2023-04-15T19:11:39.382306Z"
    }
   }
  },
  {
   "cell_type": "markdown",
   "source": [
    "### Circle\n"
   ],
   "metadata": {
    "collapsed": false
   }
  },
  {
   "cell_type": "code",
   "execution_count": 8,
   "outputs": [
    {
     "data": {
      "text/plain": "<IPython.core.display.SVG object>",
      "image/svg+xml": "<svg xmlns=\"http://www.w3.org/2000/svg\" width=\"100%\" height=\"100%\" viewBox=\"-10 -10 120 120\" style=\"background-color: white\"><rect x=\"-5\" y=\"-5\" width=\"110\" height=\"110\" fill=\"none\" stroke=\"black\" stroke-width=\"1\"/><circle cx=\"50\" cy=\"50\" r=\"50\" fill=\"yellow\"/></svg>"
     },
     "metadata": {},
     "output_type": "display_data"
    }
   ],
   "source": [
    "def draw_circle(x, y, radius, color='black'):\n",
    "    \"\"\"Draw a circle with the given coordinates and radius.\"\"\"\n",
    "    # Draw the circle\n",
    "    string = f'<circle cx=\"{x}\" cy=\"{y}\" r=\"{radius}\" fill=\"{color}\" />'\n",
    "    return string\n",
    "\n",
    "show_svg(draw_circle(50, 50, 50, 'yellow'))\n"
   ],
   "metadata": {
    "collapsed": false,
    "ExecuteTime": {
     "start_time": "2023-04-15T19:11:40.592048Z",
     "end_time": "2023-04-15T19:11:40.594397Z"
    }
   }
  },
  {
   "cell_type": "markdown",
   "source": [
    "## A combination"
   ],
   "metadata": {
    "collapsed": false
   }
  },
  {
   "cell_type": "code",
   "execution_count": 9,
   "outputs": [
    {
     "data": {
      "text/plain": "<IPython.core.display.SVG object>",
      "image/svg+xml": "<svg xmlns=\"http://www.w3.org/2000/svg\" width=\"100%\" height=\"100%\" viewBox=\"-10 -10 120 120\" style=\"background-color: white\"><rect x=\"-5\" y=\"-5\" width=\"110\" height=\"110\" fill=\"none\" stroke=\"black\" stroke-width=\"1\"/><rect x=\"0\" y=\"0\" width=\"100\" height=\"100\" fill=\"lightblue\"/><circle cx=\"50\" cy=\"50\" r=\"50\" fill=\"lightyellow\"/></svg>"
     },
     "metadata": {},
     "output_type": "display_data"
    }
   ],
   "source": [
    "start = draw_rectangle(0, 0, 100, 100, 'lightblue')\n",
    "second = draw_circle(50, 50, 50, 'lightyellow')\n",
    "start += second\n",
    "\n",
    "show_svg(start)"
   ],
   "metadata": {
    "collapsed": false,
    "ExecuteTime": {
     "start_time": "2023-04-15T19:11:41.764799Z",
     "end_time": "2023-04-15T19:11:41.768933Z"
    }
   }
  },
  {
   "cell_type": "markdown",
   "source": [
    "# Draw Splashes\n"
   ],
   "metadata": {
    "collapsed": false
   }
  },
  {
   "cell_type": "code",
   "execution_count": 10,
   "outputs": [
    {
     "data": {
      "text/plain": "<IPython.core.display.SVG object>",
      "image/svg+xml": "<svg xmlns=\"http://www.w3.org/2000/svg\" width=\"100%\" height=\"100%\" viewBox=\"-10 -10 120 120\" style=\"background-color: white\"><rect x=\"-5\" y=\"-5\" width=\"110\" height=\"110\" fill=\"none\" stroke=\"black\" stroke-width=\"1\"/><circle cx=\"67\" cy=\"54\" r=\"22\" fill=\"black\"/><circle cx=\"74\" cy=\"56\" r=\"11\" fill=\"black\"/><circle cx=\"53\" cy=\"65\" r=\"11\" fill=\"black\"/><circle cx=\"37\" cy=\"28\" r=\"11\" fill=\"black\"/><circle cx=\"51\" cy=\"31\" r=\"29\" fill=\"black\"/></svg>"
     },
     "metadata": {},
     "output_type": "display_data"
    }
   ],
   "source": [
    "def draw_circles(n=5, color='black'):\n",
    "    \"\"\"Draw n circles with different radii.\"\"\"\n",
    "    svg = ''\n",
    "    for i in range(n):\n",
    "        # Generate random coordinates\n",
    "        x = random.randint(20, 80)\n",
    "        y = random.randint(20, 80)\n",
    "        # Generate a random radius\n",
    "        radius = random.randint(10, 30)\n",
    "        # Draw the circle\n",
    "        svg += draw_circle(x, y, radius, color)\n",
    "    return svg\n",
    "\n",
    "show_svg(draw_circles())"
   ],
   "metadata": {
    "collapsed": false,
    "ExecuteTime": {
     "start_time": "2023-04-15T19:11:43.076444Z",
     "end_time": "2023-04-15T19:11:43.079803Z"
    }
   }
  },
  {
   "cell_type": "code",
   "execution_count": 11,
   "outputs": [
    {
     "data": {
      "text/plain": "<IPython.core.display.SVG object>",
      "image/svg+xml": "<svg xmlns=\"http://www.w3.org/2000/svg\" width=\"100%\" height=\"100%\" viewBox=\"-10 -10 120 120\" style=\"background-color: white\"><rect x=\"-5\" y=\"-5\" width=\"110\" height=\"110\" fill=\"none\" stroke=\"black\" stroke-width=\"1\"/><circle cx=\"73\" cy=\"51\" r=\"28\" fill=\"black\"/><circle cx=\"60\" cy=\"25\" r=\"28\" fill=\"black\"/><circle cx=\"51\" cy=\"53\" r=\"22\" fill=\"black\"/><circle cx=\"40\" cy=\"32\" r=\"19\" fill=\"black\"/><circle cx=\"44\" cy=\"80\" r=\"10\" fill=\"black\"/></svg>"
     },
     "metadata": {},
     "output_type": "display_data"
    }
   ],
   "source": [
    "colors = ['lightyellow', 'lightblue', 'lightgreen']\n",
    "\n",
    "def draw_circles_colored(n=5):\n",
    "    \"\"\"Draw n circles with different radii and color.\"\"\"\n",
    "    svg = ''\n",
    "    for i in range(n):\n",
    "        # Generate random coordinates\n",
    "        x = random.randint(10, 90)\n",
    "        y = random.randint(10, 90)\n",
    "        # Generate a random radius\n",
    "        radius = random.randint(10, 40)\n",
    "        # Draw the circle\n",
    "        svg += draw_circle(x, y, radius, random.choice(colors))\n",
    "    return svg\n",
    "\n",
    "show_svg(draw_circles())"
   ],
   "metadata": {
    "collapsed": false,
    "ExecuteTime": {
     "start_time": "2023-04-15T19:11:44.032254Z",
     "end_time": "2023-04-15T19:11:44.034995Z"
    }
   }
  },
  {
   "cell_type": "markdown",
   "source": [
    "# Animation test"
   ],
   "metadata": {
    "collapsed": false
   }
  },
  {
   "cell_type": "code",
   "execution_count": 16,
   "outputs": [
    {
     "data": {
      "text/plain": "<IPython.core.display.SVG object>",
      "image/svg+xml": "<svg xmlns=\"http://www.w3.org/2000/svg\" width=\"100%\" height=\"100%\" viewBox=\"-10 -10 120 120\" style=\"background-color: white\"><rect x=\"-5\" y=\"-5\" width=\"110\" height=\"110\" fill=\"none\" stroke=\"black\" stroke-width=\"1\"/><circle cx=\"89\" cy=\"79\" r=\"15\" fill=\"lightyellow\"/><circle cx=\"26\" cy=\"67\" r=\"30\" fill=\"lightblue\"/><circle cx=\"27\" cy=\"10\" r=\"35\" fill=\"lightgreen\"/><circle cx=\"41\" cy=\"90\" r=\"32\" fill=\"lightyellow\"/><circle cx=\"13\" cy=\"46\" r=\"20\" fill=\"lightyellow\"/></svg>"
     },
     "metadata": {},
     "output_type": "display_data"
    },
    {
     "data": {
      "text/plain": "<IPython.core.display.SVG object>",
      "image/svg+xml": "<svg xmlns=\"http://www.w3.org/2000/svg\" width=\"100%\" height=\"100%\" viewBox=\"-10 -10 120 120\" style=\"background-color: white\"><rect x=\"-5\" y=\"-5\" width=\"110\" height=\"110\" fill=\"none\" stroke=\"black\" stroke-width=\"1\"/><circle cx=\"50\" cy=\"24\" r=\"18\" fill=\"lightgreen\"/><circle cx=\"78\" cy=\"61\" r=\"36\" fill=\"lightblue\"/><circle cx=\"76\" cy=\"26\" r=\"40\" fill=\"lightgreen\"/><circle cx=\"15\" cy=\"79\" r=\"19\" fill=\"lightblue\"/><circle cx=\"84\" cy=\"79\" r=\"24\" fill=\"lightgreen\"/></svg>"
     },
     "metadata": {},
     "output_type": "display_data"
    },
    {
     "data": {
      "text/plain": "<IPython.core.display.SVG object>",
      "image/svg+xml": "<svg xmlns=\"http://www.w3.org/2000/svg\" width=\"100%\" height=\"100%\" viewBox=\"-10 -10 120 120\" style=\"background-color: white\"><rect x=\"-5\" y=\"-5\" width=\"110\" height=\"110\" fill=\"none\" stroke=\"black\" stroke-width=\"1\"/><circle cx=\"31\" cy=\"87\" r=\"35\" fill=\"lightblue\"/><circle cx=\"14\" cy=\"39\" r=\"37\" fill=\"lightyellow\"/><circle cx=\"73\" cy=\"29\" r=\"12\" fill=\"lightblue\"/><circle cx=\"84\" cy=\"31\" r=\"10\" fill=\"lightblue\"/><circle cx=\"16\" cy=\"54\" r=\"28\" fill=\"lightgreen\"/></svg>"
     },
     "metadata": {},
     "output_type": "display_data"
    }
   ],
   "source": [
    "for i in range(2):\n",
    "    show_svg(draw_circles_colored(3))\n",
    "    # Erase the SVG image"
   ],
   "metadata": {
    "collapsed": false,
    "ExecuteTime": {
     "start_time": "2023-04-15T19:11:45.848508Z",
     "end_time": "2023-04-15T19:11:45.853153Z"
    }
   }
  },
  {
   "cell_type": "markdown",
   "source": [
    "# Draw a ring\n"
   ],
   "metadata": {
    "collapsed": false
   }
  },
  {
   "cell_type": "code",
   "execution_count": 17,
   "outputs": [
    {
     "data": {
      "text/plain": "<IPython.core.display.SVG object>",
      "image/svg+xml": "<svg xmlns=\"http://www.w3.org/2000/svg\" width=\"100%\" height=\"100%\" viewBox=\"-10 -10 120 120\" style=\"background-color: white\"><rect x=\"-5\" y=\"-5\" width=\"110\" height=\"110\" fill=\"none\" stroke=\"black\" stroke-width=\"1\"/><circle cx=\"50\" cy=\"50\" r=\"30\" fill=\"black\"/><circle cx=\"50\" cy=\"50\" r=\"25.0\" fill=\"white\"/><circle cx=\"50\" cy=\"50\" r=\"23.076923076923077\" fill=\"black\"/><circle cx=\"50\" cy=\"50\" r=\"15.0\" fill=\"white\"/><circle cx=\"50\" cy=\"50\" r=\"13.636363636363635\" fill=\"black\"/><circle cx=\"50\" cy=\"50\" r=\"49\" fill=\"black\"/><circle cx=\"50\" cy=\"50\" r=\"40.833333333333336\" fill=\"white\"/><circle cx=\"50\" cy=\"50\" r=\"37.69230769230769\" fill=\"black\"/><circle cx=\"50\" cy=\"50\" r=\"24.5\" fill=\"white\"/><circle cx=\"50\" cy=\"50\" r=\"22.27272727272727\" fill=\"black\"/></svg>"
     },
     "metadata": {},
     "output_type": "display_data"
    }
   ],
   "source": [
    "def draw_rings(n=2, color='black'):\n",
    "    \"\"\"Draw n rings with different radii.\"\"\"\n",
    "    svg = ''\n",
    "    for i in range(n):\n",
    "        # Generate random coordinates\n",
    "        x = 50   # x = random.randint(0, 100)\n",
    "        y = 50   # y = random.randint(0, 100)\n",
    "        # Generate a random radius\n",
    "        radius = random.randint(0, 50)\n",
    "        # Draw the circle\n",
    "        svg += draw_circle(x, y, radius, color)\n",
    "        # Draw the circle\n",
    "        svg += draw_circle(x, y, radius / 1.2, 'white')\n",
    "        # Draw the circle\n",
    "        svg += draw_circle(x, y, radius / 1.3, color)\n",
    "        # Draw the circle\n",
    "        svg += draw_circle(x, y, radius / 2, 'white')\n",
    "        # Draw the circle\n",
    "        svg += draw_circle(x, y, radius / 2.2, color)\n",
    "    return svg\n",
    "\n",
    "show_svg(draw_rings())"
   ],
   "metadata": {
    "collapsed": false,
    "ExecuteTime": {
     "start_time": "2023-04-15T19:11:47.594432Z",
     "end_time": "2023-04-15T19:11:47.597678Z"
    }
   }
  },
  {
   "cell_type": "markdown",
   "source": [
    "# Arcs\n"
   ],
   "metadata": {
    "collapsed": false
   }
  },
  {
   "cell_type": "code",
   "execution_count": 18,
   "outputs": [
    {
     "data": {
      "text/plain": "<IPython.core.display.SVG object>",
      "image/svg+xml": "<svg xmlns=\"http://www.w3.org/2000/svg\" width=\"100%\" height=\"100%\" viewBox=\"-10 -10 120 120\" style=\"background-color: white\"><rect x=\"-5\" y=\"-5\" width=\"110\" height=\"110\" fill=\"none\" stroke=\"black\" stroke-width=\"1\"/><path d=\"M 50 50 m 0 -50 a 50 50 0 1 1 0 100 a 50 50 0 1 1 0 -100\" fill=\"none\" stroke=\"red\" stroke-width=\"1\" transform=\"rotate(0 50 50)\"/></svg>"
     },
     "metadata": {},
     "output_type": "display_data"
    }
   ],
   "source": [
    "# Draw an arc\n",
    "def draw_arc(x, y, radius, start_angle, end_angle, color='black'):\n",
    "    \"\"\"Draw an arc with the given coordinates and radius.\"\"\"\n",
    "    # Draw the arc\n",
    "    svg = f'<path d=\"M {x} {y} m 0 -{radius} a {radius} {radius} 0 1 1 0 {radius * 2} a {radius} {radius} 0 1 1 0 -{radius * 2}\" fill=\"none\" stroke=\"{color}\" stroke-width=\"1\" transform=\"rotate({start_angle} {x} {y})\" />'\n",
    "    return svg\n",
    "\n",
    "show_svg(draw_arc(50, 50, 50, 0, 90, 'red'))\n",
    "\n"
   ],
   "metadata": {
    "collapsed": false,
    "ExecuteTime": {
     "start_time": "2023-04-15T19:11:49.009146Z",
     "end_time": "2023-04-15T19:11:49.015974Z"
    }
   }
  },
  {
   "cell_type": "markdown",
   "source": [],
   "metadata": {
    "collapsed": false
   }
  },
  {
   "cell_type": "markdown",
   "source": [
    "## Patterns"
   ],
   "metadata": {
    "collapsed": false
   }
  },
  {
   "cell_type": "code",
   "execution_count": 23,
   "outputs": [
    {
     "data": {
      "text/plain": "<IPython.core.display.SVG object>",
      "image/svg+xml": "<svg xmlns=\"http://www.w3.org/2000/svg\" width=\"100%\" height=\"100%\" viewBox=\"-10 -10 120 120\" style=\"background-color: white\"><rect x=\"-5\" y=\"-5\" width=\"110\" height=\"110\" fill=\"none\" stroke=\"black\" stroke-width=\"1\"/><rect x=\"0\" y=\"0\" width=\"10\" height=\"10\" fill=\"lightblue\"/><rect x=\"0\" y=\"10\" width=\"10\" height=\"10\" fill=\"orange\"/><rect x=\"0\" y=\"20\" width=\"10\" height=\"10\" fill=\"lightblue\"/><rect x=\"0\" y=\"30\" width=\"10\" height=\"10\" fill=\"orange\"/><rect x=\"0\" y=\"40\" width=\"10\" height=\"10\" fill=\"orange\"/><rect x=\"0\" y=\"50\" width=\"10\" height=\"10\" fill=\"orange\"/><rect x=\"0\" y=\"60\" width=\"10\" height=\"10\" fill=\"lightgreen\"/><rect x=\"0\" y=\"70\" width=\"10\" height=\"10\" fill=\"lightblue\"/><rect x=\"0\" y=\"80\" width=\"10\" height=\"10\" fill=\"orange\"/><rect x=\"0\" y=\"90\" width=\"10\" height=\"10\" fill=\"orange\"/><rect x=\"10\" y=\"0\" width=\"10\" height=\"10\" fill=\"orange\"/><rect x=\"10\" y=\"10\" width=\"10\" height=\"10\" fill=\"lightblue\"/><rect x=\"10\" y=\"20\" width=\"10\" height=\"10\" fill=\"orange\"/><rect x=\"10\" y=\"30\" width=\"10\" height=\"10\" fill=\"lightgreen\"/><rect x=\"10\" y=\"40\" width=\"10\" height=\"10\" fill=\"lightblue\"/><rect x=\"10\" y=\"50\" width=\"10\" height=\"10\" fill=\"lightblue\"/><rect x=\"10\" y=\"60\" width=\"10\" height=\"10\" fill=\"lightgreen\"/><rect x=\"10\" y=\"70\" width=\"10\" height=\"10\" fill=\"orange\"/><rect x=\"10\" y=\"80\" width=\"10\" height=\"10\" fill=\"lightgreen\"/><rect x=\"10\" y=\"90\" width=\"10\" height=\"10\" fill=\"orange\"/><rect x=\"20\" y=\"0\" width=\"10\" height=\"10\" fill=\"lightgreen\"/><rect x=\"20\" y=\"10\" width=\"10\" height=\"10\" fill=\"lightgreen\"/><rect x=\"20\" y=\"20\" width=\"10\" height=\"10\" fill=\"lightblue\"/><rect x=\"20\" y=\"30\" width=\"10\" height=\"10\" fill=\"lightblue\"/><rect x=\"20\" y=\"40\" width=\"10\" height=\"10\" fill=\"lightblue\"/><rect x=\"20\" y=\"50\" width=\"10\" height=\"10\" fill=\"lightgreen\"/><rect x=\"20\" y=\"60\" width=\"10\" height=\"10\" fill=\"lightblue\"/><rect x=\"20\" y=\"70\" width=\"10\" height=\"10\" fill=\"lightblue\"/><rect x=\"20\" y=\"80\" width=\"10\" height=\"10\" fill=\"orange\"/><rect x=\"20\" y=\"90\" width=\"10\" height=\"10\" fill=\"orange\"/><rect x=\"30\" y=\"0\" width=\"10\" height=\"10\" fill=\"lightgreen\"/><rect x=\"30\" y=\"10\" width=\"10\" height=\"10\" fill=\"lightblue\"/><rect x=\"30\" y=\"20\" width=\"10\" height=\"10\" fill=\"lightblue\"/><rect x=\"30\" y=\"30\" width=\"10\" height=\"10\" fill=\"lightgreen\"/><rect x=\"30\" y=\"40\" width=\"10\" height=\"10\" fill=\"lightgreen\"/><rect x=\"30\" y=\"50\" width=\"10\" height=\"10\" fill=\"orange\"/><rect x=\"30\" y=\"60\" width=\"10\" height=\"10\" fill=\"lightgreen\"/><rect x=\"30\" y=\"70\" width=\"10\" height=\"10\" fill=\"lightblue\"/><rect x=\"30\" y=\"80\" width=\"10\" height=\"10\" fill=\"orange\"/><rect x=\"30\" y=\"90\" width=\"10\" height=\"10\" fill=\"lightgreen\"/><rect x=\"40\" y=\"0\" width=\"10\" height=\"10\" fill=\"lightgreen\"/><rect x=\"40\" y=\"10\" width=\"10\" height=\"10\" fill=\"lightgreen\"/><rect x=\"40\" y=\"20\" width=\"10\" height=\"10\" fill=\"lightgreen\"/><rect x=\"40\" y=\"30\" width=\"10\" height=\"10\" fill=\"orange\"/><rect x=\"40\" y=\"40\" width=\"10\" height=\"10\" fill=\"lightblue\"/><rect x=\"40\" y=\"50\" width=\"10\" height=\"10\" fill=\"lightblue\"/><rect x=\"40\" y=\"60\" width=\"10\" height=\"10\" fill=\"lightgreen\"/><rect x=\"40\" y=\"70\" width=\"10\" height=\"10\" fill=\"lightgreen\"/><rect x=\"40\" y=\"80\" width=\"10\" height=\"10\" fill=\"lightblue\"/><rect x=\"40\" y=\"90\" width=\"10\" height=\"10\" fill=\"lightgreen\"/><rect x=\"50\" y=\"0\" width=\"10\" height=\"10\" fill=\"lightblue\"/><rect x=\"50\" y=\"10\" width=\"10\" height=\"10\" fill=\"lightblue\"/><rect x=\"50\" y=\"20\" width=\"10\" height=\"10\" fill=\"orange\"/><rect x=\"50\" y=\"30\" width=\"10\" height=\"10\" fill=\"orange\"/><rect x=\"50\" y=\"40\" width=\"10\" height=\"10\" fill=\"lightgreen\"/><rect x=\"50\" y=\"50\" width=\"10\" height=\"10\" fill=\"lightgreen\"/><rect x=\"50\" y=\"60\" width=\"10\" height=\"10\" fill=\"lightblue\"/><rect x=\"50\" y=\"70\" width=\"10\" height=\"10\" fill=\"orange\"/><rect x=\"50\" y=\"80\" width=\"10\" height=\"10\" fill=\"lightgreen\"/><rect x=\"50\" y=\"90\" width=\"10\" height=\"10\" fill=\"lightblue\"/><rect x=\"60\" y=\"0\" width=\"10\" height=\"10\" fill=\"lightblue\"/><rect x=\"60\" y=\"10\" width=\"10\" height=\"10\" fill=\"lightblue\"/><rect x=\"60\" y=\"20\" width=\"10\" height=\"10\" fill=\"lightblue\"/><rect x=\"60\" y=\"30\" width=\"10\" height=\"10\" fill=\"lightgreen\"/><rect x=\"60\" y=\"40\" width=\"10\" height=\"10\" fill=\"lightblue\"/><rect x=\"60\" y=\"50\" width=\"10\" height=\"10\" fill=\"lightgreen\"/><rect x=\"60\" y=\"60\" width=\"10\" height=\"10\" fill=\"lightgreen\"/><rect x=\"60\" y=\"70\" width=\"10\" height=\"10\" fill=\"lightblue\"/><rect x=\"60\" y=\"80\" width=\"10\" height=\"10\" fill=\"lightblue\"/><rect x=\"60\" y=\"90\" width=\"10\" height=\"10\" fill=\"orange\"/><rect x=\"70\" y=\"0\" width=\"10\" height=\"10\" fill=\"orange\"/><rect x=\"70\" y=\"10\" width=\"10\" height=\"10\" fill=\"lightgreen\"/><rect x=\"70\" y=\"20\" width=\"10\" height=\"10\" fill=\"orange\"/><rect x=\"70\" y=\"30\" width=\"10\" height=\"10\" fill=\"lightblue\"/><rect x=\"70\" y=\"40\" width=\"10\" height=\"10\" fill=\"lightgreen\"/><rect x=\"70\" y=\"50\" width=\"10\" height=\"10\" fill=\"lightgreen\"/><rect x=\"70\" y=\"60\" width=\"10\" height=\"10\" fill=\"orange\"/><rect x=\"70\" y=\"70\" width=\"10\" height=\"10\" fill=\"lightgreen\"/><rect x=\"70\" y=\"80\" width=\"10\" height=\"10\" fill=\"lightgreen\"/><rect x=\"70\" y=\"90\" width=\"10\" height=\"10\" fill=\"lightgreen\"/><rect x=\"80\" y=\"0\" width=\"10\" height=\"10\" fill=\"lightblue\"/><rect x=\"80\" y=\"10\" width=\"10\" height=\"10\" fill=\"lightblue\"/><rect x=\"80\" y=\"20\" width=\"10\" height=\"10\" fill=\"lightgreen\"/><rect x=\"80\" y=\"30\" width=\"10\" height=\"10\" fill=\"orange\"/><rect x=\"80\" y=\"40\" width=\"10\" height=\"10\" fill=\"lightgreen\"/><rect x=\"80\" y=\"50\" width=\"10\" height=\"10\" fill=\"lightgreen\"/><rect x=\"80\" y=\"60\" width=\"10\" height=\"10\" fill=\"lightblue\"/><rect x=\"80\" y=\"70\" width=\"10\" height=\"10\" fill=\"lightgreen\"/><rect x=\"80\" y=\"80\" width=\"10\" height=\"10\" fill=\"orange\"/><rect x=\"80\" y=\"90\" width=\"10\" height=\"10\" fill=\"orange\"/><rect x=\"90\" y=\"0\" width=\"10\" height=\"10\" fill=\"lightblue\"/><rect x=\"90\" y=\"10\" width=\"10\" height=\"10\" fill=\"lightblue\"/><rect x=\"90\" y=\"20\" width=\"10\" height=\"10\" fill=\"orange\"/><rect x=\"90\" y=\"30\" width=\"10\" height=\"10\" fill=\"lightblue\"/><rect x=\"90\" y=\"40\" width=\"10\" height=\"10\" fill=\"lightgreen\"/><rect x=\"90\" y=\"50\" width=\"10\" height=\"10\" fill=\"lightgreen\"/><rect x=\"90\" y=\"60\" width=\"10\" height=\"10\" fill=\"orange\"/><rect x=\"90\" y=\"70\" width=\"10\" height=\"10\" fill=\"lightgreen\"/><rect x=\"90\" y=\"80\" width=\"10\" height=\"10\" fill=\"orange\"/><rect x=\"90\" y=\"90\" width=\"10\" height=\"10\" fill=\"lightgreen\"/></svg>"
     },
     "metadata": {},
     "output_type": "display_data"
    }
   ],
   "source": [
    "# Create apattenr of 20*20 squares in a random color from a typical color palette\n",
    "def draw_pattern(n=20, color='black'):\n",
    "    \"\"\"Draw a pattern of n squares.\"\"\"\n",
    "    svg = ''\n",
    "    for i in range(n):\n",
    "        for j in range(n):\n",
    "            # Generate random coordinates\n",
    "            x = i * 10\n",
    "            y = j * 10\n",
    "            # Generate a random color\n",
    "            color = random.choice([ 'green', 'blue', 'orange'])\n",
    "            # Draw the square\n",
    "            svg += draw_rectangle(x, y, 10, 10, color)\n",
    "    return svg\n",
    "\n",
    "show_svg(draw_pattern())"
   ],
   "metadata": {
    "collapsed": false,
    "ExecuteTime": {
     "start_time": "2023-04-15T19:12:13.302116Z",
     "end_time": "2023-04-15T19:12:13.306448Z"
    }
   }
  },
  {
   "cell_type": "markdown",
   "source": [
    "\n"
   ],
   "metadata": {
    "collapsed": false
   }
  },
  {
   "cell_type": "code",
   "execution_count": 28,
   "outputs": [
    {
     "data": {
      "text/plain": "<IPython.core.display.SVG object>",
      "image/svg+xml": "<svg xmlns=\"http://www.w3.org/2000/svg\" width=\"100%\" height=\"100%\" viewBox=\"-10 -10 120 120\" style=\"background-color: white\"><rect x=\"-5\" y=\"-5\" width=\"110\" height=\"110\" fill=\"none\" stroke=\"black\" stroke-width=\"1\"/><rect x=\"0\" y=\"0\" width=\"5\" height=\"5\" fill=\"green\"/><rect x=\"0\" y=\"0\" width=\"5\" height=\"5\" fill=\"white\"/><rect x=\"0\" y=\"5\" width=\"5\" height=\"5\" fill=\"orange\"/><rect x=\"0\" y=\"10\" width=\"5\" height=\"5\" fill=\"orange\"/><rect x=\"0\" y=\"10\" width=\"5\" height=\"5\" fill=\"white\"/><rect x=\"0\" y=\"15\" width=\"5\" height=\"5\" fill=\"orange\"/><rect x=\"0\" y=\"20\" width=\"5\" height=\"5\" fill=\"orange\"/><rect x=\"0\" y=\"20\" width=\"5\" height=\"5\" fill=\"white\"/><rect x=\"0\" y=\"25\" width=\"5\" height=\"5\" fill=\"blue\"/><rect x=\"0\" y=\"30\" width=\"5\" height=\"5\" fill=\"blue\"/><rect x=\"0\" y=\"30\" width=\"5\" height=\"5\" fill=\"white\"/><rect x=\"0\" y=\"35\" width=\"5\" height=\"5\" fill=\"green\"/><rect x=\"0\" y=\"40\" width=\"5\" height=\"5\" fill=\"blue\"/><rect x=\"0\" y=\"40\" width=\"5\" height=\"5\" fill=\"white\"/><rect x=\"0\" y=\"45\" width=\"5\" height=\"5\" fill=\"orange\"/><rect x=\"0\" y=\"50\" width=\"5\" height=\"5\" fill=\"green\"/><rect x=\"0\" y=\"50\" width=\"5\" height=\"5\" fill=\"white\"/><rect x=\"0\" y=\"55\" width=\"5\" height=\"5\" fill=\"blue\"/><rect x=\"0\" y=\"60\" width=\"5\" height=\"5\" fill=\"blue\"/><rect x=\"0\" y=\"60\" width=\"5\" height=\"5\" fill=\"white\"/><rect x=\"0\" y=\"65\" width=\"5\" height=\"5\" fill=\"green\"/><rect x=\"0\" y=\"70\" width=\"5\" height=\"5\" fill=\"blue\"/><rect x=\"0\" y=\"70\" width=\"5\" height=\"5\" fill=\"white\"/><rect x=\"0\" y=\"75\" width=\"5\" height=\"5\" fill=\"green\"/><rect x=\"0\" y=\"80\" width=\"5\" height=\"5\" fill=\"green\"/><rect x=\"0\" y=\"80\" width=\"5\" height=\"5\" fill=\"white\"/><rect x=\"0\" y=\"85\" width=\"5\" height=\"5\" fill=\"blue\"/><rect x=\"0\" y=\"90\" width=\"5\" height=\"5\" fill=\"green\"/><rect x=\"0\" y=\"90\" width=\"5\" height=\"5\" fill=\"white\"/><rect x=\"0\" y=\"95\" width=\"5\" height=\"5\" fill=\"orange\"/><rect x=\"5\" y=\"0\" width=\"5\" height=\"5\" fill=\"blue\"/><rect x=\"5\" y=\"5\" width=\"5\" height=\"5\" fill=\"blue\"/><rect x=\"5\" y=\"10\" width=\"5\" height=\"5\" fill=\"blue\"/><rect x=\"5\" y=\"15\" width=\"5\" height=\"5\" fill=\"blue\"/><rect x=\"5\" y=\"20\" width=\"5\" height=\"5\" fill=\"blue\"/><rect x=\"5\" y=\"25\" width=\"5\" height=\"5\" fill=\"blue\"/><rect x=\"5\" y=\"30\" width=\"5\" height=\"5\" fill=\"orange\"/><rect x=\"5\" y=\"35\" width=\"5\" height=\"5\" fill=\"orange\"/><rect x=\"5\" y=\"40\" width=\"5\" height=\"5\" fill=\"blue\"/><rect x=\"5\" y=\"45\" width=\"5\" height=\"5\" fill=\"blue\"/><rect x=\"5\" y=\"50\" width=\"5\" height=\"5\" fill=\"blue\"/><rect x=\"5\" y=\"55\" width=\"5\" height=\"5\" fill=\"orange\"/><rect x=\"5\" y=\"60\" width=\"5\" height=\"5\" fill=\"green\"/><rect x=\"5\" y=\"65\" width=\"5\" height=\"5\" fill=\"blue\"/><rect x=\"5\" y=\"70\" width=\"5\" height=\"5\" fill=\"green\"/><rect x=\"5\" y=\"75\" width=\"5\" height=\"5\" fill=\"blue\"/><rect x=\"5\" y=\"80\" width=\"5\" height=\"5\" fill=\"green\"/><rect x=\"5\" y=\"85\" width=\"5\" height=\"5\" fill=\"orange\"/><rect x=\"5\" y=\"90\" width=\"5\" height=\"5\" fill=\"green\"/><rect x=\"5\" y=\"95\" width=\"5\" height=\"5\" fill=\"green\"/><rect x=\"10\" y=\"0\" width=\"5\" height=\"5\" fill=\"blue\"/><rect x=\"10\" y=\"0\" width=\"5\" height=\"5\" fill=\"white\"/><rect x=\"10\" y=\"5\" width=\"5\" height=\"5\" fill=\"green\"/><rect x=\"10\" y=\"10\" width=\"5\" height=\"5\" fill=\"orange\"/><rect x=\"10\" y=\"10\" width=\"5\" height=\"5\" fill=\"white\"/><rect x=\"10\" y=\"15\" width=\"5\" height=\"5\" fill=\"orange\"/><rect x=\"10\" y=\"20\" width=\"5\" height=\"5\" fill=\"orange\"/><rect x=\"10\" y=\"20\" width=\"5\" height=\"5\" fill=\"white\"/><rect x=\"10\" y=\"25\" width=\"5\" height=\"5\" fill=\"orange\"/><rect x=\"10\" y=\"30\" width=\"5\" height=\"5\" fill=\"green\"/><rect x=\"10\" y=\"30\" width=\"5\" height=\"5\" fill=\"white\"/><rect x=\"10\" y=\"35\" width=\"5\" height=\"5\" fill=\"blue\"/><rect x=\"10\" y=\"40\" width=\"5\" height=\"5\" fill=\"blue\"/><rect x=\"10\" y=\"40\" width=\"5\" height=\"5\" fill=\"white\"/><rect x=\"10\" y=\"45\" width=\"5\" height=\"5\" fill=\"green\"/><rect x=\"10\" y=\"50\" width=\"5\" height=\"5\" fill=\"orange\"/><rect x=\"10\" y=\"50\" width=\"5\" height=\"5\" fill=\"white\"/><rect x=\"10\" y=\"55\" width=\"5\" height=\"5\" fill=\"blue\"/><rect x=\"10\" y=\"60\" width=\"5\" height=\"5\" fill=\"green\"/><rect x=\"10\" y=\"60\" width=\"5\" height=\"5\" fill=\"white\"/><rect x=\"10\" y=\"65\" width=\"5\" height=\"5\" fill=\"orange\"/><rect x=\"10\" y=\"70\" width=\"5\" height=\"5\" fill=\"green\"/><rect x=\"10\" y=\"70\" width=\"5\" height=\"5\" fill=\"white\"/><rect x=\"10\" y=\"75\" width=\"5\" height=\"5\" fill=\"orange\"/><rect x=\"10\" y=\"80\" width=\"5\" height=\"5\" fill=\"orange\"/><rect x=\"10\" y=\"80\" width=\"5\" height=\"5\" fill=\"white\"/><rect x=\"10\" y=\"85\" width=\"5\" height=\"5\" fill=\"green\"/><rect x=\"10\" y=\"90\" width=\"5\" height=\"5\" fill=\"green\"/><rect x=\"10\" y=\"90\" width=\"5\" height=\"5\" fill=\"white\"/><rect x=\"10\" y=\"95\" width=\"5\" height=\"5\" fill=\"green\"/><rect x=\"15\" y=\"0\" width=\"5\" height=\"5\" fill=\"green\"/><rect x=\"15\" y=\"5\" width=\"5\" height=\"5\" fill=\"green\"/><rect x=\"15\" y=\"10\" width=\"5\" height=\"5\" fill=\"green\"/><rect x=\"15\" y=\"15\" width=\"5\" height=\"5\" fill=\"green\"/><rect x=\"15\" y=\"20\" width=\"5\" height=\"5\" fill=\"orange\"/><rect x=\"15\" y=\"25\" width=\"5\" height=\"5\" fill=\"green\"/><rect x=\"15\" y=\"30\" width=\"5\" height=\"5\" fill=\"orange\"/><rect x=\"15\" y=\"35\" width=\"5\" height=\"5\" fill=\"orange\"/><rect x=\"15\" y=\"40\" width=\"5\" height=\"5\" fill=\"green\"/><rect x=\"15\" y=\"45\" width=\"5\" height=\"5\" fill=\"blue\"/><rect x=\"15\" y=\"50\" width=\"5\" height=\"5\" fill=\"green\"/><rect x=\"15\" y=\"55\" width=\"5\" height=\"5\" fill=\"green\"/><rect x=\"15\" y=\"60\" width=\"5\" height=\"5\" fill=\"green\"/><rect x=\"15\" y=\"65\" width=\"5\" height=\"5\" fill=\"green\"/><rect x=\"15\" y=\"70\" width=\"5\" height=\"5\" fill=\"orange\"/><rect x=\"15\" y=\"75\" width=\"5\" height=\"5\" fill=\"orange\"/><rect x=\"15\" y=\"80\" width=\"5\" height=\"5\" fill=\"orange\"/><rect x=\"15\" y=\"85\" width=\"5\" height=\"5\" fill=\"green\"/><rect x=\"15\" y=\"90\" width=\"5\" height=\"5\" fill=\"orange\"/><rect x=\"15\" y=\"95\" width=\"5\" height=\"5\" fill=\"blue\"/><rect x=\"20\" y=\"0\" width=\"5\" height=\"5\" fill=\"green\"/><rect x=\"20\" y=\"0\" width=\"5\" height=\"5\" fill=\"white\"/><rect x=\"20\" y=\"5\" width=\"5\" height=\"5\" fill=\"orange\"/><rect x=\"20\" y=\"10\" width=\"5\" height=\"5\" fill=\"green\"/><rect x=\"20\" y=\"10\" width=\"5\" height=\"5\" fill=\"white\"/><rect x=\"20\" y=\"15\" width=\"5\" height=\"5\" fill=\"blue\"/><rect x=\"20\" y=\"20\" width=\"5\" height=\"5\" fill=\"blue\"/><rect x=\"20\" y=\"20\" width=\"5\" height=\"5\" fill=\"white\"/><rect x=\"20\" y=\"25\" width=\"5\" height=\"5\" fill=\"blue\"/><rect x=\"20\" y=\"30\" width=\"5\" height=\"5\" fill=\"green\"/><rect x=\"20\" y=\"30\" width=\"5\" height=\"5\" fill=\"white\"/><rect x=\"20\" y=\"35\" width=\"5\" height=\"5\" fill=\"blue\"/><rect x=\"20\" y=\"40\" width=\"5\" height=\"5\" fill=\"orange\"/><rect x=\"20\" y=\"40\" width=\"5\" height=\"5\" fill=\"white\"/><rect x=\"20\" y=\"45\" width=\"5\" height=\"5\" fill=\"blue\"/><rect x=\"20\" y=\"50\" width=\"5\" height=\"5\" fill=\"blue\"/><rect x=\"20\" y=\"50\" width=\"5\" height=\"5\" fill=\"white\"/><rect x=\"20\" y=\"55\" width=\"5\" height=\"5\" fill=\"blue\"/><rect x=\"20\" y=\"60\" width=\"5\" height=\"5\" fill=\"orange\"/><rect x=\"20\" y=\"60\" width=\"5\" height=\"5\" fill=\"white\"/><rect x=\"20\" y=\"65\" width=\"5\" height=\"5\" fill=\"blue\"/><rect x=\"20\" y=\"70\" width=\"5\" height=\"5\" fill=\"orange\"/><rect x=\"20\" y=\"70\" width=\"5\" height=\"5\" fill=\"white\"/><rect x=\"20\" y=\"75\" width=\"5\" height=\"5\" fill=\"orange\"/><rect x=\"20\" y=\"80\" width=\"5\" height=\"5\" fill=\"orange\"/><rect x=\"20\" y=\"80\" width=\"5\" height=\"5\" fill=\"white\"/><rect x=\"20\" y=\"85\" width=\"5\" height=\"5\" fill=\"orange\"/><rect x=\"20\" y=\"90\" width=\"5\" height=\"5\" fill=\"blue\"/><rect x=\"20\" y=\"90\" width=\"5\" height=\"5\" fill=\"white\"/><rect x=\"20\" y=\"95\" width=\"5\" height=\"5\" fill=\"orange\"/><rect x=\"25\" y=\"0\" width=\"5\" height=\"5\" fill=\"blue\"/><rect x=\"25\" y=\"5\" width=\"5\" height=\"5\" fill=\"orange\"/><rect x=\"25\" y=\"10\" width=\"5\" height=\"5\" fill=\"green\"/><rect x=\"25\" y=\"15\" width=\"5\" height=\"5\" fill=\"green\"/><rect x=\"25\" y=\"20\" width=\"5\" height=\"5\" fill=\"green\"/><rect x=\"25\" y=\"25\" width=\"5\" height=\"5\" fill=\"orange\"/><rect x=\"25\" y=\"30\" width=\"5\" height=\"5\" fill=\"blue\"/><rect x=\"25\" y=\"35\" width=\"5\" height=\"5\" fill=\"blue\"/><rect x=\"25\" y=\"40\" width=\"5\" height=\"5\" fill=\"green\"/><rect x=\"25\" y=\"45\" width=\"5\" height=\"5\" fill=\"orange\"/><rect x=\"25\" y=\"50\" width=\"5\" height=\"5\" fill=\"orange\"/><rect x=\"25\" y=\"55\" width=\"5\" height=\"5\" fill=\"blue\"/><rect x=\"25\" y=\"60\" width=\"5\" height=\"5\" fill=\"blue\"/><rect x=\"25\" y=\"65\" width=\"5\" height=\"5\" fill=\"orange\"/><rect x=\"25\" y=\"70\" width=\"5\" height=\"5\" fill=\"green\"/><rect x=\"25\" y=\"75\" width=\"5\" height=\"5\" fill=\"green\"/><rect x=\"25\" y=\"80\" width=\"5\" height=\"5\" fill=\"orange\"/><rect x=\"25\" y=\"85\" width=\"5\" height=\"5\" fill=\"orange\"/><rect x=\"25\" y=\"90\" width=\"5\" height=\"5\" fill=\"green\"/><rect x=\"25\" y=\"95\" width=\"5\" height=\"5\" fill=\"blue\"/><rect x=\"30\" y=\"0\" width=\"5\" height=\"5\" fill=\"orange\"/><rect x=\"30\" y=\"0\" width=\"5\" height=\"5\" fill=\"white\"/><rect x=\"30\" y=\"5\" width=\"5\" height=\"5\" fill=\"green\"/><rect x=\"30\" y=\"10\" width=\"5\" height=\"5\" fill=\"green\"/><rect x=\"30\" y=\"10\" width=\"5\" height=\"5\" fill=\"white\"/><rect x=\"30\" y=\"15\" width=\"5\" height=\"5\" fill=\"orange\"/><rect x=\"30\" y=\"20\" width=\"5\" height=\"5\" fill=\"blue\"/><rect x=\"30\" y=\"20\" width=\"5\" height=\"5\" fill=\"white\"/><rect x=\"30\" y=\"25\" width=\"5\" height=\"5\" fill=\"green\"/><rect x=\"30\" y=\"30\" width=\"5\" height=\"5\" fill=\"orange\"/><rect x=\"30\" y=\"30\" width=\"5\" height=\"5\" fill=\"white\"/><rect x=\"30\" y=\"35\" width=\"5\" height=\"5\" fill=\"blue\"/><rect x=\"30\" y=\"40\" width=\"5\" height=\"5\" fill=\"blue\"/><rect x=\"30\" y=\"40\" width=\"5\" height=\"5\" fill=\"white\"/><rect x=\"30\" y=\"45\" width=\"5\" height=\"5\" fill=\"green\"/><rect x=\"30\" y=\"50\" width=\"5\" height=\"5\" fill=\"orange\"/><rect x=\"30\" y=\"50\" width=\"5\" height=\"5\" fill=\"white\"/><rect x=\"30\" y=\"55\" width=\"5\" height=\"5\" fill=\"green\"/><rect x=\"30\" y=\"60\" width=\"5\" height=\"5\" fill=\"blue\"/><rect x=\"30\" y=\"60\" width=\"5\" height=\"5\" fill=\"white\"/><rect x=\"30\" y=\"65\" width=\"5\" height=\"5\" fill=\"blue\"/><rect x=\"30\" y=\"70\" width=\"5\" height=\"5\" fill=\"blue\"/><rect x=\"30\" y=\"70\" width=\"5\" height=\"5\" fill=\"white\"/><rect x=\"30\" y=\"75\" width=\"5\" height=\"5\" fill=\"green\"/><rect x=\"30\" y=\"80\" width=\"5\" height=\"5\" fill=\"green\"/><rect x=\"30\" y=\"80\" width=\"5\" height=\"5\" fill=\"white\"/><rect x=\"30\" y=\"85\" width=\"5\" height=\"5\" fill=\"blue\"/><rect x=\"30\" y=\"90\" width=\"5\" height=\"5\" fill=\"green\"/><rect x=\"30\" y=\"90\" width=\"5\" height=\"5\" fill=\"white\"/><rect x=\"30\" y=\"95\" width=\"5\" height=\"5\" fill=\"orange\"/><rect x=\"35\" y=\"0\" width=\"5\" height=\"5\" fill=\"orange\"/><rect x=\"35\" y=\"5\" width=\"5\" height=\"5\" fill=\"orange\"/><rect x=\"35\" y=\"10\" width=\"5\" height=\"5\" fill=\"blue\"/><rect x=\"35\" y=\"15\" width=\"5\" height=\"5\" fill=\"orange\"/><rect x=\"35\" y=\"20\" width=\"5\" height=\"5\" fill=\"orange\"/><rect x=\"35\" y=\"25\" width=\"5\" height=\"5\" fill=\"orange\"/><rect x=\"35\" y=\"30\" width=\"5\" height=\"5\" fill=\"orange\"/><rect x=\"35\" y=\"35\" width=\"5\" height=\"5\" fill=\"green\"/><rect x=\"35\" y=\"40\" width=\"5\" height=\"5\" fill=\"orange\"/><rect x=\"35\" y=\"45\" width=\"5\" height=\"5\" fill=\"green\"/><rect x=\"35\" y=\"50\" width=\"5\" height=\"5\" fill=\"green\"/><rect x=\"35\" y=\"55\" width=\"5\" height=\"5\" fill=\"blue\"/><rect x=\"35\" y=\"60\" width=\"5\" height=\"5\" fill=\"green\"/><rect x=\"35\" y=\"65\" width=\"5\" height=\"5\" fill=\"green\"/><rect x=\"35\" y=\"70\" width=\"5\" height=\"5\" fill=\"blue\"/><rect x=\"35\" y=\"75\" width=\"5\" height=\"5\" fill=\"green\"/><rect x=\"35\" y=\"80\" width=\"5\" height=\"5\" fill=\"green\"/><rect x=\"35\" y=\"85\" width=\"5\" height=\"5\" fill=\"green\"/><rect x=\"35\" y=\"90\" width=\"5\" height=\"5\" fill=\"orange\"/><rect x=\"35\" y=\"95\" width=\"5\" height=\"5\" fill=\"blue\"/><rect x=\"40\" y=\"0\" width=\"5\" height=\"5\" fill=\"orange\"/><rect x=\"40\" y=\"0\" width=\"5\" height=\"5\" fill=\"white\"/><rect x=\"40\" y=\"5\" width=\"5\" height=\"5\" fill=\"orange\"/><rect x=\"40\" y=\"10\" width=\"5\" height=\"5\" fill=\"blue\"/><rect x=\"40\" y=\"10\" width=\"5\" height=\"5\" fill=\"white\"/><rect x=\"40\" y=\"15\" width=\"5\" height=\"5\" fill=\"green\"/><rect x=\"40\" y=\"20\" width=\"5\" height=\"5\" fill=\"orange\"/><rect x=\"40\" y=\"20\" width=\"5\" height=\"5\" fill=\"white\"/><rect x=\"40\" y=\"25\" width=\"5\" height=\"5\" fill=\"green\"/><rect x=\"40\" y=\"30\" width=\"5\" height=\"5\" fill=\"orange\"/><rect x=\"40\" y=\"30\" width=\"5\" height=\"5\" fill=\"white\"/><rect x=\"40\" y=\"35\" width=\"5\" height=\"5\" fill=\"green\"/><rect x=\"40\" y=\"40\" width=\"5\" height=\"5\" fill=\"orange\"/><rect x=\"40\" y=\"40\" width=\"5\" height=\"5\" fill=\"white\"/><rect x=\"40\" y=\"45\" width=\"5\" height=\"5\" fill=\"blue\"/><rect x=\"40\" y=\"50\" width=\"5\" height=\"5\" fill=\"orange\"/><rect x=\"40\" y=\"50\" width=\"5\" height=\"5\" fill=\"white\"/><rect x=\"40\" y=\"55\" width=\"5\" height=\"5\" fill=\"blue\"/><rect x=\"40\" y=\"60\" width=\"5\" height=\"5\" fill=\"orange\"/><rect x=\"40\" y=\"60\" width=\"5\" height=\"5\" fill=\"white\"/><rect x=\"40\" y=\"65\" width=\"5\" height=\"5\" fill=\"green\"/><rect x=\"40\" y=\"70\" width=\"5\" height=\"5\" fill=\"green\"/><rect x=\"40\" y=\"70\" width=\"5\" height=\"5\" fill=\"white\"/><rect x=\"40\" y=\"75\" width=\"5\" height=\"5\" fill=\"orange\"/><rect x=\"40\" y=\"80\" width=\"5\" height=\"5\" fill=\"orange\"/><rect x=\"40\" y=\"80\" width=\"5\" height=\"5\" fill=\"white\"/><rect x=\"40\" y=\"85\" width=\"5\" height=\"5\" fill=\"orange\"/><rect x=\"40\" y=\"90\" width=\"5\" height=\"5\" fill=\"orange\"/><rect x=\"40\" y=\"90\" width=\"5\" height=\"5\" fill=\"white\"/><rect x=\"40\" y=\"95\" width=\"5\" height=\"5\" fill=\"green\"/><rect x=\"45\" y=\"0\" width=\"5\" height=\"5\" fill=\"green\"/><rect x=\"45\" y=\"5\" width=\"5\" height=\"5\" fill=\"orange\"/><rect x=\"45\" y=\"10\" width=\"5\" height=\"5\" fill=\"orange\"/><rect x=\"45\" y=\"15\" width=\"5\" height=\"5\" fill=\"orange\"/><rect x=\"45\" y=\"20\" width=\"5\" height=\"5\" fill=\"orange\"/><rect x=\"45\" y=\"25\" width=\"5\" height=\"5\" fill=\"green\"/><rect x=\"45\" y=\"30\" width=\"5\" height=\"5\" fill=\"green\"/><rect x=\"45\" y=\"35\" width=\"5\" height=\"5\" fill=\"blue\"/><rect x=\"45\" y=\"40\" width=\"5\" height=\"5\" fill=\"orange\"/><rect x=\"45\" y=\"45\" width=\"5\" height=\"5\" fill=\"green\"/><rect x=\"45\" y=\"50\" width=\"5\" height=\"5\" fill=\"blue\"/><rect x=\"45\" y=\"55\" width=\"5\" height=\"5\" fill=\"green\"/><rect x=\"45\" y=\"60\" width=\"5\" height=\"5\" fill=\"green\"/><rect x=\"45\" y=\"65\" width=\"5\" height=\"5\" fill=\"orange\"/><rect x=\"45\" y=\"70\" width=\"5\" height=\"5\" fill=\"blue\"/><rect x=\"45\" y=\"75\" width=\"5\" height=\"5\" fill=\"green\"/><rect x=\"45\" y=\"80\" width=\"5\" height=\"5\" fill=\"green\"/><rect x=\"45\" y=\"85\" width=\"5\" height=\"5\" fill=\"green\"/><rect x=\"45\" y=\"90\" width=\"5\" height=\"5\" fill=\"green\"/><rect x=\"45\" y=\"95\" width=\"5\" height=\"5\" fill=\"green\"/><rect x=\"50\" y=\"0\" width=\"5\" height=\"5\" fill=\"blue\"/><rect x=\"50\" y=\"0\" width=\"5\" height=\"5\" fill=\"white\"/><rect x=\"50\" y=\"5\" width=\"5\" height=\"5\" fill=\"orange\"/><rect x=\"50\" y=\"10\" width=\"5\" height=\"5\" fill=\"orange\"/><rect x=\"50\" y=\"10\" width=\"5\" height=\"5\" fill=\"white\"/><rect x=\"50\" y=\"15\" width=\"5\" height=\"5\" fill=\"blue\"/><rect x=\"50\" y=\"20\" width=\"5\" height=\"5\" fill=\"orange\"/><rect x=\"50\" y=\"20\" width=\"5\" height=\"5\" fill=\"white\"/><rect x=\"50\" y=\"25\" width=\"5\" height=\"5\" fill=\"orange\"/><rect x=\"50\" y=\"30\" width=\"5\" height=\"5\" fill=\"orange\"/><rect x=\"50\" y=\"30\" width=\"5\" height=\"5\" fill=\"white\"/><rect x=\"50\" y=\"35\" width=\"5\" height=\"5\" fill=\"blue\"/><rect x=\"50\" y=\"40\" width=\"5\" height=\"5\" fill=\"blue\"/><rect x=\"50\" y=\"40\" width=\"5\" height=\"5\" fill=\"white\"/><rect x=\"50\" y=\"45\" width=\"5\" height=\"5\" fill=\"orange\"/><rect x=\"50\" y=\"50\" width=\"5\" height=\"5\" fill=\"green\"/><rect x=\"50\" y=\"50\" width=\"5\" height=\"5\" fill=\"white\"/><rect x=\"50\" y=\"55\" width=\"5\" height=\"5\" fill=\"green\"/><rect x=\"50\" y=\"60\" width=\"5\" height=\"5\" fill=\"orange\"/><rect x=\"50\" y=\"60\" width=\"5\" height=\"5\" fill=\"white\"/><rect x=\"50\" y=\"65\" width=\"5\" height=\"5\" fill=\"green\"/><rect x=\"50\" y=\"70\" width=\"5\" height=\"5\" fill=\"green\"/><rect x=\"50\" y=\"70\" width=\"5\" height=\"5\" fill=\"white\"/><rect x=\"50\" y=\"75\" width=\"5\" height=\"5\" fill=\"blue\"/><rect x=\"50\" y=\"80\" width=\"5\" height=\"5\" fill=\"orange\"/><rect x=\"50\" y=\"80\" width=\"5\" height=\"5\" fill=\"white\"/><rect x=\"50\" y=\"85\" width=\"5\" height=\"5\" fill=\"blue\"/><rect x=\"50\" y=\"90\" width=\"5\" height=\"5\" fill=\"orange\"/><rect x=\"50\" y=\"90\" width=\"5\" height=\"5\" fill=\"white\"/><rect x=\"50\" y=\"95\" width=\"5\" height=\"5\" fill=\"green\"/><rect x=\"55\" y=\"0\" width=\"5\" height=\"5\" fill=\"orange\"/><rect x=\"55\" y=\"5\" width=\"5\" height=\"5\" fill=\"green\"/><rect x=\"55\" y=\"10\" width=\"5\" height=\"5\" fill=\"orange\"/><rect x=\"55\" y=\"15\" width=\"5\" height=\"5\" fill=\"orange\"/><rect x=\"55\" y=\"20\" width=\"5\" height=\"5\" fill=\"green\"/><rect x=\"55\" y=\"25\" width=\"5\" height=\"5\" fill=\"blue\"/><rect x=\"55\" y=\"30\" width=\"5\" height=\"5\" fill=\"blue\"/><rect x=\"55\" y=\"35\" width=\"5\" height=\"5\" fill=\"blue\"/><rect x=\"55\" y=\"40\" width=\"5\" height=\"5\" fill=\"orange\"/><rect x=\"55\" y=\"45\" width=\"5\" height=\"5\" fill=\"green\"/><rect x=\"55\" y=\"50\" width=\"5\" height=\"5\" fill=\"blue\"/><rect x=\"55\" y=\"55\" width=\"5\" height=\"5\" fill=\"orange\"/><rect x=\"55\" y=\"60\" width=\"5\" height=\"5\" fill=\"green\"/><rect x=\"55\" y=\"65\" width=\"5\" height=\"5\" fill=\"blue\"/><rect x=\"55\" y=\"70\" width=\"5\" height=\"5\" fill=\"blue\"/><rect x=\"55\" y=\"75\" width=\"5\" height=\"5\" fill=\"orange\"/><rect x=\"55\" y=\"80\" width=\"5\" height=\"5\" fill=\"green\"/><rect x=\"55\" y=\"85\" width=\"5\" height=\"5\" fill=\"green\"/><rect x=\"55\" y=\"90\" width=\"5\" height=\"5\" fill=\"blue\"/><rect x=\"55\" y=\"95\" width=\"5\" height=\"5\" fill=\"blue\"/><rect x=\"60\" y=\"0\" width=\"5\" height=\"5\" fill=\"blue\"/><rect x=\"60\" y=\"0\" width=\"5\" height=\"5\" fill=\"white\"/><rect x=\"60\" y=\"5\" width=\"5\" height=\"5\" fill=\"green\"/><rect x=\"60\" y=\"10\" width=\"5\" height=\"5\" fill=\"orange\"/><rect x=\"60\" y=\"10\" width=\"5\" height=\"5\" fill=\"white\"/><rect x=\"60\" y=\"15\" width=\"5\" height=\"5\" fill=\"blue\"/><rect x=\"60\" y=\"20\" width=\"5\" height=\"5\" fill=\"green\"/><rect x=\"60\" y=\"20\" width=\"5\" height=\"5\" fill=\"white\"/><rect x=\"60\" y=\"25\" width=\"5\" height=\"5\" fill=\"blue\"/><rect x=\"60\" y=\"30\" width=\"5\" height=\"5\" fill=\"blue\"/><rect x=\"60\" y=\"30\" width=\"5\" height=\"5\" fill=\"white\"/><rect x=\"60\" y=\"35\" width=\"5\" height=\"5\" fill=\"green\"/><rect x=\"60\" y=\"40\" width=\"5\" height=\"5\" fill=\"blue\"/><rect x=\"60\" y=\"40\" width=\"5\" height=\"5\" fill=\"white\"/><rect x=\"60\" y=\"45\" width=\"5\" height=\"5\" fill=\"green\"/><rect x=\"60\" y=\"50\" width=\"5\" height=\"5\" fill=\"blue\"/><rect x=\"60\" y=\"50\" width=\"5\" height=\"5\" fill=\"white\"/><rect x=\"60\" y=\"55\" width=\"5\" height=\"5\" fill=\"orange\"/><rect x=\"60\" y=\"60\" width=\"5\" height=\"5\" fill=\"green\"/><rect x=\"60\" y=\"60\" width=\"5\" height=\"5\" fill=\"white\"/><rect x=\"60\" y=\"65\" width=\"5\" height=\"5\" fill=\"green\"/><rect x=\"60\" y=\"70\" width=\"5\" height=\"5\" fill=\"orange\"/><rect x=\"60\" y=\"70\" width=\"5\" height=\"5\" fill=\"white\"/><rect x=\"60\" y=\"75\" width=\"5\" height=\"5\" fill=\"orange\"/><rect x=\"60\" y=\"80\" width=\"5\" height=\"5\" fill=\"green\"/><rect x=\"60\" y=\"80\" width=\"5\" height=\"5\" fill=\"white\"/><rect x=\"60\" y=\"85\" width=\"5\" height=\"5\" fill=\"green\"/><rect x=\"60\" y=\"90\" width=\"5\" height=\"5\" fill=\"green\"/><rect x=\"60\" y=\"90\" width=\"5\" height=\"5\" fill=\"white\"/><rect x=\"60\" y=\"95\" width=\"5\" height=\"5\" fill=\"blue\"/><rect x=\"65\" y=\"0\" width=\"5\" height=\"5\" fill=\"orange\"/><rect x=\"65\" y=\"5\" width=\"5\" height=\"5\" fill=\"orange\"/><rect x=\"65\" y=\"10\" width=\"5\" height=\"5\" fill=\"blue\"/><rect x=\"65\" y=\"15\" width=\"5\" height=\"5\" fill=\"orange\"/><rect x=\"65\" y=\"20\" width=\"5\" height=\"5\" fill=\"orange\"/><rect x=\"65\" y=\"25\" width=\"5\" height=\"5\" fill=\"blue\"/><rect x=\"65\" y=\"30\" width=\"5\" height=\"5\" fill=\"green\"/><rect x=\"65\" y=\"35\" width=\"5\" height=\"5\" fill=\"green\"/><rect x=\"65\" y=\"40\" width=\"5\" height=\"5\" fill=\"orange\"/><rect x=\"65\" y=\"45\" width=\"5\" height=\"5\" fill=\"blue\"/><rect x=\"65\" y=\"50\" width=\"5\" height=\"5\" fill=\"blue\"/><rect x=\"65\" y=\"55\" width=\"5\" height=\"5\" fill=\"orange\"/><rect x=\"65\" y=\"60\" width=\"5\" height=\"5\" fill=\"orange\"/><rect x=\"65\" y=\"65\" width=\"5\" height=\"5\" fill=\"blue\"/><rect x=\"65\" y=\"70\" width=\"5\" height=\"5\" fill=\"blue\"/><rect x=\"65\" y=\"75\" width=\"5\" height=\"5\" fill=\"green\"/><rect x=\"65\" y=\"80\" width=\"5\" height=\"5\" fill=\"orange\"/><rect x=\"65\" y=\"85\" width=\"5\" height=\"5\" fill=\"orange\"/><rect x=\"65\" y=\"90\" width=\"5\" height=\"5\" fill=\"orange\"/><rect x=\"65\" y=\"95\" width=\"5\" height=\"5\" fill=\"orange\"/><rect x=\"70\" y=\"0\" width=\"5\" height=\"5\" fill=\"blue\"/><rect x=\"70\" y=\"0\" width=\"5\" height=\"5\" fill=\"white\"/><rect x=\"70\" y=\"5\" width=\"5\" height=\"5\" fill=\"green\"/><rect x=\"70\" y=\"10\" width=\"5\" height=\"5\" fill=\"blue\"/><rect x=\"70\" y=\"10\" width=\"5\" height=\"5\" fill=\"white\"/><rect x=\"70\" y=\"15\" width=\"5\" height=\"5\" fill=\"blue\"/><rect x=\"70\" y=\"20\" width=\"5\" height=\"5\" fill=\"green\"/><rect x=\"70\" y=\"20\" width=\"5\" height=\"5\" fill=\"white\"/><rect x=\"70\" y=\"25\" width=\"5\" height=\"5\" fill=\"green\"/><rect x=\"70\" y=\"30\" width=\"5\" height=\"5\" fill=\"blue\"/><rect x=\"70\" y=\"30\" width=\"5\" height=\"5\" fill=\"white\"/><rect x=\"70\" y=\"35\" width=\"5\" height=\"5\" fill=\"orange\"/><rect x=\"70\" y=\"40\" width=\"5\" height=\"5\" fill=\"blue\"/><rect x=\"70\" y=\"40\" width=\"5\" height=\"5\" fill=\"white\"/><rect x=\"70\" y=\"45\" width=\"5\" height=\"5\" fill=\"green\"/><rect x=\"70\" y=\"50\" width=\"5\" height=\"5\" fill=\"green\"/><rect x=\"70\" y=\"50\" width=\"5\" height=\"5\" fill=\"white\"/><rect x=\"70\" y=\"55\" width=\"5\" height=\"5\" fill=\"green\"/><rect x=\"70\" y=\"60\" width=\"5\" height=\"5\" fill=\"blue\"/><rect x=\"70\" y=\"60\" width=\"5\" height=\"5\" fill=\"white\"/><rect x=\"70\" y=\"65\" width=\"5\" height=\"5\" fill=\"orange\"/><rect x=\"70\" y=\"70\" width=\"5\" height=\"5\" fill=\"orange\"/><rect x=\"70\" y=\"70\" width=\"5\" height=\"5\" fill=\"white\"/><rect x=\"70\" y=\"75\" width=\"5\" height=\"5\" fill=\"green\"/><rect x=\"70\" y=\"80\" width=\"5\" height=\"5\" fill=\"orange\"/><rect x=\"70\" y=\"80\" width=\"5\" height=\"5\" fill=\"white\"/><rect x=\"70\" y=\"85\" width=\"5\" height=\"5\" fill=\"blue\"/><rect x=\"70\" y=\"90\" width=\"5\" height=\"5\" fill=\"green\"/><rect x=\"70\" y=\"90\" width=\"5\" height=\"5\" fill=\"white\"/><rect x=\"70\" y=\"95\" width=\"5\" height=\"5\" fill=\"green\"/><rect x=\"75\" y=\"0\" width=\"5\" height=\"5\" fill=\"orange\"/><rect x=\"75\" y=\"5\" width=\"5\" height=\"5\" fill=\"green\"/><rect x=\"75\" y=\"10\" width=\"5\" height=\"5\" fill=\"green\"/><rect x=\"75\" y=\"15\" width=\"5\" height=\"5\" fill=\"green\"/><rect x=\"75\" y=\"20\" width=\"5\" height=\"5\" fill=\"green\"/><rect x=\"75\" y=\"25\" width=\"5\" height=\"5\" fill=\"orange\"/><rect x=\"75\" y=\"30\" width=\"5\" height=\"5\" fill=\"green\"/><rect x=\"75\" y=\"35\" width=\"5\" height=\"5\" fill=\"blue\"/><rect x=\"75\" y=\"40\" width=\"5\" height=\"5\" fill=\"green\"/><rect x=\"75\" y=\"45\" width=\"5\" height=\"5\" fill=\"orange\"/><rect x=\"75\" y=\"50\" width=\"5\" height=\"5\" fill=\"green\"/><rect x=\"75\" y=\"55\" width=\"5\" height=\"5\" fill=\"blue\"/><rect x=\"75\" y=\"60\" width=\"5\" height=\"5\" fill=\"green\"/><rect x=\"75\" y=\"65\" width=\"5\" height=\"5\" fill=\"orange\"/><rect x=\"75\" y=\"70\" width=\"5\" height=\"5\" fill=\"green\"/><rect x=\"75\" y=\"75\" width=\"5\" height=\"5\" fill=\"green\"/><rect x=\"75\" y=\"80\" width=\"5\" height=\"5\" fill=\"green\"/><rect x=\"75\" y=\"85\" width=\"5\" height=\"5\" fill=\"blue\"/><rect x=\"75\" y=\"90\" width=\"5\" height=\"5\" fill=\"blue\"/><rect x=\"75\" y=\"95\" width=\"5\" height=\"5\" fill=\"blue\"/><rect x=\"80\" y=\"0\" width=\"5\" height=\"5\" fill=\"blue\"/><rect x=\"80\" y=\"0\" width=\"5\" height=\"5\" fill=\"white\"/><rect x=\"80\" y=\"5\" width=\"5\" height=\"5\" fill=\"blue\"/><rect x=\"80\" y=\"10\" width=\"5\" height=\"5\" fill=\"orange\"/><rect x=\"80\" y=\"10\" width=\"5\" height=\"5\" fill=\"white\"/><rect x=\"80\" y=\"15\" width=\"5\" height=\"5\" fill=\"blue\"/><rect x=\"80\" y=\"20\" width=\"5\" height=\"5\" fill=\"green\"/><rect x=\"80\" y=\"20\" width=\"5\" height=\"5\" fill=\"white\"/><rect x=\"80\" y=\"25\" width=\"5\" height=\"5\" fill=\"orange\"/><rect x=\"80\" y=\"30\" width=\"5\" height=\"5\" fill=\"green\"/><rect x=\"80\" y=\"30\" width=\"5\" height=\"5\" fill=\"white\"/><rect x=\"80\" y=\"35\" width=\"5\" height=\"5\" fill=\"blue\"/><rect x=\"80\" y=\"40\" width=\"5\" height=\"5\" fill=\"green\"/><rect x=\"80\" y=\"40\" width=\"5\" height=\"5\" fill=\"white\"/><rect x=\"80\" y=\"45\" width=\"5\" height=\"5\" fill=\"orange\"/><rect x=\"80\" y=\"50\" width=\"5\" height=\"5\" fill=\"green\"/><rect x=\"80\" y=\"50\" width=\"5\" height=\"5\" fill=\"white\"/><rect x=\"80\" y=\"55\" width=\"5\" height=\"5\" fill=\"orange\"/><rect x=\"80\" y=\"60\" width=\"5\" height=\"5\" fill=\"blue\"/><rect x=\"80\" y=\"60\" width=\"5\" height=\"5\" fill=\"white\"/><rect x=\"80\" y=\"65\" width=\"5\" height=\"5\" fill=\"orange\"/><rect x=\"80\" y=\"70\" width=\"5\" height=\"5\" fill=\"blue\"/><rect x=\"80\" y=\"70\" width=\"5\" height=\"5\" fill=\"white\"/><rect x=\"80\" y=\"75\" width=\"5\" height=\"5\" fill=\"green\"/><rect x=\"80\" y=\"80\" width=\"5\" height=\"5\" fill=\"blue\"/><rect x=\"80\" y=\"80\" width=\"5\" height=\"5\" fill=\"white\"/><rect x=\"80\" y=\"85\" width=\"5\" height=\"5\" fill=\"green\"/><rect x=\"80\" y=\"90\" width=\"5\" height=\"5\" fill=\"blue\"/><rect x=\"80\" y=\"90\" width=\"5\" height=\"5\" fill=\"white\"/><rect x=\"80\" y=\"95\" width=\"5\" height=\"5\" fill=\"blue\"/><rect x=\"85\" y=\"0\" width=\"5\" height=\"5\" fill=\"blue\"/><rect x=\"85\" y=\"5\" width=\"5\" height=\"5\" fill=\"orange\"/><rect x=\"85\" y=\"10\" width=\"5\" height=\"5\" fill=\"green\"/><rect x=\"85\" y=\"15\" width=\"5\" height=\"5\" fill=\"orange\"/><rect x=\"85\" y=\"20\" width=\"5\" height=\"5\" fill=\"green\"/><rect x=\"85\" y=\"25\" width=\"5\" height=\"5\" fill=\"blue\"/><rect x=\"85\" y=\"30\" width=\"5\" height=\"5\" fill=\"orange\"/><rect x=\"85\" y=\"35\" width=\"5\" height=\"5\" fill=\"orange\"/><rect x=\"85\" y=\"40\" width=\"5\" height=\"5\" fill=\"orange\"/><rect x=\"85\" y=\"45\" width=\"5\" height=\"5\" fill=\"blue\"/><rect x=\"85\" y=\"50\" width=\"5\" height=\"5\" fill=\"orange\"/><rect x=\"85\" y=\"55\" width=\"5\" height=\"5\" fill=\"orange\"/><rect x=\"85\" y=\"60\" width=\"5\" height=\"5\" fill=\"orange\"/><rect x=\"85\" y=\"65\" width=\"5\" height=\"5\" fill=\"orange\"/><rect x=\"85\" y=\"70\" width=\"5\" height=\"5\" fill=\"blue\"/><rect x=\"85\" y=\"75\" width=\"5\" height=\"5\" fill=\"orange\"/><rect x=\"85\" y=\"80\" width=\"5\" height=\"5\" fill=\"green\"/><rect x=\"85\" y=\"85\" width=\"5\" height=\"5\" fill=\"blue\"/><rect x=\"85\" y=\"90\" width=\"5\" height=\"5\" fill=\"green\"/><rect x=\"85\" y=\"95\" width=\"5\" height=\"5\" fill=\"green\"/><rect x=\"90\" y=\"0\" width=\"5\" height=\"5\" fill=\"blue\"/><rect x=\"90\" y=\"0\" width=\"5\" height=\"5\" fill=\"white\"/><rect x=\"90\" y=\"5\" width=\"5\" height=\"5\" fill=\"blue\"/><rect x=\"90\" y=\"10\" width=\"5\" height=\"5\" fill=\"blue\"/><rect x=\"90\" y=\"10\" width=\"5\" height=\"5\" fill=\"white\"/><rect x=\"90\" y=\"15\" width=\"5\" height=\"5\" fill=\"blue\"/><rect x=\"90\" y=\"20\" width=\"5\" height=\"5\" fill=\"orange\"/><rect x=\"90\" y=\"20\" width=\"5\" height=\"5\" fill=\"white\"/><rect x=\"90\" y=\"25\" width=\"5\" height=\"5\" fill=\"green\"/><rect x=\"90\" y=\"30\" width=\"5\" height=\"5\" fill=\"orange\"/><rect x=\"90\" y=\"30\" width=\"5\" height=\"5\" fill=\"white\"/><rect x=\"90\" y=\"35\" width=\"5\" height=\"5\" fill=\"orange\"/><rect x=\"90\" y=\"40\" width=\"5\" height=\"5\" fill=\"orange\"/><rect x=\"90\" y=\"40\" width=\"5\" height=\"5\" fill=\"white\"/><rect x=\"90\" y=\"45\" width=\"5\" height=\"5\" fill=\"blue\"/><rect x=\"90\" y=\"50\" width=\"5\" height=\"5\" fill=\"green\"/><rect x=\"90\" y=\"50\" width=\"5\" height=\"5\" fill=\"white\"/><rect x=\"90\" y=\"55\" width=\"5\" height=\"5\" fill=\"blue\"/><rect x=\"90\" y=\"60\" width=\"5\" height=\"5\" fill=\"green\"/><rect x=\"90\" y=\"60\" width=\"5\" height=\"5\" fill=\"white\"/><rect x=\"90\" y=\"65\" width=\"5\" height=\"5\" fill=\"green\"/><rect x=\"90\" y=\"70\" width=\"5\" height=\"5\" fill=\"blue\"/><rect x=\"90\" y=\"70\" width=\"5\" height=\"5\" fill=\"white\"/><rect x=\"90\" y=\"75\" width=\"5\" height=\"5\" fill=\"blue\"/><rect x=\"90\" y=\"80\" width=\"5\" height=\"5\" fill=\"orange\"/><rect x=\"90\" y=\"80\" width=\"5\" height=\"5\" fill=\"white\"/><rect x=\"90\" y=\"85\" width=\"5\" height=\"5\" fill=\"orange\"/><rect x=\"90\" y=\"90\" width=\"5\" height=\"5\" fill=\"orange\"/><rect x=\"90\" y=\"90\" width=\"5\" height=\"5\" fill=\"white\"/><rect x=\"90\" y=\"95\" width=\"5\" height=\"5\" fill=\"orange\"/><rect x=\"95\" y=\"0\" width=\"5\" height=\"5\" fill=\"blue\"/><rect x=\"95\" y=\"5\" width=\"5\" height=\"5\" fill=\"blue\"/><rect x=\"95\" y=\"10\" width=\"5\" height=\"5\" fill=\"blue\"/><rect x=\"95\" y=\"15\" width=\"5\" height=\"5\" fill=\"orange\"/><rect x=\"95\" y=\"20\" width=\"5\" height=\"5\" fill=\"blue\"/><rect x=\"95\" y=\"25\" width=\"5\" height=\"5\" fill=\"blue\"/><rect x=\"95\" y=\"30\" width=\"5\" height=\"5\" fill=\"green\"/><rect x=\"95\" y=\"35\" width=\"5\" height=\"5\" fill=\"orange\"/><rect x=\"95\" y=\"40\" width=\"5\" height=\"5\" fill=\"orange\"/><rect x=\"95\" y=\"45\" width=\"5\" height=\"5\" fill=\"green\"/><rect x=\"95\" y=\"50\" width=\"5\" height=\"5\" fill=\"orange\"/><rect x=\"95\" y=\"55\" width=\"5\" height=\"5\" fill=\"orange\"/><rect x=\"95\" y=\"60\" width=\"5\" height=\"5\" fill=\"blue\"/><rect x=\"95\" y=\"65\" width=\"5\" height=\"5\" fill=\"orange\"/><rect x=\"95\" y=\"70\" width=\"5\" height=\"5\" fill=\"blue\"/><rect x=\"95\" y=\"75\" width=\"5\" height=\"5\" fill=\"green\"/><rect x=\"95\" y=\"80\" width=\"5\" height=\"5\" fill=\"blue\"/><rect x=\"95\" y=\"85\" width=\"5\" height=\"5\" fill=\"green\"/><rect x=\"95\" y=\"90\" width=\"5\" height=\"5\" fill=\"blue\"/><rect x=\"95\" y=\"95\" width=\"5\" height=\"5\" fill=\"orange\"/></svg>"
     },
     "metadata": {},
     "output_type": "display_data"
    }
   ],
   "source": [
    "# Twist some of the inner dots, so that tthe pattern gets uneven\n",
    "def draw_pattern(n=20, color='black'):\n",
    "    \"\"\"Draw a pattern of n squares.\"\"\"\n",
    "    svg = ''\n",
    "    for i in range(n):\n",
    "        for j in range(n):\n",
    "            # Generate random coordinates\n",
    "            x = i * 10\n",
    "            y = j * 10\n",
    "            # Generate a random color\n",
    "            color = random.choice([ 'green', 'blue', 'orange'])\n",
    "            # Draw the square\n",
    "            svg += draw_rectangle(x, y, 10, 10, color)\n",
    "            # Draw the square\n",
    "            if i % 2 == 0 and j % 2 == 0:\n",
    "                svg += draw_rectangle(x, y, 10, 10, 'white')\n",
    "    return svg\n"
   ],
   "metadata": {
    "collapsed": false,
    "ExecuteTime": {
     "start_time": "2023-04-15T19:13:40.243024Z",
     "end_time": "2023-04-15T19:13:40.246788Z"
    }
   }
  },
  {
   "cell_type": "code",
   "execution_count": null,
   "outputs": [],
   "source": [],
   "metadata": {
    "collapsed": false
   }
  }
 ],
 "metadata": {
  "kernelspec": {
   "display_name": "Python 3",
   "language": "python",
   "name": "python3"
  },
  "language_info": {
   "codemirror_mode": {
    "name": "ipython",
    "version": 2
   },
   "file_extension": ".py",
   "mimetype": "text/x-python",
   "name": "python",
   "nbconvert_exporter": "python",
   "pygments_lexer": "ipython2",
   "version": "2.7.6"
  }
 },
 "nbformat": 4,
 "nbformat_minor": 0
}
