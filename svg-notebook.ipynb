{
 "cells": [
  {
   "cell_type": "markdown",
   "source": [
    "# Creating SVGs with Python\n",
    "\n",
    "Python is a great language for creating SVGs. It is a very flexible language that can be used to create SVGs in a variety of ways. In this notebook we will explore some of the ways that Python can be used to create SVGs.\n"
   ],
   "metadata": {
    "collapsed": false
   }
  },
  {
   "cell_type": "code",
   "execution_count": 2,
   "outputs": [],
   "source": [
    "# Importing packages\n",
    "import random\n",
    "import math\n",
    "import numpy as np\n",
    "import matplotlib.pyplot as plt\n",
    "import matplotlib.image as mpimg\n",
    "from IPython.display import SVG\n",
    "from graphviz import Digraph\n",
    "from IPython.display import SVG, display\n",
    "from graphviz import Digraph\n",
    "from IPython.display import SVG, display"
   ],
   "metadata": {
    "collapsed": false
   }
  },
  {
   "cell_type": "markdown",
   "source": [
    "### Hello world"
   ],
   "metadata": {
    "collapsed": false
   }
  },
  {
   "cell_type": "code",
   "execution_count": 3,
   "outputs": [
    {
     "data": {
      "text/plain": "<IPython.core.display.SVG object>",
      "image/svg+xml": "<svg xmlns=\"http://www.w3.org/2000/svg\" xmlns:xlink=\"http://www.w3.org/1999/xlink\" width=\"94pt\" height=\"44pt\" viewBox=\"0.00 0.00 94.00 44.00\">\n<g id=\"graph0\" class=\"graph\" transform=\"scale(1 1) rotate(0) translate(4 40)\">\n<polygon fill=\"white\" stroke=\"none\" points=\"-4,4 -4,-40 90,-40 90,4 -4,4\"/>\n<!-- f_string -->\n<g id=\"node1\" class=\"node\">\n<title>f_string</title>\n<polygon fill=\"none\" stroke=\"black\" points=\"86,-36 0,-36 0,0 86,0 86,-36\"/>\n<text text-anchor=\"middle\" x=\"43\" y=\"-14.3\" font-family=\"Times,serif\" font-size=\"14.00\">Hello world!</text>\n</g>\n</g>\n</svg>"
     },
     "metadata": {},
     "output_type": "display_data"
    }
   ],
   "source": [
    "# Hello world for SVGs\n",
    "f_string = f\"Hello {'world'}!\"\n",
    "# Create a new graph\n",
    "dot = Digraph()\n",
    "# Add a node for the f string\n",
    "dot.node('f_string', label=f_string, shape='rectangle')\n",
    "# Render the graph as an SVG image\n",
    "dot.format = 'svg'\n",
    "svg_data = dot.pipe().decode('utf-8')\n",
    "# Display the SVG image in the notebook\n",
    "display(SVG(svg_data))"
   ],
   "metadata": {
    "collapsed": false
   }
  },
  {
   "cell_type": "markdown",
   "source": [],
   "metadata": {
    "collapsed": false
   }
  },
  {
   "cell_type": "code",
   "execution_count": 4,
   "outputs": [],
   "source": [
    "def show_svg(svg_string):\n",
    "    \"\"\"Display the SVG image in the notebook.\"\"\"\n",
    "    size = (500, 500)\n",
    "    # Add whitespace and frame to the SVG image\n",
    "    svg = f'<svg width=\"100%\" height=\"100%\" viewBox=\"-10 -10 120 120\" xmlns=\"http://www.w3.org/2000/svg\" style=\"background-color: white\">'\n",
    "    svg += f'<rect x=\"-5\" y=\"-5\" width=\"110\" height=\"110\" fill=\"none\" stroke=\"black\" stroke-width=\"1\"/>'\n",
    "    svg += f'{svg_string}'\n",
    "    # Close the SVG image\n",
    "    svg += '</svg>'\n",
    "    display(SVG(svg))"
   ],
   "metadata": {
    "collapsed": false
   }
  },
  {
   "cell_type": "markdown",
   "source": [
    "### Diagonal Line"
   ],
   "metadata": {
    "collapsed": false
   }
  },
  {
   "cell_type": "code",
   "execution_count": 7,
   "outputs": [
    {
     "data": {
      "text/plain": "<IPython.core.display.SVG object>",
      "image/svg+xml": "<svg xmlns=\"http://www.w3.org/2000/svg\" width=\"100%\" height=\"100%\" viewBox=\"-10 -10 120 120\" style=\"background-color: white\"><rect x=\"-5\" y=\"-5\" width=\"110\" height=\"110\" fill=\"none\" stroke=\"black\" stroke-width=\"1\"/><line x1=\"0\" y1=\"0\" x2=\"100\" y2=\"100\" stroke=\"black\"/></svg>"
     },
     "metadata": {},
     "output_type": "display_data"
    }
   ],
   "source": [
    "def draw_diagonal(x1, y1, x2, y2, color='black'):\n",
    "    \"\"\"Draw a diagonal line from (x1, y1) to (x2, y2).\"\"\"\n",
    "    # Draw the diagonal line\n",
    "    svg = f'<line x1=\"{x1}\" y1=\"{y1}\" x2=\"{x2}\" y2=\"{y2}\" stroke=\"{color}\" />'\n",
    "    return svg\n",
    "\n",
    "show_svg(draw_diagonal(0, 0, 100, 100))"
   ],
   "metadata": {
    "collapsed": false
   }
  },
  {
   "cell_type": "markdown",
   "source": [
    "### Draw 100 random diagonals"
   ],
   "metadata": {
    "collapsed": false
   }
  },
  {
   "cell_type": "code",
   "execution_count": 9,
   "outputs": [
    {
     "data": {
      "text/plain": "<IPython.core.display.SVG object>",
      "image/svg+xml": "<svg xmlns=\"http://www.w3.org/2000/svg\" width=\"100%\" height=\"100%\" viewBox=\"-10 -10 120 120\" style=\"background-color: white\"><rect x=\"-5\" y=\"-5\" width=\"110\" height=\"110\" fill=\"none\" stroke=\"black\" stroke-width=\"1\"/><line x1=\"78\" y1=\"4\" x2=\"64\" y2=\"45\" stroke=\"black\"/><line x1=\"24\" y1=\"98\" x2=\"22\" y2=\"27\" stroke=\"black\"/><line x1=\"33\" y1=\"31\" x2=\"79\" y2=\"3\" stroke=\"black\"/><line x1=\"80\" y1=\"5\" x2=\"50\" y2=\"25\" stroke=\"black\"/><line x1=\"42\" y1=\"6\" x2=\"83\" y2=\"54\" stroke=\"black\"/><line x1=\"83\" y1=\"9\" x2=\"97\" y2=\"16\" stroke=\"black\"/><line x1=\"36\" y1=\"75\" x2=\"40\" y2=\"8\" stroke=\"black\"/><line x1=\"20\" y1=\"95\" x2=\"44\" y2=\"32\" stroke=\"black\"/><line x1=\"6\" y1=\"95\" x2=\"48\" y2=\"92\" stroke=\"black\"/><line x1=\"59\" y1=\"98\" x2=\"89\" y2=\"62\" stroke=\"black\"/><line x1=\"31\" y1=\"77\" x2=\"94\" y2=\"19\" stroke=\"black\"/><line x1=\"92\" y1=\"2\" x2=\"2\" y2=\"55\" stroke=\"black\"/><line x1=\"54\" y1=\"35\" x2=\"45\" y2=\"57\" stroke=\"black\"/><line x1=\"83\" y1=\"16\" x2=\"27\" y2=\"14\" stroke=\"black\"/><line x1=\"76\" y1=\"52\" x2=\"38\" y2=\"51\" stroke=\"black\"/><line x1=\"97\" y1=\"28\" x2=\"3\" y2=\"53\" stroke=\"black\"/><line x1=\"85\" y1=\"99\" x2=\"38\" y2=\"87\" stroke=\"black\"/><line x1=\"57\" y1=\"49\" x2=\"71\" y2=\"47\" stroke=\"black\"/><line x1=\"63\" y1=\"27\" x2=\"33\" y2=\"58\" stroke=\"black\"/><line x1=\"54\" y1=\"68\" x2=\"31\" y2=\"92\" stroke=\"black\"/><line x1=\"10\" y1=\"90\" x2=\"100\" y2=\"99\" stroke=\"black\"/><line x1=\"20\" y1=\"84\" x2=\"5\" y2=\"97\" stroke=\"black\"/><line x1=\"0\" y1=\"33\" x2=\"64\" y2=\"77\" stroke=\"black\"/><line x1=\"44\" y1=\"25\" x2=\"3\" y2=\"62\" stroke=\"black\"/><line x1=\"78\" y1=\"5\" x2=\"64\" y2=\"33\" stroke=\"black\"/><line x1=\"19\" y1=\"5\" x2=\"92\" y2=\"25\" stroke=\"black\"/><line x1=\"64\" y1=\"17\" x2=\"26\" y2=\"20\" stroke=\"black\"/><line x1=\"9\" y1=\"95\" x2=\"90\" y2=\"72\" stroke=\"black\"/><line x1=\"19\" y1=\"94\" x2=\"41\" y2=\"27\" stroke=\"black\"/><line x1=\"14\" y1=\"9\" x2=\"3\" y2=\"22\" stroke=\"black\"/><line x1=\"47\" y1=\"96\" x2=\"24\" y2=\"16\" stroke=\"black\"/><line x1=\"85\" y1=\"64\" x2=\"70\" y2=\"51\" stroke=\"black\"/><line x1=\"31\" y1=\"36\" x2=\"82\" y2=\"68\" stroke=\"black\"/><line x1=\"35\" y1=\"72\" x2=\"77\" y2=\"7\" stroke=\"black\"/><line x1=\"51\" y1=\"54\" x2=\"35\" y2=\"96\" stroke=\"black\"/><line x1=\"30\" y1=\"68\" x2=\"2\" y2=\"51\" stroke=\"black\"/><line x1=\"0\" y1=\"72\" x2=\"23\" y2=\"49\" stroke=\"black\"/><line x1=\"30\" y1=\"51\" x2=\"23\" y2=\"13\" stroke=\"black\"/><line x1=\"66\" y1=\"92\" x2=\"2\" y2=\"79\" stroke=\"black\"/><line x1=\"11\" y1=\"39\" x2=\"26\" y2=\"84\" stroke=\"black\"/><line x1=\"83\" y1=\"22\" x2=\"73\" y2=\"48\" stroke=\"black\"/><line x1=\"73\" y1=\"32\" x2=\"73\" y2=\"93\" stroke=\"black\"/><line x1=\"99\" y1=\"96\" x2=\"34\" y2=\"81\" stroke=\"black\"/><line x1=\"70\" y1=\"15\" x2=\"10\" y2=\"100\" stroke=\"black\"/><line x1=\"100\" y1=\"84\" x2=\"76\" y2=\"65\" stroke=\"black\"/><line x1=\"19\" y1=\"93\" x2=\"56\" y2=\"72\" stroke=\"black\"/><line x1=\"91\" y1=\"56\" x2=\"89\" y2=\"72\" stroke=\"black\"/><line x1=\"62\" y1=\"20\" x2=\"47\" y2=\"18\" stroke=\"black\"/><line x1=\"82\" y1=\"83\" x2=\"85\" y2=\"64\" stroke=\"black\"/><line x1=\"5\" y1=\"6\" x2=\"17\" y2=\"67\" stroke=\"black\"/><line x1=\"12\" y1=\"52\" x2=\"69\" y2=\"79\" stroke=\"black\"/><line x1=\"79\" y1=\"94\" x2=\"86\" y2=\"46\" stroke=\"black\"/><line x1=\"5\" y1=\"97\" x2=\"30\" y2=\"80\" stroke=\"black\"/><line x1=\"37\" y1=\"63\" x2=\"58\" y2=\"35\" stroke=\"black\"/><line x1=\"14\" y1=\"59\" x2=\"12\" y2=\"38\" stroke=\"black\"/><line x1=\"62\" y1=\"39\" x2=\"26\" y2=\"33\" stroke=\"black\"/><line x1=\"53\" y1=\"0\" x2=\"30\" y2=\"66\" stroke=\"black\"/><line x1=\"100\" y1=\"17\" x2=\"61\" y2=\"45\" stroke=\"black\"/><line x1=\"87\" y1=\"96\" x2=\"20\" y2=\"80\" stroke=\"black\"/><line x1=\"80\" y1=\"70\" x2=\"35\" y2=\"17\" stroke=\"black\"/><line x1=\"42\" y1=\"96\" x2=\"77\" y2=\"44\" stroke=\"black\"/><line x1=\"96\" y1=\"58\" x2=\"12\" y2=\"75\" stroke=\"black\"/><line x1=\"48\" y1=\"10\" x2=\"72\" y2=\"86\" stroke=\"black\"/><line x1=\"14\" y1=\"9\" x2=\"76\" y2=\"38\" stroke=\"black\"/><line x1=\"30\" y1=\"88\" x2=\"88\" y2=\"66\" stroke=\"black\"/><line x1=\"43\" y1=\"81\" x2=\"33\" y2=\"47\" stroke=\"black\"/><line x1=\"38\" y1=\"14\" x2=\"80\" y2=\"7\" stroke=\"black\"/><line x1=\"34\" y1=\"64\" x2=\"12\" y2=\"58\" stroke=\"black\"/><line x1=\"22\" y1=\"100\" x2=\"85\" y2=\"61\" stroke=\"black\"/><line x1=\"31\" y1=\"60\" x2=\"86\" y2=\"13\" stroke=\"black\"/><line x1=\"78\" y1=\"70\" x2=\"30\" y2=\"4\" stroke=\"black\"/><line x1=\"26\" y1=\"13\" x2=\"52\" y2=\"10\" stroke=\"black\"/><line x1=\"43\" y1=\"19\" x2=\"81\" y2=\"8\" stroke=\"black\"/><line x1=\"34\" y1=\"98\" x2=\"60\" y2=\"97\" stroke=\"black\"/><line x1=\"36\" y1=\"2\" x2=\"12\" y2=\"88\" stroke=\"black\"/><line x1=\"8\" y1=\"48\" x2=\"30\" y2=\"24\" stroke=\"black\"/><line x1=\"11\" y1=\"66\" x2=\"23\" y2=\"12\" stroke=\"black\"/><line x1=\"51\" y1=\"48\" x2=\"17\" y2=\"82\" stroke=\"black\"/><line x1=\"90\" y1=\"56\" x2=\"40\" y2=\"54\" stroke=\"black\"/><line x1=\"30\" y1=\"75\" x2=\"63\" y2=\"66\" stroke=\"black\"/><line x1=\"28\" y1=\"51\" x2=\"2\" y2=\"73\" stroke=\"black\"/><line x1=\"19\" y1=\"29\" x2=\"62\" y2=\"49\" stroke=\"black\"/><line x1=\"9\" y1=\"66\" x2=\"63\" y2=\"100\" stroke=\"black\"/><line x1=\"27\" y1=\"27\" x2=\"22\" y2=\"36\" stroke=\"black\"/><line x1=\"69\" y1=\"93\" x2=\"30\" y2=\"80\" stroke=\"black\"/><line x1=\"76\" y1=\"28\" x2=\"57\" y2=\"20\" stroke=\"black\"/><line x1=\"7\" y1=\"94\" x2=\"76\" y2=\"12\" stroke=\"black\"/><line x1=\"19\" y1=\"12\" x2=\"33\" y2=\"37\" stroke=\"black\"/><line x1=\"2\" y1=\"68\" x2=\"46\" y2=\"12\" stroke=\"black\"/><line x1=\"40\" y1=\"61\" x2=\"70\" y2=\"96\" stroke=\"black\"/><line x1=\"80\" y1=\"43\" x2=\"19\" y2=\"38\" stroke=\"black\"/><line x1=\"56\" y1=\"7\" x2=\"61\" y2=\"37\" stroke=\"black\"/><line x1=\"7\" y1=\"44\" x2=\"39\" y2=\"21\" stroke=\"black\"/><line x1=\"84\" y1=\"85\" x2=\"90\" y2=\"83\" stroke=\"black\"/><line x1=\"93\" y1=\"14\" x2=\"32\" y2=\"86\" stroke=\"black\"/><line x1=\"63\" y1=\"5\" x2=\"46\" y2=\"12\" stroke=\"black\"/><line x1=\"38\" y1=\"71\" x2=\"18\" y2=\"41\" stroke=\"black\"/><line x1=\"42\" y1=\"68\" x2=\"5\" y2=\"5\" stroke=\"black\"/><line x1=\"35\" y1=\"28\" x2=\"28\" y2=\"86\" stroke=\"black\"/><line x1=\"58\" y1=\"93\" x2=\"25\" y2=\"41\" stroke=\"black\"/></svg>"
     },
     "metadata": {},
     "output_type": "display_data"
    }
   ],
   "source": [
    "def draw_random_lines(n=100, color='black'):\n",
    "    \"\"\"Draw n random diagonals.\"\"\"\n",
    "    svg = ''\n",
    "    for i in range(n):\n",
    "        # Generate random coordinates\n",
    "        x1 = random.randint(0, 100)\n",
    "        y1 = random.randint(0, 100)\n",
    "        x2 = random.randint(0, 100)\n",
    "        y2 = random.randint(0, 100)\n",
    "        # Draw the diagonal line\n",
    "        svg += draw_diagonal(x1, y1, x2, y2, color)\n",
    "    return svg\n",
    "\n",
    "show_svg(draw_random_lines())"
   ],
   "metadata": {
    "collapsed": false
   }
  },
  {
   "cell_type": "markdown",
   "source": [
    "### Draw a maze of diagonals"
   ],
   "metadata": {
    "collapsed": false
   }
  },
  {
   "cell_type": "code",
   "execution_count": 10,
   "outputs": [
    {
     "data": {
      "text/plain": "<IPython.core.display.SVG object>",
      "image/svg+xml": "<svg xmlns=\"http://www.w3.org/2000/svg\" width=\"100%\" height=\"100%\" viewBox=\"-10 -10 120 120\" style=\"background-color: white\"><rect x=\"-5\" y=\"-5\" width=\"110\" height=\"110\" fill=\"none\" stroke=\"black\" stroke-width=\"1\"/><line x1=\"0\" y1=\"0\" x2=\"0\" y2=\"100\" stroke=\"black\"/><line x1=\"0\" y1=\"0\" x2=\"100\" y2=\"0\" stroke=\"black\"/><line x1=\"10\" y1=\"0\" x2=\"10\" y2=\"100\" stroke=\"black\"/><line x1=\"0\" y1=\"10\" x2=\"100\" y2=\"10\" stroke=\"black\"/><line x1=\"20\" y1=\"0\" x2=\"20\" y2=\"100\" stroke=\"black\"/><line x1=\"0\" y1=\"20\" x2=\"100\" y2=\"20\" stroke=\"black\"/><line x1=\"30\" y1=\"0\" x2=\"30\" y2=\"100\" stroke=\"black\"/><line x1=\"0\" y1=\"30\" x2=\"100\" y2=\"30\" stroke=\"black\"/><line x1=\"40\" y1=\"0\" x2=\"40\" y2=\"100\" stroke=\"black\"/><line x1=\"0\" y1=\"40\" x2=\"100\" y2=\"40\" stroke=\"black\"/><line x1=\"50\" y1=\"0\" x2=\"50\" y2=\"100\" stroke=\"black\"/><line x1=\"0\" y1=\"50\" x2=\"100\" y2=\"50\" stroke=\"black\"/><line x1=\"60\" y1=\"0\" x2=\"60\" y2=\"100\" stroke=\"black\"/><line x1=\"0\" y1=\"60\" x2=\"100\" y2=\"60\" stroke=\"black\"/><line x1=\"70\" y1=\"0\" x2=\"70\" y2=\"100\" stroke=\"black\"/><line x1=\"0\" y1=\"70\" x2=\"100\" y2=\"70\" stroke=\"black\"/><line x1=\"80\" y1=\"0\" x2=\"80\" y2=\"100\" stroke=\"black\"/><line x1=\"0\" y1=\"80\" x2=\"100\" y2=\"80\" stroke=\"black\"/><line x1=\"90\" y1=\"0\" x2=\"90\" y2=\"100\" stroke=\"black\"/><line x1=\"0\" y1=\"90\" x2=\"100\" y2=\"90\" stroke=\"black\"/></svg>"
     },
     "metadata": {},
     "output_type": "display_data"
    }
   ],
   "source": [
    "def draw_maze(n=10, color='black'):\n",
    "    \"\"\"Draw a maze of diagonals.\"\"\"\n",
    "    svg = ''\n",
    "    for i in range(n):\n",
    "        # Draw a vertical line\n",
    "        svg += draw_diagonal(i * 10, 0, i * 10, 100, color)\n",
    "        # Draw a horizontal line\n",
    "        svg += draw_diagonal(0, i * 10, 100, i * 10, color)\n",
    "    return svg\n",
    "\n",
    "show_svg(draw_maze())"
   ],
   "metadata": {
    "collapsed": false
   }
  },
  {
   "cell_type": "markdown",
   "source": [
    "# Rectangle in yellow"
   ],
   "metadata": {
    "collapsed": false
   }
  },
  {
   "cell_type": "code",
   "execution_count": 11,
   "outputs": [
    {
     "data": {
      "text/plain": "<IPython.core.display.SVG object>",
      "image/svg+xml": "<svg xmlns=\"http://www.w3.org/2000/svg\" width=\"100%\" height=\"100%\" viewBox=\"-10 -10 120 120\" style=\"background-color: white\"><rect x=\"-5\" y=\"-5\" width=\"110\" height=\"110\" fill=\"none\" stroke=\"black\" stroke-width=\"1\"/><rect x=\"0\" y=\"0\" width=\"100\" height=\"100\" fill=\"blue\"/></svg>"
     },
     "metadata": {},
     "output_type": "display_data"
    }
   ],
   "source": [
    "def draw_rectangle(x, y, width, height, color='black'):\n",
    "    \"\"\"Draw a rectangle with the given coordinates and dimensions.\"\"\"\n",
    "    # Draw the rectangle\n",
    "    svg = f'<rect x=\"{x}\" y=\"{y}\" width=\"{width}\" height=\"{height}\" fill=\"{color}\" />'\n",
    "    return svg\n",
    "\n",
    "show_svg(draw_rectangle(0, 0, 100, 100, 'blue'))"
   ],
   "metadata": {
    "collapsed": false
   }
  },
  {
   "cell_type": "markdown",
   "source": [
    "# Circle\n"
   ],
   "metadata": {
    "collapsed": false
   }
  },
  {
   "cell_type": "code",
   "execution_count": 12,
   "outputs": [
    {
     "data": {
      "text/plain": "<IPython.core.display.SVG object>",
      "image/svg+xml": "<svg xmlns=\"http://www.w3.org/2000/svg\" width=\"100%\" height=\"100%\" viewBox=\"-10 -10 120 120\" style=\"background-color: white\"><rect x=\"-5\" y=\"-5\" width=\"110\" height=\"110\" fill=\"none\" stroke=\"black\" stroke-width=\"1\"/><circle cx=\"50\" cy=\"50\" r=\"50\" fill=\"yellow\"/></svg>"
     },
     "metadata": {},
     "output_type": "display_data"
    }
   ],
   "source": [
    "def draw_circle(x, y, radius, color='black'):\n",
    "    \"\"\"Draw a circle with the given coordinates and radius.\"\"\"\n",
    "    # Draw the circle\n",
    "    svg = f'<circle cx=\"{x}\" cy=\"{y}\" r=\"{radius}\" fill=\"{color}\" />'\n",
    "    return svg\n",
    "\n",
    "show_svg(draw_circle(50, 50, 50, 'yellow'))\n"
   ],
   "metadata": {
    "collapsed": false
   }
  },
  {
   "cell_type": "markdown",
   "source": [
    "# Draw Splashes\n"
   ],
   "metadata": {
    "collapsed": false
   }
  },
  {
   "cell_type": "code",
   "execution_count": 19,
   "outputs": [
    {
     "data": {
      "text/plain": "<IPython.core.display.SVG object>",
      "image/svg+xml": "<svg xmlns=\"http://www.w3.org/2000/svg\" width=\"100%\" height=\"100%\" viewBox=\"-10 -10 120 120\" style=\"background-color: white\"><rect x=\"-5\" y=\"-5\" width=\"110\" height=\"110\" fill=\"none\" stroke=\"black\" stroke-width=\"1\"/><circle cx=\"70\" cy=\"30\" r=\"3\" fill=\"black\"/><circle cx=\"20\" cy=\"83\" r=\"13\" fill=\"black\"/><circle cx=\"90\" cy=\"9\" r=\"20\" fill=\"black\"/><circle cx=\"2\" cy=\"33\" r=\"40\" fill=\"black\"/><circle cx=\"16\" cy=\"93\" r=\"8\" fill=\"black\"/><circle cx=\"16\" cy=\"90\" r=\"6\" fill=\"black\"/><circle cx=\"2\" cy=\"13\" r=\"11\" fill=\"black\"/><circle cx=\"1\" cy=\"21\" r=\"29\" fill=\"black\"/><circle cx=\"31\" cy=\"58\" r=\"16\" fill=\"black\"/><circle cx=\"26\" cy=\"76\" r=\"45\" fill=\"black\"/></svg>"
     },
     "metadata": {},
     "output_type": "display_data"
    }
   ],
   "source": [
    "def draw_circles(n=10, color='black'):\n",
    "    \"\"\"Draw n circles with different radii.\"\"\"\n",
    "    svg = ''\n",
    "    for i in range(n):\n",
    "        # Generate random coordinates\n",
    "        x = random.randint(0, 100)\n",
    "        y = random.randint(0, 100)\n",
    "        # Generate a random radius\n",
    "        radius = random.randint(0, 50)\n",
    "        # Draw the circle\n",
    "        svg += draw_circle(x, y, radius, color)\n",
    "    return svg\n",
    "\n",
    "show_svg(draw_circles())"
   ],
   "metadata": {
    "collapsed": false
   }
  },
  {
   "cell_type": "markdown",
   "source": [
    "# Animation test"
   ],
   "metadata": {
    "collapsed": false
   }
  },
  {
   "cell_type": "code",
   "execution_count": 25,
   "outputs": [
    {
     "data": {
      "text/plain": "<IPython.core.display.SVG object>",
      "image/svg+xml": "<svg xmlns=\"http://www.w3.org/2000/svg\" width=\"100%\" height=\"100%\" viewBox=\"-10 -10 120 120\" style=\"background-color: white\"><rect x=\"-5\" y=\"-5\" width=\"110\" height=\"110\" fill=\"none\" stroke=\"black\" stroke-width=\"1\"/><circle cx=\"18\" cy=\"6\" r=\"47\" fill=\"red\"/><circle cx=\"50\" cy=\"1\" r=\"45\" fill=\"red\"/><circle cx=\"100\" cy=\"33\" r=\"23\" fill=\"red\"/></svg>"
     },
     "metadata": {},
     "output_type": "display_data"
    },
    {
     "data": {
      "text/plain": "<IPython.core.display.SVG object>",
      "image/svg+xml": "<svg xmlns=\"http://www.w3.org/2000/svg\" width=\"100%\" height=\"100%\" viewBox=\"-10 -10 120 120\" style=\"background-color: white\"><rect x=\"-5\" y=\"-5\" width=\"110\" height=\"110\" fill=\"none\" stroke=\"black\" stroke-width=\"1\"/><circle cx=\"79\" cy=\"6\" r=\"33\" fill=\"red\"/><circle cx=\"63\" cy=\"42\" r=\"47\" fill=\"red\"/><circle cx=\"40\" cy=\"8\" r=\"17\" fill=\"red\"/></svg>"
     },
     "metadata": {},
     "output_type": "display_data"
    }
   ],
   "source": [
    "for i in range(2):\n",
    "    show_svg(draw_circles(3, 'red'))\n",
    "    # Erase the SVG image"
   ],
   "metadata": {
    "collapsed": false
   }
  },
  {
   "cell_type": "markdown",
   "source": [
    "# Draw a ring\n"
   ],
   "metadata": {
    "collapsed": false
   }
  },
  {
   "cell_type": "code",
   "execution_count": 26,
   "outputs": [
    {
     "data": {
      "text/plain": "<IPython.core.display.SVG object>",
      "image/svg+xml": "<svg xmlns=\"http://www.w3.org/2000/svg\" width=\"100%\" height=\"100%\" viewBox=\"-10 -10 120 120\" style=\"background-color: white\"><rect x=\"-5\" y=\"-5\" width=\"110\" height=\"110\" fill=\"none\" stroke=\"black\" stroke-width=\"1\"/><circle cx=\"50\" cy=\"50\" r=\"5\" fill=\"black\"/><circle cx=\"50\" cy=\"50\" r=\"4.166666666666667\" fill=\"white\"/><circle cx=\"50\" cy=\"50\" r=\"3.846153846153846\" fill=\"black\"/><circle cx=\"50\" cy=\"50\" r=\"2.5\" fill=\"white\"/><circle cx=\"50\" cy=\"50\" r=\"2.2727272727272725\" fill=\"black\"/><circle cx=\"50\" cy=\"50\" r=\"32\" fill=\"black\"/><circle cx=\"50\" cy=\"50\" r=\"26.666666666666668\" fill=\"white\"/><circle cx=\"50\" cy=\"50\" r=\"24.615384615384613\" fill=\"black\"/><circle cx=\"50\" cy=\"50\" r=\"16.0\" fill=\"white\"/><circle cx=\"50\" cy=\"50\" r=\"14.545454545454545\" fill=\"black\"/></svg>"
     },
     "metadata": {},
     "output_type": "display_data"
    }
   ],
   "source": [
    "def draw_rings(n=2, color='black'):\n",
    "    \"\"\"Draw n rings with different radii.\"\"\"\n",
    "    svg = ''\n",
    "    for i in range(n):\n",
    "        # Generate random coordinates\n",
    "        x = 50   # x = random.randint(0, 100)\n",
    "        y = 50   # y = random.randint(0, 100)\n",
    "        # Generate a random radius\n",
    "        radius = random.randint(0, 50)\n",
    "        # Draw the circle\n",
    "        svg += draw_circle(x, y, radius, color)\n",
    "        # Draw the circle\n",
    "        svg += draw_circle(x, y, radius / 1.2, 'white')\n",
    "        # Draw the circle\n",
    "        svg += draw_circle(x, y, radius / 1.3, color)\n",
    "        # Draw the circle\n",
    "        svg += draw_circle(x, y, radius / 2, 'white')\n",
    "        # Draw the circle\n",
    "        svg += draw_circle(x, y, radius / 2.2, color)\n",
    "    return svg\n",
    "\n",
    "show_svg(draw_rings())"
   ],
   "metadata": {
    "collapsed": false
   }
  },
  {
   "cell_type": "markdown",
   "source": [
    "# Arcs\n"
   ],
   "metadata": {
    "collapsed": false
   }
  },
  {
   "cell_type": "code",
   "execution_count": 33,
   "outputs": [
    {
     "data": {
      "text/plain": "<IPython.core.display.SVG object>",
      "image/svg+xml": "<svg xmlns=\"http://www.w3.org/2000/svg\" width=\"100%\" height=\"100%\" viewBox=\"-10 -10 120 120\" style=\"background-color: white\"><rect x=\"-5\" y=\"-5\" width=\"110\" height=\"110\" fill=\"none\" stroke=\"black\" stroke-width=\"1\"/><path d=\"M 50 50 m 0 -50 a 50 50 0 1 1 0 100 a 50 50 0 1 1 0 -100\" fill=\"none\" stroke=\"red\" stroke-width=\"1\" transform=\"rotate(0 50 50)\"/></svg>"
     },
     "metadata": {},
     "output_type": "display_data"
    }
   ],
   "source": [
    "# Draw an arc\n",
    "def draw_arc(x, y, radius, start_angle, end_angle, color='black'):\n",
    "    \"\"\"Draw an arc with the given coordinates and radius.\"\"\"\n",
    "    # Draw the arc\n",
    "    svg = f'<path d=\"M {x} {y} m 0 -{radius} a {radius} {radius} 0 1 1 0 {radius * 2} a {radius} {radius} 0 1 1 0 -{radius * 2}\" fill=\"none\" stroke=\"{color}\" stroke-width=\"1\" transform=\"rotate({start_angle} {x} {y})\" />'\n",
    "    return svg\n",
    "\n",
    "show_svg(draw_arc(50, 50, 50, 0, 90, 'red'))\n",
    "\n"
   ],
   "metadata": {
    "collapsed": false
   }
  },
  {
   "cell_type": "markdown",
   "source": [],
   "metadata": {
    "collapsed": false
   }
  },
  {
   "cell_type": "markdown",
   "source": [
    "## Patterns"
   ],
   "metadata": {
    "collapsed": false
   }
  },
  {
   "cell_type": "code",
   "execution_count": 38,
   "outputs": [
    {
     "data": {
      "text/plain": "<IPython.core.display.SVG object>",
      "image/svg+xml": "<svg xmlns=\"http://www.w3.org/2000/svg\" width=\"100%\" height=\"100%\" viewBox=\"-10 -10 120 120\" style=\"background-color: white\"><rect x=\"-5\" y=\"-5\" width=\"110\" height=\"110\" fill=\"none\" stroke=\"black\" stroke-width=\"1\"/><rect x=\"0\" y=\"0\" width=\"10\" height=\"10\" fill=\"orange\"/><rect x=\"0\" y=\"10\" width=\"10\" height=\"10\" fill=\"blue\"/><rect x=\"0\" y=\"20\" width=\"10\" height=\"10\" fill=\"blue\"/><rect x=\"0\" y=\"30\" width=\"10\" height=\"10\" fill=\"blue\"/><rect x=\"0\" y=\"40\" width=\"10\" height=\"10\" fill=\"orange\"/><rect x=\"0\" y=\"50\" width=\"10\" height=\"10\" fill=\"blue\"/><rect x=\"0\" y=\"60\" width=\"10\" height=\"10\" fill=\"orange\"/><rect x=\"0\" y=\"70\" width=\"10\" height=\"10\" fill=\"blue\"/><rect x=\"0\" y=\"80\" width=\"10\" height=\"10\" fill=\"green\"/><rect x=\"0\" y=\"90\" width=\"10\" height=\"10\" fill=\"orange\"/><rect x=\"0\" y=\"100\" width=\"10\" height=\"10\" fill=\"blue\"/><rect x=\"0\" y=\"110\" width=\"10\" height=\"10\" fill=\"green\"/><rect x=\"0\" y=\"120\" width=\"10\" height=\"10\" fill=\"blue\"/><rect x=\"0\" y=\"130\" width=\"10\" height=\"10\" fill=\"orange\"/><rect x=\"0\" y=\"140\" width=\"10\" height=\"10\" fill=\"blue\"/><rect x=\"0\" y=\"150\" width=\"10\" height=\"10\" fill=\"blue\"/><rect x=\"0\" y=\"160\" width=\"10\" height=\"10\" fill=\"green\"/><rect x=\"0\" y=\"170\" width=\"10\" height=\"10\" fill=\"orange\"/><rect x=\"0\" y=\"180\" width=\"10\" height=\"10\" fill=\"green\"/><rect x=\"0\" y=\"190\" width=\"10\" height=\"10\" fill=\"green\"/><rect x=\"10\" y=\"0\" width=\"10\" height=\"10\" fill=\"green\"/><rect x=\"10\" y=\"10\" width=\"10\" height=\"10\" fill=\"green\"/><rect x=\"10\" y=\"20\" width=\"10\" height=\"10\" fill=\"orange\"/><rect x=\"10\" y=\"30\" width=\"10\" height=\"10\" fill=\"green\"/><rect x=\"10\" y=\"40\" width=\"10\" height=\"10\" fill=\"green\"/><rect x=\"10\" y=\"50\" width=\"10\" height=\"10\" fill=\"blue\"/><rect x=\"10\" y=\"60\" width=\"10\" height=\"10\" fill=\"blue\"/><rect x=\"10\" y=\"70\" width=\"10\" height=\"10\" fill=\"orange\"/><rect x=\"10\" y=\"80\" width=\"10\" height=\"10\" fill=\"green\"/><rect x=\"10\" y=\"90\" width=\"10\" height=\"10\" fill=\"green\"/><rect x=\"10\" y=\"100\" width=\"10\" height=\"10\" fill=\"blue\"/><rect x=\"10\" y=\"110\" width=\"10\" height=\"10\" fill=\"orange\"/><rect x=\"10\" y=\"120\" width=\"10\" height=\"10\" fill=\"orange\"/><rect x=\"10\" y=\"130\" width=\"10\" height=\"10\" fill=\"green\"/><rect x=\"10\" y=\"140\" width=\"10\" height=\"10\" fill=\"green\"/><rect x=\"10\" y=\"150\" width=\"10\" height=\"10\" fill=\"orange\"/><rect x=\"10\" y=\"160\" width=\"10\" height=\"10\" fill=\"green\"/><rect x=\"10\" y=\"170\" width=\"10\" height=\"10\" fill=\"green\"/><rect x=\"10\" y=\"180\" width=\"10\" height=\"10\" fill=\"green\"/><rect x=\"10\" y=\"190\" width=\"10\" height=\"10\" fill=\"green\"/><rect x=\"20\" y=\"0\" width=\"10\" height=\"10\" fill=\"blue\"/><rect x=\"20\" y=\"10\" width=\"10\" height=\"10\" fill=\"green\"/><rect x=\"20\" y=\"20\" width=\"10\" height=\"10\" fill=\"green\"/><rect x=\"20\" y=\"30\" width=\"10\" height=\"10\" fill=\"green\"/><rect x=\"20\" y=\"40\" width=\"10\" height=\"10\" fill=\"orange\"/><rect x=\"20\" y=\"50\" width=\"10\" height=\"10\" fill=\"orange\"/><rect x=\"20\" y=\"60\" width=\"10\" height=\"10\" fill=\"blue\"/><rect x=\"20\" y=\"70\" width=\"10\" height=\"10\" fill=\"blue\"/><rect x=\"20\" y=\"80\" width=\"10\" height=\"10\" fill=\"orange\"/><rect x=\"20\" y=\"90\" width=\"10\" height=\"10\" fill=\"blue\"/><rect x=\"20\" y=\"100\" width=\"10\" height=\"10\" fill=\"orange\"/><rect x=\"20\" y=\"110\" width=\"10\" height=\"10\" fill=\"green\"/><rect x=\"20\" y=\"120\" width=\"10\" height=\"10\" fill=\"green\"/><rect x=\"20\" y=\"130\" width=\"10\" height=\"10\" fill=\"blue\"/><rect x=\"20\" y=\"140\" width=\"10\" height=\"10\" fill=\"blue\"/><rect x=\"20\" y=\"150\" width=\"10\" height=\"10\" fill=\"blue\"/><rect x=\"20\" y=\"160\" width=\"10\" height=\"10\" fill=\"orange\"/><rect x=\"20\" y=\"170\" width=\"10\" height=\"10\" fill=\"orange\"/><rect x=\"20\" y=\"180\" width=\"10\" height=\"10\" fill=\"orange\"/><rect x=\"20\" y=\"190\" width=\"10\" height=\"10\" fill=\"blue\"/><rect x=\"30\" y=\"0\" width=\"10\" height=\"10\" fill=\"blue\"/><rect x=\"30\" y=\"10\" width=\"10\" height=\"10\" fill=\"green\"/><rect x=\"30\" y=\"20\" width=\"10\" height=\"10\" fill=\"blue\"/><rect x=\"30\" y=\"30\" width=\"10\" height=\"10\" fill=\"green\"/><rect x=\"30\" y=\"40\" width=\"10\" height=\"10\" fill=\"blue\"/><rect x=\"30\" y=\"50\" width=\"10\" height=\"10\" fill=\"blue\"/><rect x=\"30\" y=\"60\" width=\"10\" height=\"10\" fill=\"green\"/><rect x=\"30\" y=\"70\" width=\"10\" height=\"10\" fill=\"green\"/><rect x=\"30\" y=\"80\" width=\"10\" height=\"10\" fill=\"blue\"/><rect x=\"30\" y=\"90\" width=\"10\" height=\"10\" fill=\"blue\"/><rect x=\"30\" y=\"100\" width=\"10\" height=\"10\" fill=\"green\"/><rect x=\"30\" y=\"110\" width=\"10\" height=\"10\" fill=\"orange\"/><rect x=\"30\" y=\"120\" width=\"10\" height=\"10\" fill=\"orange\"/><rect x=\"30\" y=\"130\" width=\"10\" height=\"10\" fill=\"green\"/><rect x=\"30\" y=\"140\" width=\"10\" height=\"10\" fill=\"blue\"/><rect x=\"30\" y=\"150\" width=\"10\" height=\"10\" fill=\"blue\"/><rect x=\"30\" y=\"160\" width=\"10\" height=\"10\" fill=\"green\"/><rect x=\"30\" y=\"170\" width=\"10\" height=\"10\" fill=\"orange\"/><rect x=\"30\" y=\"180\" width=\"10\" height=\"10\" fill=\"green\"/><rect x=\"30\" y=\"190\" width=\"10\" height=\"10\" fill=\"orange\"/><rect x=\"40\" y=\"0\" width=\"10\" height=\"10\" fill=\"green\"/><rect x=\"40\" y=\"10\" width=\"10\" height=\"10\" fill=\"blue\"/><rect x=\"40\" y=\"20\" width=\"10\" height=\"10\" fill=\"green\"/><rect x=\"40\" y=\"30\" width=\"10\" height=\"10\" fill=\"green\"/><rect x=\"40\" y=\"40\" width=\"10\" height=\"10\" fill=\"orange\"/><rect x=\"40\" y=\"50\" width=\"10\" height=\"10\" fill=\"blue\"/><rect x=\"40\" y=\"60\" width=\"10\" height=\"10\" fill=\"blue\"/><rect x=\"40\" y=\"70\" width=\"10\" height=\"10\" fill=\"blue\"/><rect x=\"40\" y=\"80\" width=\"10\" height=\"10\" fill=\"orange\"/><rect x=\"40\" y=\"90\" width=\"10\" height=\"10\" fill=\"blue\"/><rect x=\"40\" y=\"100\" width=\"10\" height=\"10\" fill=\"green\"/><rect x=\"40\" y=\"110\" width=\"10\" height=\"10\" fill=\"green\"/><rect x=\"40\" y=\"120\" width=\"10\" height=\"10\" fill=\"green\"/><rect x=\"40\" y=\"130\" width=\"10\" height=\"10\" fill=\"orange\"/><rect x=\"40\" y=\"140\" width=\"10\" height=\"10\" fill=\"orange\"/><rect x=\"40\" y=\"150\" width=\"10\" height=\"10\" fill=\"green\"/><rect x=\"40\" y=\"160\" width=\"10\" height=\"10\" fill=\"blue\"/><rect x=\"40\" y=\"170\" width=\"10\" height=\"10\" fill=\"green\"/><rect x=\"40\" y=\"180\" width=\"10\" height=\"10\" fill=\"blue\"/><rect x=\"40\" y=\"190\" width=\"10\" height=\"10\" fill=\"blue\"/><rect x=\"50\" y=\"0\" width=\"10\" height=\"10\" fill=\"orange\"/><rect x=\"50\" y=\"10\" width=\"10\" height=\"10\" fill=\"blue\"/><rect x=\"50\" y=\"20\" width=\"10\" height=\"10\" fill=\"green\"/><rect x=\"50\" y=\"30\" width=\"10\" height=\"10\" fill=\"green\"/><rect x=\"50\" y=\"40\" width=\"10\" height=\"10\" fill=\"blue\"/><rect x=\"50\" y=\"50\" width=\"10\" height=\"10\" fill=\"orange\"/><rect x=\"50\" y=\"60\" width=\"10\" height=\"10\" fill=\"green\"/><rect x=\"50\" y=\"70\" width=\"10\" height=\"10\" fill=\"orange\"/><rect x=\"50\" y=\"80\" width=\"10\" height=\"10\" fill=\"blue\"/><rect x=\"50\" y=\"90\" width=\"10\" height=\"10\" fill=\"orange\"/><rect x=\"50\" y=\"100\" width=\"10\" height=\"10\" fill=\"green\"/><rect x=\"50\" y=\"110\" width=\"10\" height=\"10\" fill=\"blue\"/><rect x=\"50\" y=\"120\" width=\"10\" height=\"10\" fill=\"green\"/><rect x=\"50\" y=\"130\" width=\"10\" height=\"10\" fill=\"blue\"/><rect x=\"50\" y=\"140\" width=\"10\" height=\"10\" fill=\"blue\"/><rect x=\"50\" y=\"150\" width=\"10\" height=\"10\" fill=\"green\"/><rect x=\"50\" y=\"160\" width=\"10\" height=\"10\" fill=\"orange\"/><rect x=\"50\" y=\"170\" width=\"10\" height=\"10\" fill=\"orange\"/><rect x=\"50\" y=\"180\" width=\"10\" height=\"10\" fill=\"orange\"/><rect x=\"50\" y=\"190\" width=\"10\" height=\"10\" fill=\"blue\"/><rect x=\"60\" y=\"0\" width=\"10\" height=\"10\" fill=\"blue\"/><rect x=\"60\" y=\"10\" width=\"10\" height=\"10\" fill=\"blue\"/><rect x=\"60\" y=\"20\" width=\"10\" height=\"10\" fill=\"blue\"/><rect x=\"60\" y=\"30\" width=\"10\" height=\"10\" fill=\"blue\"/><rect x=\"60\" y=\"40\" width=\"10\" height=\"10\" fill=\"green\"/><rect x=\"60\" y=\"50\" width=\"10\" height=\"10\" fill=\"green\"/><rect x=\"60\" y=\"60\" width=\"10\" height=\"10\" fill=\"orange\"/><rect x=\"60\" y=\"70\" width=\"10\" height=\"10\" fill=\"green\"/><rect x=\"60\" y=\"80\" width=\"10\" height=\"10\" fill=\"blue\"/><rect x=\"60\" y=\"90\" width=\"10\" height=\"10\" fill=\"green\"/><rect x=\"60\" y=\"100\" width=\"10\" height=\"10\" fill=\"orange\"/><rect x=\"60\" y=\"110\" width=\"10\" height=\"10\" fill=\"green\"/><rect x=\"60\" y=\"120\" width=\"10\" height=\"10\" fill=\"orange\"/><rect x=\"60\" y=\"130\" width=\"10\" height=\"10\" fill=\"orange\"/><rect x=\"60\" y=\"140\" width=\"10\" height=\"10\" fill=\"blue\"/><rect x=\"60\" y=\"150\" width=\"10\" height=\"10\" fill=\"green\"/><rect x=\"60\" y=\"160\" width=\"10\" height=\"10\" fill=\"blue\"/><rect x=\"60\" y=\"170\" width=\"10\" height=\"10\" fill=\"green\"/><rect x=\"60\" y=\"180\" width=\"10\" height=\"10\" fill=\"green\"/><rect x=\"60\" y=\"190\" width=\"10\" height=\"10\" fill=\"blue\"/><rect x=\"70\" y=\"0\" width=\"10\" height=\"10\" fill=\"blue\"/><rect x=\"70\" y=\"10\" width=\"10\" height=\"10\" fill=\"orange\"/><rect x=\"70\" y=\"20\" width=\"10\" height=\"10\" fill=\"blue\"/><rect x=\"70\" y=\"30\" width=\"10\" height=\"10\" fill=\"orange\"/><rect x=\"70\" y=\"40\" width=\"10\" height=\"10\" fill=\"orange\"/><rect x=\"70\" y=\"50\" width=\"10\" height=\"10\" fill=\"blue\"/><rect x=\"70\" y=\"60\" width=\"10\" height=\"10\" fill=\"blue\"/><rect x=\"70\" y=\"70\" width=\"10\" height=\"10\" fill=\"green\"/><rect x=\"70\" y=\"80\" width=\"10\" height=\"10\" fill=\"orange\"/><rect x=\"70\" y=\"90\" width=\"10\" height=\"10\" fill=\"blue\"/><rect x=\"70\" y=\"100\" width=\"10\" height=\"10\" fill=\"orange\"/><rect x=\"70\" y=\"110\" width=\"10\" height=\"10\" fill=\"green\"/><rect x=\"70\" y=\"120\" width=\"10\" height=\"10\" fill=\"orange\"/><rect x=\"70\" y=\"130\" width=\"10\" height=\"10\" fill=\"blue\"/><rect x=\"70\" y=\"140\" width=\"10\" height=\"10\" fill=\"orange\"/><rect x=\"70\" y=\"150\" width=\"10\" height=\"10\" fill=\"blue\"/><rect x=\"70\" y=\"160\" width=\"10\" height=\"10\" fill=\"blue\"/><rect x=\"70\" y=\"170\" width=\"10\" height=\"10\" fill=\"orange\"/><rect x=\"70\" y=\"180\" width=\"10\" height=\"10\" fill=\"orange\"/><rect x=\"70\" y=\"190\" width=\"10\" height=\"10\" fill=\"orange\"/><rect x=\"80\" y=\"0\" width=\"10\" height=\"10\" fill=\"green\"/><rect x=\"80\" y=\"10\" width=\"10\" height=\"10\" fill=\"green\"/><rect x=\"80\" y=\"20\" width=\"10\" height=\"10\" fill=\"blue\"/><rect x=\"80\" y=\"30\" width=\"10\" height=\"10\" fill=\"green\"/><rect x=\"80\" y=\"40\" width=\"10\" height=\"10\" fill=\"orange\"/><rect x=\"80\" y=\"50\" width=\"10\" height=\"10\" fill=\"blue\"/><rect x=\"80\" y=\"60\" width=\"10\" height=\"10\" fill=\"blue\"/><rect x=\"80\" y=\"70\" width=\"10\" height=\"10\" fill=\"green\"/><rect x=\"80\" y=\"80\" width=\"10\" height=\"10\" fill=\"orange\"/><rect x=\"80\" y=\"90\" width=\"10\" height=\"10\" fill=\"blue\"/><rect x=\"80\" y=\"100\" width=\"10\" height=\"10\" fill=\"blue\"/><rect x=\"80\" y=\"110\" width=\"10\" height=\"10\" fill=\"blue\"/><rect x=\"80\" y=\"120\" width=\"10\" height=\"10\" fill=\"orange\"/><rect x=\"80\" y=\"130\" width=\"10\" height=\"10\" fill=\"blue\"/><rect x=\"80\" y=\"140\" width=\"10\" height=\"10\" fill=\"blue\"/><rect x=\"80\" y=\"150\" width=\"10\" height=\"10\" fill=\"orange\"/><rect x=\"80\" y=\"160\" width=\"10\" height=\"10\" fill=\"green\"/><rect x=\"80\" y=\"170\" width=\"10\" height=\"10\" fill=\"orange\"/><rect x=\"80\" y=\"180\" width=\"10\" height=\"10\" fill=\"green\"/><rect x=\"80\" y=\"190\" width=\"10\" height=\"10\" fill=\"green\"/><rect x=\"90\" y=\"0\" width=\"10\" height=\"10\" fill=\"orange\"/><rect x=\"90\" y=\"10\" width=\"10\" height=\"10\" fill=\"green\"/><rect x=\"90\" y=\"20\" width=\"10\" height=\"10\" fill=\"blue\"/><rect x=\"90\" y=\"30\" width=\"10\" height=\"10\" fill=\"blue\"/><rect x=\"90\" y=\"40\" width=\"10\" height=\"10\" fill=\"blue\"/><rect x=\"90\" y=\"50\" width=\"10\" height=\"10\" fill=\"blue\"/><rect x=\"90\" y=\"60\" width=\"10\" height=\"10\" fill=\"orange\"/><rect x=\"90\" y=\"70\" width=\"10\" height=\"10\" fill=\"orange\"/><rect x=\"90\" y=\"80\" width=\"10\" height=\"10\" fill=\"green\"/><rect x=\"90\" y=\"90\" width=\"10\" height=\"10\" fill=\"blue\"/><rect x=\"90\" y=\"100\" width=\"10\" height=\"10\" fill=\"orange\"/><rect x=\"90\" y=\"110\" width=\"10\" height=\"10\" fill=\"blue\"/><rect x=\"90\" y=\"120\" width=\"10\" height=\"10\" fill=\"green\"/><rect x=\"90\" y=\"130\" width=\"10\" height=\"10\" fill=\"orange\"/><rect x=\"90\" y=\"140\" width=\"10\" height=\"10\" fill=\"blue\"/><rect x=\"90\" y=\"150\" width=\"10\" height=\"10\" fill=\"blue\"/><rect x=\"90\" y=\"160\" width=\"10\" height=\"10\" fill=\"green\"/><rect x=\"90\" y=\"170\" width=\"10\" height=\"10\" fill=\"orange\"/><rect x=\"90\" y=\"180\" width=\"10\" height=\"10\" fill=\"green\"/><rect x=\"90\" y=\"190\" width=\"10\" height=\"10\" fill=\"orange\"/><rect x=\"100\" y=\"0\" width=\"10\" height=\"10\" fill=\"orange\"/><rect x=\"100\" y=\"10\" width=\"10\" height=\"10\" fill=\"orange\"/><rect x=\"100\" y=\"20\" width=\"10\" height=\"10\" fill=\"green\"/><rect x=\"100\" y=\"30\" width=\"10\" height=\"10\" fill=\"blue\"/><rect x=\"100\" y=\"40\" width=\"10\" height=\"10\" fill=\"blue\"/><rect x=\"100\" y=\"50\" width=\"10\" height=\"10\" fill=\"blue\"/><rect x=\"100\" y=\"60\" width=\"10\" height=\"10\" fill=\"green\"/><rect x=\"100\" y=\"70\" width=\"10\" height=\"10\" fill=\"blue\"/><rect x=\"100\" y=\"80\" width=\"10\" height=\"10\" fill=\"blue\"/><rect x=\"100\" y=\"90\" width=\"10\" height=\"10\" fill=\"blue\"/><rect x=\"100\" y=\"100\" width=\"10\" height=\"10\" fill=\"green\"/><rect x=\"100\" y=\"110\" width=\"10\" height=\"10\" fill=\"orange\"/><rect x=\"100\" y=\"120\" width=\"10\" height=\"10\" fill=\"blue\"/><rect x=\"100\" y=\"130\" width=\"10\" height=\"10\" fill=\"blue\"/><rect x=\"100\" y=\"140\" width=\"10\" height=\"10\" fill=\"green\"/><rect x=\"100\" y=\"150\" width=\"10\" height=\"10\" fill=\"orange\"/><rect x=\"100\" y=\"160\" width=\"10\" height=\"10\" fill=\"orange\"/><rect x=\"100\" y=\"170\" width=\"10\" height=\"10\" fill=\"green\"/><rect x=\"100\" y=\"180\" width=\"10\" height=\"10\" fill=\"blue\"/><rect x=\"100\" y=\"190\" width=\"10\" height=\"10\" fill=\"green\"/><rect x=\"110\" y=\"0\" width=\"10\" height=\"10\" fill=\"blue\"/><rect x=\"110\" y=\"10\" width=\"10\" height=\"10\" fill=\"green\"/><rect x=\"110\" y=\"20\" width=\"10\" height=\"10\" fill=\"blue\"/><rect x=\"110\" y=\"30\" width=\"10\" height=\"10\" fill=\"blue\"/><rect x=\"110\" y=\"40\" width=\"10\" height=\"10\" fill=\"blue\"/><rect x=\"110\" y=\"50\" width=\"10\" height=\"10\" fill=\"orange\"/><rect x=\"110\" y=\"60\" width=\"10\" height=\"10\" fill=\"green\"/><rect x=\"110\" y=\"70\" width=\"10\" height=\"10\" fill=\"green\"/><rect x=\"110\" y=\"80\" width=\"10\" height=\"10\" fill=\"green\"/><rect x=\"110\" y=\"90\" width=\"10\" height=\"10\" fill=\"orange\"/><rect x=\"110\" y=\"100\" width=\"10\" height=\"10\" fill=\"green\"/><rect x=\"110\" y=\"110\" width=\"10\" height=\"10\" fill=\"green\"/><rect x=\"110\" y=\"120\" width=\"10\" height=\"10\" fill=\"green\"/><rect x=\"110\" y=\"130\" width=\"10\" height=\"10\" fill=\"green\"/><rect x=\"110\" y=\"140\" width=\"10\" height=\"10\" fill=\"orange\"/><rect x=\"110\" y=\"150\" width=\"10\" height=\"10\" fill=\"orange\"/><rect x=\"110\" y=\"160\" width=\"10\" height=\"10\" fill=\"orange\"/><rect x=\"110\" y=\"170\" width=\"10\" height=\"10\" fill=\"orange\"/><rect x=\"110\" y=\"180\" width=\"10\" height=\"10\" fill=\"green\"/><rect x=\"110\" y=\"190\" width=\"10\" height=\"10\" fill=\"orange\"/><rect x=\"120\" y=\"0\" width=\"10\" height=\"10\" fill=\"green\"/><rect x=\"120\" y=\"10\" width=\"10\" height=\"10\" fill=\"blue\"/><rect x=\"120\" y=\"20\" width=\"10\" height=\"10\" fill=\"blue\"/><rect x=\"120\" y=\"30\" width=\"10\" height=\"10\" fill=\"green\"/><rect x=\"120\" y=\"40\" width=\"10\" height=\"10\" fill=\"orange\"/><rect x=\"120\" y=\"50\" width=\"10\" height=\"10\" fill=\"green\"/><rect x=\"120\" y=\"60\" width=\"10\" height=\"10\" fill=\"blue\"/><rect x=\"120\" y=\"70\" width=\"10\" height=\"10\" fill=\"orange\"/><rect x=\"120\" y=\"80\" width=\"10\" height=\"10\" fill=\"blue\"/><rect x=\"120\" y=\"90\" width=\"10\" height=\"10\" fill=\"orange\"/><rect x=\"120\" y=\"100\" width=\"10\" height=\"10\" fill=\"green\"/><rect x=\"120\" y=\"110\" width=\"10\" height=\"10\" fill=\"blue\"/><rect x=\"120\" y=\"120\" width=\"10\" height=\"10\" fill=\"blue\"/><rect x=\"120\" y=\"130\" width=\"10\" height=\"10\" fill=\"orange\"/><rect x=\"120\" y=\"140\" width=\"10\" height=\"10\" fill=\"blue\"/><rect x=\"120\" y=\"150\" width=\"10\" height=\"10\" fill=\"green\"/><rect x=\"120\" y=\"160\" width=\"10\" height=\"10\" fill=\"blue\"/><rect x=\"120\" y=\"170\" width=\"10\" height=\"10\" fill=\"blue\"/><rect x=\"120\" y=\"180\" width=\"10\" height=\"10\" fill=\"green\"/><rect x=\"120\" y=\"190\" width=\"10\" height=\"10\" fill=\"orange\"/><rect x=\"130\" y=\"0\" width=\"10\" height=\"10\" fill=\"blue\"/><rect x=\"130\" y=\"10\" width=\"10\" height=\"10\" fill=\"green\"/><rect x=\"130\" y=\"20\" width=\"10\" height=\"10\" fill=\"blue\"/><rect x=\"130\" y=\"30\" width=\"10\" height=\"10\" fill=\"orange\"/><rect x=\"130\" y=\"40\" width=\"10\" height=\"10\" fill=\"orange\"/><rect x=\"130\" y=\"50\" width=\"10\" height=\"10\" fill=\"blue\"/><rect x=\"130\" y=\"60\" width=\"10\" height=\"10\" fill=\"orange\"/><rect x=\"130\" y=\"70\" width=\"10\" height=\"10\" fill=\"green\"/><rect x=\"130\" y=\"80\" width=\"10\" height=\"10\" fill=\"green\"/><rect x=\"130\" y=\"90\" width=\"10\" height=\"10\" fill=\"blue\"/><rect x=\"130\" y=\"100\" width=\"10\" height=\"10\" fill=\"orange\"/><rect x=\"130\" y=\"110\" width=\"10\" height=\"10\" fill=\"blue\"/><rect x=\"130\" y=\"120\" width=\"10\" height=\"10\" fill=\"green\"/><rect x=\"130\" y=\"130\" width=\"10\" height=\"10\" fill=\"orange\"/><rect x=\"130\" y=\"140\" width=\"10\" height=\"10\" fill=\"orange\"/><rect x=\"130\" y=\"150\" width=\"10\" height=\"10\" fill=\"blue\"/><rect x=\"130\" y=\"160\" width=\"10\" height=\"10\" fill=\"green\"/><rect x=\"130\" y=\"170\" width=\"10\" height=\"10\" fill=\"green\"/><rect x=\"130\" y=\"180\" width=\"10\" height=\"10\" fill=\"green\"/><rect x=\"130\" y=\"190\" width=\"10\" height=\"10\" fill=\"blue\"/><rect x=\"140\" y=\"0\" width=\"10\" height=\"10\" fill=\"orange\"/><rect x=\"140\" y=\"10\" width=\"10\" height=\"10\" fill=\"green\"/><rect x=\"140\" y=\"20\" width=\"10\" height=\"10\" fill=\"orange\"/><rect x=\"140\" y=\"30\" width=\"10\" height=\"10\" fill=\"green\"/><rect x=\"140\" y=\"40\" width=\"10\" height=\"10\" fill=\"orange\"/><rect x=\"140\" y=\"50\" width=\"10\" height=\"10\" fill=\"green\"/><rect x=\"140\" y=\"60\" width=\"10\" height=\"10\" fill=\"green\"/><rect x=\"140\" y=\"70\" width=\"10\" height=\"10\" fill=\"orange\"/><rect x=\"140\" y=\"80\" width=\"10\" height=\"10\" fill=\"orange\"/><rect x=\"140\" y=\"90\" width=\"10\" height=\"10\" fill=\"green\"/><rect x=\"140\" y=\"100\" width=\"10\" height=\"10\" fill=\"green\"/><rect x=\"140\" y=\"110\" width=\"10\" height=\"10\" fill=\"green\"/><rect x=\"140\" y=\"120\" width=\"10\" height=\"10\" fill=\"green\"/><rect x=\"140\" y=\"130\" width=\"10\" height=\"10\" fill=\"green\"/><rect x=\"140\" y=\"140\" width=\"10\" height=\"10\" fill=\"blue\"/><rect x=\"140\" y=\"150\" width=\"10\" height=\"10\" fill=\"green\"/><rect x=\"140\" y=\"160\" width=\"10\" height=\"10\" fill=\"orange\"/><rect x=\"140\" y=\"170\" width=\"10\" height=\"10\" fill=\"orange\"/><rect x=\"140\" y=\"180\" width=\"10\" height=\"10\" fill=\"green\"/><rect x=\"140\" y=\"190\" width=\"10\" height=\"10\" fill=\"blue\"/><rect x=\"150\" y=\"0\" width=\"10\" height=\"10\" fill=\"orange\"/><rect x=\"150\" y=\"10\" width=\"10\" height=\"10\" fill=\"green\"/><rect x=\"150\" y=\"20\" width=\"10\" height=\"10\" fill=\"blue\"/><rect x=\"150\" y=\"30\" width=\"10\" height=\"10\" fill=\"orange\"/><rect x=\"150\" y=\"40\" width=\"10\" height=\"10\" fill=\"orange\"/><rect x=\"150\" y=\"50\" width=\"10\" height=\"10\" fill=\"green\"/><rect x=\"150\" y=\"60\" width=\"10\" height=\"10\" fill=\"green\"/><rect x=\"150\" y=\"70\" width=\"10\" height=\"10\" fill=\"green\"/><rect x=\"150\" y=\"80\" width=\"10\" height=\"10\" fill=\"orange\"/><rect x=\"150\" y=\"90\" width=\"10\" height=\"10\" fill=\"orange\"/><rect x=\"150\" y=\"100\" width=\"10\" height=\"10\" fill=\"green\"/><rect x=\"150\" y=\"110\" width=\"10\" height=\"10\" fill=\"blue\"/><rect x=\"150\" y=\"120\" width=\"10\" height=\"10\" fill=\"blue\"/><rect x=\"150\" y=\"130\" width=\"10\" height=\"10\" fill=\"blue\"/><rect x=\"150\" y=\"140\" width=\"10\" height=\"10\" fill=\"blue\"/><rect x=\"150\" y=\"150\" width=\"10\" height=\"10\" fill=\"orange\"/><rect x=\"150\" y=\"160\" width=\"10\" height=\"10\" fill=\"blue\"/><rect x=\"150\" y=\"170\" width=\"10\" height=\"10\" fill=\"orange\"/><rect x=\"150\" y=\"180\" width=\"10\" height=\"10\" fill=\"blue\"/><rect x=\"150\" y=\"190\" width=\"10\" height=\"10\" fill=\"green\"/><rect x=\"160\" y=\"0\" width=\"10\" height=\"10\" fill=\"blue\"/><rect x=\"160\" y=\"10\" width=\"10\" height=\"10\" fill=\"green\"/><rect x=\"160\" y=\"20\" width=\"10\" height=\"10\" fill=\"orange\"/><rect x=\"160\" y=\"30\" width=\"10\" height=\"10\" fill=\"orange\"/><rect x=\"160\" y=\"40\" width=\"10\" height=\"10\" fill=\"orange\"/><rect x=\"160\" y=\"50\" width=\"10\" height=\"10\" fill=\"green\"/><rect x=\"160\" y=\"60\" width=\"10\" height=\"10\" fill=\"orange\"/><rect x=\"160\" y=\"70\" width=\"10\" height=\"10\" fill=\"orange\"/><rect x=\"160\" y=\"80\" width=\"10\" height=\"10\" fill=\"blue\"/><rect x=\"160\" y=\"90\" width=\"10\" height=\"10\" fill=\"green\"/><rect x=\"160\" y=\"100\" width=\"10\" height=\"10\" fill=\"orange\"/><rect x=\"160\" y=\"110\" width=\"10\" height=\"10\" fill=\"blue\"/><rect x=\"160\" y=\"120\" width=\"10\" height=\"10\" fill=\"orange\"/><rect x=\"160\" y=\"130\" width=\"10\" height=\"10\" fill=\"blue\"/><rect x=\"160\" y=\"140\" width=\"10\" height=\"10\" fill=\"blue\"/><rect x=\"160\" y=\"150\" width=\"10\" height=\"10\" fill=\"blue\"/><rect x=\"160\" y=\"160\" width=\"10\" height=\"10\" fill=\"blue\"/><rect x=\"160\" y=\"170\" width=\"10\" height=\"10\" fill=\"blue\"/><rect x=\"160\" y=\"180\" width=\"10\" height=\"10\" fill=\"green\"/><rect x=\"160\" y=\"190\" width=\"10\" height=\"10\" fill=\"orange\"/><rect x=\"170\" y=\"0\" width=\"10\" height=\"10\" fill=\"orange\"/><rect x=\"170\" y=\"10\" width=\"10\" height=\"10\" fill=\"blue\"/><rect x=\"170\" y=\"20\" width=\"10\" height=\"10\" fill=\"orange\"/><rect x=\"170\" y=\"30\" width=\"10\" height=\"10\" fill=\"orange\"/><rect x=\"170\" y=\"40\" width=\"10\" height=\"10\" fill=\"green\"/><rect x=\"170\" y=\"50\" width=\"10\" height=\"10\" fill=\"blue\"/><rect x=\"170\" y=\"60\" width=\"10\" height=\"10\" fill=\"green\"/><rect x=\"170\" y=\"70\" width=\"10\" height=\"10\" fill=\"green\"/><rect x=\"170\" y=\"80\" width=\"10\" height=\"10\" fill=\"blue\"/><rect x=\"170\" y=\"90\" width=\"10\" height=\"10\" fill=\"green\"/><rect x=\"170\" y=\"100\" width=\"10\" height=\"10\" fill=\"blue\"/><rect x=\"170\" y=\"110\" width=\"10\" height=\"10\" fill=\"green\"/><rect x=\"170\" y=\"120\" width=\"10\" height=\"10\" fill=\"green\"/><rect x=\"170\" y=\"130\" width=\"10\" height=\"10\" fill=\"orange\"/><rect x=\"170\" y=\"140\" width=\"10\" height=\"10\" fill=\"green\"/><rect x=\"170\" y=\"150\" width=\"10\" height=\"10\" fill=\"green\"/><rect x=\"170\" y=\"160\" width=\"10\" height=\"10\" fill=\"green\"/><rect x=\"170\" y=\"170\" width=\"10\" height=\"10\" fill=\"green\"/><rect x=\"170\" y=\"180\" width=\"10\" height=\"10\" fill=\"blue\"/><rect x=\"170\" y=\"190\" width=\"10\" height=\"10\" fill=\"blue\"/><rect x=\"180\" y=\"0\" width=\"10\" height=\"10\" fill=\"blue\"/><rect x=\"180\" y=\"10\" width=\"10\" height=\"10\" fill=\"blue\"/><rect x=\"180\" y=\"20\" width=\"10\" height=\"10\" fill=\"green\"/><rect x=\"180\" y=\"30\" width=\"10\" height=\"10\" fill=\"blue\"/><rect x=\"180\" y=\"40\" width=\"10\" height=\"10\" fill=\"green\"/><rect x=\"180\" y=\"50\" width=\"10\" height=\"10\" fill=\"orange\"/><rect x=\"180\" y=\"60\" width=\"10\" height=\"10\" fill=\"green\"/><rect x=\"180\" y=\"70\" width=\"10\" height=\"10\" fill=\"green\"/><rect x=\"180\" y=\"80\" width=\"10\" height=\"10\" fill=\"blue\"/><rect x=\"180\" y=\"90\" width=\"10\" height=\"10\" fill=\"orange\"/><rect x=\"180\" y=\"100\" width=\"10\" height=\"10\" fill=\"blue\"/><rect x=\"180\" y=\"110\" width=\"10\" height=\"10\" fill=\"blue\"/><rect x=\"180\" y=\"120\" width=\"10\" height=\"10\" fill=\"orange\"/><rect x=\"180\" y=\"130\" width=\"10\" height=\"10\" fill=\"blue\"/><rect x=\"180\" y=\"140\" width=\"10\" height=\"10\" fill=\"orange\"/><rect x=\"180\" y=\"150\" width=\"10\" height=\"10\" fill=\"green\"/><rect x=\"180\" y=\"160\" width=\"10\" height=\"10\" fill=\"blue\"/><rect x=\"180\" y=\"170\" width=\"10\" height=\"10\" fill=\"orange\"/><rect x=\"180\" y=\"180\" width=\"10\" height=\"10\" fill=\"blue\"/><rect x=\"180\" y=\"190\" width=\"10\" height=\"10\" fill=\"orange\"/><rect x=\"190\" y=\"0\" width=\"10\" height=\"10\" fill=\"green\"/><rect x=\"190\" y=\"10\" width=\"10\" height=\"10\" fill=\"orange\"/><rect x=\"190\" y=\"20\" width=\"10\" height=\"10\" fill=\"green\"/><rect x=\"190\" y=\"30\" width=\"10\" height=\"10\" fill=\"orange\"/><rect x=\"190\" y=\"40\" width=\"10\" height=\"10\" fill=\"green\"/><rect x=\"190\" y=\"50\" width=\"10\" height=\"10\" fill=\"green\"/><rect x=\"190\" y=\"60\" width=\"10\" height=\"10\" fill=\"orange\"/><rect x=\"190\" y=\"70\" width=\"10\" height=\"10\" fill=\"orange\"/><rect x=\"190\" y=\"80\" width=\"10\" height=\"10\" fill=\"orange\"/><rect x=\"190\" y=\"90\" width=\"10\" height=\"10\" fill=\"green\"/><rect x=\"190\" y=\"100\" width=\"10\" height=\"10\" fill=\"green\"/><rect x=\"190\" y=\"110\" width=\"10\" height=\"10\" fill=\"orange\"/><rect x=\"190\" y=\"120\" width=\"10\" height=\"10\" fill=\"blue\"/><rect x=\"190\" y=\"130\" width=\"10\" height=\"10\" fill=\"green\"/><rect x=\"190\" y=\"140\" width=\"10\" height=\"10\" fill=\"orange\"/><rect x=\"190\" y=\"150\" width=\"10\" height=\"10\" fill=\"orange\"/><rect x=\"190\" y=\"160\" width=\"10\" height=\"10\" fill=\"orange\"/><rect x=\"190\" y=\"170\" width=\"10\" height=\"10\" fill=\"green\"/><rect x=\"190\" y=\"180\" width=\"10\" height=\"10\" fill=\"blue\"/><rect x=\"190\" y=\"190\" width=\"10\" height=\"10\" fill=\"blue\"/></svg>"
     },
     "metadata": {},
     "output_type": "display_data"
    }
   ],
   "source": [
    "# Create apattenr of 20*20 squares in a random color from a typical color palette\n",
    "def draw_pattern(n=20, color='black'):\n",
    "    \"\"\"Draw a pattern of n squares.\"\"\"\n",
    "    svg = ''\n",
    "    for i in range(n):\n",
    "        for j in range(n):\n",
    "            # Generate random coordinates\n",
    "            x = i * 10\n",
    "            y = j * 10\n",
    "            # Generate a random color\n",
    "            color = random.choice([ 'green', 'blue', 'orange'])\n",
    "            # Draw the square\n",
    "            svg += draw_rectangle(x, y, 10, 10, color)\n",
    "    return svg\n",
    "\n",
    "show_svg(draw_pattern())"
   ],
   "metadata": {
    "collapsed": false
   }
  },
  {
   "cell_type": "markdown",
   "source": [
    "\n"
   ],
   "metadata": {
    "collapsed": false
   }
  },
  {
   "cell_type": "code",
   "execution_count": 31,
   "outputs": [
    {
     "data": {
      "text/plain": "<IPython.core.display.HTML object>",
      "text/html": "<circle cx=\"50\" cy=\"50\" r=\"50\" fill=\"red\" /><animate attributeName=\"stroke-dashoffset\" from=\"0\" to=\"1000\" dur=\"1s\" repeatCount=\"indefinite\" />"
     },
     "metadata": {},
     "output_type": "display_data"
    },
    {
     "data": {
      "text/plain": "<IPython.core.display.HTML object>",
      "text/html": "<circle cx=\"50\" cy=\"50\" r=\"50\" fill=\"red\" /><animate attributeName=\"stroke-dashoffset\" from=\"0\" to=\"1000\" dur=\"1s\" repeatCount=\"indefinite\" />"
     },
     "metadata": {},
     "output_type": "display_data"
    }
   ],
   "source": [
    "# Twist some of the inner dots, so that tthe pattern gets uneven\n",
    "def draw_pattern(n=20, color='black'):\n",
    "    \"\"\"Draw a pattern of n squares.\"\"\"\n",
    "    svg = ''\n",
    "    for i in range(n):\n",
    "        for j in range(n):\n",
    "            # Generate random coordinates\n",
    "            x = i * 10\n",
    "            y = j * 10\n",
    "            # Generate a random color\n",
    "            color = random.choice([ 'green', 'blue', 'orange'])\n",
    "            # Draw the square\n",
    "            svg += draw_rectangle(x, y, 10, 10, color)\n",
    "            # Draw the square\n",
    "            if i % 2 == 0 and j % 2 == 0:\n",
    "                svg += draw_rectangle(x, y, 10, 10, 'white')\n",
    "    return svg\n"
   ],
   "metadata": {
    "collapsed": false
   }
  },
  {
   "cell_type": "code",
   "execution_count": null,
   "outputs": [],
   "source": [],
   "metadata": {
    "collapsed": false
   }
  }
 ],
 "metadata": {
  "kernelspec": {
   "display_name": "Python 3",
   "language": "python",
   "name": "python3"
  },
  "language_info": {
   "codemirror_mode": {
    "name": "ipython",
    "version": 2
   },
   "file_extension": ".py",
   "mimetype": "text/x-python",
   "name": "python",
   "nbconvert_exporter": "python",
   "pygments_lexer": "ipython2",
   "version": "2.7.6"
  }
 },
 "nbformat": 4,
 "nbformat_minor": 0
}
