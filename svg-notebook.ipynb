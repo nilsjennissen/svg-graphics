{
 "cells": [
  {
   "cell_type": "markdown",
   "source": [
    "# Creating SVGs with Python\n",
    "\n",
    "Python is a great language for creating SVGs. It is a very flexible language that can be used to create SVGs in a variety of ways. In this notebook we will explore some of the ways that Python can be used to create SVGs.\n"
   ],
   "metadata": {
    "collapsed": false
   }
  },
  {
   "cell_type": "code",
   "execution_count": null,
   "outputs": [],
   "source": [
    "# Importing packages\n",
    "import random\n",
    "import math\n",
    "import numpy as np\n",
    "import matplotlib.pyplot as plt\n",
    "import matplotlib.image as mpimg\n",
    "from IPython.display import SVG\n",
    "from graphviz import Digraph\n",
    "from IPython.display import SVG, display\n",
    "from graphviz import Digraph\n",
    "from IPython.display import SVG, display"
   ],
   "metadata": {
    "collapsed": false
   }
  },
  {
   "cell_type": "code",
   "execution_count": 20,
   "outputs": [
    {
     "data": {
      "text/plain": "<IPython.core.display.SVG object>",
      "image/svg+xml": "<svg xmlns=\"http://www.w3.org/2000/svg\" xmlns:xlink=\"http://www.w3.org/1999/xlink\" width=\"94pt\" height=\"44pt\" viewBox=\"0.00 0.00 94.00 44.00\">\n<g id=\"graph0\" class=\"graph\" transform=\"scale(1 1) rotate(0) translate(4 40)\">\n<polygon fill=\"white\" stroke=\"none\" points=\"-4,4 -4,-40 90,-40 90,4 -4,4\"/>\n<!-- f_string -->\n<g id=\"node1\" class=\"node\">\n<title>f_string</title>\n<polygon fill=\"none\" stroke=\"black\" points=\"86,-36 0,-36 0,0 86,0 86,-36\"/>\n<text text-anchor=\"middle\" x=\"43\" y=\"-14.3\" font-family=\"Times,serif\" font-size=\"14.00\">Hello world!</text>\n</g>\n</g>\n</svg>"
     },
     "metadata": {},
     "output_type": "display_data"
    }
   ],
   "source": [
    "# Define the f string\n",
    "f_string = f\"Hello {'world'}!\"\n",
    "# Create a new graph\n",
    "dot = Digraph()\n",
    "# Add a node for the f string\n",
    "dot.node('f_string', label=f_string, shape='rectangle')\n",
    "# Render the graph as an SVG image\n",
    "dot.format = 'svg'\n",
    "svg_data = dot.pipe().decode('utf-8')\n",
    "# Display the SVG image in the notebook\n",
    "display(SVG(svg_data))"
   ],
   "metadata": {
    "collapsed": false
   }
  },
  {
   "cell_type": "markdown",
   "source": [],
   "metadata": {
    "collapsed": false
   }
  },
  {
   "cell_type": "code",
   "execution_count": 34,
   "outputs": [],
   "source": [
    "def show_svg(svg_string):\n",
    "    \"\"\"Display the SVG image in the notebook.\"\"\"\n",
    "    size = (500, 500)\n",
    "    # Add whitespace and frame to the SVG image\n",
    "    svg = f'<svg width=\"100%\" height=\"100%\" viewBox=\"-10 -10 120 120\" xmlns=\"http://www.w3.org/2000/svg\" style=\"background-color: white\">'\n",
    "    svg += f'<rect x=\"-5\" y=\"-5\" width=\"110\" height=\"110\" fill=\"none\" stroke=\"black\" stroke-width=\"1\"/>'\n",
    "    svg += f'{svg_string}'\n",
    "    # Close the SVG image\n",
    "    svg += '</svg>'\n",
    "    display(SVG(svg))\n"
   ],
   "metadata": {
    "collapsed": false
   }
  },
  {
   "cell_type": "markdown",
   "source": [
    "### Diagonal"
   ],
   "metadata": {
    "collapsed": false
   }
  },
  {
   "cell_type": "code",
   "execution_count": 35,
   "outputs": [
    {
     "data": {
      "text/plain": "<IPython.core.display.SVG object>",
      "image/svg+xml": "<svg xmlns=\"http://www.w3.org/2000/svg\" width=\"100%\" height=\"100%\" viewBox=\"-10 -10 120 120\" style=\"background-color: white\"><rect x=\"-5\" y=\"-5\" width=\"110\" height=\"110\" fill=\"none\" stroke=\"black\" stroke-width=\"1\"/><line x1=\"0\" y1=\"0\" x2=\"100\" y2=\"100\" stroke=\"black\"/></svg>"
     },
     "metadata": {},
     "output_type": "display_data"
    }
   ],
   "source": [
    "def draw_diagonal(x1, y1, x2, y2, color='black'):\n",
    "    \"\"\"Draw a diagonal line from (x1, y1) to (x2, y2).\"\"\"\n",
    "    # Draw the diagonal line\n",
    "    svg = f'<line x1=\"{x1}\" y1=\"{y1}\" x2=\"{x2}\" y2=\"{y2}\" stroke=\"{color}\" />'\n",
    "    return svg\n",
    "\n",
    "show_svg(draw_diagonal(0, 0, 100, 100))\n"
   ],
   "metadata": {
    "collapsed": false
   }
  },
  {
   "cell_type": "markdown",
   "source": [
    "### Draw 100 random diagonals"
   ],
   "metadata": {
    "collapsed": false
   }
  },
  {
   "cell_type": "code",
   "execution_count": 37,
   "outputs": [
    {
     "data": {
      "text/plain": "<IPython.core.display.SVG object>",
      "image/svg+xml": "<svg xmlns=\"http://www.w3.org/2000/svg\" width=\"100%\" height=\"100%\" viewBox=\"-10 -10 120 120\" style=\"background-color: white\"><rect x=\"-5\" y=\"-5\" width=\"110\" height=\"110\" fill=\"none\" stroke=\"black\" stroke-width=\"1\"/><line x1=\"100\" y1=\"63\" x2=\"48\" y2=\"27\" stroke=\"black\"/><line x1=\"29\" y1=\"16\" x2=\"27\" y2=\"36\" stroke=\"black\"/><line x1=\"28\" y1=\"83\" x2=\"44\" y2=\"79\" stroke=\"black\"/><line x1=\"28\" y1=\"13\" x2=\"85\" y2=\"26\" stroke=\"black\"/><line x1=\"94\" y1=\"42\" x2=\"86\" y2=\"0\" stroke=\"black\"/><line x1=\"99\" y1=\"71\" x2=\"11\" y2=\"58\" stroke=\"black\"/><line x1=\"30\" y1=\"63\" x2=\"47\" y2=\"97\" stroke=\"black\"/><line x1=\"99\" y1=\"89\" x2=\"91\" y2=\"74\" stroke=\"black\"/><line x1=\"57\" y1=\"55\" x2=\"19\" y2=\"29\" stroke=\"black\"/><line x1=\"7\" y1=\"54\" x2=\"36\" y2=\"92\" stroke=\"black\"/><line x1=\"5\" y1=\"16\" x2=\"19\" y2=\"27\" stroke=\"black\"/><line x1=\"3\" y1=\"78\" x2=\"93\" y2=\"85\" stroke=\"black\"/><line x1=\"86\" y1=\"38\" x2=\"80\" y2=\"69\" stroke=\"black\"/><line x1=\"21\" y1=\"95\" x2=\"34\" y2=\"0\" stroke=\"black\"/><line x1=\"69\" y1=\"35\" x2=\"15\" y2=\"28\" stroke=\"black\"/><line x1=\"74\" y1=\"2\" x2=\"24\" y2=\"8\" stroke=\"black\"/><line x1=\"14\" y1=\"73\" x2=\"23\" y2=\"68\" stroke=\"black\"/><line x1=\"55\" y1=\"61\" x2=\"40\" y2=\"70\" stroke=\"black\"/><line x1=\"100\" y1=\"22\" x2=\"3\" y2=\"19\" stroke=\"black\"/><line x1=\"61\" y1=\"35\" x2=\"61\" y2=\"8\" stroke=\"black\"/><line x1=\"51\" y1=\"0\" x2=\"81\" y2=\"67\" stroke=\"black\"/><line x1=\"63\" y1=\"75\" x2=\"66\" y2=\"40\" stroke=\"black\"/><line x1=\"3\" y1=\"99\" x2=\"77\" y2=\"51\" stroke=\"black\"/><line x1=\"25\" y1=\"42\" x2=\"66\" y2=\"41\" stroke=\"black\"/><line x1=\"15\" y1=\"17\" x2=\"15\" y2=\"37\" stroke=\"black\"/><line x1=\"54\" y1=\"16\" x2=\"63\" y2=\"22\" stroke=\"black\"/><line x1=\"40\" y1=\"100\" x2=\"28\" y2=\"49\" stroke=\"black\"/><line x1=\"29\" y1=\"89\" x2=\"54\" y2=\"14\" stroke=\"black\"/><line x1=\"30\" y1=\"20\" x2=\"52\" y2=\"22\" stroke=\"black\"/><line x1=\"33\" y1=\"93\" x2=\"86\" y2=\"24\" stroke=\"black\"/><line x1=\"1\" y1=\"46\" x2=\"13\" y2=\"48\" stroke=\"black\"/><line x1=\"16\" y1=\"37\" x2=\"60\" y2=\"39\" stroke=\"black\"/><line x1=\"25\" y1=\"5\" x2=\"9\" y2=\"4\" stroke=\"black\"/><line x1=\"67\" y1=\"68\" x2=\"35\" y2=\"60\" stroke=\"black\"/><line x1=\"53\" y1=\"88\" x2=\"43\" y2=\"100\" stroke=\"black\"/><line x1=\"32\" y1=\"89\" x2=\"48\" y2=\"37\" stroke=\"black\"/><line x1=\"72\" y1=\"100\" x2=\"64\" y2=\"24\" stroke=\"black\"/><line x1=\"79\" y1=\"98\" x2=\"87\" y2=\"19\" stroke=\"black\"/><line x1=\"21\" y1=\"17\" x2=\"53\" y2=\"37\" stroke=\"black\"/><line x1=\"66\" y1=\"91\" x2=\"89\" y2=\"94\" stroke=\"black\"/><line x1=\"41\" y1=\"68\" x2=\"72\" y2=\"35\" stroke=\"black\"/><line x1=\"94\" y1=\"64\" x2=\"94\" y2=\"9\" stroke=\"black\"/><line x1=\"34\" y1=\"11\" x2=\"41\" y2=\"4\" stroke=\"black\"/><line x1=\"7\" y1=\"19\" x2=\"97\" y2=\"73\" stroke=\"black\"/><line x1=\"62\" y1=\"4\" x2=\"50\" y2=\"7\" stroke=\"black\"/><line x1=\"41\" y1=\"8\" x2=\"10\" y2=\"59\" stroke=\"black\"/><line x1=\"18\" y1=\"80\" x2=\"75\" y2=\"73\" stroke=\"black\"/><line x1=\"13\" y1=\"84\" x2=\"41\" y2=\"59\" stroke=\"black\"/><line x1=\"1\" y1=\"21\" x2=\"49\" y2=\"100\" stroke=\"black\"/><line x1=\"36\" y1=\"3\" x2=\"82\" y2=\"88\" stroke=\"black\"/><line x1=\"49\" y1=\"73\" x2=\"88\" y2=\"70\" stroke=\"black\"/><line x1=\"68\" y1=\"81\" x2=\"99\" y2=\"86\" stroke=\"black\"/><line x1=\"69\" y1=\"100\" x2=\"18\" y2=\"58\" stroke=\"black\"/><line x1=\"9\" y1=\"14\" x2=\"56\" y2=\"78\" stroke=\"black\"/><line x1=\"72\" y1=\"89\" x2=\"67\" y2=\"21\" stroke=\"black\"/><line x1=\"72\" y1=\"87\" x2=\"70\" y2=\"68\" stroke=\"black\"/><line x1=\"68\" y1=\"64\" x2=\"87\" y2=\"1\" stroke=\"black\"/><line x1=\"51\" y1=\"22\" x2=\"40\" y2=\"12\" stroke=\"black\"/><line x1=\"80\" y1=\"50\" x2=\"87\" y2=\"76\" stroke=\"black\"/><line x1=\"12\" y1=\"67\" x2=\"32\" y2=\"87\" stroke=\"black\"/><line x1=\"24\" y1=\"6\" x2=\"41\" y2=\"33\" stroke=\"black\"/><line x1=\"48\" y1=\"39\" x2=\"1\" y2=\"31\" stroke=\"black\"/><line x1=\"64\" y1=\"25\" x2=\"12\" y2=\"75\" stroke=\"black\"/><line x1=\"19\" y1=\"13\" x2=\"26\" y2=\"32\" stroke=\"black\"/><line x1=\"63\" y1=\"64\" x2=\"42\" y2=\"6\" stroke=\"black\"/><line x1=\"38\" y1=\"93\" x2=\"34\" y2=\"44\" stroke=\"black\"/><line x1=\"87\" y1=\"71\" x2=\"35\" y2=\"11\" stroke=\"black\"/><line x1=\"66\" y1=\"93\" x2=\"95\" y2=\"21\" stroke=\"black\"/><line x1=\"53\" y1=\"88\" x2=\"36\" y2=\"67\" stroke=\"black\"/><line x1=\"9\" y1=\"100\" x2=\"23\" y2=\"70\" stroke=\"black\"/><line x1=\"19\" y1=\"77\" x2=\"14\" y2=\"39\" stroke=\"black\"/><line x1=\"99\" y1=\"13\" x2=\"57\" y2=\"56\" stroke=\"black\"/><line x1=\"85\" y1=\"49\" x2=\"6\" y2=\"77\" stroke=\"black\"/><line x1=\"65\" y1=\"38\" x2=\"18\" y2=\"52\" stroke=\"black\"/><line x1=\"25\" y1=\"80\" x2=\"99\" y2=\"59\" stroke=\"black\"/><line x1=\"33\" y1=\"61\" x2=\"26\" y2=\"4\" stroke=\"black\"/><line x1=\"20\" y1=\"64\" x2=\"95\" y2=\"68\" stroke=\"black\"/><line x1=\"95\" y1=\"79\" x2=\"78\" y2=\"77\" stroke=\"black\"/><line x1=\"95\" y1=\"1\" x2=\"24\" y2=\"14\" stroke=\"black\"/><line x1=\"100\" y1=\"19\" x2=\"19\" y2=\"67\" stroke=\"black\"/><line x1=\"32\" y1=\"83\" x2=\"10\" y2=\"19\" stroke=\"black\"/><line x1=\"12\" y1=\"57\" x2=\"60\" y2=\"56\" stroke=\"black\"/><line x1=\"55\" y1=\"84\" x2=\"33\" y2=\"61\" stroke=\"black\"/><line x1=\"58\" y1=\"23\" x2=\"39\" y2=\"97\" stroke=\"black\"/><line x1=\"72\" y1=\"91\" x2=\"86\" y2=\"35\" stroke=\"black\"/><line x1=\"73\" y1=\"93\" x2=\"42\" y2=\"35\" stroke=\"black\"/><line x1=\"11\" y1=\"54\" x2=\"48\" y2=\"2\" stroke=\"black\"/><line x1=\"79\" y1=\"86\" x2=\"28\" y2=\"42\" stroke=\"black\"/><line x1=\"6\" y1=\"20\" x2=\"89\" y2=\"62\" stroke=\"black\"/><line x1=\"78\" y1=\"17\" x2=\"4\" y2=\"3\" stroke=\"black\"/><line x1=\"89\" y1=\"42\" x2=\"87\" y2=\"80\" stroke=\"black\"/><line x1=\"23\" y1=\"29\" x2=\"54\" y2=\"69\" stroke=\"black\"/><line x1=\"69\" y1=\"77\" x2=\"68\" y2=\"25\" stroke=\"black\"/><line x1=\"71\" y1=\"29\" x2=\"25\" y2=\"89\" stroke=\"black\"/><line x1=\"64\" y1=\"97\" x2=\"52\" y2=\"100\" stroke=\"black\"/><line x1=\"12\" y1=\"44\" x2=\"93\" y2=\"55\" stroke=\"black\"/><line x1=\"89\" y1=\"89\" x2=\"72\" y2=\"20\" stroke=\"black\"/><line x1=\"84\" y1=\"60\" x2=\"69\" y2=\"88\" stroke=\"black\"/><line x1=\"66\" y1=\"19\" x2=\"5\" y2=\"50\" stroke=\"black\"/><line x1=\"92\" y1=\"74\" x2=\"26\" y2=\"41\" stroke=\"black\"/></svg>"
     },
     "metadata": {},
     "output_type": "display_data"
    }
   ],
   "source": [
    "def draw_random_lines(n=100, color='black'):\n",
    "    \"\"\"Draw n random diagonals.\"\"\"\n",
    "    svg = ''\n",
    "    for i in range(n):\n",
    "        # Generate random coordinates\n",
    "        x1 = random.randint(0, 100)\n",
    "        y1 = random.randint(0, 100)\n",
    "        x2 = random.randint(0, 100)\n",
    "        y2 = random.randint(0, 100)\n",
    "        # Draw the diagonal line\n",
    "        svg += draw_diagonal(x1, y1, x2, y2, color)\n",
    "    return svg\n",
    "\n",
    "show_svg(draw_random_lines())"
   ],
   "metadata": {
    "collapsed": false
   }
  },
  {
   "cell_type": "markdown",
   "source": [
    "### Draw a maze of diagonals"
   ],
   "metadata": {
    "collapsed": false
   }
  },
  {
   "cell_type": "code",
   "execution_count": 43,
   "outputs": [
    {
     "data": {
      "text/plain": "<IPython.core.display.SVG object>",
      "image/svg+xml": "<svg xmlns=\"http://www.w3.org/2000/svg\" width=\"100%\" height=\"100%\" viewBox=\"-10 -10 120 120\" style=\"background-color: white\"><rect x=\"-5\" y=\"-5\" width=\"110\" height=\"110\" fill=\"none\" stroke=\"black\" stroke-width=\"1\"/><line x1=\"0\" y1=\"0\" x2=\"0\" y2=\"100\" stroke=\"black\"/><line x1=\"0\" y1=\"0\" x2=\"100\" y2=\"0\" stroke=\"black\"/><line x1=\"10\" y1=\"0\" x2=\"10\" y2=\"100\" stroke=\"black\"/><line x1=\"0\" y1=\"10\" x2=\"100\" y2=\"10\" stroke=\"black\"/><line x1=\"20\" y1=\"0\" x2=\"20\" y2=\"100\" stroke=\"black\"/><line x1=\"0\" y1=\"20\" x2=\"100\" y2=\"20\" stroke=\"black\"/><line x1=\"30\" y1=\"0\" x2=\"30\" y2=\"100\" stroke=\"black\"/><line x1=\"0\" y1=\"30\" x2=\"100\" y2=\"30\" stroke=\"black\"/><line x1=\"40\" y1=\"0\" x2=\"40\" y2=\"100\" stroke=\"black\"/><line x1=\"0\" y1=\"40\" x2=\"100\" y2=\"40\" stroke=\"black\"/><line x1=\"50\" y1=\"0\" x2=\"50\" y2=\"100\" stroke=\"black\"/><line x1=\"0\" y1=\"50\" x2=\"100\" y2=\"50\" stroke=\"black\"/><line x1=\"60\" y1=\"0\" x2=\"60\" y2=\"100\" stroke=\"black\"/><line x1=\"0\" y1=\"60\" x2=\"100\" y2=\"60\" stroke=\"black\"/><line x1=\"70\" y1=\"0\" x2=\"70\" y2=\"100\" stroke=\"black\"/><line x1=\"0\" y1=\"70\" x2=\"100\" y2=\"70\" stroke=\"black\"/><line x1=\"80\" y1=\"0\" x2=\"80\" y2=\"100\" stroke=\"black\"/><line x1=\"0\" y1=\"80\" x2=\"100\" y2=\"80\" stroke=\"black\"/><line x1=\"90\" y1=\"0\" x2=\"90\" y2=\"100\" stroke=\"black\"/><line x1=\"0\" y1=\"90\" x2=\"100\" y2=\"90\" stroke=\"black\"/></svg>"
     },
     "metadata": {},
     "output_type": "display_data"
    }
   ],
   "source": [
    "def draw_maze(n=10, color='black'):\n",
    "    \"\"\"Draw a maze of diagonals.\"\"\"\n",
    "    svg = ''\n",
    "    for i in range(n):\n",
    "        # Draw a vertical line\n",
    "        svg += draw_diagonal(i * 10, 0, i * 10, 100, color)\n",
    "        # Draw a horizontal line\n",
    "        svg += draw_diagonal(0, i * 10, 100, i * 10, color)\n",
    "    return svg\n",
    "\n",
    "show_svg(draw_maze())\n"
   ],
   "metadata": {
    "collapsed": false
   }
  },
  {
   "cell_type": "markdown",
   "source": [
    "# Rectangle in yellow"
   ],
   "metadata": {
    "collapsed": false
   }
  },
  {
   "cell_type": "code",
   "execution_count": 44,
   "outputs": [
    {
     "data": {
      "text/plain": "<IPython.core.display.SVG object>",
      "image/svg+xml": "<svg xmlns=\"http://www.w3.org/2000/svg\" width=\"100%\" height=\"100%\" viewBox=\"-10 -10 120 120\" style=\"background-color: white\"><rect x=\"-5\" y=\"-5\" width=\"110\" height=\"110\" fill=\"none\" stroke=\"black\" stroke-width=\"1\"/><rect x=\"0\" y=\"0\" width=\"100\" height=\"100\" fill=\"yellow\"/></svg>"
     },
     "metadata": {},
     "output_type": "display_data"
    }
   ],
   "source": [
    "def draw_rectangle(x, y, width, height, color='black'):\n",
    "    \"\"\"Draw a rectangle with the given coordinates and dimensions.\"\"\"\n",
    "    # Draw the rectangle\n",
    "    svg = f'<rect x=\"{x}\" y=\"{y}\" width=\"{width}\" height=\"{height}\" fill=\"{color}\" />'\n",
    "    return svg\n",
    "\n",
    "show_svg(draw_rectangle(0, 0, 100, 100, 'yellow'))"
   ],
   "metadata": {
    "collapsed": false
   }
  },
  {
   "cell_type": "markdown",
   "source": [
    "# Circle\n"
   ],
   "metadata": {
    "collapsed": false
   }
  },
  {
   "cell_type": "code",
   "execution_count": 45,
   "outputs": [
    {
     "data": {
      "text/plain": "<IPython.core.display.SVG object>",
      "image/svg+xml": "<svg xmlns=\"http://www.w3.org/2000/svg\" width=\"100%\" height=\"100%\" viewBox=\"-10 -10 120 120\" style=\"background-color: white\"><rect x=\"-5\" y=\"-5\" width=\"110\" height=\"110\" fill=\"none\" stroke=\"black\" stroke-width=\"1\"/><circle cx=\"50\" cy=\"50\" r=\"50\" fill=\"red\"/></svg>"
     },
     "metadata": {},
     "output_type": "display_data"
    }
   ],
   "source": [
    "def draw_circle(x, y, radius, color='black'):\n",
    "    \"\"\"Draw a circle with the given coordinates and radius.\"\"\"\n",
    "    # Draw the circle\n",
    "    svg = f'<circle cx=\"{x}\" cy=\"{y}\" r=\"{radius}\" fill=\"{color}\" />'\n",
    "    return svg\n",
    "\n",
    "show_svg(draw_circle(50, 50, 50, 'red'))\n"
   ],
   "metadata": {
    "collapsed": false
   }
  },
  {
   "cell_type": "markdown",
   "source": [
    "# Draw Splashes\n"
   ],
   "metadata": {
    "collapsed": false
   }
  },
  {
   "cell_type": "code",
   "execution_count": 46,
   "outputs": [
    {
     "data": {
      "text/plain": "<IPython.core.display.SVG object>",
      "image/svg+xml": "<svg xmlns=\"http://www.w3.org/2000/svg\" width=\"100%\" height=\"100%\" viewBox=\"-10 -10 120 120\" style=\"background-color: white\"><rect x=\"-5\" y=\"-5\" width=\"110\" height=\"110\" fill=\"none\" stroke=\"black\" stroke-width=\"1\"/><circle cx=\"75\" cy=\"60\" r=\"4\" fill=\"black\"/><circle cx=\"5\" cy=\"22\" r=\"15\" fill=\"black\"/><circle cx=\"1\" cy=\"5\" r=\"27\" fill=\"black\"/><circle cx=\"69\" cy=\"67\" r=\"5\" fill=\"black\"/><circle cx=\"96\" cy=\"37\" r=\"34\" fill=\"black\"/><circle cx=\"73\" cy=\"40\" r=\"7\" fill=\"black\"/><circle cx=\"75\" cy=\"47\" r=\"42\" fill=\"black\"/><circle cx=\"34\" cy=\"17\" r=\"20\" fill=\"black\"/><circle cx=\"46\" cy=\"92\" r=\"10\" fill=\"black\"/><circle cx=\"27\" cy=\"89\" r=\"7\" fill=\"black\"/></svg>"
     },
     "metadata": {},
     "output_type": "display_data"
    }
   ],
   "source": [
    "def draw_circles(n=10, color='black'):\n",
    "    \"\"\"Draw n circles with different radii.\"\"\"\n",
    "    svg = ''\n",
    "    for i in range(n):\n",
    "        # Generate random coordinates\n",
    "        x = random.randint(0, 100)\n",
    "        y = random.randint(0, 100)\n",
    "        # Generate a random radius\n",
    "        radius = random.randint(0, 50)\n",
    "        # Draw the circle\n",
    "        svg += draw_circle(x, y, radius, color)\n",
    "    return svg\n",
    "\n",
    "show_svg(draw_circles())"
   ],
   "metadata": {
    "collapsed": false
   }
  },
  {
   "cell_type": "markdown",
   "source": [
    "# Animation test"
   ],
   "metadata": {
    "collapsed": false
   }
  },
  {
   "cell_type": "code",
   "execution_count": 96,
   "outputs": [
    {
     "data": {
      "text/plain": "<IPython.core.display.SVG object>",
      "image/svg+xml": "<svg xmlns=\"http://www.w3.org/2000/svg\" width=\"100%\" height=\"100%\" viewBox=\"-10 -10 120 120\" style=\"background-color: white\"><rect x=\"-5\" y=\"-5\" width=\"110\" height=\"110\" fill=\"none\" stroke=\"black\" stroke-width=\"1\"/><circle cx=\"68\" cy=\"12\" r=\"32\" fill=\"black\"/><circle cx=\"32\" cy=\"49\" r=\"35\" fill=\"black\"/><circle cx=\"5\" cy=\"13\" r=\"39\" fill=\"black\"/><circle cx=\"73\" cy=\"14\" r=\"49\" fill=\"black\"/><circle cx=\"59\" cy=\"25\" r=\"22\" fill=\"black\"/><circle cx=\"87\" cy=\"24\" r=\"20\" fill=\"black\"/><circle cx=\"37\" cy=\"15\" r=\"14\" fill=\"black\"/><circle cx=\"46\" cy=\"17\" r=\"15\" fill=\"black\"/><circle cx=\"28\" cy=\"79\" r=\"27\" fill=\"black\"/><circle cx=\"16\" cy=\"19\" r=\"37\" fill=\"black\"/></svg>"
     },
     "metadata": {},
     "output_type": "display_data"
    },
    {
     "ename": "TypeError",
     "evalue": "unsupported operand type(s) for -=: 'module' and 'float'",
     "output_type": "error",
     "traceback": [
      "\u001B[0;31m---------------------------------------------------------------------------\u001B[0m",
      "\u001B[0;31mTypeError\u001B[0m                                 Traceback (most recent call last)",
      "Cell \u001B[0;32mIn[96], line 7\u001B[0m\n\u001B[1;32m      5\u001B[0m show_svg(draw_circles())\n\u001B[1;32m      6\u001B[0m time\u001B[38;5;241m.\u001B[39msleep(\u001B[38;5;241m0.1\u001B[39m)\n\u001B[0;32m----> 7\u001B[0m time \u001B[38;5;241m-\u001B[39m\u001B[38;5;241m=\u001B[39m \u001B[38;5;241m0.1\u001B[39m\n\u001B[1;32m      8\u001B[0m \u001B[38;5;28;01mif\u001B[39;00m start \u001B[38;5;241m<\u001B[39m\u001B[38;5;241m=\u001B[39m \u001B[38;5;241m0\u001B[39m:\n\u001B[1;32m      9\u001B[0m     \u001B[38;5;28;01mbreak\u001B[39;00m\n",
      "\u001B[0;31mTypeError\u001B[0m: unsupported operand type(s) for -=: 'module' and 'float'"
     ]
    }
   ],
   "source": [
    "import time\n",
    "\n",
    "start = 5\n",
    "while True:\n",
    "    show_svg(draw_circles())\n",
    "    time.sleep(0.1)\n",
    "    time -= 0.1\n",
    "    if start <= 0:\n",
    "        break\n"
   ],
   "metadata": {
    "collapsed": false
   }
  },
  {
   "cell_type": "markdown",
   "source": [
    "# Draw a ring\n"
   ],
   "metadata": {
    "collapsed": false
   }
  },
  {
   "cell_type": "code",
   "execution_count": 82,
   "outputs": [
    {
     "data": {
      "text/plain": "<IPython.core.display.SVG object>",
      "image/svg+xml": "<svg xmlns=\"http://www.w3.org/2000/svg\" width=\"100%\" height=\"100%\" viewBox=\"-10 -10 120 120\" style=\"background-color: white\"><rect x=\"-5\" y=\"-5\" width=\"110\" height=\"110\" fill=\"none\" stroke=\"black\" stroke-width=\"1\"/><circle cx=\"50\" cy=\"50\" r=\"48\" fill=\"black\"/><circle cx=\"50\" cy=\"50\" r=\"40.0\" fill=\"white\"/><circle cx=\"50\" cy=\"50\" r=\"36.92307692307692\" fill=\"black\"/><circle cx=\"50\" cy=\"50\" r=\"24.0\" fill=\"white\"/><circle cx=\"50\" cy=\"50\" r=\"21.818181818181817\" fill=\"black\"/><circle cx=\"50\" cy=\"50\" r=\"26\" fill=\"black\"/><circle cx=\"50\" cy=\"50\" r=\"21.666666666666668\" fill=\"white\"/><circle cx=\"50\" cy=\"50\" r=\"20.0\" fill=\"black\"/><circle cx=\"50\" cy=\"50\" r=\"13.0\" fill=\"white\"/><circle cx=\"50\" cy=\"50\" r=\"11.818181818181817\" fill=\"black\"/></svg>"
     },
     "metadata": {},
     "output_type": "display_data"
    }
   ],
   "source": [
    "def draw_rings(n=2, color='black'):\n",
    "    \"\"\"Draw n rings with different radii.\"\"\"\n",
    "    svg = ''\n",
    "    for i in range(n):\n",
    "        # Generate random coordinates\n",
    "        x = 50   # x = random.randint(0, 100)\n",
    "        y = 50   # y = random.randint(0, 100)\n",
    "        # Generate a random radius\n",
    "        radius = random.randint(0, 50)\n",
    "        # Draw the circle\n",
    "        svg += draw_circle(x, y, radius, color)\n",
    "        # Draw the circle\n",
    "        svg += draw_circle(x, y, radius / 1.2, 'white')\n",
    "        # Draw the circle\n",
    "        svg += draw_circle(x, y, radius / 1.3, color)\n",
    "        # Draw the circle\n",
    "        svg += draw_circle(x, y, radius / 2, 'white')\n",
    "        # Draw the circle\n",
    "        svg += draw_circle(x, y, radius / 2.2, color)\n",
    "    return svg\n",
    "\n",
    "show_svg(draw_rings())"
   ],
   "metadata": {
    "collapsed": false
   }
  },
  {
   "cell_type": "markdown",
   "source": [
    "# Arcs\n"
   ],
   "metadata": {
    "collapsed": false
   }
  },
  {
   "cell_type": "code",
   "execution_count": 86,
   "outputs": [
    {
     "name": "stdout",
     "output_type": "stream",
     "text": [
      "<svg viewBox=\"0 0 1000 1000\" xmlns=\"http://www.w3.org/2000/svg\">\n",
      "\n",
      "<path d=\"M 50.0 100.0            A 50.0 50.0 0 1 1             100.0 50.0\" fill=\"none\" stroke=\"black\"             stroke-width=\"4\"/>\n",
      "<path d=\"M 150.0 100.0            A 50.0 50.0 0 1 1             200.0 50.0\" fill=\"none\" stroke=\"black\"             stroke-width=\"4\"/>\n",
      "<path d=\"M 200.0 50.0            A 50.0 50.0 0 1 1             250.0 100.0\" fill=\"none\" stroke=\"black\"             stroke-width=\"4\"/>\n",
      "<path d=\"M 350.0 0.0            A 50.0 50.0 0 1 0             400.0 50.0\" fill=\"none\" stroke=\"black\"             stroke-width=\"4\"/>\n",
      "<path d=\"M 400.0 50.0            A 50.0 50.0 0 1 0             450.0 0.0\" fill=\"none\" stroke=\"black\"             stroke-width=\"4\"/>\n",
      "<path d=\"M 500.0 50.0            A 50.0 50.0 0 1 0             550.0 0.0\" fill=\"none\" stroke=\"black\"             stroke-width=\"4\"/>\n",
      "<path d=\"M 600.0 50.0            A 50.0 50.0 0 1 1             650.0 100.0\" fill=\"none\" stroke=\"black\"             stroke-width=\"4\"/>\n",
      "<path d=\"M 700.0 50.0            A 50.0 50.0 0 1 0             750.0 0.0\" fill=\"none\" stroke=\"black\"             stroke-width=\"4\"/>\n",
      "<path d=\"M 800.0 50.0            A 50.0 50.0 0 1 0             850.0 0.0\" fill=\"none\" stroke=\"black\"             stroke-width=\"4\"/>\n",
      "<path d=\"M 950.0 0.0            A 50.0 50.0 0 1 0             1000.0 50.0\" fill=\"none\" stroke=\"black\"             stroke-width=\"4\"/>\n",
      "<path d=\"M 50.0 100.0            A 50.0 50.0 0 1 0             100.0 150.0\" fill=\"none\" stroke=\"black\"             stroke-width=\"4\"/>\n",
      "<path d=\"M 100.0 150.0            A 50.0 50.0 0 1 1             150.0 200.0\" fill=\"none\" stroke=\"black\"             stroke-width=\"4\"/>\n",
      "<path d=\"M 200.0 150.0            A 50.0 50.0 0 1 1             250.0 200.0\" fill=\"none\" stroke=\"black\"             stroke-width=\"4\"/>\n",
      "<path d=\"M 350.0 100.0            A 50.0 50.0 0 1 0             400.0 150.0\" fill=\"none\" stroke=\"black\"             stroke-width=\"4\"/>\n",
      "<path d=\"M 450.0 100.0            A 50.0 50.0 0 1 0             500.0 150.0\" fill=\"none\" stroke=\"black\"             stroke-width=\"4\"/>\n",
      "<path d=\"M 500.0 150.0            A 50.0 50.0 0 1 1             550.0 200.0\" fill=\"none\" stroke=\"black\"             stroke-width=\"4\"/>\n",
      "<path d=\"M 600.0 150.0            A 50.0 50.0 0 1 0             650.0 100.0\" fill=\"none\" stroke=\"black\"             stroke-width=\"4\"/>\n",
      "<path d=\"M 750.0 100.0            A 50.0 50.0 0 1 0             800.0 150.0\" fill=\"none\" stroke=\"black\"             stroke-width=\"4\"/>\n",
      "<path d=\"M 850.0 100.0            A 50.0 50.0 0 1 0             900.0 150.0\" fill=\"none\" stroke=\"black\"             stroke-width=\"4\"/>\n",
      "<path d=\"M 900.0 150.0            A 50.0 50.0 0 1 1             950.0 200.0\" fill=\"none\" stroke=\"black\"             stroke-width=\"4\"/>\n",
      "<path d=\"M 0.0 250.0            A 50.0 50.0 0 1 0             50.0 200.0\" fill=\"none\" stroke=\"black\"             stroke-width=\"4\"/>\n",
      "<path d=\"M 150.0 200.0            A 50.0 50.0 0 1 0             200.0 250.0\" fill=\"none\" stroke=\"black\"             stroke-width=\"4\"/>\n",
      "<path d=\"M 250.0 300.0            A 50.0 50.0 0 1 1             300.0 250.0\" fill=\"none\" stroke=\"black\"             stroke-width=\"4\"/>\n",
      "<path d=\"M 350.0 300.0            A 50.0 50.0 0 1 1             400.0 250.0\" fill=\"none\" stroke=\"black\"             stroke-width=\"4\"/>\n",
      "<path d=\"M 450.0 200.0            A 50.0 50.0 0 1 0             500.0 250.0\" fill=\"none\" stroke=\"black\"             stroke-width=\"4\"/>\n",
      "<path d=\"M 500.0 250.0            A 50.0 50.0 0 1 1             550.0 300.0\" fill=\"none\" stroke=\"black\"             stroke-width=\"4\"/>\n",
      "<path d=\"M 600.0 250.0            A 50.0 50.0 0 1 0             650.0 200.0\" fill=\"none\" stroke=\"black\"             stroke-width=\"4\"/>\n",
      "<path d=\"M 750.0 200.0            A 50.0 50.0 0 1 0             800.0 250.0\" fill=\"none\" stroke=\"black\"             stroke-width=\"4\"/>\n",
      "<path d=\"M 850.0 200.0            A 50.0 50.0 0 1 0             900.0 250.0\" fill=\"none\" stroke=\"black\"             stroke-width=\"4\"/>\n",
      "<path d=\"M 900.0 250.0            A 50.0 50.0 0 1 1             950.0 300.0\" fill=\"none\" stroke=\"black\"             stroke-width=\"4\"/>\n",
      "<path d=\"M 0.0 350.0            A 50.0 50.0 0 1 0             50.0 300.0\" fill=\"none\" stroke=\"black\"             stroke-width=\"4\"/>\n",
      "<path d=\"M 150.0 300.0            A 50.0 50.0 0 1 0             200.0 350.0\" fill=\"none\" stroke=\"black\"             stroke-width=\"4\"/>\n",
      "<path d=\"M 250.0 450.0            A 50.0 50.0 0 1 2             300.0 400.0\" fill=\"none\" stroke=\"black\"             stroke-width=\"4\"/>\n",
      "<path d=\"M 350.0 300.0            A 50.0 50.0 0 1 0             400.0 350.0\" fill=\"none\" stroke=\"black\"             stroke-width=\"4\"/>\n",
      "<path d=\"M 400.0 350.0            A 50.0 50.0 0 1 1             450.0 400.0\" fill=\"none\" stroke=\"black\"             stroke-width=\"4\"/>\n",
      "<path d=\"M 500.0 350.0            A 50.0 50.0 0 1 1             550.0 400.0\" fill=\"none\" stroke=\"black\"             stroke-width=\"4\"/>\n",
      "<path d=\"M 600.0 350.0            A 50.0 50.0 0 1 1             650.0 400.0\" fill=\"none\" stroke=\"black\"             stroke-width=\"4\"/>\n",
      "<path d=\"M 750.0 300.0            A 50.0 50.0 0 1 0             800.0 350.0\" fill=\"none\" stroke=\"black\"             stroke-width=\"4\"/>\n",
      "<path d=\"M 850.0 300.0            A 50.0 50.0 0 1 0             900.0 350.0\" fill=\"none\" stroke=\"black\"             stroke-width=\"4\"/>\n",
      "<path d=\"M 950.0 450.0            A 50.0 50.0 0 1 2             1000.0 400.0\" fill=\"none\" stroke=\"black\"             stroke-width=\"4\"/>\n",
      "<path d=\"M 0.0 450.0            A 50.0 50.0 0 1 1             50.0 500.0\" fill=\"none\" stroke=\"black\"             stroke-width=\"4\"/>\n",
      "<path d=\"M 150.0 500.0            A 50.0 50.0 0 1 1             200.0 450.0\" fill=\"none\" stroke=\"black\"             stroke-width=\"4\"/>\n",
      "<path d=\"M 200.0 450.0            A 50.0 50.0 0 1 0             250.0 400.0\" fill=\"none\" stroke=\"black\"             stroke-width=\"4\"/>\n",
      "<path d=\"M 300.0 450.0            A 50.0 50.0 0 1 1             350.0 500.0\" fill=\"none\" stroke=\"black\"             stroke-width=\"4\"/>\n",
      "<path d=\"M 450.0 400.0            A 50.0 50.0 0 1 0             500.0 450.0\" fill=\"none\" stroke=\"black\"             stroke-width=\"4\"/>\n",
      "<path d=\"M 550.0 500.0            A 50.0 50.0 0 1 1             600.0 450.0\" fill=\"none\" stroke=\"black\"             stroke-width=\"4\"/>\n",
      "<path d=\"M 600.0 450.0            A 50.0 50.0 0 1 1             650.0 500.0\" fill=\"none\" stroke=\"black\"             stroke-width=\"4\"/>\n",
      "<path d=\"M 700.0 450.0            A 50.0 50.0 0 1 1             750.0 500.0\" fill=\"none\" stroke=\"black\"             stroke-width=\"4\"/>\n",
      "<path d=\"M 800.0 450.0            A 50.0 50.0 0 1 0             850.0 400.0\" fill=\"none\" stroke=\"black\"             stroke-width=\"4\"/>\n",
      "<path d=\"M 900.0 450.0            A 50.0 50.0 0 1 0             950.0 400.0\" fill=\"none\" stroke=\"black\"             stroke-width=\"4\"/>\n",
      "<path d=\"M 50.0 600.0            A 50.0 50.0 0 1 1             100.0 550.0\" fill=\"none\" stroke=\"black\"             stroke-width=\"4\"/>\n",
      "<path d=\"M 150.0 600.0            A 50.0 50.0 0 1 1             200.0 550.0\" fill=\"none\" stroke=\"black\"             stroke-width=\"4\"/>\n",
      "<path d=\"M 250.0 500.0            A 50.0 50.0 0 1 0             300.0 550.0\" fill=\"none\" stroke=\"black\"             stroke-width=\"4\"/>\n",
      "<path d=\"M 300.0 550.0            A 50.0 50.0 0 1 0             350.0 500.0\" fill=\"none\" stroke=\"black\"             stroke-width=\"4\"/>\n",
      "<path d=\"M 450.0 600.0            A 50.0 50.0 0 1 1             500.0 550.0\" fill=\"none\" stroke=\"black\"             stroke-width=\"4\"/>\n",
      "<path d=\"M 550.0 500.0            A 50.0 50.0 0 1 0             600.0 550.0\" fill=\"none\" stroke=\"black\"             stroke-width=\"4\"/>\n",
      "<path d=\"M 600.0 550.0            A 50.0 50.0 0 1 0             650.0 500.0\" fill=\"none\" stroke=\"black\"             stroke-width=\"4\"/>\n",
      "<path d=\"M 750.0 650.0            A 50.0 50.0 0 1 2             800.0 600.0\" fill=\"none\" stroke=\"black\"             stroke-width=\"4\"/>\n",
      "<path d=\"M 850.0 600.0            A 50.0 50.0 0 1 1             900.0 550.0\" fill=\"none\" stroke=\"black\"             stroke-width=\"4\"/>\n",
      "<path d=\"M 900.0 550.0            A 50.0 50.0 0 1 0             950.0 500.0\" fill=\"none\" stroke=\"black\"             stroke-width=\"4\"/>\n",
      "<path d=\"M 50.0 700.0            A 50.0 50.0 0 1 1             100.0 650.0\" fill=\"none\" stroke=\"black\"             stroke-width=\"4\"/>\n",
      "<path d=\"M 150.0 750.0            A 50.0 50.0 0 1 2             200.0 700.0\" fill=\"none\" stroke=\"black\"             stroke-width=\"4\"/>\n",
      "<path d=\"M 250.0 700.0            A 50.0 50.0 0 1 1             300.0 650.0\" fill=\"none\" stroke=\"black\"             stroke-width=\"4\"/>\n",
      "<path d=\"M 300.0 650.0            A 50.0 50.0 0 1 0             350.0 600.0\" fill=\"none\" stroke=\"black\"             stroke-width=\"4\"/>\n",
      "<path d=\"M 450.0 600.0            A 50.0 50.0 0 1 0             500.0 650.0\" fill=\"none\" stroke=\"black\"             stroke-width=\"4\"/>\n",
      "<path d=\"M 500.0 650.0            A 50.0 50.0 0 1 1             550.0 700.0\" fill=\"none\" stroke=\"black\"             stroke-width=\"4\"/>\n",
      "<path d=\"M 600.0 650.0            A 50.0 50.0 0 1 0             650.0 600.0\" fill=\"none\" stroke=\"black\"             stroke-width=\"4\"/>\n",
      "<path d=\"M 750.0 700.0            A 50.0 50.0 0 1 1             800.0 650.0\" fill=\"none\" stroke=\"black\"             stroke-width=\"4\"/>\n",
      "<path d=\"M 850.0 600.0            A 50.0 50.0 0 1 0             900.0 650.0\" fill=\"none\" stroke=\"black\"             stroke-width=\"4\"/>\n",
      "<path d=\"M 950.0 700.0            A 50.0 50.0 0 1 1             1000.0 650.0\" fill=\"none\" stroke=\"black\"             stroke-width=\"4\"/>\n",
      "<path d=\"M 0.0 750.0            A 50.0 50.0 0 1 0             50.0 700.0\" fill=\"none\" stroke=\"black\"             stroke-width=\"4\"/>\n",
      "<path d=\"M 150.0 800.0            A 50.0 50.0 0 1 1             200.0 750.0\" fill=\"none\" stroke=\"black\"             stroke-width=\"4\"/>\n",
      "<path d=\"M 200.0 750.0            A 50.0 50.0 0 1 1             250.0 800.0\" fill=\"none\" stroke=\"black\"             stroke-width=\"4\"/>\n",
      "<path d=\"M 300.0 750.0            A 50.0 50.0 0 1 0             350.0 700.0\" fill=\"none\" stroke=\"black\"             stroke-width=\"4\"/>\n",
      "<path d=\"M 450.0 850.0            A 50.0 50.0 0 1 2             500.0 800.0\" fill=\"none\" stroke=\"black\"             stroke-width=\"4\"/>\n",
      "<path d=\"M 500.0 750.0            A 50.0 50.0 0 1 0             550.0 700.0\" fill=\"none\" stroke=\"black\"             stroke-width=\"4\"/>\n",
      "<path d=\"M 600.0 750.0            A 50.0 50.0 0 1 1             650.0 800.0\" fill=\"none\" stroke=\"black\"             stroke-width=\"4\"/>\n",
      "<path d=\"M 750.0 700.0            A 50.0 50.0 0 1 0             800.0 750.0\" fill=\"none\" stroke=\"black\"             stroke-width=\"4\"/>\n",
      "<path d=\"M 800.0 750.0            A 50.0 50.0 0 1 1             850.0 800.0\" fill=\"none\" stroke=\"black\"             stroke-width=\"4\"/>\n",
      "<path d=\"M 950.0 850.0            A 50.0 50.0 0 1 2             1000.0 800.0\" fill=\"none\" stroke=\"black\"             stroke-width=\"4\"/>\n",
      "<path d=\"M 50.0 900.0            A 50.0 50.0 0 1 1             100.0 850.0\" fill=\"none\" stroke=\"black\"             stroke-width=\"4\"/>\n",
      "<path d=\"M 150.0 800.0            A 50.0 50.0 0 1 0             200.0 850.0\" fill=\"none\" stroke=\"black\"             stroke-width=\"4\"/>\n",
      "<path d=\"M 250.0 950.0            A 50.0 50.0 0 1 2             300.0 900.0\" fill=\"none\" stroke=\"black\"             stroke-width=\"4\"/>\n",
      "<path d=\"M 350.0 800.0            A 50.0 50.0 0 1 0             400.0 850.0\" fill=\"none\" stroke=\"black\"             stroke-width=\"4\"/>\n",
      "<path d=\"M 450.0 900.0            A 50.0 50.0 0 1 1             500.0 850.0\" fill=\"none\" stroke=\"black\"             stroke-width=\"4\"/>\n",
      "<path d=\"M 550.0 800.0            A 50.0 50.0 0 1 0             600.0 850.0\" fill=\"none\" stroke=\"black\"             stroke-width=\"4\"/>\n",
      "<path d=\"M 600.0 850.0            A 50.0 50.0 0 1 1             650.0 900.0\" fill=\"none\" stroke=\"black\"             stroke-width=\"4\"/>\n",
      "<path d=\"M 750.0 800.0            A 50.0 50.0 0 1 0             800.0 850.0\" fill=\"none\" stroke=\"black\"             stroke-width=\"4\"/>\n",
      "<path d=\"M 850.0 800.0            A 50.0 50.0 0 1 0             900.0 850.0\" fill=\"none\" stroke=\"black\"             stroke-width=\"4\"/>\n",
      "<path d=\"M 950.0 800.0            A 50.0 50.0 0 1 0             1000.0 850.0\" fill=\"none\" stroke=\"black\"             stroke-width=\"4\"/>\n",
      "<path d=\"M 0.0 950.0            A 50.0 50.0 0 1 1             50.0 1000.0\" fill=\"none\" stroke=\"black\"             stroke-width=\"4\"/>\n",
      "<path d=\"M 150.0 1050.0            A 50.0 50.0 0 1 2             200.0 1000.0\" fill=\"none\" stroke=\"black\"             stroke-width=\"4\"/>\n",
      "<path d=\"M 250.0 900.0            A 50.0 50.0 0 1 0             300.0 950.0\" fill=\"none\" stroke=\"black\"             stroke-width=\"4\"/>\n",
      "<path d=\"M 350.0 900.0            A 50.0 50.0 0 1 0             400.0 950.0\" fill=\"none\" stroke=\"black\"             stroke-width=\"4\"/>\n",
      "<path d=\"M 450.0 900.0            A 50.0 50.0 0 1 0             500.0 950.0\" fill=\"none\" stroke=\"black\"             stroke-width=\"4\"/>\n",
      "<path d=\"M 550.0 900.0            A 50.0 50.0 0 1 0             600.0 950.0\" fill=\"none\" stroke=\"black\"             stroke-width=\"4\"/>\n",
      "<path d=\"M 650.0 1000.0            A 50.0 50.0 0 1 1             700.0 950.0\" fill=\"none\" stroke=\"black\"             stroke-width=\"4\"/>\n",
      "<path d=\"M 750.0 900.0            A 50.0 50.0 0 1 0             800.0 950.0\" fill=\"none\" stroke=\"black\"             stroke-width=\"4\"/>\n",
      "<path d=\"M 800.0 950.0            A 50.0 50.0 0 1 0             850.0 900.0\" fill=\"none\" stroke=\"black\"             stroke-width=\"4\"/>\n",
      "<path d=\"M 950.0 900.0            A 50.0 50.0 0 1 0             1000.0 950.0\" fill=\"none\" stroke=\"black\"             stroke-width=\"4\"/>\n",
      "</svg>\n"
     ]
    }
   ],
   "source": [
    "#draw a quarter of a square (symmetry coming)\n",
    "import random\n",
    "\n",
    "class Curve:\n",
    "    def __init__(self,num,x,y,r,stroke,large_a_f=0,small_a_f=0,end_x=0,end_y=0):\n",
    "        self.stroke = stroke\n",
    "        self.start_x=x\n",
    "        self.start_y=y\n",
    "        self.r=r\n",
    "        self.large_a_f = large_a_f\n",
    "        self.small_a_f = small_a_f\n",
    "        self.end_x = end_x\n",
    "        self.end_y = end_y\n",
    "\n",
    "    def get_path(self):\n",
    "        return f'<path d=\"M {self.start_x} {self.start_y}\\\n",
    "            A {self.r} {self.r} 0 {self.large_a_f} {self.small_a_f} \\\n",
    "            {self.end_x} {self.end_y}\" fill=\"none\" stroke=\"black\" \\\n",
    "            stroke-width=\"{self.stroke}\"/>'\n",
    "\n",
    "def main(num,imageSize):\n",
    "    header = f'<svg viewBox=\"0 0 {imageSize} {imageSize}\" xmlns=\"http://www.w3.org/2000/svg\">\\n'\n",
    "    footer = f'</svg>'\n",
    "    grid = {}\n",
    "    c_size = imageSize/num\n",
    "    print(header)\n",
    "    for r in range(num):\n",
    "        for c in range(num):\n",
    "            n = random.randint(0,4)\n",
    "            s = 4\n",
    "            rad = c_size/2\n",
    "            twos = n//2\n",
    "            ones = n%2\n",
    "\n",
    "            x = c * c_size + (rad * int(twos != ones))\n",
    "            y = r * c_size + rad + (rad * twos) - (rad * ones)\n",
    "            end_x=c * c_size + rad + (rad * int(twos != ones))\n",
    "            end_y=r * c_size + (rad * int(ones)) + (rad * int(twos))\n",
    "            large_a_f = 1\n",
    "            small_a_f = 1 * twos\n",
    "\n",
    "\n",
    "            curve = Curve(n,x,y,rad,s,large_a_f,small_a_f,end_x,end_y)\n",
    "            grid[(r,c)] =curve\n",
    "            print(curve.get_path())\n",
    "\n",
    "\n",
    "    print(footer)\n",
    "\n",
    "main(10,1000)\n"
   ],
   "metadata": {
    "collapsed": false
   }
  },
  {
   "cell_type": "markdown",
   "source": [
    "#  SVG Animation"
   ],
   "metadata": {
    "collapsed": false
   }
  },
  {
   "cell_type": "code",
   "execution_count": 91,
   "outputs": [
    {
     "data": {
      "text/plain": "<IPython.core.display.HTML object>",
      "text/html": "<circle cx=\"50\" cy=\"50\" r=\"50\" fill=\"red\" /><animate attributeName=\"stroke-dashoffset\" from=\"0\" to=\"1000\" dur=\"1s\" repeatCount=\"indefinite\" />"
     },
     "metadata": {},
     "output_type": "display_data"
    }
   ],
   "source": [
    "# Show SVG animation in jupyter notebook using IPython.display\n",
    "from IPython.display import HTML\n",
    "from IPython.display import display\n",
    "\n",
    "# Create an animation\n",
    "def create_animation(svg, duration=1, repeatCount='indefinite'):\n",
    "    \"\"\"Create an animation from the given SVG.\"\"\"\n",
    "    # Create the animation\n",
    "    animation = f'<animate attributeName=\"stroke-dashoffset\" from=\"0\" to=\"1000\" dur=\"{duration}s\" repeatCount=\"{repeatCount}\" />'\n",
    "    # Insert the animation into the SVG\n",
    "    svg = svg.replace('>', f'>{animation}')\n",
    "    return svg\n",
    "\n",
    "# Show the animation\n",
    "def show_animation(svg, duration=1, repeatCount='indefinite'):\n",
    "    \"\"\"Show the animation in the notebook.\"\"\"\n",
    "    # Create the animation\n",
    "    animation = create_animation(svg, duration, repeatCount)\n",
    "    # Show the animation\n",
    "    display(HTML(animation))\n",
    "\n",
    "# Create the SVG\n",
    "svg = draw_circle(50, 50, 50, 'red')\n",
    "# Show the animation\n",
    "show_animation(svg, duration=1, repeatCount='indefinite')\n"
   ],
   "metadata": {
    "collapsed": false
   }
  },
  {
   "cell_type": "markdown",
   "source": [
    "# Interactive Widget"
   ],
   "metadata": {
    "collapsed": false
   }
  },
  {
   "cell_type": "code",
   "execution_count": 79,
   "outputs": [
    {
     "ename": "ModuleNotFoundError",
     "evalue": "No module named 'drawsvg'",
     "output_type": "error",
     "traceback": [
      "\u001B[0;31m---------------------------------------------------------------------------\u001B[0m",
      "\u001B[0;31mModuleNotFoundError\u001B[0m                       Traceback (most recent call last)",
      "Cell \u001B[0;32mIn[79], line 1\u001B[0m\n\u001B[0;32m----> 1\u001B[0m \u001B[38;5;28;01mimport\u001B[39;00m \u001B[38;5;21;01mdrawsvg\u001B[39;00m \u001B[38;5;28;01mas\u001B[39;00m \u001B[38;5;21;01mdraw\u001B[39;00m\n\u001B[1;32m      2\u001B[0m \u001B[38;5;28;01mfrom\u001B[39;00m \u001B[38;5;21;01mdrawsvg\u001B[39;00m\u001B[38;5;21;01m.\u001B[39;00m\u001B[38;5;21;01mwidgets\u001B[39;00m \u001B[38;5;28;01mimport\u001B[39;00m DrawingWidget\n\u001B[1;32m      3\u001B[0m \u001B[38;5;28;01mimport\u001B[39;00m \u001B[38;5;21;01mhyperbolic\u001B[39;00m\u001B[38;5;21;01m.\u001B[39;00m\u001B[38;5;21;01mpoincare\u001B[39;00m \u001B[38;5;28;01mas\u001B[39;00m \u001B[38;5;21;01mhyper\u001B[39;00m  \u001B[38;5;66;03m# python3 -m pip install hyperbolic\u001B[39;00m\n",
      "\u001B[0;31mModuleNotFoundError\u001B[0m: No module named 'drawsvg'"
     ]
    }
   ],
   "source": [
    "import drawsvg as draw\n",
    "from drawsvg.widgets import DrawingWidget\n",
    "import hyperbolic.poincare as hyper  # python3 -m pip install hyperbolic\n",
    "from hyperbolic import euclid\n",
    "\n",
    "# Create drawing\n",
    "d = draw.Drawing(2, 2, origin='center', context=draw.Context(invert_y=True))\n",
    "d.set_render_size(500)\n",
    "d.append(draw.Circle(0, 0, 1, fill='orange'))\n",
    "group = draw.Group()\n",
    "d.append(group)\n",
    "\n",
    "# Update the drawing based on user input\n",
    "click_list = []\n",
    "def redraw(points):\n",
    "    group.children.clear()\n",
    "    for x1, y1 in points:\n",
    "        for x2, y2 in points:\n",
    "            if (x1, y1) == (x2, y2): continue\n",
    "            p1 = hyper.Point.from_euclid(x1, y1)\n",
    "            p2 = hyper.Point.from_euclid(x2, y2)\n",
    "            if p1.distance_to(p2) <= 2:\n",
    "                line = hyper.Line.from_points(*p1, *p2, segment=True)\n",
    "                group.draw(line, hwidth=0.2, fill='white')\n",
    "    for x, y in points:\n",
    "        p = hyper.Point.from_euclid(x, y)\n",
    "        group.draw(hyper.Circle.from_center_radius(p, 0.1),\n",
    "                   fill='green')\n",
    "redraw(click_list)\n",
    "\n",
    "# Create interactive widget and register mouse events\n",
    "widget = DrawingWidget(d)\n",
    "@widget.mousedown\n",
    "def mousedown(widget, x, y, info):\n",
    "    if (x**2 + y**2) ** 0.5 + 1e-5 < 1:\n",
    "        click_list.append((x, y))\n",
    "    redraw(click_list)\n",
    "    widget.refresh()\n",
    "@widget.mousemove\n",
    "def mousemove(widget, x, y, info):\n",
    "    if (x**2 + y**2) ** 0.5 + 1e-5 < 1:\n",
    "        redraw(click_list + [(x, y)])\n",
    "    widget.refresh()\n",
    "widget"
   ],
   "metadata": {
    "collapsed": false
   }
  },
  {
   "cell_type": "code",
   "execution_count": null,
   "outputs": [],
   "source": [],
   "metadata": {
    "collapsed": false
   }
  }
 ],
 "metadata": {
  "kernelspec": {
   "display_name": "Python 3",
   "language": "python",
   "name": "python3"
  },
  "language_info": {
   "codemirror_mode": {
    "name": "ipython",
    "version": 2
   },
   "file_extension": ".py",
   "mimetype": "text/x-python",
   "name": "python",
   "nbconvert_exporter": "python",
   "pygments_lexer": "ipython2",
   "version": "2.7.6"
  }
 },
 "nbformat": 4,
 "nbformat_minor": 0
}
