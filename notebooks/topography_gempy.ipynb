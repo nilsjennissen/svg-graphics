{
 "cells": [
  {
   "cell_type": "code",
   "execution_count": 18,
   "metadata": {
    "collapsed": false,
    "ExecuteTime": {
     "start_time": "2023-04-17T13:16:11.655545Z",
     "end_time": "2023-04-17T13:16:12.318569Z"
    }
   },
   "outputs": [],
   "source": [
    "%matplotlib inline\n",
    "from pyvista import set_plot_theme\n",
    "set_plot_theme('document')"
   ]
  },
  {
   "cell_type": "markdown",
   "metadata": {},
   "source": [
    "\n",
    "# 1.3c: Adding topography to geological models\n",
    "https://docs.gempy.org/tutorials/ch1_fundamentals/ch1_3c_topography.html\n"
   ]
  },
  {
   "cell_type": "code",
   "execution_count": 17,
   "metadata": {
    "collapsed": false,
    "ExecuteTime": {
     "start_time": "2023-04-17T13:18:56.015760Z",
     "end_time": "2023-04-17T13:18:56.019942Z"
    }
   },
   "outputs": [],
   "source": [
    "\n",
    "#import numpy as np\n",
    "import matplotlib.pyplot as plt\n",
    "import os"
   ]
  },
  {
   "cell_type": "code",
   "execution_count": 13,
   "outputs": [
    {
     "name": "stdout",
     "output_type": "stream",
     "text": [
      "\n",
      "You can find the C code in this temporary file: /var/folders/sl/c5pyww8j61j6_9_z4twp2ygc0000gn/T/theano_compilation_error_ex21m_ky\n"
     ]
    },
    {
     "ename": "AttributeError",
     "evalue": "partially initialized module 'theano' has no attribute 'gof' (most likely due to a circular import)",
     "output_type": "error",
     "traceback": [
      "\u001B[0;31m---------------------------------------------------------------------------\u001B[0m",
      "\u001B[0;31mImportError\u001B[0m                               Traceback (most recent call last)",
      "File \u001B[0;32m~/.conda/envs/svg-graphics/lib/python3.10/site-packages/theano/gof/lazylinker_c.py:76\u001B[0m\n\u001B[1;32m     75\u001B[0m         \u001B[38;5;28;01mif\u001B[39;00m version \u001B[38;5;241m!=\u001B[39m actual_version:\n\u001B[0;32m---> 76\u001B[0m             \u001B[38;5;28;01mraise\u001B[39;00m \u001B[38;5;167;01mImportError\u001B[39;00m(\n\u001B[1;32m     77\u001B[0m                 \u001B[38;5;124m\"\u001B[39m\u001B[38;5;124mVersion check of the existing lazylinker compiled file.\u001B[39m\u001B[38;5;124m\"\u001B[39m\n\u001B[1;32m     78\u001B[0m                 \u001B[38;5;124m\"\u001B[39m\u001B[38;5;124m Looking for version \u001B[39m\u001B[38;5;132;01m%s\u001B[39;00m\u001B[38;5;124m, but found \u001B[39m\u001B[38;5;132;01m%s\u001B[39;00m\u001B[38;5;124m. \u001B[39m\u001B[38;5;124m\"\u001B[39m\n\u001B[1;32m     79\u001B[0m                 \u001B[38;5;124m\"\u001B[39m\u001B[38;5;124mExtra debug information: force_compile=\u001B[39m\u001B[38;5;132;01m%s\u001B[39;00m\u001B[38;5;124m, _need_reload=\u001B[39m\u001B[38;5;132;01m%s\u001B[39;00m\u001B[38;5;124m\"\u001B[39m \u001B[38;5;241m%\u001B[39m (\n\u001B[1;32m     80\u001B[0m                     version,\n\u001B[1;32m     81\u001B[0m                     actual_version, force_compile, _need_reload))\n\u001B[1;32m     82\u001B[0m \u001B[38;5;28;01mexcept\u001B[39;00m \u001B[38;5;167;01mImportError\u001B[39;00m:\n",
      "\u001B[0;31mImportError\u001B[0m: Version check of the existing lazylinker compiled file. Looking for version 0.211, but found None. Extra debug information: force_compile=False, _need_reload=True",
      "\nDuring handling of the above exception, another exception occurred:\n",
      "\u001B[0;31mImportError\u001B[0m                               Traceback (most recent call last)",
      "File \u001B[0;32m~/.conda/envs/svg-graphics/lib/python3.10/site-packages/theano/gof/lazylinker_c.py:99\u001B[0m\n\u001B[1;32m     98\u001B[0m     \u001B[38;5;28;01mif\u001B[39;00m version \u001B[38;5;241m!=\u001B[39m actual_version:\n\u001B[0;32m---> 99\u001B[0m         \u001B[38;5;28;01mraise\u001B[39;00m \u001B[38;5;167;01mImportError\u001B[39;00m(\n\u001B[1;32m    100\u001B[0m             \u001B[38;5;124m\"\u001B[39m\u001B[38;5;124mVersion check of the existing lazylinker compiled file.\u001B[39m\u001B[38;5;124m\"\u001B[39m\n\u001B[1;32m    101\u001B[0m             \u001B[38;5;124m\"\u001B[39m\u001B[38;5;124m Looking for version \u001B[39m\u001B[38;5;132;01m%s\u001B[39;00m\u001B[38;5;124m, but found \u001B[39m\u001B[38;5;132;01m%s\u001B[39;00m\u001B[38;5;124m. \u001B[39m\u001B[38;5;124m\"\u001B[39m\n\u001B[1;32m    102\u001B[0m             \u001B[38;5;124m\"\u001B[39m\u001B[38;5;124mExtra debug information: force_compile=\u001B[39m\u001B[38;5;132;01m%s\u001B[39;00m\u001B[38;5;124m,\u001B[39m\u001B[38;5;124m\"\u001B[39m\n\u001B[1;32m    103\u001B[0m             \u001B[38;5;124m\"\u001B[39m\u001B[38;5;124m _need_reload=\u001B[39m\u001B[38;5;132;01m%s\u001B[39;00m\u001B[38;5;124m\"\u001B[39m \u001B[38;5;241m%\u001B[39m (\n\u001B[1;32m    104\u001B[0m                 version,\n\u001B[1;32m    105\u001B[0m                 actual_version, force_compile, _need_reload))\n\u001B[1;32m    106\u001B[0m \u001B[38;5;28;01mexcept\u001B[39;00m \u001B[38;5;167;01mImportError\u001B[39;00m:\n\u001B[1;32m    107\u001B[0m     \u001B[38;5;66;03m# It is useless to try to compile if there isn't any\u001B[39;00m\n\u001B[1;32m    108\u001B[0m     \u001B[38;5;66;03m# compiler!  But we still want to try to load it, in case\u001B[39;00m\n\u001B[1;32m    109\u001B[0m     \u001B[38;5;66;03m# the cache was copied from another computer.\u001B[39;00m\n",
      "\u001B[0;31mImportError\u001B[0m: Version check of the existing lazylinker compiled file. Looking for version 0.211, but found None. Extra debug information: force_compile=False, _need_reload=True",
      "\nDuring handling of the above exception, another exception occurred:\n",
      "\u001B[0;31mException\u001B[0m                                 Traceback (most recent call last)",
      "File \u001B[0;32m~/.conda/envs/svg-graphics/lib/python3.10/site-packages/theano/gof/vm.py:674\u001B[0m\n\u001B[1;32m    673\u001B[0m     \u001B[38;5;28;01mraise\u001B[39;00m theano\u001B[38;5;241m.\u001B[39mgof\u001B[38;5;241m.\u001B[39mcmodule\u001B[38;5;241m.\u001B[39mMissingGXX(\u001B[38;5;124m'\u001B[39m\u001B[38;5;124mlazylinker will not be imported if theano.config.cxx is not set.\u001B[39m\u001B[38;5;124m'\u001B[39m)\n\u001B[0;32m--> 674\u001B[0m \u001B[38;5;28;01mfrom\u001B[39;00m \u001B[38;5;21;01m.\u001B[39;00m \u001B[38;5;28;01mimport\u001B[39;00m lazylinker_c\n\u001B[1;32m    676\u001B[0m \u001B[38;5;28;01mclass\u001B[39;00m \u001B[38;5;21;01mCVM\u001B[39;00m(lazylinker_c\u001B[38;5;241m.\u001B[39mCLazyLinker, VM):\n",
      "File \u001B[0;32m~/.conda/envs/svg-graphics/lib/python3.10/site-packages/theano/gof/lazylinker_c.py:139\u001B[0m\n\u001B[1;32m    138\u001B[0m args \u001B[38;5;241m=\u001B[39m cmodule\u001B[38;5;241m.\u001B[39mGCC_compiler\u001B[38;5;241m.\u001B[39mcompile_args()\n\u001B[0;32m--> 139\u001B[0m \u001B[43mcmodule\u001B[49m\u001B[38;5;241;43m.\u001B[39;49m\u001B[43mGCC_compiler\u001B[49m\u001B[38;5;241;43m.\u001B[39;49m\u001B[43mcompile_str\u001B[49m\u001B[43m(\u001B[49m\u001B[43mdirname\u001B[49m\u001B[43m,\u001B[49m\u001B[43m \u001B[49m\u001B[43mcode\u001B[49m\u001B[43m,\u001B[49m\u001B[43m \u001B[49m\u001B[43mlocation\u001B[49m\u001B[38;5;241;43m=\u001B[39;49m\u001B[43mloc\u001B[49m\u001B[43m,\u001B[49m\n\u001B[1;32m    140\u001B[0m \u001B[43m                                 \u001B[49m\u001B[43mpreargs\u001B[49m\u001B[38;5;241;43m=\u001B[39;49m\u001B[43margs\u001B[49m\u001B[43m)\u001B[49m\n\u001B[1;32m    141\u001B[0m \u001B[38;5;66;03m# Save version into the __init__.py file.\u001B[39;00m\n",
      "File \u001B[0;32m~/.conda/envs/svg-graphics/lib/python3.10/site-packages/theano/gof/cmodule.py:2410\u001B[0m, in \u001B[0;36mGCC_compiler.compile_str\u001B[0;34m(module_name, src_code, location, include_dirs, lib_dirs, libs, preargs, py_module, hide_symbols)\u001B[0m\n\u001B[1;32m   2407\u001B[0m     \u001B[38;5;66;03m# We replace '\\n' by '. ' in the error message because when Python\u001B[39;00m\n\u001B[1;32m   2408\u001B[0m     \u001B[38;5;66;03m# prints the exception, having '\\n' in the text makes it more\u001B[39;00m\n\u001B[1;32m   2409\u001B[0m     \u001B[38;5;66;03m# difficult to read.\u001B[39;00m\n\u001B[0;32m-> 2410\u001B[0m     \u001B[38;5;28;01mraise\u001B[39;00m \u001B[38;5;167;01mException\u001B[39;00m(\u001B[38;5;124m'\u001B[39m\u001B[38;5;124mCompilation failed (return status=\u001B[39m\u001B[38;5;132;01m%s\u001B[39;00m\u001B[38;5;124m): \u001B[39m\u001B[38;5;132;01m%s\u001B[39;00m\u001B[38;5;124m'\u001B[39m \u001B[38;5;241m%\u001B[39m\n\u001B[1;32m   2411\u001B[0m                     (status, compile_stderr\u001B[38;5;241m.\u001B[39mreplace(\u001B[38;5;124m'\u001B[39m\u001B[38;5;130;01m\\n\u001B[39;00m\u001B[38;5;124m'\u001B[39m, \u001B[38;5;124m'\u001B[39m\u001B[38;5;124m. \u001B[39m\u001B[38;5;124m'\u001B[39m)))\n\u001B[1;32m   2412\u001B[0m \u001B[38;5;28;01melif\u001B[39;00m config\u001B[38;5;241m.\u001B[39mcmodule\u001B[38;5;241m.\u001B[39mcompilation_warning \u001B[38;5;129;01mand\u001B[39;00m compile_stderr:\n\u001B[1;32m   2413\u001B[0m     \u001B[38;5;66;03m# Print errors just below the command line.\u001B[39;00m\n",
      "\u001B[0;31mException\u001B[0m: Compilation failed (return status=1): In file included from /Users/nilsjennissen/.theano/compiledir_macOS-13.2.1-x86_64-i386-64bit-i386-3.10.10-64/lazylinker_ext/mod.cpp:1:. /Users/nilsjennissen/.conda/envs/svg-graphics/include/python3.10/Python.h:27:5: error: \"Python.h requires that stdio.h define NULL.\". #   error \"Python.h requires that stdio.h define NULL.\".     ^. In file included from /Users/nilsjennissen/.theano/compiledir_macOS-13.2.1-x86_64-i386-64bit-i386-3.10.10-64/lazylinker_ext/mod.cpp:1:. In file included from /Users/nilsjennissen/.conda/envs/svg-graphics/include/python3.10/Python.h:30:. /Users/nilsjennissen/.conda/envs/svg-graphics/bin/../include/c++/v1/string.h:95:102: error: unknown type name 'size_t'. inline _LIBCPP_HIDE_FROM_ABI _LIBCPP_PREFERRED_OVERLOAD const void* memchr(const void* __s, int __c, size_t __n) {.                                                                                                      ^. /Users/nilsjennissen/.conda/envs/svg-graphics/bin/../include/c++/v1/string.h:98:90: error: unknown type name 'size_t'. inline _LIBCPP_HIDE_FROM_ABI _LIBCPP_PREFERRED_OVERLOAD void* memchr(void* __s, int __c, size_t __n) {.                                                                                          ^. In file included from /Users/nilsjennissen/.theano/compiledir_macOS-13.2.1-x86_64-i386-64bit-i386-3.10.10-64/lazylinker_ext/mod.cpp:1:. In file included from /Users/nilsjennissen/.conda/envs/svg-graphics/include/python3.10/Python.h:34:. /Users/nilsjennissen/.conda/envs/svg-graphics/bin/../include/c++/v1/stdlib.h:150:34: error: unknown type name 'ldiv_t'. inline _LIBCPP_INLINE_VISIBILITY ldiv_t div(long __x, long __y) _NOEXCEPT {.                                  ^. /Users/nilsjennissen/.conda/envs/svg-graphics/bin/../include/c++/v1/stdlib.h:151:12: error: no member named 'ldiv' in the global namespace.   return ::ldiv(__x, __y);.          ~~^. /Users/nilsjennissen/.conda/envs/svg-graphics/bin/../include/c++/v1/stdlib.h:154:34: error: unknown type name 'lldiv_t'. inline _LIBCPP_INLINE_VISIBILITY lldiv_t div(long long __x,.                                  ^. /Users/nilsjennissen/.conda/envs/svg-graphics/bin/../include/c++/v1/stdlib.h:156:12: error: no member named 'lldiv' in the global namespace.   return ::lldiv(__x, __y);.          ~~^. In file included from /Users/nilsjennissen/.theano/compiledir_macOS-13.2.1-x86_64-i386-64bit-i386-3.10.10-64/lazylinker_ext/mod.cpp:1:. /Users/nilsjennissen/.conda/envs/svg-graphics/include/python3.10/Python.h:36:10: fatal error: 'unistd.h' file not found. #include <unistd.h>.          ^~~~~~~~~~. 8 errors generated.. ",
      "\nDuring handling of the above exception, another exception occurred:\n",
      "\u001B[0;31mAttributeError\u001B[0m                            Traceback (most recent call last)",
      "Cell \u001B[0;32mIn[13], line 1\u001B[0m\n\u001B[0;32m----> 1\u001B[0m \u001B[38;5;28;01mimport\u001B[39;00m \u001B[38;5;21;01mgempy\u001B[39;00m \u001B[38;5;28;01mas\u001B[39;00m \u001B[38;5;21;01mgp\u001B[39;00m\n",
      "File \u001B[0;32m~/.conda/envs/svg-graphics/lib/python3.10/site-packages/gempy/__init__.py:24\u001B[0m\n\u001B[1;32m     20\u001B[0m SCRIPT_DIR \u001B[38;5;241m=\u001B[39m os\u001B[38;5;241m.\u001B[39mpath\u001B[38;5;241m.\u001B[39mdirname(os\u001B[38;5;241m.\u001B[39mpath\u001B[38;5;241m.\u001B[39mrealpath(os\u001B[38;5;241m.\u001B[39mpath\u001B[38;5;241m.\u001B[39mjoin(os\u001B[38;5;241m.\u001B[39mgetcwd(), os\u001B[38;5;241m.\u001B[39mpath\u001B[38;5;241m.\u001B[39mexpanduser(\u001B[38;5;18m__file__\u001B[39m))))\n\u001B[1;32m     21\u001B[0m sys\u001B[38;5;241m.\u001B[39mpath\u001B[38;5;241m.\u001B[39mappend(os\u001B[38;5;241m.\u001B[39mpath\u001B[38;5;241m.\u001B[39mnormpath(os\u001B[38;5;241m.\u001B[39mpath\u001B[38;5;241m.\u001B[39mjoin(SCRIPT_DIR, PACKAGE_PARENT)))\n\u001B[0;32m---> 24\u001B[0m \u001B[38;5;28;01mfrom\u001B[39;00m \u001B[38;5;21;01mgempy\u001B[39;00m\u001B[38;5;21;01m.\u001B[39;00m\u001B[38;5;21;01mgempy_api\u001B[39;00m \u001B[38;5;28;01mimport\u001B[39;00m \u001B[38;5;241m*\u001B[39m\n\u001B[1;32m     25\u001B[0m \u001B[38;5;28;01mfrom\u001B[39;00m \u001B[38;5;21;01mgempy\u001B[39;00m\u001B[38;5;21;01m.\u001B[39;00m\u001B[38;5;21;01mapi_modules\u001B[39;00m\u001B[38;5;21;01m.\u001B[39;00m\u001B[38;5;21;01mgetters\u001B[39;00m \u001B[38;5;28;01mimport\u001B[39;00m \u001B[38;5;241m*\u001B[39m\n\u001B[1;32m     26\u001B[0m \u001B[38;5;28;01mfrom\u001B[39;00m \u001B[38;5;21;01mgempy\u001B[39;00m\u001B[38;5;21;01m.\u001B[39;00m\u001B[38;5;21;01mapi_modules\u001B[39;00m\u001B[38;5;21;01m.\u001B[39;00m\u001B[38;5;21;01msetters\u001B[39;00m \u001B[38;5;28;01mimport\u001B[39;00m \u001B[38;5;241m*\u001B[39m\n",
      "File \u001B[0;32m~/.conda/envs/svg-graphics/lib/python3.10/site-packages/gempy/gempy_api.py:17\u001B[0m\n\u001B[1;32m     15\u001B[0m \u001B[38;5;28;01mfrom\u001B[39;00m \u001B[38;5;21;01mtyping\u001B[39;00m \u001B[38;5;28;01mimport\u001B[39;00m Union\n\u001B[1;32m     16\u001B[0m \u001B[38;5;28;01mimport\u001B[39;00m \u001B[38;5;21;01mwarnings\u001B[39;00m\n\u001B[0;32m---> 17\u001B[0m \u001B[38;5;28;01mfrom\u001B[39;00m \u001B[38;5;21;01mgempy\u001B[39;00m\u001B[38;5;21;01m.\u001B[39;00m\u001B[38;5;21;01mcore\u001B[39;00m\u001B[38;5;21;01m.\u001B[39;00m\u001B[38;5;21;01mmodel\u001B[39;00m \u001B[38;5;28;01mimport\u001B[39;00m Project\n\u001B[1;32m     18\u001B[0m \u001B[38;5;28;01mfrom\u001B[39;00m \u001B[38;5;21;01mgempy\u001B[39;00m\u001B[38;5;21;01m.\u001B[39;00m\u001B[38;5;21;01mcore\u001B[39;00m\u001B[38;5;21;01m.\u001B[39;00m\u001B[38;5;21;01msolution\u001B[39;00m \u001B[38;5;28;01mimport\u001B[39;00m Solution\n\u001B[1;32m     19\u001B[0m \u001B[38;5;28;01mfrom\u001B[39;00m \u001B[38;5;21;01mgempy\u001B[39;00m\u001B[38;5;21;01m.\u001B[39;00m\u001B[38;5;21;01mutils\u001B[39;00m\u001B[38;5;21;01m.\u001B[39;00m\u001B[38;5;21;01mmeta\u001B[39;00m \u001B[38;5;28;01mimport\u001B[39;00m _setdoc, _setdoc_pro\n",
      "File \u001B[0;32m~/.conda/envs/svg-graphics/lib/python3.10/site-packages/gempy/core/model.py:16\u001B[0m\n\u001B[1;32m     14\u001B[0m \u001B[38;5;28;01mfrom\u001B[39;00m \u001B[38;5;21;01mgempy\u001B[39;00m\u001B[38;5;21;01m.\u001B[39;00m\u001B[38;5;21;01mcore\u001B[39;00m\u001B[38;5;21;01m.\u001B[39;00m\u001B[38;5;21;01mdata\u001B[39;00m \u001B[38;5;28;01mimport\u001B[39;00m AdditionalData, MetaData, Options, Structure, KrigingParameters\n\u001B[1;32m     15\u001B[0m \u001B[38;5;28;01mfrom\u001B[39;00m \u001B[38;5;21;01mgempy\u001B[39;00m\u001B[38;5;21;01m.\u001B[39;00m\u001B[38;5;21;01mcore\u001B[39;00m\u001B[38;5;21;01m.\u001B[39;00m\u001B[38;5;21;01msolution\u001B[39;00m \u001B[38;5;28;01mimport\u001B[39;00m Solution\n\u001B[0;32m---> 16\u001B[0m \u001B[38;5;28;01mfrom\u001B[39;00m \u001B[38;5;21;01mgempy\u001B[39;00m\u001B[38;5;21;01m.\u001B[39;00m\u001B[38;5;21;01mcore\u001B[39;00m\u001B[38;5;21;01m.\u001B[39;00m\u001B[38;5;21;01minterpolator\u001B[39;00m \u001B[38;5;28;01mimport\u001B[39;00m InterpolatorModel, InterpolatorGravity\n\u001B[1;32m     17\u001B[0m \u001B[38;5;28;01mfrom\u001B[39;00m \u001B[38;5;21;01mgempy\u001B[39;00m\u001B[38;5;21;01m.\u001B[39;00m\u001B[38;5;21;01mutils\u001B[39;00m\u001B[38;5;21;01m.\u001B[39;00m\u001B[38;5;21;01mmeta\u001B[39;00m \u001B[38;5;28;01mimport\u001B[39;00m _setdoc, _setdoc_pro\n\u001B[1;32m     18\u001B[0m \u001B[38;5;28;01mimport\u001B[39;00m \u001B[38;5;21;01mgempy\u001B[39;00m\u001B[38;5;21;01m.\u001B[39;00m\u001B[38;5;21;01mutils\u001B[39;00m\u001B[38;5;21;01m.\u001B[39;00m\u001B[38;5;21;01mdocstring\u001B[39;00m \u001B[38;5;28;01mas\u001B[39;00m \u001B[38;5;21;01mds\u001B[39;00m\n",
      "File \u001B[0;32m~/.conda/envs/svg-graphics/lib/python3.10/site-packages/gempy/core/interpolator.py:9\u001B[0m\n\u001B[1;32m      6\u001B[0m \u001B[38;5;28;01mimport\u001B[39;00m \u001B[38;5;21;01mgempy\u001B[39;00m\u001B[38;5;21;01m.\u001B[39;00m\u001B[38;5;21;01mutils\u001B[39;00m\u001B[38;5;21;01m.\u001B[39;00m\u001B[38;5;21;01mdocstring\u001B[39;00m \u001B[38;5;28;01mas\u001B[39;00m \u001B[38;5;21;01mds\u001B[39;00m\n\u001B[1;32m      8\u001B[0m \u001B[38;5;28;01mimport\u001B[39;00m \u001B[38;5;21;01mnumpy\u001B[39;00m \u001B[38;5;28;01mas\u001B[39;00m \u001B[38;5;21;01mnp\u001B[39;00m\n\u001B[0;32m----> 9\u001B[0m \u001B[38;5;28;01mimport\u001B[39;00m \u001B[38;5;21;01mtheano\u001B[39;00m\n\u001B[1;32m     12\u001B[0m \u001B[38;5;129m@_setdoc_pro\u001B[39m([SurfacePoints\u001B[38;5;241m.\u001B[39m\u001B[38;5;18m__doc__\u001B[39m, Orientations\u001B[38;5;241m.\u001B[39m\u001B[38;5;18m__doc__\u001B[39m, Grid\u001B[38;5;241m.\u001B[39m\u001B[38;5;18m__doc__\u001B[39m, Surfaces\u001B[38;5;241m.\u001B[39m\u001B[38;5;18m__doc__\u001B[39m, Series\u001B[38;5;241m.\u001B[39m\u001B[38;5;18m__doc__\u001B[39m,\n\u001B[1;32m     13\u001B[0m               Faults\u001B[38;5;241m.\u001B[39m\u001B[38;5;18m__doc__\u001B[39m, AdditionalData\u001B[38;5;241m.\u001B[39m\u001B[38;5;18m__doc__\u001B[39m])\n\u001B[1;32m     14\u001B[0m \u001B[38;5;28;01mclass\u001B[39;00m \u001B[38;5;21;01mInterpolator\u001B[39;00m(\u001B[38;5;28mobject\u001B[39m):\n\u001B[1;32m     15\u001B[0m \u001B[38;5;250m    \u001B[39m\u001B[38;5;124;03m\"\"\"Class that act as:\u001B[39;00m\n\u001B[1;32m     16\u001B[0m \u001B[38;5;124;03m     1) linker between the data objects and the theano graph\u001B[39;00m\n\u001B[1;32m     17\u001B[0m \u001B[38;5;124;03m     2) container of theano graphs + shared variables\u001B[39;00m\n\u001B[0;32m   (...)\u001B[0m\n\u001B[1;32m     41\u001B[0m \n\u001B[1;32m     42\u001B[0m \u001B[38;5;124;03m    \"\"\"\u001B[39;00m\n",
      "File \u001B[0;32m~/.conda/envs/svg-graphics/lib/python3.10/site-packages/theano/__init__.py:110\u001B[0m\n\u001B[1;32m     97\u001B[0m __api_version__ \u001B[38;5;241m=\u001B[39m \u001B[38;5;241m1\u001B[39m\n\u001B[1;32m     99\u001B[0m \u001B[38;5;28;01mfrom\u001B[39;00m \u001B[38;5;21;01mtheano\u001B[39;00m\u001B[38;5;21;01m.\u001B[39;00m\u001B[38;5;21;01mgof\u001B[39;00m \u001B[38;5;28;01mimport\u001B[39;00m (\n\u001B[1;32m    100\u001B[0m     CLinker, OpWiseCLinker, DualLinker, Linker, LocalLinker, PerformLinker,\n\u001B[1;32m    101\u001B[0m     Container,\n\u001B[0;32m   (...)\u001B[0m\n\u001B[1;32m    107\u001B[0m     Type, Generic, generic,\n\u001B[1;32m    108\u001B[0m     object2, utils)\n\u001B[0;32m--> 110\u001B[0m \u001B[38;5;28;01mfrom\u001B[39;00m \u001B[38;5;21;01mtheano\u001B[39;00m\u001B[38;5;21;01m.\u001B[39;00m\u001B[38;5;21;01mcompile\u001B[39;00m \u001B[38;5;28;01mimport\u001B[39;00m (\n\u001B[1;32m    111\u001B[0m     SymbolicInput, In,\n\u001B[1;32m    112\u001B[0m     SymbolicOutput, Out,\n\u001B[1;32m    113\u001B[0m     Mode,\n\u001B[1;32m    114\u001B[0m     predefined_modes, predefined_linkers, predefined_optimizers,\n\u001B[1;32m    115\u001B[0m     FunctionMaker, function, function_dump,\n\u001B[1;32m    116\u001B[0m     OpFromGraph,\n\u001B[1;32m    117\u001B[0m     ProfileStats,\n\u001B[1;32m    118\u001B[0m     Param, shared, as_op)\n\u001B[1;32m    120\u001B[0m \u001B[38;5;28;01mfrom\u001B[39;00m \u001B[38;5;21;01mtheano\u001B[39;00m\u001B[38;5;21;01m.\u001B[39;00m\u001B[38;5;21;01mmisc\u001B[39;00m\u001B[38;5;21;01m.\u001B[39;00m\u001B[38;5;21;01msafe_asarray\u001B[39;00m \u001B[38;5;28;01mimport\u001B[39;00m _asarray\n\u001B[1;32m    122\u001B[0m \u001B[38;5;28;01mfrom\u001B[39;00m \u001B[38;5;21;01mtheano\u001B[39;00m\u001B[38;5;21;01m.\u001B[39;00m\u001B[38;5;21;01mprinting\u001B[39;00m \u001B[38;5;28;01mimport\u001B[39;00m pprint, pp\n",
      "File \u001B[0;32m~/.conda/envs/svg-graphics/lib/python3.10/site-packages/theano/compile/__init__.py:12\u001B[0m\n\u001B[1;32m      2\u001B[0m \u001B[38;5;28;01mfrom\u001B[39;00m \u001B[38;5;21;01mtheano\u001B[39;00m\u001B[38;5;21;01m.\u001B[39;00m\u001B[38;5;21;01mcompile\u001B[39;00m\u001B[38;5;21;01m.\u001B[39;00m\u001B[38;5;21;01mops\u001B[39;00m \u001B[38;5;28;01mimport\u001B[39;00m (\n\u001B[1;32m      3\u001B[0m         DeepCopyOp, deep_copy_op, register_deep_copy_op_c_code,\n\u001B[1;32m      4\u001B[0m         Shape, shape, register_shape_c_code,\n\u001B[0;32m   (...)\u001B[0m\n\u001B[1;32m      7\u001B[0m         as_op, Rebroadcast, register_rebroadcast_c_code,\n\u001B[1;32m      8\u001B[0m         SpecifyShape, specify_shape, register_specify_shape_c_code)\n\u001B[1;32m     10\u001B[0m \u001B[38;5;28;01mfrom\u001B[39;00m \u001B[38;5;21;01mtheano\u001B[39;00m\u001B[38;5;21;01m.\u001B[39;00m\u001B[38;5;21;01mcompile\u001B[39;00m\u001B[38;5;21;01m.\u001B[39;00m\u001B[38;5;21;01mfunction_module\u001B[39;00m \u001B[38;5;28;01mimport\u001B[39;00m \u001B[38;5;241m*\u001B[39m\n\u001B[0;32m---> 12\u001B[0m \u001B[38;5;28;01mfrom\u001B[39;00m \u001B[38;5;21;01mtheano\u001B[39;00m\u001B[38;5;21;01m.\u001B[39;00m\u001B[38;5;21;01mcompile\u001B[39;00m\u001B[38;5;21;01m.\u001B[39;00m\u001B[38;5;21;01mmode\u001B[39;00m \u001B[38;5;28;01mimport\u001B[39;00m \u001B[38;5;241m*\u001B[39m\n\u001B[1;32m     14\u001B[0m \u001B[38;5;28;01mfrom\u001B[39;00m \u001B[38;5;21;01mtheano\u001B[39;00m\u001B[38;5;21;01m.\u001B[39;00m\u001B[38;5;21;01mcompile\u001B[39;00m\u001B[38;5;21;01m.\u001B[39;00m\u001B[38;5;21;01mio\u001B[39;00m \u001B[38;5;28;01mimport\u001B[39;00m \u001B[38;5;241m*\u001B[39m\n\u001B[1;32m     16\u001B[0m \u001B[38;5;28;01mfrom\u001B[39;00m \u001B[38;5;21;01mtheano\u001B[39;00m\u001B[38;5;21;01m.\u001B[39;00m\u001B[38;5;21;01mcompile\u001B[39;00m\u001B[38;5;21;01m.\u001B[39;00m\u001B[38;5;21;01mdebugmode\u001B[39;00m \u001B[38;5;28;01mimport\u001B[39;00m DebugMode\n",
      "File \u001B[0;32m~/.conda/envs/svg-graphics/lib/python3.10/site-packages/theano/compile/mode.py:11\u001B[0m\n\u001B[1;32m      9\u001B[0m \u001B[38;5;28;01mimport\u001B[39;00m \u001B[38;5;21;01mtheano\u001B[39;00m\n\u001B[1;32m     10\u001B[0m \u001B[38;5;28;01mfrom\u001B[39;00m \u001B[38;5;21;01mtheano\u001B[39;00m \u001B[38;5;28;01mimport\u001B[39;00m gof\n\u001B[0;32m---> 11\u001B[0m \u001B[38;5;28;01mimport\u001B[39;00m \u001B[38;5;21;01mtheano\u001B[39;00m\u001B[38;5;21;01m.\u001B[39;00m\u001B[38;5;21;01mgof\u001B[39;00m\u001B[38;5;21;01m.\u001B[39;00m\u001B[38;5;21;01mvm\u001B[39;00m\n\u001B[1;32m     12\u001B[0m \u001B[38;5;28;01mfrom\u001B[39;00m \u001B[38;5;21;01mtheano\u001B[39;00m \u001B[38;5;28;01mimport\u001B[39;00m config\n\u001B[1;32m     13\u001B[0m \u001B[38;5;28;01mfrom\u001B[39;00m \u001B[38;5;21;01msix\u001B[39;00m \u001B[38;5;28;01mimport\u001B[39;00m string_types\n",
      "File \u001B[0;32m~/.conda/envs/svg-graphics/lib/python3.10/site-packages/theano/gof/vm.py:683\u001B[0m\n\u001B[1;32m    681\u001B[0m \u001B[38;5;28;01mexcept\u001B[39;00m \u001B[38;5;167;01mImportError\u001B[39;00m:\n\u001B[1;32m    682\u001B[0m     \u001B[38;5;28;01mpass\u001B[39;00m\n\u001B[0;32m--> 683\u001B[0m \u001B[38;5;28;01mexcept\u001B[39;00m (\u001B[38;5;167;01mOSError\u001B[39;00m, \u001B[43mtheano\u001B[49m\u001B[38;5;241;43m.\u001B[39;49m\u001B[43mgof\u001B[49m\u001B[38;5;241m.\u001B[39mcmodule\u001B[38;5;241m.\u001B[39mMissingGXX) \u001B[38;5;28;01mas\u001B[39;00m e:\n\u001B[1;32m    684\u001B[0m     \u001B[38;5;66;03m# OSError happens when g++ is not installed.  In that case, we\u001B[39;00m\n\u001B[1;32m    685\u001B[0m     \u001B[38;5;66;03m# already changed the default linker to something else then CVM.\u001B[39;00m\n\u001B[1;32m    686\u001B[0m     \u001B[38;5;66;03m# Currently this is the py linker.\u001B[39;00m\n\u001B[1;32m    687\u001B[0m     \u001B[38;5;66;03m# Here we assert that the default linker is not cvm.\u001B[39;00m\n\u001B[1;32m    688\u001B[0m     \u001B[38;5;28;01massert\u001B[39;00m \u001B[38;5;129;01mnot\u001B[39;00m [x \u001B[38;5;28;01mfor\u001B[39;00m x \u001B[38;5;129;01min\u001B[39;00m _config_var_list\n\u001B[1;32m    689\u001B[0m                 \u001B[38;5;28;01mif\u001B[39;00m x\u001B[38;5;241m.\u001B[39mfullname \u001B[38;5;241m==\u001B[39m \u001B[38;5;124m'\u001B[39m\u001B[38;5;124mlinker\u001B[39m\u001B[38;5;124m'\u001B[39m][\u001B[38;5;241m0\u001B[39m]\u001B[38;5;241m.\u001B[39mdefault\u001B[38;5;241m.\u001B[39mstartswith(\u001B[38;5;124m'\u001B[39m\u001B[38;5;124mcvm\u001B[39m\u001B[38;5;124m'\u001B[39m), e\n\u001B[1;32m    690\u001B[0m     \u001B[38;5;28;01mpass\u001B[39;00m\n",
      "\u001B[0;31mAttributeError\u001B[0m: partially initialized module 'theano' has no attribute 'gof' (most likely due to a circular import)"
     ]
    }
   ],
   "source": [
    "import gempy as gp"
   ],
   "metadata": {
    "collapsed": false
   }
  },
  {
   "cell_type": "markdown",
   "metadata": {},
   "source": [
    "## 1. The common procedure to set up a model:\n",
    "\n",
    "\n"
   ]
  },
  {
   "cell_type": "code",
   "execution_count": 7,
   "metadata": {
    "collapsed": false
   },
   "outputs": [
    {
     "ename": "NameError",
     "evalue": "name 'gp' is not defined",
     "output_type": "error",
     "traceback": [
      "\u001B[0;31m---------------------------------------------------------------------------\u001B[0m",
      "\u001B[0;31mNameError\u001B[0m                                 Traceback (most recent call last)",
      "Cell \u001B[0;32mIn[7], line 3\u001B[0m\n\u001B[1;32m      1\u001B[0m data_path \u001B[38;5;241m=\u001B[39m \u001B[38;5;124m'\u001B[39m\u001B[38;5;124mhttps://raw.githubusercontent.com/cgre-aachen/gempy_data/master/\u001B[39m\u001B[38;5;124m'\u001B[39m\n\u001B[0;32m----> 3\u001B[0m geo_model \u001B[38;5;241m=\u001B[39m \u001B[43mgp\u001B[49m\u001B[38;5;241m.\u001B[39mcreate_model(\u001B[38;5;124m'\u001B[39m\u001B[38;5;124mSingle_layer_topo\u001B[39m\u001B[38;5;124m'\u001B[39m)\n\u001B[1;32m      4\u001B[0m gp\u001B[38;5;241m.\u001B[39minit_data(geo_model, extent\u001B[38;5;241m=\u001B[39m[\u001B[38;5;241m450000\u001B[39m, \u001B[38;5;241m460000\u001B[39m, \u001B[38;5;241m70000\u001B[39m, \u001B[38;5;241m80000\u001B[39m, \u001B[38;5;241m-\u001B[39m\u001B[38;5;241m1000\u001B[39m, \u001B[38;5;241m500\u001B[39m],\n\u001B[1;32m      5\u001B[0m              resolution\u001B[38;5;241m=\u001B[39m[\u001B[38;5;241m50\u001B[39m, \u001B[38;5;241m50\u001B[39m, \u001B[38;5;241m50\u001B[39m],\n\u001B[1;32m      6\u001B[0m              path_i\u001B[38;5;241m=\u001B[39mdata_path \u001B[38;5;241m+\u001B[39m \u001B[38;5;124m\"\u001B[39m\u001B[38;5;124m/data/input_data/tut-ch1-7/onelayer_interfaces.csv\u001B[39m\u001B[38;5;124m\"\u001B[39m,\n\u001B[1;32m      7\u001B[0m              path_o\u001B[38;5;241m=\u001B[39mdata_path \u001B[38;5;241m+\u001B[39m \u001B[38;5;124m\"\u001B[39m\u001B[38;5;124m/data/input_data/tut-ch1-7/onelayer_orient.csv\u001B[39m\u001B[38;5;124m\"\u001B[39m)\n",
      "\u001B[0;31mNameError\u001B[0m: name 'gp' is not defined"
     ]
    }
   ],
   "source": [
    "data_path = 'https://raw.githubusercontent.com/cgre-aachen/gempy_data/master/'\n",
    "\n",
    "geo_model = gp.create_model('Single_layer_topo')\n",
    "gp.init_data(geo_model, extent=[450000, 460000, 70000, 80000, -1000, 500],\n",
    "             resolution=[50, 50, 50],\n",
    "             path_i=data_path + \"/data/input_data/tut-ch1-7/onelayer_interfaces.csv\",\n",
    "             path_o=data_path + \"/data/input_data/tut-ch1-7/onelayer_orient.csv\")"
   ]
  },
  {
   "cell_type": "markdown",
   "metadata": {},
   "source": [
    "use happy spring colors! \n",
    "\n"
   ]
  },
  {
   "cell_type": "code",
   "execution_count": 3,
   "metadata": {
    "collapsed": false
   },
   "outputs": [
    {
     "ename": "NameError",
     "evalue": "name 'geo_model' is not defined",
     "output_type": "error",
     "traceback": [
      "\u001B[0;31m---------------------------------------------------------------------------\u001B[0m",
      "\u001B[0;31mNameError\u001B[0m                                 Traceback (most recent call last)",
      "Cell \u001B[0;32mIn[3], line 1\u001B[0m\n\u001B[0;32m----> 1\u001B[0m \u001B[43mgeo_model\u001B[49m\u001B[38;5;241m.\u001B[39msurfaces\u001B[38;5;241m.\u001B[39mcolors\u001B[38;5;241m.\u001B[39mchange_colors({\u001B[38;5;124m'\u001B[39m\u001B[38;5;124mlayer1\u001B[39m\u001B[38;5;124m'\u001B[39m: \u001B[38;5;124m'\u001B[39m\u001B[38;5;124m#ff8000\u001B[39m\u001B[38;5;124m'\u001B[39m, \u001B[38;5;124m'\u001B[39m\u001B[38;5;124mbasement\u001B[39m\u001B[38;5;124m'\u001B[39m: \u001B[38;5;124m'\u001B[39m\u001B[38;5;124m#88cc60\u001B[39m\u001B[38;5;124m'\u001B[39m})\n",
      "\u001B[0;31mNameError\u001B[0m: name 'geo_model' is not defined"
     ]
    }
   ],
   "source": [
    "geo_model.surfaces.colors.change_colors({'layer1': '#ff8000', 'basement': '#88cc60'})"
   ]
  },
  {
   "cell_type": "code",
   "execution_count": null,
   "metadata": {
    "collapsed": false
   },
   "outputs": [],
   "source": [
    "gp.map_stack_to_surfaces(geo_model, {'series': ('layer1', 'basement')})"
   ]
  },
  {
   "cell_type": "code",
   "execution_count": null,
   "metadata": {
    "collapsed": false
   },
   "outputs": [],
   "source": [
    "s = {'s1': ([450000, 75000], [460000, 75500], [100, 100])}\n",
    "geo_model.set_section_grid(s)"
   ]
  },
  {
   "cell_type": "markdown",
   "metadata": {},
   "source": [
    "## 2. Adding topography\n",
    "\n",
    "\n"
   ]
  },
  {
   "cell_type": "markdown",
   "metadata": {},
   "source": [
    "### 2 a. Load from raster file\n",
    "\n",
    "\n"
   ]
  },
  {
   "cell_type": "markdown",
   "metadata": {},
   "source": [
    "This is to make it work in sphinx gallery\n",
    "\n"
   ]
  },
  {
   "cell_type": "code",
   "execution_count": null,
   "metadata": {
    "collapsed": false
   },
   "outputs": [],
   "source": [
    "cwd = os.getcwd()\n",
    "if not 'examples' in cwd:\n",
    "    path_dir = os.getcwd() + '/examples/tutorials/ch5_probabilistic_modeling'\n",
    "else:\n",
    "    path_dir = cwd\n",
    "\n",
    "fp = path_dir + \"/../../data/input_data/tut-ch1-7/bogota.tif\""
   ]
  },
  {
   "cell_type": "code",
   "execution_count": null,
   "metadata": {
    "collapsed": false
   },
   "outputs": [],
   "source": [
    "geo_model.set_topography(source='gdal', filepath=fp)\n",
    "gp.plot_2d(geo_model, show_topography=True, section_names=['topography'], show_lith=False,\n",
    "           show_boundaries=False,\n",
    "           kwargs_topography={'cmap': 'gray', 'norm': None}\n",
    "           )\n",
    "plt.show()"
   ]
  },
  {
   "cell_type": "markdown",
   "metadata": {},
   "source": [
    "### 2 b. create fun topography\n",
    "\n",
    "\n"
   ]
  },
  {
   "cell_type": "markdown",
   "metadata": {},
   "source": [
    "If there is no topography file, but you think that your model with\n",
    "topography would look significantly cooler, you can use gempys\n",
    ":meth:`set_topography <gempy.core.model.ImplicitCoKriging.set_topography>` function\n",
    "to generate a random topography based on a fractal grid:\n",
    "\n",
    "\n"
   ]
  },
  {
   "cell_type": "markdown",
   "metadata": {},
   "source": [
    "sphinx_gallery_thumbnail_number = 2\n",
    "\n"
   ]
  },
  {
   "cell_type": "code",
   "execution_count": null,
   "metadata": {
    "collapsed": false
   },
   "outputs": [],
   "source": [
    "geo_model.set_topography(source='random')\n",
    "gp.plot_2d(geo_model, show_topography=True, section_names=['topography'])\n",
    "plt.show()"
   ]
  },
  {
   "cell_type": "markdown",
   "metadata": {},
   "source": [
    "It has additional keywords to play around with:\n",
    "\n",
    "* fd: fractal dimension:\n",
    "      defaults to 2.0. The higher (try 2.9), the rougher the landscape will\n",
    "      be.\n",
    "\n",
    "* d\\_z: height difference:\n",
    "      If none, last 20% of the model in z\n",
    "      direction.\n",
    "\n",
    "* extent:\n",
    "      extent in xy direction. If none,\n",
    "      ``geo_model.grid.extent`` is used.\n",
    "\n",
    "* resolution:\n",
    "      resolution of the topography array.\n",
    "      If none, ``geo_model.grid.resoution`` is used. Increasing the resolution leads to\n",
    "      much nicer geological maps!\n",
    "\n",
    "\n",
    "\n"
   ]
  },
  {
   "cell_type": "code",
   "execution_count": null,
   "metadata": {
    "collapsed": false
   },
   "outputs": [],
   "source": [
    "geo_model.set_topography(source='random', fd=1.9, d_z=np.array([0, 250]),\n",
    "                         resolution=np.array([200, 200]))"
   ]
  },
  {
   "cell_type": "markdown",
   "metadata": {},
   "source": [
    "Note that each time this function is called, a new random topography is\n",
    "created. If you particularly like the generated topography or if you\n",
    "have loaded a large file with gdal, you can save the topography object\n",
    "and load it again later:\n",
    "\n",
    "\n"
   ]
  },
  {
   "cell_type": "markdown",
   "metadata": {},
   "source": [
    "save:\n",
    "\n"
   ]
  },
  {
   "cell_type": "code",
   "execution_count": null,
   "metadata": {
    "collapsed": false
   },
   "outputs": [],
   "source": [
    "geo_model._grid.topography.save('test_topo')"
   ]
  },
  {
   "cell_type": "markdown",
   "metadata": {},
   "source": [
    "load:\n",
    "\n"
   ]
  },
  {
   "cell_type": "code",
   "execution_count": null,
   "metadata": {
    "collapsed": false
   },
   "outputs": [],
   "source": [
    "geo_model.set_topography(source='saved', filepath='test_topo.npy')"
   ]
  },
  {
   "cell_type": "markdown",
   "metadata": {},
   "source": [
    "## Compute model\n",
    "\n",
    "\n"
   ]
  },
  {
   "cell_type": "code",
   "execution_count": null,
   "metadata": {
    "collapsed": false
   },
   "outputs": [],
   "source": [
    "gp.set_interpolator(geo_model)"
   ]
  },
  {
   "cell_type": "code",
   "execution_count": null,
   "metadata": {
    "collapsed": false
   },
   "outputs": [],
   "source": [
    "gp.compute_model(geo_model, compute_mesh=False, set_solutions=True)"
   ]
  },
  {
   "cell_type": "markdown",
   "metadata": {},
   "source": [
    "### Visualize:\n",
    "\n",
    "Now, the solutions object does also contain the computed geological map.\n",
    "It can be visualized using the 2D and 3D plotting functionality:\n",
    "\n",
    "\n"
   ]
  },
  {
   "cell_type": "code",
   "execution_count": null,
   "metadata": {
    "collapsed": false
   },
   "outputs": [],
   "source": [
    "gp.plot_2d(geo_model, show_topography=True, section_names=['topography'], show_boundaries=False, show_data=True)\n",
    "plt.show()"
   ]
  },
  {
   "cell_type": "code",
   "execution_count": null,
   "metadata": {
    "collapsed": false
   },
   "outputs": [],
   "source": [
    "gp.plot_2d(geo_model, show_topography=True, section_names=['s1'])\n",
    "plt.show()"
   ]
  },
  {
   "cell_type": "code",
   "execution_count": null,
   "metadata": {
    "collapsed": false
   },
   "outputs": [],
   "source": [
    "g3d = gp.plot_3d(geo_model,\n",
    "                 show_topography=True,\n",
    "                 show_lith=False,\n",
    "                 show_surfaces=False,\n",
    "                 show_results=False,\n",
    "                 ve=5)"
   ]
  },
  {
   "cell_type": "markdown",
   "metadata": {},
   "source": [
    "sphinx_gallery_thumbnail_number = 3\n",
    "\n"
   ]
  },
  {
   "cell_type": "code",
   "execution_count": null,
   "metadata": {
    "collapsed": false
   },
   "outputs": [],
   "source": [
    "g3d = gp.plot_3d(geo_model,\n",
    "                 show_topography=True,\n",
    "                 show_lith=True,\n",
    "                 show_surfaces=True,\n",
    "                 ve=5)"
   ]
  }
 ],
 "metadata": {
  "kernelspec": {
   "display_name": "Python 3",
   "language": "python",
   "name": "python3"
  },
  "language_info": {
   "codemirror_mode": {
    "name": "ipython",
    "version": 3
   },
   "file_extension": ".py",
   "mimetype": "text/x-python",
   "name": "python",
   "nbconvert_exporter": "python",
   "pygments_lexer": "ipython3",
   "version": "3.8.5"
  }
 },
 "nbformat": 4,
 "nbformat_minor": 0
}
