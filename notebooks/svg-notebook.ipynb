{
 "cells": [
  {
   "cell_type": "markdown",
   "source": [
    "# Creating SVGs with Python\n",
    "\n",
    "Python is a great language for creating SVGs. It is a very flexible language that can be used to create SVGs in a variety of ways. In this notebook we will explore some of the ways that Python can be used to create SVGs.\n"
   ],
   "metadata": {
    "collapsed": false
   }
  },
  {
   "cell_type": "code",
   "execution_count": 1,
   "outputs": [],
   "source": [
    "# Importing packages\n",
    "import random\n",
    "import math\n",
    "import numpy as np\n",
    "import matplotlib.pyplot as plt\n",
    "import matplotlib.image as mpimg\n",
    "from IPython.display import SVG\n",
    "from graphviz import Digraph\n",
    "from IPython.display import SVG, display\n",
    "from graphviz import Digraph\n",
    "from IPython.display import SVG, display"
   ],
   "metadata": {
    "collapsed": false,
    "ExecuteTime": {
     "start_time": "2023-04-26T00:31:20.632837Z",
     "end_time": "2023-04-26T00:31:20.949675Z"
    }
   }
  },
  {
   "cell_type": "markdown",
   "source": [
    "### SVGs containing text"
   ],
   "metadata": {
    "collapsed": false
   }
  },
  {
   "cell_type": "code",
   "execution_count": 2,
   "outputs": [
    {
     "data": {
      "text/plain": "<IPython.core.display.SVG object>",
      "image/svg+xml": "<svg xmlns=\"http://www.w3.org/2000/svg\" xmlns:xlink=\"http://www.w3.org/1999/xlink\" width=\"231pt\" height=\"44pt\" viewBox=\"0.00 0.00 231.00 44.00\">\n<g id=\"graph0\" class=\"graph\" transform=\"scale(1 1) rotate(0) translate(4 40)\">\n<polygon fill=\"white\" stroke=\"none\" points=\"-4,4 -4,-40 227,-40 227,4 -4,4\"/>\n<!-- f_string -->\n<g id=\"node1\" class=\"node\">\n<title>f_string</title>\n<polygon fill=\"none\" stroke=\"black\" points=\"223,-36 0,-36 0,0 223,0 223,-36\"/>\n<text text-anchor=\"middle\" x=\"111.5\" y=\"-14.3\" font-family=\"Times,serif\" font-size=\"14.00\">This is an SVG containing some text!</text>\n</g>\n</g>\n</svg>"
     },
     "metadata": {},
     "output_type": "display_data"
    }
   ],
   "source": [
    "# Hello world for SVGs\n",
    "f_string = f\"This is an SVG containing some text!\"\n",
    "# Create a new graph\n",
    "dot = Digraph()\n",
    "# Add a node for the f string\n",
    "dot.node('f_string', label=f_string, shape='rectangle')\n",
    "# Render the graph as an SVG image\n",
    "dot.format = 'svg'\n",
    "svg_data = dot.pipe().decode('utf-8')\n",
    "# Display the SVG image in the notebook\n",
    "display(SVG(svg_data))"
   ],
   "metadata": {
    "collapsed": false,
    "ExecuteTime": {
     "start_time": "2023-04-26T00:31:20.958430Z",
     "end_time": "2023-04-26T00:31:21.649532Z"
    }
   }
  },
  {
   "cell_type": "markdown",
   "source": [],
   "metadata": {
    "collapsed": false
   }
  },
  {
   "cell_type": "code",
   "execution_count": 3,
   "outputs": [],
   "source": [
    "def show_svg(svg_string):\n",
    "    \"\"\"Display the SVG image in the notebook.\"\"\"\n",
    "    size = (500, 500)\n",
    "    # Add whitespace and frame to the SVG image\n",
    "    string = f'<svg width=\"100%\" height=\"100%\" viewBox=\"-10 -10 120 120\" xmlns=\"http://www.w3.org/2000/svg\" style=\"background-color: white\">'\n",
    "    string += f'<rect x=\"-5\" y=\"-5\" width=\"110\" height=\"110\" fill=\"none\" stroke=\"black\" stroke-width=\"1\"/>'\n",
    "    string += f'{svg_string}'\n",
    "    # Close the SVG image\n",
    "    string += '</svg>'\n",
    "    display(SVG(string))\n"
   ],
   "metadata": {
    "collapsed": false,
    "ExecuteTime": {
     "start_time": "2023-04-26T00:31:39.334287Z",
     "end_time": "2023-04-26T00:31:39.336242Z"
    }
   }
  },
  {
   "cell_type": "markdown",
   "source": [
    "### Drawing diagonal lines"
   ],
   "metadata": {
    "collapsed": false
   }
  },
  {
   "cell_type": "code",
   "execution_count": 4,
   "outputs": [
    {
     "data": {
      "text/plain": "<IPython.core.display.SVG object>",
      "image/svg+xml": "<svg xmlns=\"http://www.w3.org/2000/svg\" width=\"100%\" height=\"100%\" viewBox=\"-10 -10 120 120\" style=\"background-color: white\"><rect x=\"-5\" y=\"-5\" width=\"110\" height=\"110\" fill=\"none\" stroke=\"black\" stroke-width=\"1\"/><line x1=\"0\" y1=\"0\" x2=\"100\" y2=\"100\" stroke=\"black\"/></svg>"
     },
     "metadata": {},
     "output_type": "display_data"
    }
   ],
   "source": [
    "def draw_line(x1, y1, x2, y2, color='black'):\n",
    "    \"\"\"Draw a diagonal line from (x1, y1) to (x2, y2).\"\"\"\n",
    "    # Draw the diagonal line\n",
    "    string = f'<line x1=\"{x1}\" y1=\"{y1}\" x2=\"{x2}\" y2=\"{y2}\" stroke=\"{color}\" />'\n",
    "    return string\n",
    "\n",
    "show_svg(draw_line(0, 0, 100, 100))"
   ],
   "metadata": {
    "collapsed": false,
    "ExecuteTime": {
     "start_time": "2023-04-26T00:31:41.162816Z",
     "end_time": "2023-04-26T00:31:41.169645Z"
    }
   }
  },
  {
   "cell_type": "markdown",
   "source": [
    "### Draw some randome lines"
   ],
   "metadata": {
    "collapsed": false
   }
  },
  {
   "cell_type": "code",
   "execution_count": 5,
   "outputs": [
    {
     "data": {
      "text/plain": "<IPython.core.display.SVG object>",
      "image/svg+xml": "<svg xmlns=\"http://www.w3.org/2000/svg\" width=\"100%\" height=\"100%\" viewBox=\"-10 -10 120 120\" style=\"background-color: white\"><rect x=\"-5\" y=\"-5\" width=\"110\" height=\"110\" fill=\"none\" stroke=\"black\" stroke-width=\"1\"/><line x1=\"42\" y1=\"60\" x2=\"21\" y2=\"81\" stroke=\"black\"/><line x1=\"77\" y1=\"40\" x2=\"99\" y2=\"2\" stroke=\"black\"/><line x1=\"46\" y1=\"81\" x2=\"65\" y2=\"46\" stroke=\"black\"/><line x1=\"20\" y1=\"65\" x2=\"80\" y2=\"36\" stroke=\"black\"/><line x1=\"65\" y1=\"78\" x2=\"49\" y2=\"14\" stroke=\"black\"/><line x1=\"65\" y1=\"1\" x2=\"34\" y2=\"86\" stroke=\"black\"/><line x1=\"77\" y1=\"34\" x2=\"51\" y2=\"40\" stroke=\"black\"/><line x1=\"1\" y1=\"26\" x2=\"95\" y2=\"49\" stroke=\"black\"/><line x1=\"23\" y1=\"33\" x2=\"82\" y2=\"29\" stroke=\"black\"/><line x1=\"16\" y1=\"86\" x2=\"67\" y2=\"63\" stroke=\"black\"/><line x1=\"24\" y1=\"50\" x2=\"96\" y2=\"15\" stroke=\"black\"/><line x1=\"44\" y1=\"23\" x2=\"11\" y2=\"87\" stroke=\"black\"/><line x1=\"16\" y1=\"8\" x2=\"100\" y2=\"54\" stroke=\"black\"/><line x1=\"54\" y1=\"6\" x2=\"57\" y2=\"84\" stroke=\"black\"/><line x1=\"31\" y1=\"77\" x2=\"94\" y2=\"60\" stroke=\"black\"/><line x1=\"5\" y1=\"55\" x2=\"69\" y2=\"94\" stroke=\"black\"/><line x1=\"14\" y1=\"11\" x2=\"8\" y2=\"28\" stroke=\"black\"/><line x1=\"62\" y1=\"97\" x2=\"95\" y2=\"0\" stroke=\"black\"/><line x1=\"29\" y1=\"85\" x2=\"30\" y2=\"20\" stroke=\"black\"/><line x1=\"87\" y1=\"87\" x2=\"25\" y2=\"71\" stroke=\"black\"/><line x1=\"9\" y1=\"68\" x2=\"95\" y2=\"79\" stroke=\"black\"/><line x1=\"76\" y1=\"69\" x2=\"26\" y2=\"90\" stroke=\"black\"/><line x1=\"73\" y1=\"23\" x2=\"61\" y2=\"43\" stroke=\"black\"/><line x1=\"98\" y1=\"67\" x2=\"2\" y2=\"64\" stroke=\"black\"/><line x1=\"79\" y1=\"94\" x2=\"58\" y2=\"53\" stroke=\"black\"/><line x1=\"81\" y1=\"72\" x2=\"38\" y2=\"71\" stroke=\"black\"/><line x1=\"92\" y1=\"43\" x2=\"12\" y2=\"82\" stroke=\"black\"/><line x1=\"43\" y1=\"64\" x2=\"73\" y2=\"96\" stroke=\"black\"/><line x1=\"89\" y1=\"47\" x2=\"9\" y2=\"52\" stroke=\"black\"/><line x1=\"27\" y1=\"53\" x2=\"16\" y2=\"27\" stroke=\"black\"/><line x1=\"82\" y1=\"19\" x2=\"87\" y2=\"34\" stroke=\"black\"/><line x1=\"41\" y1=\"86\" x2=\"50\" y2=\"33\" stroke=\"black\"/><line x1=\"100\" y1=\"25\" x2=\"47\" y2=\"98\" stroke=\"black\"/><line x1=\"77\" y1=\"1\" x2=\"56\" y2=\"54\" stroke=\"black\"/><line x1=\"89\" y1=\"35\" x2=\"71\" y2=\"92\" stroke=\"black\"/><line x1=\"78\" y1=\"17\" x2=\"10\" y2=\"17\" stroke=\"black\"/><line x1=\"8\" y1=\"23\" x2=\"45\" y2=\"45\" stroke=\"black\"/><line x1=\"38\" y1=\"60\" x2=\"51\" y2=\"52\" stroke=\"black\"/><line x1=\"85\" y1=\"61\" x2=\"37\" y2=\"7\" stroke=\"black\"/><line x1=\"48\" y1=\"23\" x2=\"31\" y2=\"69\" stroke=\"black\"/><line x1=\"84\" y1=\"99\" x2=\"9\" y2=\"33\" stroke=\"black\"/><line x1=\"20\" y1=\"75\" x2=\"84\" y2=\"74\" stroke=\"black\"/><line x1=\"97\" y1=\"78\" x2=\"81\" y2=\"77\" stroke=\"black\"/><line x1=\"89\" y1=\"3\" x2=\"67\" y2=\"64\" stroke=\"black\"/><line x1=\"97\" y1=\"6\" x2=\"60\" y2=\"3\" stroke=\"black\"/><line x1=\"45\" y1=\"51\" x2=\"46\" y2=\"85\" stroke=\"black\"/><line x1=\"97\" y1=\"88\" x2=\"84\" y2=\"97\" stroke=\"black\"/><line x1=\"78\" y1=\"43\" x2=\"79\" y2=\"37\" stroke=\"black\"/><line x1=\"23\" y1=\"72\" x2=\"77\" y2=\"43\" stroke=\"black\"/><line x1=\"3\" y1=\"52\" x2=\"50\" y2=\"30\" stroke=\"black\"/><line x1=\"69\" y1=\"67\" x2=\"37\" y2=\"77\" stroke=\"black\"/><line x1=\"80\" y1=\"41\" x2=\"54\" y2=\"9\" stroke=\"black\"/><line x1=\"3\" y1=\"18\" x2=\"10\" y2=\"75\" stroke=\"black\"/><line x1=\"2\" y1=\"7\" x2=\"42\" y2=\"75\" stroke=\"black\"/><line x1=\"61\" y1=\"99\" x2=\"28\" y2=\"64\" stroke=\"black\"/><line x1=\"3\" y1=\"59\" x2=\"27\" y2=\"5\" stroke=\"black\"/><line x1=\"41\" y1=\"24\" x2=\"54\" y2=\"70\" stroke=\"black\"/><line x1=\"6\" y1=\"47\" x2=\"93\" y2=\"21\" stroke=\"black\"/><line x1=\"27\" y1=\"49\" x2=\"67\" y2=\"20\" stroke=\"black\"/><line x1=\"17\" y1=\"57\" x2=\"69\" y2=\"83\" stroke=\"black\"/><line x1=\"3\" y1=\"26\" x2=\"60\" y2=\"68\" stroke=\"black\"/><line x1=\"41\" y1=\"75\" x2=\"4\" y2=\"67\" stroke=\"black\"/><line x1=\"71\" y1=\"82\" x2=\"9\" y2=\"29\" stroke=\"black\"/><line x1=\"11\" y1=\"93\" x2=\"68\" y2=\"45\" stroke=\"black\"/><line x1=\"23\" y1=\"75\" x2=\"91\" y2=\"80\" stroke=\"black\"/><line x1=\"96\" y1=\"57\" x2=\"84\" y2=\"22\" stroke=\"black\"/><line x1=\"90\" y1=\"54\" x2=\"19\" y2=\"35\" stroke=\"black\"/><line x1=\"37\" y1=\"71\" x2=\"100\" y2=\"0\" stroke=\"black\"/><line x1=\"54\" y1=\"41\" x2=\"3\" y2=\"34\" stroke=\"black\"/><line x1=\"97\" y1=\"16\" x2=\"18\" y2=\"68\" stroke=\"black\"/><line x1=\"3\" y1=\"74\" x2=\"7\" y2=\"45\" stroke=\"black\"/><line x1=\"43\" y1=\"20\" x2=\"45\" y2=\"22\" stroke=\"black\"/><line x1=\"59\" y1=\"62\" x2=\"1\" y2=\"97\" stroke=\"black\"/><line x1=\"97\" y1=\"36\" x2=\"36\" y2=\"50\" stroke=\"black\"/><line x1=\"32\" y1=\"24\" x2=\"94\" y2=\"74\" stroke=\"black\"/><line x1=\"89\" y1=\"60\" x2=\"41\" y2=\"34\" stroke=\"black\"/><line x1=\"89\" y1=\"39\" x2=\"59\" y2=\"1\" stroke=\"black\"/><line x1=\"98\" y1=\"34\" x2=\"1\" y2=\"48\" stroke=\"black\"/><line x1=\"79\" y1=\"80\" x2=\"51\" y2=\"44\" stroke=\"black\"/><line x1=\"90\" y1=\"23\" x2=\"54\" y2=\"99\" stroke=\"black\"/><line x1=\"35\" y1=\"98\" x2=\"99\" y2=\"47\" stroke=\"black\"/><line x1=\"71\" y1=\"78\" x2=\"12\" y2=\"45\" stroke=\"black\"/><line x1=\"35\" y1=\"39\" x2=\"26\" y2=\"41\" stroke=\"black\"/><line x1=\"76\" y1=\"74\" x2=\"22\" y2=\"10\" stroke=\"black\"/><line x1=\"81\" y1=\"72\" x2=\"26\" y2=\"51\" stroke=\"black\"/><line x1=\"91\" y1=\"17\" x2=\"6\" y2=\"48\" stroke=\"black\"/><line x1=\"68\" y1=\"89\" x2=\"37\" y2=\"63\" stroke=\"black\"/><line x1=\"23\" y1=\"51\" x2=\"35\" y2=\"99\" stroke=\"black\"/><line x1=\"33\" y1=\"14\" x2=\"88\" y2=\"16\" stroke=\"black\"/><line x1=\"94\" y1=\"6\" x2=\"31\" y2=\"31\" stroke=\"black\"/><line x1=\"72\" y1=\"45\" x2=\"97\" y2=\"28\" stroke=\"black\"/><line x1=\"89\" y1=\"71\" x2=\"46\" y2=\"85\" stroke=\"black\"/><line x1=\"74\" y1=\"71\" x2=\"34\" y2=\"93\" stroke=\"black\"/><line x1=\"28\" y1=\"20\" x2=\"97\" y2=\"94\" stroke=\"black\"/><line x1=\"50\" y1=\"8\" x2=\"15\" y2=\"68\" stroke=\"black\"/><line x1=\"7\" y1=\"34\" x2=\"7\" y2=\"95\" stroke=\"black\"/><line x1=\"79\" y1=\"48\" x2=\"18\" y2=\"16\" stroke=\"black\"/><line x1=\"52\" y1=\"16\" x2=\"80\" y2=\"47\" stroke=\"black\"/><line x1=\"83\" y1=\"18\" x2=\"10\" y2=\"55\" stroke=\"black\"/><line x1=\"43\" y1=\"60\" x2=\"19\" y2=\"76\" stroke=\"black\"/></svg>"
     },
     "metadata": {},
     "output_type": "display_data"
    }
   ],
   "source": [
    "def draw_random_lines(n=100, color='black'):\n",
    "    \"\"\"Draw n random diagonals.\"\"\"\n",
    "    string = ''\n",
    "    for i in range(n):\n",
    "        # Generate random coordinates\n",
    "        x1 = random.randint(0, 100)\n",
    "        y1 = random.randint(0, 100)\n",
    "        x2 = random.randint(0, 100)\n",
    "        y2 = random.randint(0, 100)\n",
    "        # Draw the diagonal line\n",
    "        string += draw_line(x1, y1, x2, y2, color)\n",
    "    return string\n",
    "\n",
    "show_svg(draw_random_lines())"
   ],
   "metadata": {
    "collapsed": false,
    "ExecuteTime": {
     "start_time": "2023-04-26T00:31:44.022398Z",
     "end_time": "2023-04-26T00:31:44.025637Z"
    }
   }
  },
  {
   "cell_type": "markdown",
   "source": [
    "### Drawing a pattern"
   ],
   "metadata": {
    "collapsed": false
   }
  },
  {
   "cell_type": "code",
   "execution_count": 6,
   "outputs": [
    {
     "data": {
      "text/plain": "<IPython.core.display.SVG object>",
      "image/svg+xml": "<svg xmlns=\"http://www.w3.org/2000/svg\" width=\"100%\" height=\"100%\" viewBox=\"-10 -10 120 120\" style=\"background-color: white\"><rect x=\"-5\" y=\"-5\" width=\"110\" height=\"110\" fill=\"none\" stroke=\"black\" stroke-width=\"1\"/><line x1=\"0\" y1=\"0\" x2=\"0\" y2=\"100\" stroke=\"black\"/><line x1=\"0\" y1=\"0\" x2=\"100\" y2=\"0\" stroke=\"black\"/><line x1=\"10\" y1=\"0\" x2=\"10\" y2=\"100\" stroke=\"black\"/><line x1=\"0\" y1=\"10\" x2=\"100\" y2=\"10\" stroke=\"black\"/><line x1=\"20\" y1=\"0\" x2=\"20\" y2=\"100\" stroke=\"black\"/><line x1=\"0\" y1=\"20\" x2=\"100\" y2=\"20\" stroke=\"black\"/><line x1=\"30\" y1=\"0\" x2=\"30\" y2=\"100\" stroke=\"black\"/><line x1=\"0\" y1=\"30\" x2=\"100\" y2=\"30\" stroke=\"black\"/><line x1=\"40\" y1=\"0\" x2=\"40\" y2=\"100\" stroke=\"black\"/><line x1=\"0\" y1=\"40\" x2=\"100\" y2=\"40\" stroke=\"black\"/><line x1=\"50\" y1=\"0\" x2=\"50\" y2=\"100\" stroke=\"black\"/><line x1=\"0\" y1=\"50\" x2=\"100\" y2=\"50\" stroke=\"black\"/><line x1=\"60\" y1=\"0\" x2=\"60\" y2=\"100\" stroke=\"black\"/><line x1=\"0\" y1=\"60\" x2=\"100\" y2=\"60\" stroke=\"black\"/><line x1=\"70\" y1=\"0\" x2=\"70\" y2=\"100\" stroke=\"black\"/><line x1=\"0\" y1=\"70\" x2=\"100\" y2=\"70\" stroke=\"black\"/><line x1=\"80\" y1=\"0\" x2=\"80\" y2=\"100\" stroke=\"black\"/><line x1=\"0\" y1=\"80\" x2=\"100\" y2=\"80\" stroke=\"black\"/><line x1=\"90\" y1=\"0\" x2=\"90\" y2=\"100\" stroke=\"black\"/><line x1=\"0\" y1=\"90\" x2=\"100\" y2=\"90\" stroke=\"black\"/><line x1=\"100\" y1=\"0\" x2=\"100\" y2=\"100\" stroke=\"black\"/><line x1=\"0\" y1=\"100\" x2=\"100\" y2=\"100\" stroke=\"black\"/></svg>"
     },
     "metadata": {},
     "output_type": "display_data"
    }
   ],
   "source": [
    "def draw_maze(n=11, color='black'):\n",
    "    \"\"\"Draw a maze of diagonals.\"\"\"\n",
    "    string = ''\n",
    "    for i in range(n):\n",
    "        # Draw a vertical line\n",
    "        string += draw_line(i * 10, 0, i * 10, 100, color)\n",
    "        # Draw a horizontal line\n",
    "        string += draw_line(0, i * 10, 100, i * 10, color)\n",
    "    return string\n",
    "\n",
    "show_svg(draw_maze())"
   ],
   "metadata": {
    "collapsed": false,
    "ExecuteTime": {
     "start_time": "2023-04-26T00:31:45.664341Z",
     "end_time": "2023-04-26T00:31:45.670724Z"
    }
   }
  },
  {
   "cell_type": "markdown",
   "source": [
    "### Shapes and colors"
   ],
   "metadata": {
    "collapsed": false
   }
  },
  {
   "cell_type": "code",
   "execution_count": 7,
   "outputs": [
    {
     "data": {
      "text/plain": "<IPython.core.display.SVG object>",
      "image/svg+xml": "<svg xmlns=\"http://www.w3.org/2000/svg\" width=\"100%\" height=\"100%\" viewBox=\"-10 -10 120 120\" style=\"background-color: white\"><rect x=\"-5\" y=\"-5\" width=\"110\" height=\"110\" fill=\"none\" stroke=\"black\" stroke-width=\"1\"/><rect x=\"0\" y=\"0\" width=\"100\" height=\"100\" fill=\"blue\"/></svg>"
     },
     "metadata": {},
     "output_type": "display_data"
    }
   ],
   "source": [
    "def draw_rectangle(x, y, width, height, color='black'):\n",
    "    \"\"\"Draw a rectangle with the given coordinates and dimensions.\"\"\"\n",
    "    # Draw the rectangle\n",
    "    string = f'<rect x=\"{x}\" y=\"{y}\" width=\"{width}\" height=\"{height}\" fill=\"{color}\" />'\n",
    "    return string\n",
    "\n",
    "show_svg(draw_rectangle(0, 0, 100, 100, 'blue'))"
   ],
   "metadata": {
    "collapsed": false,
    "ExecuteTime": {
     "start_time": "2023-04-26T00:31:47.386510Z",
     "end_time": "2023-04-26T00:31:47.389335Z"
    }
   }
  },
  {
   "cell_type": "markdown",
   "source": [
    "### Circle\n"
   ],
   "metadata": {
    "collapsed": false
   }
  },
  {
   "cell_type": "code",
   "execution_count": 8,
   "outputs": [
    {
     "data": {
      "text/plain": "<IPython.core.display.SVG object>",
      "image/svg+xml": "<svg xmlns=\"http://www.w3.org/2000/svg\" width=\"100%\" height=\"100%\" viewBox=\"-10 -10 120 120\" style=\"background-color: white\"><rect x=\"-5\" y=\"-5\" width=\"110\" height=\"110\" fill=\"none\" stroke=\"black\" stroke-width=\"1\"/><circle cx=\"50\" cy=\"50\" r=\"50\" fill=\"yellow\"/></svg>"
     },
     "metadata": {},
     "output_type": "display_data"
    }
   ],
   "source": [
    "def draw_circle(x, y, radius, color='black'):\n",
    "    \"\"\"Draw a circle with the given coordinates and radius.\"\"\"\n",
    "    # Draw the circle\n",
    "    string = f'<circle cx=\"{x}\" cy=\"{y}\" r=\"{radius}\" fill=\"{color}\" />'\n",
    "    return string\n",
    "\n",
    "show_svg(draw_circle(50, 50, 50, 'yellow'))\n"
   ],
   "metadata": {
    "collapsed": false,
    "ExecuteTime": {
     "start_time": "2023-04-26T00:31:48.719287Z",
     "end_time": "2023-04-26T00:31:48.722525Z"
    }
   }
  },
  {
   "cell_type": "markdown",
   "source": [
    "## A combination"
   ],
   "metadata": {
    "collapsed": false
   }
  },
  {
   "cell_type": "code",
   "execution_count": 9,
   "outputs": [
    {
     "data": {
      "text/plain": "<IPython.core.display.SVG object>",
      "image/svg+xml": "<svg xmlns=\"http://www.w3.org/2000/svg\" width=\"100%\" height=\"100%\" viewBox=\"-10 -10 120 120\" style=\"background-color: white\"><rect x=\"-5\" y=\"-5\" width=\"110\" height=\"110\" fill=\"none\" stroke=\"black\" stroke-width=\"1\"/><rect x=\"0\" y=\"0\" width=\"100\" height=\"100\" fill=\"lightblue\"/><circle cx=\"50\" cy=\"50\" r=\"50\" fill=\"lightyellow\"/></svg>"
     },
     "metadata": {},
     "output_type": "display_data"
    }
   ],
   "source": [
    "start = draw_rectangle(0, 0, 100, 100, 'lightblue')\n",
    "second = draw_circle(50, 50, 50, 'lightyellow')\n",
    "start += second\n",
    "\n",
    "show_svg(start)"
   ],
   "metadata": {
    "collapsed": false,
    "ExecuteTime": {
     "start_time": "2023-04-26T00:31:49.985566Z",
     "end_time": "2023-04-26T00:31:49.989443Z"
    }
   }
  },
  {
   "cell_type": "markdown",
   "source": [
    "# Draw Splashes\n"
   ],
   "metadata": {
    "collapsed": false
   }
  },
  {
   "cell_type": "code",
   "execution_count": 10,
   "outputs": [
    {
     "data": {
      "text/plain": "<IPython.core.display.SVG object>",
      "image/svg+xml": "<svg xmlns=\"http://www.w3.org/2000/svg\" width=\"100%\" height=\"100%\" viewBox=\"-10 -10 120 120\" style=\"background-color: white\"><rect x=\"-5\" y=\"-5\" width=\"110\" height=\"110\" fill=\"none\" stroke=\"black\" stroke-width=\"1\"/><circle cx=\"36\" cy=\"24\" r=\"29\" fill=\"black\"/><circle cx=\"53\" cy=\"60\" r=\"25\" fill=\"black\"/><circle cx=\"28\" cy=\"73\" r=\"25\" fill=\"black\"/><circle cx=\"34\" cy=\"66\" r=\"12\" fill=\"black\"/><circle cx=\"28\" cy=\"45\" r=\"16\" fill=\"black\"/></svg>"
     },
     "metadata": {},
     "output_type": "display_data"
    }
   ],
   "source": [
    "def draw_circles(n=5, color='black'):\n",
    "    \"\"\"Draw n circles with different radii.\"\"\"\n",
    "    svg = ''\n",
    "    for i in range(n):\n",
    "        # Generate random coordinates\n",
    "        x = random.randint(20, 80)\n",
    "        y = random.randint(20, 80)\n",
    "        # Generate a random radius\n",
    "        radius = random.randint(10, 30)\n",
    "        # Draw the circle\n",
    "        svg += draw_circle(x, y, radius, color)\n",
    "    return svg\n",
    "\n",
    "show_svg(draw_circles())"
   ],
   "metadata": {
    "collapsed": false,
    "ExecuteTime": {
     "start_time": "2023-04-26T00:31:51.320557Z",
     "end_time": "2023-04-26T00:31:51.325243Z"
    }
   }
  },
  {
   "cell_type": "code",
   "execution_count": 11,
   "outputs": [
    {
     "data": {
      "text/plain": "<IPython.core.display.SVG object>",
      "image/svg+xml": "<svg xmlns=\"http://www.w3.org/2000/svg\" width=\"100%\" height=\"100%\" viewBox=\"-10 -10 120 120\" style=\"background-color: white\"><rect x=\"-5\" y=\"-5\" width=\"110\" height=\"110\" fill=\"none\" stroke=\"black\" stroke-width=\"1\"/><circle cx=\"29\" cy=\"68\" r=\"30\" fill=\"black\"/><circle cx=\"58\" cy=\"43\" r=\"18\" fill=\"black\"/><circle cx=\"20\" cy=\"61\" r=\"30\" fill=\"black\"/><circle cx=\"26\" cy=\"47\" r=\"15\" fill=\"black\"/><circle cx=\"65\" cy=\"21\" r=\"29\" fill=\"black\"/></svg>"
     },
     "metadata": {},
     "output_type": "display_data"
    }
   ],
   "source": [
    "colors = ['lightyellow', 'lightblue', 'lightgreen']\n",
    "\n",
    "def draw_circles_colored(n=5):\n",
    "    \"\"\"Draw n circles with different radii and color.\"\"\"\n",
    "    svg = ''\n",
    "    for i in range(n):\n",
    "        # Generate random coordinates\n",
    "        x = random.randint(10, 90)\n",
    "        y = random.randint(10, 90)\n",
    "        # Generate a random radius\n",
    "        radius = random.randint(10, 40)\n",
    "        # Draw the circle\n",
    "        svg += draw_circle(x, y, radius, random.choice(colors))\n",
    "    return svg\n",
    "\n",
    "show_svg(draw_circles())"
   ],
   "metadata": {
    "collapsed": false,
    "ExecuteTime": {
     "start_time": "2023-04-26T00:31:52.440154Z",
     "end_time": "2023-04-26T00:31:52.443942Z"
    }
   }
  },
  {
   "cell_type": "markdown",
   "source": [
    "# Animation test"
   ],
   "metadata": {
    "collapsed": false
   }
  },
  {
   "cell_type": "code",
   "execution_count": 12,
   "outputs": [
    {
     "data": {
      "text/plain": "<IPython.core.display.SVG object>",
      "image/svg+xml": "<svg xmlns=\"http://www.w3.org/2000/svg\" width=\"100%\" height=\"100%\" viewBox=\"-10 -10 120 120\" style=\"background-color: white\"><rect x=\"-5\" y=\"-5\" width=\"110\" height=\"110\" fill=\"none\" stroke=\"black\" stroke-width=\"1\"/><circle cx=\"66\" cy=\"90\" r=\"15\" fill=\"lightgreen\"/><circle cx=\"65\" cy=\"29\" r=\"17\" fill=\"lightblue\"/><circle cx=\"46\" cy=\"54\" r=\"40\" fill=\"lightgreen\"/></svg>"
     },
     "metadata": {},
     "output_type": "display_data"
    },
    {
     "data": {
      "text/plain": "<IPython.core.display.SVG object>",
      "image/svg+xml": "<svg xmlns=\"http://www.w3.org/2000/svg\" width=\"100%\" height=\"100%\" viewBox=\"-10 -10 120 120\" style=\"background-color: white\"><rect x=\"-5\" y=\"-5\" width=\"110\" height=\"110\" fill=\"none\" stroke=\"black\" stroke-width=\"1\"/><circle cx=\"36\" cy=\"21\" r=\"26\" fill=\"lightgreen\"/><circle cx=\"13\" cy=\"48\" r=\"17\" fill=\"lightyellow\"/><circle cx=\"48\" cy=\"40\" r=\"31\" fill=\"lightyellow\"/></svg>"
     },
     "metadata": {},
     "output_type": "display_data"
    }
   ],
   "source": [
    "for i in range(2):\n",
    "    show_svg(draw_circles_colored(3))\n",
    "    # Erase the SVG image"
   ],
   "metadata": {
    "collapsed": false,
    "ExecuteTime": {
     "start_time": "2023-04-26T00:31:54.598015Z",
     "end_time": "2023-04-26T00:31:54.605716Z"
    }
   }
  },
  {
   "cell_type": "markdown",
   "source": [
    "# Draw a ring\n"
   ],
   "metadata": {
    "collapsed": false
   }
  },
  {
   "cell_type": "code",
   "execution_count": 13,
   "outputs": [
    {
     "data": {
      "text/plain": "<IPython.core.display.SVG object>",
      "image/svg+xml": "<svg xmlns=\"http://www.w3.org/2000/svg\" width=\"100%\" height=\"100%\" viewBox=\"-10 -10 120 120\" style=\"background-color: white\"><rect x=\"-5\" y=\"-5\" width=\"110\" height=\"110\" fill=\"none\" stroke=\"black\" stroke-width=\"1\"/><circle cx=\"50\" cy=\"50\" r=\"9\" fill=\"black\"/><circle cx=\"50\" cy=\"50\" r=\"7.5\" fill=\"white\"/><circle cx=\"50\" cy=\"50\" r=\"6.9230769230769225\" fill=\"black\"/><circle cx=\"50\" cy=\"50\" r=\"4.5\" fill=\"white\"/><circle cx=\"50\" cy=\"50\" r=\"4.090909090909091\" fill=\"black\"/><circle cx=\"50\" cy=\"50\" r=\"31\" fill=\"black\"/><circle cx=\"50\" cy=\"50\" r=\"25.833333333333336\" fill=\"white\"/><circle cx=\"50\" cy=\"50\" r=\"23.846153846153847\" fill=\"black\"/><circle cx=\"50\" cy=\"50\" r=\"15.5\" fill=\"white\"/><circle cx=\"50\" cy=\"50\" r=\"14.09090909090909\" fill=\"black\"/></svg>"
     },
     "metadata": {},
     "output_type": "display_data"
    }
   ],
   "source": [
    "def draw_rings(n=2, color='black'):\n",
    "    \"\"\"Draw n rings with different radii.\"\"\"\n",
    "    svg = ''\n",
    "    for i in range(n):\n",
    "        # Generate random coordinates\n",
    "        x = 50   # x = random.randint(0, 100)\n",
    "        y = 50   # y = random.randint(0, 100)\n",
    "        # Generate a random radius\n",
    "        radius = random.randint(0, 50)\n",
    "        # Draw the circle\n",
    "        svg += draw_circle(x, y, radius, color)\n",
    "        # Draw the circle\n",
    "        svg += draw_circle(x, y, radius / 1.2, 'white')\n",
    "        # Draw the circle\n",
    "        svg += draw_circle(x, y, radius / 1.3, color)\n",
    "        # Draw the circle\n",
    "        svg += draw_circle(x, y, radius / 2, 'white')\n",
    "        # Draw the circle\n",
    "        svg += draw_circle(x, y, radius / 2.2, color)\n",
    "    return svg\n",
    "\n",
    "show_svg(draw_rings())"
   ],
   "metadata": {
    "collapsed": false,
    "ExecuteTime": {
     "start_time": "2023-04-26T00:31:56.394665Z",
     "end_time": "2023-04-26T00:31:56.398254Z"
    }
   }
  },
  {
   "cell_type": "markdown",
   "source": [
    "# Arcs\n"
   ],
   "metadata": {
    "collapsed": false
   }
  },
  {
   "cell_type": "code",
   "execution_count": 14,
   "outputs": [
    {
     "data": {
      "text/plain": "<IPython.core.display.SVG object>",
      "image/svg+xml": "<svg xmlns=\"http://www.w3.org/2000/svg\" width=\"100%\" height=\"100%\" viewBox=\"-10 -10 120 120\" style=\"background-color: white\"><rect x=\"-5\" y=\"-5\" width=\"110\" height=\"110\" fill=\"none\" stroke=\"black\" stroke-width=\"1\"/><path d=\"M 50 50 m 0 -50 a 50 50 0 1 1 0 100 a 50 50 0 1 1 0 -100\" fill=\"none\" stroke=\"red\" stroke-width=\"1\" transform=\"rotate(0 50 50)\"/></svg>"
     },
     "metadata": {},
     "output_type": "display_data"
    }
   ],
   "source": [
    "# Draw an arc\n",
    "def draw_arc(x, y, radius, start_angle, end_angle, color='black'):\n",
    "    \"\"\"Draw an arc with the given coordinates and radius.\"\"\"\n",
    "    # Draw the arc\n",
    "    svg = f'<path d=\"M {x} {y} m 0 -{radius} a {radius} {radius} 0 1 1 0 {radius * 2} a {radius} {radius} 0 1 1 0 -{radius * 2}\" fill=\"none\" stroke=\"{color}\" stroke-width=\"1\" transform=\"rotate({start_angle} {x} {y})\" />'\n",
    "    return svg\n",
    "\n",
    "show_svg(draw_arc(50, 50, 50, 0, 90, 'red'))\n",
    "\n"
   ],
   "metadata": {
    "collapsed": false,
    "ExecuteTime": {
     "start_time": "2023-04-26T00:31:58.163085Z",
     "end_time": "2023-04-26T00:31:58.168455Z"
    }
   }
  },
  {
   "cell_type": "markdown",
   "source": [],
   "metadata": {
    "collapsed": false
   }
  },
  {
   "cell_type": "markdown",
   "source": [
    "## Patterns"
   ],
   "metadata": {
    "collapsed": false
   }
  },
  {
   "cell_type": "code",
   "execution_count": 15,
   "outputs": [
    {
     "data": {
      "text/plain": "<IPython.core.display.SVG object>",
      "image/svg+xml": "<svg xmlns=\"http://www.w3.org/2000/svg\" width=\"100%\" height=\"100%\" viewBox=\"-10 -10 120 120\" style=\"background-color: white\"><rect x=\"-5\" y=\"-5\" width=\"110\" height=\"110\" fill=\"none\" stroke=\"black\" stroke-width=\"1\"/><rect x=\"0\" y=\"0\" width=\"10\" height=\"10\" fill=\"green\"/><rect x=\"0\" y=\"10\" width=\"10\" height=\"10\" fill=\"orange\"/><rect x=\"0\" y=\"20\" width=\"10\" height=\"10\" fill=\"green\"/><rect x=\"0\" y=\"30\" width=\"10\" height=\"10\" fill=\"orange\"/><rect x=\"0\" y=\"40\" width=\"10\" height=\"10\" fill=\"green\"/><rect x=\"0\" y=\"50\" width=\"10\" height=\"10\" fill=\"blue\"/><rect x=\"0\" y=\"60\" width=\"10\" height=\"10\" fill=\"green\"/><rect x=\"0\" y=\"70\" width=\"10\" height=\"10\" fill=\"green\"/><rect x=\"0\" y=\"80\" width=\"10\" height=\"10\" fill=\"blue\"/><rect x=\"0\" y=\"90\" width=\"10\" height=\"10\" fill=\"orange\"/><rect x=\"0\" y=\"100\" width=\"10\" height=\"10\" fill=\"orange\"/><rect x=\"0\" y=\"110\" width=\"10\" height=\"10\" fill=\"blue\"/><rect x=\"0\" y=\"120\" width=\"10\" height=\"10\" fill=\"green\"/><rect x=\"0\" y=\"130\" width=\"10\" height=\"10\" fill=\"blue\"/><rect x=\"0\" y=\"140\" width=\"10\" height=\"10\" fill=\"blue\"/><rect x=\"0\" y=\"150\" width=\"10\" height=\"10\" fill=\"green\"/><rect x=\"0\" y=\"160\" width=\"10\" height=\"10\" fill=\"orange\"/><rect x=\"0\" y=\"170\" width=\"10\" height=\"10\" fill=\"green\"/><rect x=\"0\" y=\"180\" width=\"10\" height=\"10\" fill=\"orange\"/><rect x=\"0\" y=\"190\" width=\"10\" height=\"10\" fill=\"blue\"/><rect x=\"10\" y=\"0\" width=\"10\" height=\"10\" fill=\"blue\"/><rect x=\"10\" y=\"10\" width=\"10\" height=\"10\" fill=\"orange\"/><rect x=\"10\" y=\"20\" width=\"10\" height=\"10\" fill=\"blue\"/><rect x=\"10\" y=\"30\" width=\"10\" height=\"10\" fill=\"green\"/><rect x=\"10\" y=\"40\" width=\"10\" height=\"10\" fill=\"green\"/><rect x=\"10\" y=\"50\" width=\"10\" height=\"10\" fill=\"blue\"/><rect x=\"10\" y=\"60\" width=\"10\" height=\"10\" fill=\"blue\"/><rect x=\"10\" y=\"70\" width=\"10\" height=\"10\" fill=\"green\"/><rect x=\"10\" y=\"80\" width=\"10\" height=\"10\" fill=\"green\"/><rect x=\"10\" y=\"90\" width=\"10\" height=\"10\" fill=\"orange\"/><rect x=\"10\" y=\"100\" width=\"10\" height=\"10\" fill=\"orange\"/><rect x=\"10\" y=\"110\" width=\"10\" height=\"10\" fill=\"orange\"/><rect x=\"10\" y=\"120\" width=\"10\" height=\"10\" fill=\"blue\"/><rect x=\"10\" y=\"130\" width=\"10\" height=\"10\" fill=\"green\"/><rect x=\"10\" y=\"140\" width=\"10\" height=\"10\" fill=\"green\"/><rect x=\"10\" y=\"150\" width=\"10\" height=\"10\" fill=\"green\"/><rect x=\"10\" y=\"160\" width=\"10\" height=\"10\" fill=\"blue\"/><rect x=\"10\" y=\"170\" width=\"10\" height=\"10\" fill=\"green\"/><rect x=\"10\" y=\"180\" width=\"10\" height=\"10\" fill=\"orange\"/><rect x=\"10\" y=\"190\" width=\"10\" height=\"10\" fill=\"green\"/><rect x=\"20\" y=\"0\" width=\"10\" height=\"10\" fill=\"orange\"/><rect x=\"20\" y=\"10\" width=\"10\" height=\"10\" fill=\"blue\"/><rect x=\"20\" y=\"20\" width=\"10\" height=\"10\" fill=\"orange\"/><rect x=\"20\" y=\"30\" width=\"10\" height=\"10\" fill=\"orange\"/><rect x=\"20\" y=\"40\" width=\"10\" height=\"10\" fill=\"orange\"/><rect x=\"20\" y=\"50\" width=\"10\" height=\"10\" fill=\"green\"/><rect x=\"20\" y=\"60\" width=\"10\" height=\"10\" fill=\"blue\"/><rect x=\"20\" y=\"70\" width=\"10\" height=\"10\" fill=\"green\"/><rect x=\"20\" y=\"80\" width=\"10\" height=\"10\" fill=\"orange\"/><rect x=\"20\" y=\"90\" width=\"10\" height=\"10\" fill=\"orange\"/><rect x=\"20\" y=\"100\" width=\"10\" height=\"10\" fill=\"green\"/><rect x=\"20\" y=\"110\" width=\"10\" height=\"10\" fill=\"blue\"/><rect x=\"20\" y=\"120\" width=\"10\" height=\"10\" fill=\"blue\"/><rect x=\"20\" y=\"130\" width=\"10\" height=\"10\" fill=\"blue\"/><rect x=\"20\" y=\"140\" width=\"10\" height=\"10\" fill=\"green\"/><rect x=\"20\" y=\"150\" width=\"10\" height=\"10\" fill=\"orange\"/><rect x=\"20\" y=\"160\" width=\"10\" height=\"10\" fill=\"green\"/><rect x=\"20\" y=\"170\" width=\"10\" height=\"10\" fill=\"orange\"/><rect x=\"20\" y=\"180\" width=\"10\" height=\"10\" fill=\"blue\"/><rect x=\"20\" y=\"190\" width=\"10\" height=\"10\" fill=\"green\"/><rect x=\"30\" y=\"0\" width=\"10\" height=\"10\" fill=\"green\"/><rect x=\"30\" y=\"10\" width=\"10\" height=\"10\" fill=\"blue\"/><rect x=\"30\" y=\"20\" width=\"10\" height=\"10\" fill=\"green\"/><rect x=\"30\" y=\"30\" width=\"10\" height=\"10\" fill=\"blue\"/><rect x=\"30\" y=\"40\" width=\"10\" height=\"10\" fill=\"orange\"/><rect x=\"30\" y=\"50\" width=\"10\" height=\"10\" fill=\"blue\"/><rect x=\"30\" y=\"60\" width=\"10\" height=\"10\" fill=\"orange\"/><rect x=\"30\" y=\"70\" width=\"10\" height=\"10\" fill=\"green\"/><rect x=\"30\" y=\"80\" width=\"10\" height=\"10\" fill=\"green\"/><rect x=\"30\" y=\"90\" width=\"10\" height=\"10\" fill=\"blue\"/><rect x=\"30\" y=\"100\" width=\"10\" height=\"10\" fill=\"blue\"/><rect x=\"30\" y=\"110\" width=\"10\" height=\"10\" fill=\"green\"/><rect x=\"30\" y=\"120\" width=\"10\" height=\"10\" fill=\"green\"/><rect x=\"30\" y=\"130\" width=\"10\" height=\"10\" fill=\"blue\"/><rect x=\"30\" y=\"140\" width=\"10\" height=\"10\" fill=\"blue\"/><rect x=\"30\" y=\"150\" width=\"10\" height=\"10\" fill=\"blue\"/><rect x=\"30\" y=\"160\" width=\"10\" height=\"10\" fill=\"green\"/><rect x=\"30\" y=\"170\" width=\"10\" height=\"10\" fill=\"green\"/><rect x=\"30\" y=\"180\" width=\"10\" height=\"10\" fill=\"blue\"/><rect x=\"30\" y=\"190\" width=\"10\" height=\"10\" fill=\"blue\"/><rect x=\"40\" y=\"0\" width=\"10\" height=\"10\" fill=\"green\"/><rect x=\"40\" y=\"10\" width=\"10\" height=\"10\" fill=\"green\"/><rect x=\"40\" y=\"20\" width=\"10\" height=\"10\" fill=\"blue\"/><rect x=\"40\" y=\"30\" width=\"10\" height=\"10\" fill=\"blue\"/><rect x=\"40\" y=\"40\" width=\"10\" height=\"10\" fill=\"orange\"/><rect x=\"40\" y=\"50\" width=\"10\" height=\"10\" fill=\"orange\"/><rect x=\"40\" y=\"60\" width=\"10\" height=\"10\" fill=\"orange\"/><rect x=\"40\" y=\"70\" width=\"10\" height=\"10\" fill=\"blue\"/><rect x=\"40\" y=\"80\" width=\"10\" height=\"10\" fill=\"blue\"/><rect x=\"40\" y=\"90\" width=\"10\" height=\"10\" fill=\"blue\"/><rect x=\"40\" y=\"100\" width=\"10\" height=\"10\" fill=\"green\"/><rect x=\"40\" y=\"110\" width=\"10\" height=\"10\" fill=\"orange\"/><rect x=\"40\" y=\"120\" width=\"10\" height=\"10\" fill=\"green\"/><rect x=\"40\" y=\"130\" width=\"10\" height=\"10\" fill=\"blue\"/><rect x=\"40\" y=\"140\" width=\"10\" height=\"10\" fill=\"orange\"/><rect x=\"40\" y=\"150\" width=\"10\" height=\"10\" fill=\"green\"/><rect x=\"40\" y=\"160\" width=\"10\" height=\"10\" fill=\"orange\"/><rect x=\"40\" y=\"170\" width=\"10\" height=\"10\" fill=\"green\"/><rect x=\"40\" y=\"180\" width=\"10\" height=\"10\" fill=\"blue\"/><rect x=\"40\" y=\"190\" width=\"10\" height=\"10\" fill=\"orange\"/><rect x=\"50\" y=\"0\" width=\"10\" height=\"10\" fill=\"green\"/><rect x=\"50\" y=\"10\" width=\"10\" height=\"10\" fill=\"blue\"/><rect x=\"50\" y=\"20\" width=\"10\" height=\"10\" fill=\"green\"/><rect x=\"50\" y=\"30\" width=\"10\" height=\"10\" fill=\"orange\"/><rect x=\"50\" y=\"40\" width=\"10\" height=\"10\" fill=\"blue\"/><rect x=\"50\" y=\"50\" width=\"10\" height=\"10\" fill=\"orange\"/><rect x=\"50\" y=\"60\" width=\"10\" height=\"10\" fill=\"blue\"/><rect x=\"50\" y=\"70\" width=\"10\" height=\"10\" fill=\"blue\"/><rect x=\"50\" y=\"80\" width=\"10\" height=\"10\" fill=\"blue\"/><rect x=\"50\" y=\"90\" width=\"10\" height=\"10\" fill=\"blue\"/><rect x=\"50\" y=\"100\" width=\"10\" height=\"10\" fill=\"green\"/><rect x=\"50\" y=\"110\" width=\"10\" height=\"10\" fill=\"blue\"/><rect x=\"50\" y=\"120\" width=\"10\" height=\"10\" fill=\"orange\"/><rect x=\"50\" y=\"130\" width=\"10\" height=\"10\" fill=\"blue\"/><rect x=\"50\" y=\"140\" width=\"10\" height=\"10\" fill=\"blue\"/><rect x=\"50\" y=\"150\" width=\"10\" height=\"10\" fill=\"green\"/><rect x=\"50\" y=\"160\" width=\"10\" height=\"10\" fill=\"blue\"/><rect x=\"50\" y=\"170\" width=\"10\" height=\"10\" fill=\"blue\"/><rect x=\"50\" y=\"180\" width=\"10\" height=\"10\" fill=\"green\"/><rect x=\"50\" y=\"190\" width=\"10\" height=\"10\" fill=\"green\"/><rect x=\"60\" y=\"0\" width=\"10\" height=\"10\" fill=\"orange\"/><rect x=\"60\" y=\"10\" width=\"10\" height=\"10\" fill=\"blue\"/><rect x=\"60\" y=\"20\" width=\"10\" height=\"10\" fill=\"green\"/><rect x=\"60\" y=\"30\" width=\"10\" height=\"10\" fill=\"blue\"/><rect x=\"60\" y=\"40\" width=\"10\" height=\"10\" fill=\"orange\"/><rect x=\"60\" y=\"50\" width=\"10\" height=\"10\" fill=\"orange\"/><rect x=\"60\" y=\"60\" width=\"10\" height=\"10\" fill=\"blue\"/><rect x=\"60\" y=\"70\" width=\"10\" height=\"10\" fill=\"green\"/><rect x=\"60\" y=\"80\" width=\"10\" height=\"10\" fill=\"blue\"/><rect x=\"60\" y=\"90\" width=\"10\" height=\"10\" fill=\"blue\"/><rect x=\"60\" y=\"100\" width=\"10\" height=\"10\" fill=\"orange\"/><rect x=\"60\" y=\"110\" width=\"10\" height=\"10\" fill=\"orange\"/><rect x=\"60\" y=\"120\" width=\"10\" height=\"10\" fill=\"green\"/><rect x=\"60\" y=\"130\" width=\"10\" height=\"10\" fill=\"blue\"/><rect x=\"60\" y=\"140\" width=\"10\" height=\"10\" fill=\"green\"/><rect x=\"60\" y=\"150\" width=\"10\" height=\"10\" fill=\"blue\"/><rect x=\"60\" y=\"160\" width=\"10\" height=\"10\" fill=\"orange\"/><rect x=\"60\" y=\"170\" width=\"10\" height=\"10\" fill=\"orange\"/><rect x=\"60\" y=\"180\" width=\"10\" height=\"10\" fill=\"blue\"/><rect x=\"60\" y=\"190\" width=\"10\" height=\"10\" fill=\"orange\"/><rect x=\"70\" y=\"0\" width=\"10\" height=\"10\" fill=\"orange\"/><rect x=\"70\" y=\"10\" width=\"10\" height=\"10\" fill=\"blue\"/><rect x=\"70\" y=\"20\" width=\"10\" height=\"10\" fill=\"orange\"/><rect x=\"70\" y=\"30\" width=\"10\" height=\"10\" fill=\"orange\"/><rect x=\"70\" y=\"40\" width=\"10\" height=\"10\" fill=\"blue\"/><rect x=\"70\" y=\"50\" width=\"10\" height=\"10\" fill=\"blue\"/><rect x=\"70\" y=\"60\" width=\"10\" height=\"10\" fill=\"orange\"/><rect x=\"70\" y=\"70\" width=\"10\" height=\"10\" fill=\"blue\"/><rect x=\"70\" y=\"80\" width=\"10\" height=\"10\" fill=\"orange\"/><rect x=\"70\" y=\"90\" width=\"10\" height=\"10\" fill=\"orange\"/><rect x=\"70\" y=\"100\" width=\"10\" height=\"10\" fill=\"blue\"/><rect x=\"70\" y=\"110\" width=\"10\" height=\"10\" fill=\"green\"/><rect x=\"70\" y=\"120\" width=\"10\" height=\"10\" fill=\"green\"/><rect x=\"70\" y=\"130\" width=\"10\" height=\"10\" fill=\"green\"/><rect x=\"70\" y=\"140\" width=\"10\" height=\"10\" fill=\"orange\"/><rect x=\"70\" y=\"150\" width=\"10\" height=\"10\" fill=\"blue\"/><rect x=\"70\" y=\"160\" width=\"10\" height=\"10\" fill=\"blue\"/><rect x=\"70\" y=\"170\" width=\"10\" height=\"10\" fill=\"green\"/><rect x=\"70\" y=\"180\" width=\"10\" height=\"10\" fill=\"orange\"/><rect x=\"70\" y=\"190\" width=\"10\" height=\"10\" fill=\"blue\"/><rect x=\"80\" y=\"0\" width=\"10\" height=\"10\" fill=\"green\"/><rect x=\"80\" y=\"10\" width=\"10\" height=\"10\" fill=\"green\"/><rect x=\"80\" y=\"20\" width=\"10\" height=\"10\" fill=\"blue\"/><rect x=\"80\" y=\"30\" width=\"10\" height=\"10\" fill=\"orange\"/><rect x=\"80\" y=\"40\" width=\"10\" height=\"10\" fill=\"green\"/><rect x=\"80\" y=\"50\" width=\"10\" height=\"10\" fill=\"blue\"/><rect x=\"80\" y=\"60\" width=\"10\" height=\"10\" fill=\"blue\"/><rect x=\"80\" y=\"70\" width=\"10\" height=\"10\" fill=\"orange\"/><rect x=\"80\" y=\"80\" width=\"10\" height=\"10\" fill=\"orange\"/><rect x=\"80\" y=\"90\" width=\"10\" height=\"10\" fill=\"blue\"/><rect x=\"80\" y=\"100\" width=\"10\" height=\"10\" fill=\"blue\"/><rect x=\"80\" y=\"110\" width=\"10\" height=\"10\" fill=\"blue\"/><rect x=\"80\" y=\"120\" width=\"10\" height=\"10\" fill=\"blue\"/><rect x=\"80\" y=\"130\" width=\"10\" height=\"10\" fill=\"green\"/><rect x=\"80\" y=\"140\" width=\"10\" height=\"10\" fill=\"blue\"/><rect x=\"80\" y=\"150\" width=\"10\" height=\"10\" fill=\"green\"/><rect x=\"80\" y=\"160\" width=\"10\" height=\"10\" fill=\"blue\"/><rect x=\"80\" y=\"170\" width=\"10\" height=\"10\" fill=\"blue\"/><rect x=\"80\" y=\"180\" width=\"10\" height=\"10\" fill=\"green\"/><rect x=\"80\" y=\"190\" width=\"10\" height=\"10\" fill=\"blue\"/><rect x=\"90\" y=\"0\" width=\"10\" height=\"10\" fill=\"orange\"/><rect x=\"90\" y=\"10\" width=\"10\" height=\"10\" fill=\"orange\"/><rect x=\"90\" y=\"20\" width=\"10\" height=\"10\" fill=\"orange\"/><rect x=\"90\" y=\"30\" width=\"10\" height=\"10\" fill=\"green\"/><rect x=\"90\" y=\"40\" width=\"10\" height=\"10\" fill=\"blue\"/><rect x=\"90\" y=\"50\" width=\"10\" height=\"10\" fill=\"orange\"/><rect x=\"90\" y=\"60\" width=\"10\" height=\"10\" fill=\"orange\"/><rect x=\"90\" y=\"70\" width=\"10\" height=\"10\" fill=\"orange\"/><rect x=\"90\" y=\"80\" width=\"10\" height=\"10\" fill=\"orange\"/><rect x=\"90\" y=\"90\" width=\"10\" height=\"10\" fill=\"blue\"/><rect x=\"90\" y=\"100\" width=\"10\" height=\"10\" fill=\"orange\"/><rect x=\"90\" y=\"110\" width=\"10\" height=\"10\" fill=\"green\"/><rect x=\"90\" y=\"120\" width=\"10\" height=\"10\" fill=\"green\"/><rect x=\"90\" y=\"130\" width=\"10\" height=\"10\" fill=\"orange\"/><rect x=\"90\" y=\"140\" width=\"10\" height=\"10\" fill=\"blue\"/><rect x=\"90\" y=\"150\" width=\"10\" height=\"10\" fill=\"orange\"/><rect x=\"90\" y=\"160\" width=\"10\" height=\"10\" fill=\"green\"/><rect x=\"90\" y=\"170\" width=\"10\" height=\"10\" fill=\"orange\"/><rect x=\"90\" y=\"180\" width=\"10\" height=\"10\" fill=\"green\"/><rect x=\"90\" y=\"190\" width=\"10\" height=\"10\" fill=\"blue\"/><rect x=\"100\" y=\"0\" width=\"10\" height=\"10\" fill=\"blue\"/><rect x=\"100\" y=\"10\" width=\"10\" height=\"10\" fill=\"blue\"/><rect x=\"100\" y=\"20\" width=\"10\" height=\"10\" fill=\"orange\"/><rect x=\"100\" y=\"30\" width=\"10\" height=\"10\" fill=\"green\"/><rect x=\"100\" y=\"40\" width=\"10\" height=\"10\" fill=\"green\"/><rect x=\"100\" y=\"50\" width=\"10\" height=\"10\" fill=\"blue\"/><rect x=\"100\" y=\"60\" width=\"10\" height=\"10\" fill=\"orange\"/><rect x=\"100\" y=\"70\" width=\"10\" height=\"10\" fill=\"green\"/><rect x=\"100\" y=\"80\" width=\"10\" height=\"10\" fill=\"green\"/><rect x=\"100\" y=\"90\" width=\"10\" height=\"10\" fill=\"blue\"/><rect x=\"100\" y=\"100\" width=\"10\" height=\"10\" fill=\"orange\"/><rect x=\"100\" y=\"110\" width=\"10\" height=\"10\" fill=\"green\"/><rect x=\"100\" y=\"120\" width=\"10\" height=\"10\" fill=\"green\"/><rect x=\"100\" y=\"130\" width=\"10\" height=\"10\" fill=\"orange\"/><rect x=\"100\" y=\"140\" width=\"10\" height=\"10\" fill=\"orange\"/><rect x=\"100\" y=\"150\" width=\"10\" height=\"10\" fill=\"blue\"/><rect x=\"100\" y=\"160\" width=\"10\" height=\"10\" fill=\"green\"/><rect x=\"100\" y=\"170\" width=\"10\" height=\"10\" fill=\"orange\"/><rect x=\"100\" y=\"180\" width=\"10\" height=\"10\" fill=\"blue\"/><rect x=\"100\" y=\"190\" width=\"10\" height=\"10\" fill=\"blue\"/><rect x=\"110\" y=\"0\" width=\"10\" height=\"10\" fill=\"green\"/><rect x=\"110\" y=\"10\" width=\"10\" height=\"10\" fill=\"green\"/><rect x=\"110\" y=\"20\" width=\"10\" height=\"10\" fill=\"blue\"/><rect x=\"110\" y=\"30\" width=\"10\" height=\"10\" fill=\"green\"/><rect x=\"110\" y=\"40\" width=\"10\" height=\"10\" fill=\"green\"/><rect x=\"110\" y=\"50\" width=\"10\" height=\"10\" fill=\"blue\"/><rect x=\"110\" y=\"60\" width=\"10\" height=\"10\" fill=\"orange\"/><rect x=\"110\" y=\"70\" width=\"10\" height=\"10\" fill=\"orange\"/><rect x=\"110\" y=\"80\" width=\"10\" height=\"10\" fill=\"orange\"/><rect x=\"110\" y=\"90\" width=\"10\" height=\"10\" fill=\"blue\"/><rect x=\"110\" y=\"100\" width=\"10\" height=\"10\" fill=\"blue\"/><rect x=\"110\" y=\"110\" width=\"10\" height=\"10\" fill=\"green\"/><rect x=\"110\" y=\"120\" width=\"10\" height=\"10\" fill=\"orange\"/><rect x=\"110\" y=\"130\" width=\"10\" height=\"10\" fill=\"green\"/><rect x=\"110\" y=\"140\" width=\"10\" height=\"10\" fill=\"orange\"/><rect x=\"110\" y=\"150\" width=\"10\" height=\"10\" fill=\"green\"/><rect x=\"110\" y=\"160\" width=\"10\" height=\"10\" fill=\"green\"/><rect x=\"110\" y=\"170\" width=\"10\" height=\"10\" fill=\"blue\"/><rect x=\"110\" y=\"180\" width=\"10\" height=\"10\" fill=\"orange\"/><rect x=\"110\" y=\"190\" width=\"10\" height=\"10\" fill=\"blue\"/><rect x=\"120\" y=\"0\" width=\"10\" height=\"10\" fill=\"orange\"/><rect x=\"120\" y=\"10\" width=\"10\" height=\"10\" fill=\"green\"/><rect x=\"120\" y=\"20\" width=\"10\" height=\"10\" fill=\"blue\"/><rect x=\"120\" y=\"30\" width=\"10\" height=\"10\" fill=\"orange\"/><rect x=\"120\" y=\"40\" width=\"10\" height=\"10\" fill=\"orange\"/><rect x=\"120\" y=\"50\" width=\"10\" height=\"10\" fill=\"green\"/><rect x=\"120\" y=\"60\" width=\"10\" height=\"10\" fill=\"orange\"/><rect x=\"120\" y=\"70\" width=\"10\" height=\"10\" fill=\"blue\"/><rect x=\"120\" y=\"80\" width=\"10\" height=\"10\" fill=\"green\"/><rect x=\"120\" y=\"90\" width=\"10\" height=\"10\" fill=\"blue\"/><rect x=\"120\" y=\"100\" width=\"10\" height=\"10\" fill=\"orange\"/><rect x=\"120\" y=\"110\" width=\"10\" height=\"10\" fill=\"orange\"/><rect x=\"120\" y=\"120\" width=\"10\" height=\"10\" fill=\"green\"/><rect x=\"120\" y=\"130\" width=\"10\" height=\"10\" fill=\"orange\"/><rect x=\"120\" y=\"140\" width=\"10\" height=\"10\" fill=\"blue\"/><rect x=\"120\" y=\"150\" width=\"10\" height=\"10\" fill=\"green\"/><rect x=\"120\" y=\"160\" width=\"10\" height=\"10\" fill=\"green\"/><rect x=\"120\" y=\"170\" width=\"10\" height=\"10\" fill=\"blue\"/><rect x=\"120\" y=\"180\" width=\"10\" height=\"10\" fill=\"orange\"/><rect x=\"120\" y=\"190\" width=\"10\" height=\"10\" fill=\"blue\"/><rect x=\"130\" y=\"0\" width=\"10\" height=\"10\" fill=\"green\"/><rect x=\"130\" y=\"10\" width=\"10\" height=\"10\" fill=\"orange\"/><rect x=\"130\" y=\"20\" width=\"10\" height=\"10\" fill=\"orange\"/><rect x=\"130\" y=\"30\" width=\"10\" height=\"10\" fill=\"orange\"/><rect x=\"130\" y=\"40\" width=\"10\" height=\"10\" fill=\"blue\"/><rect x=\"130\" y=\"50\" width=\"10\" height=\"10\" fill=\"green\"/><rect x=\"130\" y=\"60\" width=\"10\" height=\"10\" fill=\"green\"/><rect x=\"130\" y=\"70\" width=\"10\" height=\"10\" fill=\"blue\"/><rect x=\"130\" y=\"80\" width=\"10\" height=\"10\" fill=\"blue\"/><rect x=\"130\" y=\"90\" width=\"10\" height=\"10\" fill=\"orange\"/><rect x=\"130\" y=\"100\" width=\"10\" height=\"10\" fill=\"green\"/><rect x=\"130\" y=\"110\" width=\"10\" height=\"10\" fill=\"blue\"/><rect x=\"130\" y=\"120\" width=\"10\" height=\"10\" fill=\"blue\"/><rect x=\"130\" y=\"130\" width=\"10\" height=\"10\" fill=\"orange\"/><rect x=\"130\" y=\"140\" width=\"10\" height=\"10\" fill=\"orange\"/><rect x=\"130\" y=\"150\" width=\"10\" height=\"10\" fill=\"blue\"/><rect x=\"130\" y=\"160\" width=\"10\" height=\"10\" fill=\"green\"/><rect x=\"130\" y=\"170\" width=\"10\" height=\"10\" fill=\"blue\"/><rect x=\"130\" y=\"180\" width=\"10\" height=\"10\" fill=\"orange\"/><rect x=\"130\" y=\"190\" width=\"10\" height=\"10\" fill=\"blue\"/><rect x=\"140\" y=\"0\" width=\"10\" height=\"10\" fill=\"blue\"/><rect x=\"140\" y=\"10\" width=\"10\" height=\"10\" fill=\"green\"/><rect x=\"140\" y=\"20\" width=\"10\" height=\"10\" fill=\"orange\"/><rect x=\"140\" y=\"30\" width=\"10\" height=\"10\" fill=\"blue\"/><rect x=\"140\" y=\"40\" width=\"10\" height=\"10\" fill=\"green\"/><rect x=\"140\" y=\"50\" width=\"10\" height=\"10\" fill=\"blue\"/><rect x=\"140\" y=\"60\" width=\"10\" height=\"10\" fill=\"orange\"/><rect x=\"140\" y=\"70\" width=\"10\" height=\"10\" fill=\"orange\"/><rect x=\"140\" y=\"80\" width=\"10\" height=\"10\" fill=\"green\"/><rect x=\"140\" y=\"90\" width=\"10\" height=\"10\" fill=\"blue\"/><rect x=\"140\" y=\"100\" width=\"10\" height=\"10\" fill=\"green\"/><rect x=\"140\" y=\"110\" width=\"10\" height=\"10\" fill=\"green\"/><rect x=\"140\" y=\"120\" width=\"10\" height=\"10\" fill=\"blue\"/><rect x=\"140\" y=\"130\" width=\"10\" height=\"10\" fill=\"blue\"/><rect x=\"140\" y=\"140\" width=\"10\" height=\"10\" fill=\"orange\"/><rect x=\"140\" y=\"150\" width=\"10\" height=\"10\" fill=\"blue\"/><rect x=\"140\" y=\"160\" width=\"10\" height=\"10\" fill=\"blue\"/><rect x=\"140\" y=\"170\" width=\"10\" height=\"10\" fill=\"blue\"/><rect x=\"140\" y=\"180\" width=\"10\" height=\"10\" fill=\"green\"/><rect x=\"140\" y=\"190\" width=\"10\" height=\"10\" fill=\"green\"/><rect x=\"150\" y=\"0\" width=\"10\" height=\"10\" fill=\"orange\"/><rect x=\"150\" y=\"10\" width=\"10\" height=\"10\" fill=\"orange\"/><rect x=\"150\" y=\"20\" width=\"10\" height=\"10\" fill=\"green\"/><rect x=\"150\" y=\"30\" width=\"10\" height=\"10\" fill=\"orange\"/><rect x=\"150\" y=\"40\" width=\"10\" height=\"10\" fill=\"orange\"/><rect x=\"150\" y=\"50\" width=\"10\" height=\"10\" fill=\"orange\"/><rect x=\"150\" y=\"60\" width=\"10\" height=\"10\" fill=\"blue\"/><rect x=\"150\" y=\"70\" width=\"10\" height=\"10\" fill=\"green\"/><rect x=\"150\" y=\"80\" width=\"10\" height=\"10\" fill=\"green\"/><rect x=\"150\" y=\"90\" width=\"10\" height=\"10\" fill=\"green\"/><rect x=\"150\" y=\"100\" width=\"10\" height=\"10\" fill=\"green\"/><rect x=\"150\" y=\"110\" width=\"10\" height=\"10\" fill=\"orange\"/><rect x=\"150\" y=\"120\" width=\"10\" height=\"10\" fill=\"blue\"/><rect x=\"150\" y=\"130\" width=\"10\" height=\"10\" fill=\"green\"/><rect x=\"150\" y=\"140\" width=\"10\" height=\"10\" fill=\"blue\"/><rect x=\"150\" y=\"150\" width=\"10\" height=\"10\" fill=\"orange\"/><rect x=\"150\" y=\"160\" width=\"10\" height=\"10\" fill=\"blue\"/><rect x=\"150\" y=\"170\" width=\"10\" height=\"10\" fill=\"green\"/><rect x=\"150\" y=\"180\" width=\"10\" height=\"10\" fill=\"green\"/><rect x=\"150\" y=\"190\" width=\"10\" height=\"10\" fill=\"blue\"/><rect x=\"160\" y=\"0\" width=\"10\" height=\"10\" fill=\"blue\"/><rect x=\"160\" y=\"10\" width=\"10\" height=\"10\" fill=\"green\"/><rect x=\"160\" y=\"20\" width=\"10\" height=\"10\" fill=\"green\"/><rect x=\"160\" y=\"30\" width=\"10\" height=\"10\" fill=\"orange\"/><rect x=\"160\" y=\"40\" width=\"10\" height=\"10\" fill=\"green\"/><rect x=\"160\" y=\"50\" width=\"10\" height=\"10\" fill=\"blue\"/><rect x=\"160\" y=\"60\" width=\"10\" height=\"10\" fill=\"orange\"/><rect x=\"160\" y=\"70\" width=\"10\" height=\"10\" fill=\"green\"/><rect x=\"160\" y=\"80\" width=\"10\" height=\"10\" fill=\"green\"/><rect x=\"160\" y=\"90\" width=\"10\" height=\"10\" fill=\"green\"/><rect x=\"160\" y=\"100\" width=\"10\" height=\"10\" fill=\"orange\"/><rect x=\"160\" y=\"110\" width=\"10\" height=\"10\" fill=\"orange\"/><rect x=\"160\" y=\"120\" width=\"10\" height=\"10\" fill=\"green\"/><rect x=\"160\" y=\"130\" width=\"10\" height=\"10\" fill=\"orange\"/><rect x=\"160\" y=\"140\" width=\"10\" height=\"10\" fill=\"blue\"/><rect x=\"160\" y=\"150\" width=\"10\" height=\"10\" fill=\"orange\"/><rect x=\"160\" y=\"160\" width=\"10\" height=\"10\" fill=\"blue\"/><rect x=\"160\" y=\"170\" width=\"10\" height=\"10\" fill=\"blue\"/><rect x=\"160\" y=\"180\" width=\"10\" height=\"10\" fill=\"orange\"/><rect x=\"160\" y=\"190\" width=\"10\" height=\"10\" fill=\"orange\"/><rect x=\"170\" y=\"0\" width=\"10\" height=\"10\" fill=\"green\"/><rect x=\"170\" y=\"10\" width=\"10\" height=\"10\" fill=\"blue\"/><rect x=\"170\" y=\"20\" width=\"10\" height=\"10\" fill=\"orange\"/><rect x=\"170\" y=\"30\" width=\"10\" height=\"10\" fill=\"orange\"/><rect x=\"170\" y=\"40\" width=\"10\" height=\"10\" fill=\"green\"/><rect x=\"170\" y=\"50\" width=\"10\" height=\"10\" fill=\"green\"/><rect x=\"170\" y=\"60\" width=\"10\" height=\"10\" fill=\"green\"/><rect x=\"170\" y=\"70\" width=\"10\" height=\"10\" fill=\"orange\"/><rect x=\"170\" y=\"80\" width=\"10\" height=\"10\" fill=\"green\"/><rect x=\"170\" y=\"90\" width=\"10\" height=\"10\" fill=\"orange\"/><rect x=\"170\" y=\"100\" width=\"10\" height=\"10\" fill=\"blue\"/><rect x=\"170\" y=\"110\" width=\"10\" height=\"10\" fill=\"orange\"/><rect x=\"170\" y=\"120\" width=\"10\" height=\"10\" fill=\"green\"/><rect x=\"170\" y=\"130\" width=\"10\" height=\"10\" fill=\"orange\"/><rect x=\"170\" y=\"140\" width=\"10\" height=\"10\" fill=\"green\"/><rect x=\"170\" y=\"150\" width=\"10\" height=\"10\" fill=\"blue\"/><rect x=\"170\" y=\"160\" width=\"10\" height=\"10\" fill=\"blue\"/><rect x=\"170\" y=\"170\" width=\"10\" height=\"10\" fill=\"orange\"/><rect x=\"170\" y=\"180\" width=\"10\" height=\"10\" fill=\"green\"/><rect x=\"170\" y=\"190\" width=\"10\" height=\"10\" fill=\"blue\"/><rect x=\"180\" y=\"0\" width=\"10\" height=\"10\" fill=\"blue\"/><rect x=\"180\" y=\"10\" width=\"10\" height=\"10\" fill=\"green\"/><rect x=\"180\" y=\"20\" width=\"10\" height=\"10\" fill=\"green\"/><rect x=\"180\" y=\"30\" width=\"10\" height=\"10\" fill=\"green\"/><rect x=\"180\" y=\"40\" width=\"10\" height=\"10\" fill=\"blue\"/><rect x=\"180\" y=\"50\" width=\"10\" height=\"10\" fill=\"green\"/><rect x=\"180\" y=\"60\" width=\"10\" height=\"10\" fill=\"green\"/><rect x=\"180\" y=\"70\" width=\"10\" height=\"10\" fill=\"green\"/><rect x=\"180\" y=\"80\" width=\"10\" height=\"10\" fill=\"green\"/><rect x=\"180\" y=\"90\" width=\"10\" height=\"10\" fill=\"orange\"/><rect x=\"180\" y=\"100\" width=\"10\" height=\"10\" fill=\"blue\"/><rect x=\"180\" y=\"110\" width=\"10\" height=\"10\" fill=\"blue\"/><rect x=\"180\" y=\"120\" width=\"10\" height=\"10\" fill=\"green\"/><rect x=\"180\" y=\"130\" width=\"10\" height=\"10\" fill=\"orange\"/><rect x=\"180\" y=\"140\" width=\"10\" height=\"10\" fill=\"green\"/><rect x=\"180\" y=\"150\" width=\"10\" height=\"10\" fill=\"green\"/><rect x=\"180\" y=\"160\" width=\"10\" height=\"10\" fill=\"green\"/><rect x=\"180\" y=\"170\" width=\"10\" height=\"10\" fill=\"blue\"/><rect x=\"180\" y=\"180\" width=\"10\" height=\"10\" fill=\"green\"/><rect x=\"180\" y=\"190\" width=\"10\" height=\"10\" fill=\"blue\"/><rect x=\"190\" y=\"0\" width=\"10\" height=\"10\" fill=\"green\"/><rect x=\"190\" y=\"10\" width=\"10\" height=\"10\" fill=\"blue\"/><rect x=\"190\" y=\"20\" width=\"10\" height=\"10\" fill=\"green\"/><rect x=\"190\" y=\"30\" width=\"10\" height=\"10\" fill=\"orange\"/><rect x=\"190\" y=\"40\" width=\"10\" height=\"10\" fill=\"orange\"/><rect x=\"190\" y=\"50\" width=\"10\" height=\"10\" fill=\"blue\"/><rect x=\"190\" y=\"60\" width=\"10\" height=\"10\" fill=\"green\"/><rect x=\"190\" y=\"70\" width=\"10\" height=\"10\" fill=\"green\"/><rect x=\"190\" y=\"80\" width=\"10\" height=\"10\" fill=\"green\"/><rect x=\"190\" y=\"90\" width=\"10\" height=\"10\" fill=\"blue\"/><rect x=\"190\" y=\"100\" width=\"10\" height=\"10\" fill=\"orange\"/><rect x=\"190\" y=\"110\" width=\"10\" height=\"10\" fill=\"green\"/><rect x=\"190\" y=\"120\" width=\"10\" height=\"10\" fill=\"orange\"/><rect x=\"190\" y=\"130\" width=\"10\" height=\"10\" fill=\"green\"/><rect x=\"190\" y=\"140\" width=\"10\" height=\"10\" fill=\"orange\"/><rect x=\"190\" y=\"150\" width=\"10\" height=\"10\" fill=\"green\"/><rect x=\"190\" y=\"160\" width=\"10\" height=\"10\" fill=\"green\"/><rect x=\"190\" y=\"170\" width=\"10\" height=\"10\" fill=\"green\"/><rect x=\"190\" y=\"180\" width=\"10\" height=\"10\" fill=\"blue\"/><rect x=\"190\" y=\"190\" width=\"10\" height=\"10\" fill=\"green\"/></svg>"
     },
     "metadata": {},
     "output_type": "display_data"
    }
   ],
   "source": [
    "# Create apattenr of 20*20 squares in a random color from a typical color palette\n",
    "def draw_pattern(n=20, color='black'):\n",
    "    \"\"\"Draw a pattern of n squares.\"\"\"\n",
    "    svg = ''\n",
    "    for i in range(n):\n",
    "        for j in range(n):\n",
    "            # Generate random coordinates\n",
    "            x = i * 10\n",
    "            y = j * 10\n",
    "            # Generate a random color\n",
    "            color = random.choice([ 'green', 'blue', 'orange'])\n",
    "            # Draw the square\n",
    "            svg += draw_rectangle(x, y, 10, 10, color)\n",
    "    return svg\n",
    "\n",
    "show_svg(draw_pattern())"
   ],
   "metadata": {
    "collapsed": false,
    "ExecuteTime": {
     "start_time": "2023-04-26T00:32:00.635082Z",
     "end_time": "2023-04-26T00:32:00.655013Z"
    }
   }
  },
  {
   "cell_type": "markdown",
   "source": [
    "\n"
   ],
   "metadata": {
    "collapsed": false
   }
  },
  {
   "cell_type": "code",
   "execution_count": 16,
   "outputs": [],
   "source": [
    "# Twist some of the inner dots, so that tthe pattern gets uneven\n",
    "def draw_pattern(n=20, color='black'):\n",
    "    \"\"\"Draw a pattern of n squares.\"\"\"\n",
    "    svg = ''\n",
    "    for i in range(n):\n",
    "        for j in range(n):\n",
    "            # Generate random coordinates\n",
    "            x = i * 10\n",
    "            y = j * 10\n",
    "            # Generate a random color\n",
    "            color = random.choice([ 'green', 'blue', 'orange'])\n",
    "            # Draw the square\n",
    "            svg += draw_rectangle(x, y, 10, 10, color)\n",
    "            # Draw the square\n",
    "            if i % 2 == 0 and j % 2 == 0:\n",
    "                svg += draw_rectangle(x, y, 10, 10, 'white')\n",
    "    return svg\n"
   ],
   "metadata": {
    "collapsed": false,
    "ExecuteTime": {
     "start_time": "2023-04-26T00:32:03.001333Z",
     "end_time": "2023-04-26T00:32:03.003924Z"
    }
   }
  },
  {
   "cell_type": "code",
   "execution_count": null,
   "outputs": [],
   "source": [],
   "metadata": {
    "collapsed": false
   }
  }
 ],
 "metadata": {
  "kernelspec": {
   "display_name": "Python 3",
   "language": "python",
   "name": "python3"
  },
  "language_info": {
   "codemirror_mode": {
    "name": "ipython",
    "version": 2
   },
   "file_extension": ".py",
   "mimetype": "text/x-python",
   "name": "python",
   "nbconvert_exporter": "python",
   "pygments_lexer": "ipython2",
   "version": "2.7.6"
  }
 },
 "nbformat": 4,
 "nbformat_minor": 0
}
