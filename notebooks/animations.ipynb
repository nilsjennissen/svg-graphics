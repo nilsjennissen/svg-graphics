{
 "cells": [
  {
   "cell_type": "markdown",
   "source": [
    "# Drawing Animations"
   ],
   "metadata": {
    "collapsed": false
   }
  },
  {
   "cell_type": "code",
   "execution_count": 22,
   "outputs": [],
   "source": [
    "from PIL import Image, ImageDraw\n",
    "import random\n",
    "\n",
    "images = []\n",
    "\n",
    "width = 200\n",
    "center = width // 2\n",
    "\n",
    "# Set three warm colors\n",
    "color_1 = (0, 0, 0)\n",
    "color_2 = (255, 255, 255)\n",
    "\n",
    "max_radius = int(center * 1.5)\n",
    "step = 8\n",
    "\n",
    "for i in range(0, max_radius, step):\n",
    "    im = Image.new('RGB', (width, width), color_1)\n",
    "    draw = ImageDraw.Draw(im)\n",
    "    draw.ellipse((center - i, center - i, center + i, center + i), fill=color_2)\n",
    "    images.append(im)\n",
    "\n",
    "for i in range(0, max_radius, step):\n",
    "    im = Image.new('RGB', (width, width), color_2)\n",
    "    draw = ImageDraw.Draw(im)\n",
    "    draw.ellipse((center - i, center - i, center + i, center + i), fill=color_1)\n",
    "    images.append(im)\n",
    "\n",
    "images[0].save('../output/test.gif',\n",
    "               save_all=True, append_images=images[1:], optimize=False, duration=40, loop=0)"
   ],
   "metadata": {
    "collapsed": false,
    "ExecuteTime": {
     "start_time": "2023-04-26T01:14:32.733576Z",
     "end_time": "2023-04-26T01:14:32.864182Z"
    }
   }
  },
  {
   "cell_type": "code",
   "execution_count": 26,
   "outputs": [],
   "source": [
    "# Animate some wandering pixels from right to left\n",
    "images = []\n",
    "\n",
    "# Settings\n",
    "width = 400\n",
    "height = 200\n",
    "\n",
    "# Set two colors\n",
    "color_1 = (0, 0, 0)\n",
    "color_2 = (255, 255, 255)\n",
    "\n",
    "for i in range(width):\n",
    "    im = Image.new('RGB', (width, height), color_1)\n",
    "    draw = ImageDraw.Draw(im)\n",
    "    draw.point((i, height // 2), fill=color_2)\n",
    "    images.append(im)\n",
    "\n",
    "images[0].save('../output/wandering.gif',\n",
    "               save_all=True, append_images=images[1:], optimize=False, duration=40, loop=0)"
   ],
   "metadata": {
    "collapsed": false,
    "ExecuteTime": {
     "start_time": "2023-04-26T01:19:09.223741Z",
     "end_time": "2023-04-26T01:19:11.523161Z"
    }
   }
  },
  {
   "cell_type": "code",
   "execution_count": 29,
   "outputs": [],
   "source": [
    "# Draw many points wandering from right to left\n",
    "images = []\n",
    "\n",
    "# Settings\n",
    "width = 600\n",
    "height = 200\n",
    "\n",
    "# Set two colors\n",
    "color_1 = (0, 0, 0)\n",
    "color_2 = (255, 255, 255)\n",
    "\n",
    "for i in range(width, -1, -1):\n",
    "    im = Image.new('RGB', (width, height), color_1)\n",
    "    draw = ImageDraw.Draw(im)\n",
    "\n",
    "    for j in range(500):\n",
    "        x = random.randint(0, width - 1) - i\n",
    "        y = random.randint(0, height - 1)\n",
    "        draw.point((x, y), fill=color_2)\n",
    "\n",
    "    images.append(im)\n",
    "\n",
    "images[0].save('../output/sparks.gif',\n",
    "               save_all=True, append_images=images[1:], optimize=False, duration=40, loop=0)\n"
   ],
   "metadata": {
    "collapsed": false,
    "ExecuteTime": {
     "start_time": "2023-04-26T01:23:18.690583Z",
     "end_time": "2023-04-26T01:23:24.608986Z"
    }
   }
  }
 ],
 "metadata": {
  "kernelspec": {
   "display_name": "Python 3",
   "language": "python",
   "name": "python3"
  },
  "language_info": {
   "codemirror_mode": {
    "name": "ipython",
    "version": 2
   },
   "file_extension": ".py",
   "mimetype": "text/x-python",
   "name": "python",
   "nbconvert_exporter": "python",
   "pygments_lexer": "ipython2",
   "version": "2.7.6"
  }
 },
 "nbformat": 4,
 "nbformat_minor": 0
}
