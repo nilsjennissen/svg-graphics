{
 "cells": [
  {
   "cell_type": "markdown",
   "source": [
    "# Drawing Animations"
   ],
   "metadata": {
    "collapsed": false
   }
  },
  {
   "cell_type": "code",
   "execution_count": 1,
   "outputs": [],
   "source": [
    "from PIL import Image, ImageDraw\n",
    "import random\n",
    "\n",
    "images = []\n",
    "\n",
    "width = 200\n",
    "center = width // 2\n",
    "\n",
    "# Set three warm colors\n",
    "color_1 = (0, 0, 0)\n",
    "color_2 = (255, 255, 255)\n",
    "\n",
    "max_radius = int(center * 1.5)\n",
    "step = 8\n",
    "\n",
    "for i in range(0, max_radius, step):\n",
    "    im = Image.new('RGB', (width, width), color_1)\n",
    "    draw = ImageDraw.Draw(im)\n",
    "    draw.ellipse((center - i, center - i, center + i, center + i), fill=color_2)\n",
    "    images.append(im)\n",
    "\n",
    "for i in range(0, max_radius, step):\n",
    "    im = Image.new('RGB', (width, width), color_2)\n",
    "    draw = ImageDraw.Draw(im)\n",
    "    draw.ellipse((center - i, center - i, center + i, center + i), fill=color_1)\n",
    "    images.append(im)\n",
    "\n",
    "images[0].save('../output/test.gif',\n",
    "               save_all=True, append_images=images[1:], optimize=False, duration=40, loop=0)"
   ],
   "metadata": {
    "collapsed": false,
    "ExecuteTime": {
     "start_time": "2023-04-27T15:20:58.101080Z",
     "end_time": "2023-04-27T15:20:58.361445Z"
    }
   }
  },
  {
   "cell_type": "code",
   "execution_count": 26,
   "outputs": [],
   "source": [
    "# Animate some wandering pixels from right to left\n",
    "images = []\n",
    "\n",
    "# Settings\n",
    "width = 400\n",
    "height = 200\n",
    "\n",
    "# Set two colors\n",
    "color_1 = (0, 0, 0)\n",
    "color_2 = (255, 255, 255)\n",
    "\n",
    "for i in range(width):\n",
    "    im = Image.new('RGB', (width, height), color_1)\n",
    "    draw = ImageDraw.Draw(im)\n",
    "    draw.point((i, height // 2), fill=color_2)\n",
    "    images.append(im)\n",
    "\n",
    "images[0].save('../output/wandering.gif',\n",
    "               save_all=True, append_images=images[1:], optimize=False, duration=40, loop=0)"
   ],
   "metadata": {
    "collapsed": false,
    "ExecuteTime": {
     "start_time": "2023-04-26T01:19:09.223741Z",
     "end_time": "2023-04-26T01:19:11.523161Z"
    }
   }
  },
  {
   "cell_type": "code",
   "execution_count": 33,
   "outputs": [],
   "source": [
    "# Draw many points wandering from right to left\n",
    "images = []\n",
    "\n",
    "# Settings\n",
    "width = 1600\n",
    "height = 200\n",
    "\n",
    "# Set two colors\n",
    "color_1 = (13,17,23)\n",
    "color_2 = (47,129,247)\n",
    "color_3 = (35,134,54)\n",
    "\n",
    "for i in range(width, -1, -1):\n",
    "    im = Image.new('RGB', (width, height), color_1)\n",
    "    draw = ImageDraw.Draw(im)\n",
    "\n",
    "    for j in range(500):\n",
    "        x = random.randint(0, width - 1) - i\n",
    "        y = random.randint(0, height - 1)\n",
    "        draw.point((x, y), fill=color_2)\n",
    "\n",
    "    images.append(im)\n",
    "\n",
    "images[0].save('../output/sparks_fine.gif',\n",
    "               save_all=True, append_images=images[1:], optimize=False, duration=40, loop=0)\n"
   ],
   "metadata": {
    "collapsed": false,
    "ExecuteTime": {
     "start_time": "2023-04-26T02:26:42.502020Z",
     "end_time": "2023-04-26T02:27:21.424129Z"
    }
   }
  },
  {
   "cell_type": "code",
   "execution_count": 34,
   "outputs": [],
   "source": [
    "# Draw many points wandering from right to left\n",
    "images = []\n",
    "\n",
    "# Settings\n",
    "width = 1600\n",
    "height = 200\n",
    "\n",
    "# Set colors\n",
    "color_1 = (13,17,23)\n",
    "color_2 = (47,129,247)\n",
    "color_3 = (35,134,54)\n",
    "\n",
    "for i in range(width, -1, -1):\n",
    "    im = Image.new('RGB', (width, height), color_1)\n",
    "    draw = ImageDraw.Draw(im)\n",
    "\n",
    "    for j in range(500):\n",
    "        x = random.randint(0, width - 1) - i\n",
    "        y = random.randint(0, height - 1)\n",
    "\n",
    "        if j % 2 == 0:\n",
    "            color = color_2\n",
    "        else:\n",
    "            color = color_3\n",
    "\n",
    "        draw.rectangle((x, y, x+3, y+3), fill=color)\n",
    "\n",
    "    images.append(im)\n",
    "\n",
    "images[0].save('../output/sparks.gif',\n",
    "               save_all=True, append_images=images[1:], optimize=False, duration=40, loop=0)\n"
   ],
   "metadata": {
    "collapsed": false,
    "ExecuteTime": {
     "start_time": "2023-04-26T02:27:21.457046Z",
     "end_time": "2023-04-26T02:28:00.694797Z"
    }
   }
  },
  {
   "cell_type": "code",
   "execution_count": 35,
   "outputs": [],
   "source": [
    "# Draw many points wandering from right to left\n",
    "images = []\n",
    "\n",
    "# Settings\n",
    "width = 1600\n",
    "height = 200\n",
    "\n",
    "# Set colors\n",
    "color_1 = (13,17,23)\n",
    "color_2 = (47,129,247)\n",
    "color_3 = (35,134,54)\n",
    "color_4 = (247, 129, 102)\n",
    "\n",
    "for i in range(width, -1, -1):\n",
    "    im = Image.new('RGB', (width, height), color_1)\n",
    "    draw = ImageDraw.Draw(im)\n",
    "\n",
    "    for j in range(500):\n",
    "        x = random.randint(0, width - 1) - i\n",
    "        y = random.randint(0, height - 1)\n",
    "\n",
    "        if j % 3 == 0:\n",
    "            color = color_2\n",
    "        elif j % 3 == 1:\n",
    "            color = color_3\n",
    "        else:\n",
    "            color = color_4\n",
    "\n",
    "        draw.rectangle((x, y, x+3, y+3), fill=color)\n",
    "\n",
    "    images.append(im)\n",
    "\n",
    "images[0].save('../output/sparks_slow.gif',\n",
    "               save_all=True, append_images=images[1:], optimize=False, duration=80, loop=0)\n"
   ],
   "metadata": {
    "collapsed": false,
    "ExecuteTime": {
     "start_time": "2023-04-26T02:31:54.882574Z",
     "end_time": "2023-04-26T02:32:34.361720Z"
    }
   }
  },
  {
   "cell_type": "code",
   "execution_count": 41,
   "outputs": [],
   "source": [
    "# Create 3 circles that move from left to right\n",
    "images = []\n",
    "\n",
    "# Settings\n",
    "width = 1600\n",
    "height = 200\n",
    "\n",
    "# Set colors\n",
    "color_1 = (13,17,23)\n",
    "color_2 = (47,129,247)\n",
    "color_3 = (35,134,54)\n",
    "color_4 = (247, 129, 102)\n",
    "\n",
    "for i in range(width, -1, -1):\n",
    "    im = Image.new('RGB', (width, height), color_1)\n",
    "    draw = ImageDraw.Draw(im)\n",
    "\n",
    "    for j in range(3):\n",
    "        x = random.randint(0, width - 1) - i\n",
    "        y = random.randint(0, height - 1)\n",
    "\n",
    "        if j % 3 == 0:\n",
    "            color = color_2\n",
    "        elif j % 3 == 1:\n",
    "            color = color_3\n",
    "        else:\n",
    "            color = color_4\n",
    "\n",
    "        draw.ellipse((x, y, x+20, y+20), fill=color)\n",
    "\n",
    "    images.append(im)\n",
    "\n",
    "images[0].save('../output/dots.gif',\n",
    "               save_all=True, append_images=images[1:], optimize=False, duration=80, loop=0)"
   ],
   "metadata": {
    "collapsed": false,
    "ExecuteTime": {
     "start_time": "2023-04-26T02:53:14.966972Z",
     "end_time": "2023-04-26T02:53:52.816876Z"
    }
   }
  },
  {
   "cell_type": "code",
   "execution_count": 40,
   "outputs": [],
   "source": [
    "# Create 3 circles that move from left to right\n",
    "images = []\n",
    "\n",
    "# Settings\n",
    "width = 1600\n",
    "height = 200\n",
    "\n",
    "# Set colors\n",
    "color_1 = (13,17,23)\n",
    "color_2 = (47,129,247)\n",
    "color_3 = (35,134,54)\n",
    "color_4 = (247, 129, 102)\n",
    "\n",
    "for i in range(width, -1, -1):\n",
    "    im = Image.new('RGB', (width, height), color_1)\n",
    "    draw = ImageDraw.Draw(im)\n",
    "\n",
    "    for j in range(3):\n",
    "        x = random.randint(0, width - 1) - i\n",
    "        y = 100\n",
    "\n",
    "        if j  == i:\n",
    "            color = color_2\n",
    "        elif j % 3 == 1:\n",
    "            color = color_3\n",
    "        else:\n",
    "            color = color_4\n",
    "\n",
    "        draw.ellipse((x, y, x+20, y+20), fill=color)\n",
    "\n",
    "    images.append(im)\n",
    "\n",
    "images[0].save('../output/dots_test.gif',\n",
    "               save_all=True, append_images=images[1:], optimize=False, duration=80, loop=0)"
   ],
   "metadata": {
    "collapsed": false,
    "ExecuteTime": {
     "start_time": "2023-04-26T02:52:37.613359Z",
     "end_time": "2023-04-26T02:53:14.938886Z"
    }
   }
  },
  {
   "cell_type": "code",
   "execution_count": null,
   "outputs": [],
   "source": [],
   "metadata": {
    "collapsed": false
   }
  }
 ],
 "metadata": {
  "kernelspec": {
   "display_name": "Python 3",
   "language": "python",
   "name": "python3"
  },
  "language_info": {
   "codemirror_mode": {
    "name": "ipython",
    "version": 2
   },
   "file_extension": ".py",
   "mimetype": "text/x-python",
   "name": "python",
   "nbconvert_exporter": "python",
   "pygments_lexer": "ipython2",
   "version": "2.7.6"
  }
 },
 "nbformat": 4,
 "nbformat_minor": 0
}
