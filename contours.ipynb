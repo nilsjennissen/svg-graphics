{
 "cells": [
  {
   "cell_type": "markdown",
   "source": [
    "# Contours and topography"
   ],
   "metadata": {
    "collapsed": false
   }
  },
  {
   "cell_type": "code",
   "execution_count": 4,
   "metadata": {
    "collapsed": true,
    "ExecuteTime": {
     "start_time": "2023-04-10T17:48:14.705192Z",
     "end_time": "2023-04-10T17:48:14.796245Z"
    }
   },
   "outputs": [
    {
     "data": {
      "text/plain": "          x    y      z\n0  0.000000  0.0  0.392\n1  0.198970  0.0  0.496\n2  0.349485  0.0  0.500\n3  0.500000  0.0  0.500\n4  0.698970  0.0  0.500",
      "text/html": "<div>\n<style scoped>\n    .dataframe tbody tr th:only-of-type {\n        vertical-align: middle;\n    }\n\n    .dataframe tbody tr th {\n        vertical-align: top;\n    }\n\n    .dataframe thead th {\n        text-align: right;\n    }\n</style>\n<table border=\"1\" class=\"dataframe\">\n  <thead>\n    <tr style=\"text-align: right;\">\n      <th></th>\n      <th>x</th>\n      <th>y</th>\n      <th>z</th>\n    </tr>\n  </thead>\n  <tbody>\n    <tr>\n      <th>0</th>\n      <td>0.000000</td>\n      <td>0.0</td>\n      <td>0.392</td>\n    </tr>\n    <tr>\n      <th>1</th>\n      <td>0.198970</td>\n      <td>0.0</td>\n      <td>0.496</td>\n    </tr>\n    <tr>\n      <th>2</th>\n      <td>0.349485</td>\n      <td>0.0</td>\n      <td>0.500</td>\n    </tr>\n    <tr>\n      <th>3</th>\n      <td>0.500000</td>\n      <td>0.0</td>\n      <td>0.500</td>\n    </tr>\n    <tr>\n      <th>4</th>\n      <td>0.698970</td>\n      <td>0.0</td>\n      <td>0.500</td>\n    </tr>\n  </tbody>\n</table>\n</div>"
     },
     "execution_count": 4,
     "metadata": {},
     "output_type": "execute_result"
    }
   ],
   "source": [
    "import pandas as pd\n",
    "import numpy as np\n"
   ]
  },
  {
   "cell_type": "code",
   "execution_count": 5,
   "outputs": [],
   "source": [
    "# Load data\n",
    "df = pd.read_csv('data_3d_contour.csv')"
   ],
   "metadata": {
    "collapsed": false,
    "ExecuteTime": {
     "start_time": "2023-04-10T17:48:42.784166Z",
     "end_time": "2023-04-10T17:48:42.789691Z"
    }
   }
  },
  {
   "cell_type": "code",
   "execution_count": 6,
   "outputs": [],
   "source": [
    "import numpy as np\n",
    "\n",
    "Z = df.pivot_table(index='x', columns='y', values='z').T.values\n",
    "\n",
    "X_unique = np.sort(df.x.unique())\n",
    "Y_unique = np.sort(df.y.unique())\n",
    "X, Y = np.meshgrid(X_unique, Y_unique)"
   ],
   "metadata": {
    "collapsed": false,
    "ExecuteTime": {
     "start_time": "2023-04-10T17:54:16.760510Z",
     "end_time": "2023-04-10T17:54:16.770054Z"
    }
   }
  },
  {
   "cell_type": "code",
   "execution_count": 7,
   "outputs": [
    {
     "data": {
      "text/plain": "       0      1      2      3      4      5      6\n0  0.392  0.496  0.500  0.500  0.500  0.500  0.500\n1  0.286  0.472  0.494  0.500  0.500  0.500  0.500\n2  0.094  0.304  0.434  0.496  0.500  0.500  0.500\n3 -0.036  0.118  0.308  0.460  0.500  0.500  0.500\n4 -0.052 -0.042  0.120  0.328  0.480  0.500  0.500\n5 -0.212 -0.192 -0.120  0.004  0.266  0.438  0.496\n6 -0.320 -0.362 -0.348 -0.352 -0.304 -0.247 -0.145\n7 -0.328 -0.414 -0.454 -0.460 -0.478 -0.474 -0.490",
      "text/html": "<div>\n<style scoped>\n    .dataframe tbody tr th:only-of-type {\n        vertical-align: middle;\n    }\n\n    .dataframe tbody tr th {\n        vertical-align: top;\n    }\n\n    .dataframe thead th {\n        text-align: right;\n    }\n</style>\n<table border=\"1\" class=\"dataframe\">\n  <thead>\n    <tr style=\"text-align: right;\">\n      <th></th>\n      <th>0</th>\n      <th>1</th>\n      <th>2</th>\n      <th>3</th>\n      <th>4</th>\n      <th>5</th>\n      <th>6</th>\n    </tr>\n  </thead>\n  <tbody>\n    <tr>\n      <th>0</th>\n      <td>0.392</td>\n      <td>0.496</td>\n      <td>0.500</td>\n      <td>0.500</td>\n      <td>0.500</td>\n      <td>0.500</td>\n      <td>0.500</td>\n    </tr>\n    <tr>\n      <th>1</th>\n      <td>0.286</td>\n      <td>0.472</td>\n      <td>0.494</td>\n      <td>0.500</td>\n      <td>0.500</td>\n      <td>0.500</td>\n      <td>0.500</td>\n    </tr>\n    <tr>\n      <th>2</th>\n      <td>0.094</td>\n      <td>0.304</td>\n      <td>0.434</td>\n      <td>0.496</td>\n      <td>0.500</td>\n      <td>0.500</td>\n      <td>0.500</td>\n    </tr>\n    <tr>\n      <th>3</th>\n      <td>-0.036</td>\n      <td>0.118</td>\n      <td>0.308</td>\n      <td>0.460</td>\n      <td>0.500</td>\n      <td>0.500</td>\n      <td>0.500</td>\n    </tr>\n    <tr>\n      <th>4</th>\n      <td>-0.052</td>\n      <td>-0.042</td>\n      <td>0.120</td>\n      <td>0.328</td>\n      <td>0.480</td>\n      <td>0.500</td>\n      <td>0.500</td>\n    </tr>\n    <tr>\n      <th>5</th>\n      <td>-0.212</td>\n      <td>-0.192</td>\n      <td>-0.120</td>\n      <td>0.004</td>\n      <td>0.266</td>\n      <td>0.438</td>\n      <td>0.496</td>\n    </tr>\n    <tr>\n      <th>6</th>\n      <td>-0.320</td>\n      <td>-0.362</td>\n      <td>-0.348</td>\n      <td>-0.352</td>\n      <td>-0.304</td>\n      <td>-0.247</td>\n      <td>-0.145</td>\n    </tr>\n    <tr>\n      <th>7</th>\n      <td>-0.328</td>\n      <td>-0.414</td>\n      <td>-0.454</td>\n      <td>-0.460</td>\n      <td>-0.478</td>\n      <td>-0.474</td>\n      <td>-0.490</td>\n    </tr>\n  </tbody>\n</table>\n</div>"
     },
     "execution_count": 7,
     "metadata": {},
     "output_type": "execute_result"
    }
   ],
   "source": [
    "pd.DataFrame(Z).round(3)"
   ],
   "metadata": {
    "collapsed": false,
    "ExecuteTime": {
     "start_time": "2023-04-10T17:54:18.559337Z",
     "end_time": "2023-04-10T17:54:18.562193Z"
    }
   }
  },
  {
   "cell_type": "code",
   "execution_count": 8,
   "outputs": [
    {
     "data": {
      "text/plain": "(array([0.      , 0.19897 , 0.349485, 0.5     , 0.69897 , 0.849485,\n        1.      ]),\n array([0.        , 0.26315789, 0.52631579, 0.63157895, 0.73684211,\n        0.84210526, 0.94736842, 1.        ]))"
     },
     "execution_count": 8,
     "metadata": {},
     "output_type": "execute_result"
    }
   ],
   "source": [
    "X_unique,Y_unique"
   ],
   "metadata": {
    "collapsed": false,
    "ExecuteTime": {
     "start_time": "2023-04-10T17:54:19.936007Z",
     "end_time": "2023-04-10T17:54:19.941352Z"
    }
   }
  },
  {
   "cell_type": "code",
   "execution_count": 9,
   "outputs": [
    {
     "data": {
      "text/plain": "     0      1      2    3      4      5    6\n0  0.0  0.199  0.349  0.5  0.699  0.849  1.0\n1  0.0  0.199  0.349  0.5  0.699  0.849  1.0\n2  0.0  0.199  0.349  0.5  0.699  0.849  1.0\n3  0.0  0.199  0.349  0.5  0.699  0.849  1.0\n4  0.0  0.199  0.349  0.5  0.699  0.849  1.0\n5  0.0  0.199  0.349  0.5  0.699  0.849  1.0\n6  0.0  0.199  0.349  0.5  0.699  0.849  1.0\n7  0.0  0.199  0.349  0.5  0.699  0.849  1.0",
      "text/html": "<div>\n<style scoped>\n    .dataframe tbody tr th:only-of-type {\n        vertical-align: middle;\n    }\n\n    .dataframe tbody tr th {\n        vertical-align: top;\n    }\n\n    .dataframe thead th {\n        text-align: right;\n    }\n</style>\n<table border=\"1\" class=\"dataframe\">\n  <thead>\n    <tr style=\"text-align: right;\">\n      <th></th>\n      <th>0</th>\n      <th>1</th>\n      <th>2</th>\n      <th>3</th>\n      <th>4</th>\n      <th>5</th>\n      <th>6</th>\n    </tr>\n  </thead>\n  <tbody>\n    <tr>\n      <th>0</th>\n      <td>0.0</td>\n      <td>0.199</td>\n      <td>0.349</td>\n      <td>0.5</td>\n      <td>0.699</td>\n      <td>0.849</td>\n      <td>1.0</td>\n    </tr>\n    <tr>\n      <th>1</th>\n      <td>0.0</td>\n      <td>0.199</td>\n      <td>0.349</td>\n      <td>0.5</td>\n      <td>0.699</td>\n      <td>0.849</td>\n      <td>1.0</td>\n    </tr>\n    <tr>\n      <th>2</th>\n      <td>0.0</td>\n      <td>0.199</td>\n      <td>0.349</td>\n      <td>0.5</td>\n      <td>0.699</td>\n      <td>0.849</td>\n      <td>1.0</td>\n    </tr>\n    <tr>\n      <th>3</th>\n      <td>0.0</td>\n      <td>0.199</td>\n      <td>0.349</td>\n      <td>0.5</td>\n      <td>0.699</td>\n      <td>0.849</td>\n      <td>1.0</td>\n    </tr>\n    <tr>\n      <th>4</th>\n      <td>0.0</td>\n      <td>0.199</td>\n      <td>0.349</td>\n      <td>0.5</td>\n      <td>0.699</td>\n      <td>0.849</td>\n      <td>1.0</td>\n    </tr>\n    <tr>\n      <th>5</th>\n      <td>0.0</td>\n      <td>0.199</td>\n      <td>0.349</td>\n      <td>0.5</td>\n      <td>0.699</td>\n      <td>0.849</td>\n      <td>1.0</td>\n    </tr>\n    <tr>\n      <th>6</th>\n      <td>0.0</td>\n      <td>0.199</td>\n      <td>0.349</td>\n      <td>0.5</td>\n      <td>0.699</td>\n      <td>0.849</td>\n      <td>1.0</td>\n    </tr>\n    <tr>\n      <th>7</th>\n      <td>0.0</td>\n      <td>0.199</td>\n      <td>0.349</td>\n      <td>0.5</td>\n      <td>0.699</td>\n      <td>0.849</td>\n      <td>1.0</td>\n    </tr>\n  </tbody>\n</table>\n</div>"
     },
     "execution_count": 9,
     "metadata": {},
     "output_type": "execute_result"
    }
   ],
   "source": [
    "pd.DataFrame(X).round(3)"
   ],
   "metadata": {
    "collapsed": false,
    "ExecuteTime": {
     "start_time": "2023-04-10T17:54:22.373514Z",
     "end_time": "2023-04-10T17:54:22.377284Z"
    }
   }
  },
  {
   "cell_type": "code",
   "execution_count": 10,
   "outputs": [
    {
     "data": {
      "text/plain": "       0      1      2      3      4      5      6\n0  0.000  0.000  0.000  0.000  0.000  0.000  0.000\n1  0.263  0.263  0.263  0.263  0.263  0.263  0.263\n2  0.526  0.526  0.526  0.526  0.526  0.526  0.526\n3  0.632  0.632  0.632  0.632  0.632  0.632  0.632\n4  0.737  0.737  0.737  0.737  0.737  0.737  0.737\n5  0.842  0.842  0.842  0.842  0.842  0.842  0.842\n6  0.947  0.947  0.947  0.947  0.947  0.947  0.947\n7  1.000  1.000  1.000  1.000  1.000  1.000  1.000",
      "text/html": "<div>\n<style scoped>\n    .dataframe tbody tr th:only-of-type {\n        vertical-align: middle;\n    }\n\n    .dataframe tbody tr th {\n        vertical-align: top;\n    }\n\n    .dataframe thead th {\n        text-align: right;\n    }\n</style>\n<table border=\"1\" class=\"dataframe\">\n  <thead>\n    <tr style=\"text-align: right;\">\n      <th></th>\n      <th>0</th>\n      <th>1</th>\n      <th>2</th>\n      <th>3</th>\n      <th>4</th>\n      <th>5</th>\n      <th>6</th>\n    </tr>\n  </thead>\n  <tbody>\n    <tr>\n      <th>0</th>\n      <td>0.000</td>\n      <td>0.000</td>\n      <td>0.000</td>\n      <td>0.000</td>\n      <td>0.000</td>\n      <td>0.000</td>\n      <td>0.000</td>\n    </tr>\n    <tr>\n      <th>1</th>\n      <td>0.263</td>\n      <td>0.263</td>\n      <td>0.263</td>\n      <td>0.263</td>\n      <td>0.263</td>\n      <td>0.263</td>\n      <td>0.263</td>\n    </tr>\n    <tr>\n      <th>2</th>\n      <td>0.526</td>\n      <td>0.526</td>\n      <td>0.526</td>\n      <td>0.526</td>\n      <td>0.526</td>\n      <td>0.526</td>\n      <td>0.526</td>\n    </tr>\n    <tr>\n      <th>3</th>\n      <td>0.632</td>\n      <td>0.632</td>\n      <td>0.632</td>\n      <td>0.632</td>\n      <td>0.632</td>\n      <td>0.632</td>\n      <td>0.632</td>\n    </tr>\n    <tr>\n      <th>4</th>\n      <td>0.737</td>\n      <td>0.737</td>\n      <td>0.737</td>\n      <td>0.737</td>\n      <td>0.737</td>\n      <td>0.737</td>\n      <td>0.737</td>\n    </tr>\n    <tr>\n      <th>5</th>\n      <td>0.842</td>\n      <td>0.842</td>\n      <td>0.842</td>\n      <td>0.842</td>\n      <td>0.842</td>\n      <td>0.842</td>\n      <td>0.842</td>\n    </tr>\n    <tr>\n      <th>6</th>\n      <td>0.947</td>\n      <td>0.947</td>\n      <td>0.947</td>\n      <td>0.947</td>\n      <td>0.947</td>\n      <td>0.947</td>\n      <td>0.947</td>\n    </tr>\n    <tr>\n      <th>7</th>\n      <td>1.000</td>\n      <td>1.000</td>\n      <td>1.000</td>\n      <td>1.000</td>\n      <td>1.000</td>\n      <td>1.000</td>\n      <td>1.000</td>\n    </tr>\n  </tbody>\n</table>\n</div>"
     },
     "execution_count": 10,
     "metadata": {},
     "output_type": "execute_result"
    }
   ],
   "source": [
    "pd.DataFrame(Y).round(3)"
   ],
   "metadata": {
    "collapsed": false,
    "ExecuteTime": {
     "start_time": "2023-04-10T17:54:37.108146Z",
     "end_time": "2023-04-10T17:54:37.114921Z"
    }
   }
  },
  {
   "cell_type": "code",
   "execution_count": 11,
   "outputs": [
    {
     "name": "stderr",
     "output_type": "stream",
     "text": [
      "/var/folders/sl/c5pyww8j61j6_9_z4twp2ygc0000gn/T/ipykernel_4411/3245490763.py:3: DeprecationWarning: `set_matplotlib_formats` is deprecated since IPython 7.23, directly use `matplotlib_inline.backend_inline.set_matplotlib_formats()`\n",
      "  set_matplotlib_formats('svg')\n"
     ]
    },
    {
     "data": {
      "text/plain": "<Figure size 500x500 with 1 Axes>",
      "image/svg+xml": "<?xml version=\"1.0\" encoding=\"utf-8\" standalone=\"no\"?>\n<!DOCTYPE svg PUBLIC \"-//W3C//DTD SVG 1.1//EN\"\n  \"http://www.w3.org/Graphics/SVG/1.1/DTD/svg11.dtd\">\n<svg xmlns:xlink=\"http://www.w3.org/1999/xlink\" width=\"324.254687pt\" height=\"312.077344pt\" viewBox=\"0 0 324.254687 312.077344\" xmlns=\"http://www.w3.org/2000/svg\" version=\"1.1\">\n <metadata>\n  <rdf:RDF xmlns:dc=\"http://purl.org/dc/elements/1.1/\" xmlns:cc=\"http://creativecommons.org/ns#\" xmlns:rdf=\"http://www.w3.org/1999/02/22-rdf-syntax-ns#\">\n   <cc:Work>\n    <dc:type rdf:resource=\"http://purl.org/dc/dcmitype/StillImage\"/>\n    <dc:date>2023-04-10T17:54:48.554117</dc:date>\n    <dc:format>image/svg+xml</dc:format>\n    <dc:creator>\n     <cc:Agent>\n      <dc:title>Matplotlib v3.7.1, https://matplotlib.org/</dc:title>\n     </cc:Agent>\n    </dc:creator>\n   </cc:Work>\n  </rdf:RDF>\n </metadata>\n <defs>\n  <style type=\"text/css\">*{stroke-linejoin: round; stroke-linecap: butt}</style>\n </defs>\n <g id=\"figure_1\">\n  <g id=\"patch_1\">\n   <path d=\"M 0 312.077344 \nL 324.254687 312.077344 \nL 324.254687 0 \nL 0 0 \nz\n\" style=\"fill: #ffffff\"/>\n  </g>\n  <g id=\"axes_1\">\n   <g id=\"patch_2\">\n    <path d=\"M 30.103125 288.199219 \nL 309.103125 288.199219 \nL 309.103125 10.999219 \nL 30.103125 10.999219 \nz\n\" style=\"fill: #ffffff\"/>\n   </g>\n   <g id=\"matplotlib.axis_1\">\n    <g id=\"xtick_1\">\n     <g id=\"line2d_1\">\n      <defs>\n       <path id=\"m1ee1b8b8d4\" d=\"M 0 0 \nL 0 3.5 \n\" style=\"stroke: #000000; stroke-width: 0.8\"/>\n      </defs>\n      <g>\n       <use xlink:href=\"#m1ee1b8b8d4\" x=\"30.103125\" y=\"288.199219\" style=\"stroke: #000000; stroke-width: 0.8\"/>\n      </g>\n     </g>\n     <g id=\"text_1\">\n      <!-- 0.0 -->\n      <g transform=\"translate(22.151563 302.797656) scale(0.1 -0.1)\">\n       <defs>\n        <path id=\"DejaVuSans-30\" d=\"M 2034 4250 \nQ 1547 4250 1301 3770 \nQ 1056 3291 1056 2328 \nQ 1056 1369 1301 889 \nQ 1547 409 2034 409 \nQ 2525 409 2770 889 \nQ 3016 1369 3016 2328 \nQ 3016 3291 2770 3770 \nQ 2525 4250 2034 4250 \nz\nM 2034 4750 \nQ 2819 4750 3233 4129 \nQ 3647 3509 3647 2328 \nQ 3647 1150 3233 529 \nQ 2819 -91 2034 -91 \nQ 1250 -91 836 529 \nQ 422 1150 422 2328 \nQ 422 3509 836 4129 \nQ 1250 4750 2034 4750 \nz\n\" transform=\"scale(0.015625)\"/>\n        <path id=\"DejaVuSans-2e\" d=\"M 684 794 \nL 1344 794 \nL 1344 0 \nL 684 0 \nL 684 794 \nz\n\" transform=\"scale(0.015625)\"/>\n       </defs>\n       <use xlink:href=\"#DejaVuSans-30\"/>\n       <use xlink:href=\"#DejaVuSans-2e\" x=\"63.623047\"/>\n       <use xlink:href=\"#DejaVuSans-30\" x=\"95.410156\"/>\n      </g>\n     </g>\n    </g>\n    <g id=\"xtick_2\">\n     <g id=\"line2d_2\">\n      <g>\n       <use xlink:href=\"#m1ee1b8b8d4\" x=\"85.903125\" y=\"288.199219\" style=\"stroke: #000000; stroke-width: 0.8\"/>\n      </g>\n     </g>\n     <g id=\"text_2\">\n      <!-- 0.2 -->\n      <g transform=\"translate(77.951562 302.797656) scale(0.1 -0.1)\">\n       <defs>\n        <path id=\"DejaVuSans-32\" d=\"M 1228 531 \nL 3431 531 \nL 3431 0 \nL 469 0 \nL 469 531 \nQ 828 903 1448 1529 \nQ 2069 2156 2228 2338 \nQ 2531 2678 2651 2914 \nQ 2772 3150 2772 3378 \nQ 2772 3750 2511 3984 \nQ 2250 4219 1831 4219 \nQ 1534 4219 1204 4116 \nQ 875 4013 500 3803 \nL 500 4441 \nQ 881 4594 1212 4672 \nQ 1544 4750 1819 4750 \nQ 2544 4750 2975 4387 \nQ 3406 4025 3406 3419 \nQ 3406 3131 3298 2873 \nQ 3191 2616 2906 2266 \nQ 2828 2175 2409 1742 \nQ 1991 1309 1228 531 \nz\n\" transform=\"scale(0.015625)\"/>\n       </defs>\n       <use xlink:href=\"#DejaVuSans-30\"/>\n       <use xlink:href=\"#DejaVuSans-2e\" x=\"63.623047\"/>\n       <use xlink:href=\"#DejaVuSans-32\" x=\"95.410156\"/>\n      </g>\n     </g>\n    </g>\n    <g id=\"xtick_3\">\n     <g id=\"line2d_3\">\n      <g>\n       <use xlink:href=\"#m1ee1b8b8d4\" x=\"141.703125\" y=\"288.199219\" style=\"stroke: #000000; stroke-width: 0.8\"/>\n      </g>\n     </g>\n     <g id=\"text_3\">\n      <!-- 0.4 -->\n      <g transform=\"translate(133.751563 302.797656) scale(0.1 -0.1)\">\n       <defs>\n        <path id=\"DejaVuSans-34\" d=\"M 2419 4116 \nL 825 1625 \nL 2419 1625 \nL 2419 4116 \nz\nM 2253 4666 \nL 3047 4666 \nL 3047 1625 \nL 3713 1625 \nL 3713 1100 \nL 3047 1100 \nL 3047 0 \nL 2419 0 \nL 2419 1100 \nL 313 1100 \nL 313 1709 \nL 2253 4666 \nz\n\" transform=\"scale(0.015625)\"/>\n       </defs>\n       <use xlink:href=\"#DejaVuSans-30\"/>\n       <use xlink:href=\"#DejaVuSans-2e\" x=\"63.623047\"/>\n       <use xlink:href=\"#DejaVuSans-34\" x=\"95.410156\"/>\n      </g>\n     </g>\n    </g>\n    <g id=\"xtick_4\">\n     <g id=\"line2d_4\">\n      <g>\n       <use xlink:href=\"#m1ee1b8b8d4\" x=\"197.503125\" y=\"288.199219\" style=\"stroke: #000000; stroke-width: 0.8\"/>\n      </g>\n     </g>\n     <g id=\"text_4\">\n      <!-- 0.6 -->\n      <g transform=\"translate(189.551562 302.797656) scale(0.1 -0.1)\">\n       <defs>\n        <path id=\"DejaVuSans-36\" d=\"M 2113 2584 \nQ 1688 2584 1439 2293 \nQ 1191 2003 1191 1497 \nQ 1191 994 1439 701 \nQ 1688 409 2113 409 \nQ 2538 409 2786 701 \nQ 3034 994 3034 1497 \nQ 3034 2003 2786 2293 \nQ 2538 2584 2113 2584 \nz\nM 3366 4563 \nL 3366 3988 \nQ 3128 4100 2886 4159 \nQ 2644 4219 2406 4219 \nQ 1781 4219 1451 3797 \nQ 1122 3375 1075 2522 \nQ 1259 2794 1537 2939 \nQ 1816 3084 2150 3084 \nQ 2853 3084 3261 2657 \nQ 3669 2231 3669 1497 \nQ 3669 778 3244 343 \nQ 2819 -91 2113 -91 \nQ 1303 -91 875 529 \nQ 447 1150 447 2328 \nQ 447 3434 972 4092 \nQ 1497 4750 2381 4750 \nQ 2619 4750 2861 4703 \nQ 3103 4656 3366 4563 \nz\n\" transform=\"scale(0.015625)\"/>\n       </defs>\n       <use xlink:href=\"#DejaVuSans-30\"/>\n       <use xlink:href=\"#DejaVuSans-2e\" x=\"63.623047\"/>\n       <use xlink:href=\"#DejaVuSans-36\" x=\"95.410156\"/>\n      </g>\n     </g>\n    </g>\n    <g id=\"xtick_5\">\n     <g id=\"line2d_5\">\n      <g>\n       <use xlink:href=\"#m1ee1b8b8d4\" x=\"253.303125\" y=\"288.199219\" style=\"stroke: #000000; stroke-width: 0.8\"/>\n      </g>\n     </g>\n     <g id=\"text_5\">\n      <!-- 0.8 -->\n      <g transform=\"translate(245.351562 302.797656) scale(0.1 -0.1)\">\n       <defs>\n        <path id=\"DejaVuSans-38\" d=\"M 2034 2216 \nQ 1584 2216 1326 1975 \nQ 1069 1734 1069 1313 \nQ 1069 891 1326 650 \nQ 1584 409 2034 409 \nQ 2484 409 2743 651 \nQ 3003 894 3003 1313 \nQ 3003 1734 2745 1975 \nQ 2488 2216 2034 2216 \nz\nM 1403 2484 \nQ 997 2584 770 2862 \nQ 544 3141 544 3541 \nQ 544 4100 942 4425 \nQ 1341 4750 2034 4750 \nQ 2731 4750 3128 4425 \nQ 3525 4100 3525 3541 \nQ 3525 3141 3298 2862 \nQ 3072 2584 2669 2484 \nQ 3125 2378 3379 2068 \nQ 3634 1759 3634 1313 \nQ 3634 634 3220 271 \nQ 2806 -91 2034 -91 \nQ 1263 -91 848 271 \nQ 434 634 434 1313 \nQ 434 1759 690 2068 \nQ 947 2378 1403 2484 \nz\nM 1172 3481 \nQ 1172 3119 1398 2916 \nQ 1625 2713 2034 2713 \nQ 2441 2713 2670 2916 \nQ 2900 3119 2900 3481 \nQ 2900 3844 2670 4047 \nQ 2441 4250 2034 4250 \nQ 1625 4250 1398 4047 \nQ 1172 3844 1172 3481 \nz\n\" transform=\"scale(0.015625)\"/>\n       </defs>\n       <use xlink:href=\"#DejaVuSans-30\"/>\n       <use xlink:href=\"#DejaVuSans-2e\" x=\"63.623047\"/>\n       <use xlink:href=\"#DejaVuSans-38\" x=\"95.410156\"/>\n      </g>\n     </g>\n    </g>\n    <g id=\"xtick_6\">\n     <g id=\"line2d_6\">\n      <g>\n       <use xlink:href=\"#m1ee1b8b8d4\" x=\"309.103125\" y=\"288.199219\" style=\"stroke: #000000; stroke-width: 0.8\"/>\n      </g>\n     </g>\n     <g id=\"text_6\">\n      <!-- 1.0 -->\n      <g transform=\"translate(301.151562 302.797656) scale(0.1 -0.1)\">\n       <defs>\n        <path id=\"DejaVuSans-31\" d=\"M 794 531 \nL 1825 531 \nL 1825 4091 \nL 703 3866 \nL 703 4441 \nL 1819 4666 \nL 2450 4666 \nL 2450 531 \nL 3481 531 \nL 3481 0 \nL 794 0 \nL 794 531 \nz\n\" transform=\"scale(0.015625)\"/>\n       </defs>\n       <use xlink:href=\"#DejaVuSans-31\"/>\n       <use xlink:href=\"#DejaVuSans-2e\" x=\"63.623047\"/>\n       <use xlink:href=\"#DejaVuSans-30\" x=\"95.410156\"/>\n      </g>\n     </g>\n    </g>\n   </g>\n   <g id=\"matplotlib.axis_2\">\n    <g id=\"ytick_1\">\n     <g id=\"line2d_7\">\n      <defs>\n       <path id=\"m683f80d9bb\" d=\"M 0 0 \nL -3.5 0 \n\" style=\"stroke: #000000; stroke-width: 0.8\"/>\n      </defs>\n      <g>\n       <use xlink:href=\"#m683f80d9bb\" x=\"30.103125\" y=\"288.199219\" style=\"stroke: #000000; stroke-width: 0.8\"/>\n      </g>\n     </g>\n     <g id=\"text_7\">\n      <!-- 0.0 -->\n      <g transform=\"translate(7.2 291.998438) scale(0.1 -0.1)\">\n       <use xlink:href=\"#DejaVuSans-30\"/>\n       <use xlink:href=\"#DejaVuSans-2e\" x=\"63.623047\"/>\n       <use xlink:href=\"#DejaVuSans-30\" x=\"95.410156\"/>\n      </g>\n     </g>\n    </g>\n    <g id=\"ytick_2\">\n     <g id=\"line2d_8\">\n      <g>\n       <use xlink:href=\"#m683f80d9bb\" x=\"30.103125\" y=\"232.759219\" style=\"stroke: #000000; stroke-width: 0.8\"/>\n      </g>\n     </g>\n     <g id=\"text_8\">\n      <!-- 0.2 -->\n      <g transform=\"translate(7.2 236.558438) scale(0.1 -0.1)\">\n       <use xlink:href=\"#DejaVuSans-30\"/>\n       <use xlink:href=\"#DejaVuSans-2e\" x=\"63.623047\"/>\n       <use xlink:href=\"#DejaVuSans-32\" x=\"95.410156\"/>\n      </g>\n     </g>\n    </g>\n    <g id=\"ytick_3\">\n     <g id=\"line2d_9\">\n      <g>\n       <use xlink:href=\"#m683f80d9bb\" x=\"30.103125\" y=\"177.319219\" style=\"stroke: #000000; stroke-width: 0.8\"/>\n      </g>\n     </g>\n     <g id=\"text_9\">\n      <!-- 0.4 -->\n      <g transform=\"translate(7.2 181.118438) scale(0.1 -0.1)\">\n       <use xlink:href=\"#DejaVuSans-30\"/>\n       <use xlink:href=\"#DejaVuSans-2e\" x=\"63.623047\"/>\n       <use xlink:href=\"#DejaVuSans-34\" x=\"95.410156\"/>\n      </g>\n     </g>\n    </g>\n    <g id=\"ytick_4\">\n     <g id=\"line2d_10\">\n      <g>\n       <use xlink:href=\"#m683f80d9bb\" x=\"30.103125\" y=\"121.879219\" style=\"stroke: #000000; stroke-width: 0.8\"/>\n      </g>\n     </g>\n     <g id=\"text_10\">\n      <!-- 0.6 -->\n      <g transform=\"translate(7.2 125.678438) scale(0.1 -0.1)\">\n       <use xlink:href=\"#DejaVuSans-30\"/>\n       <use xlink:href=\"#DejaVuSans-2e\" x=\"63.623047\"/>\n       <use xlink:href=\"#DejaVuSans-36\" x=\"95.410156\"/>\n      </g>\n     </g>\n    </g>\n    <g id=\"ytick_5\">\n     <g id=\"line2d_11\">\n      <g>\n       <use xlink:href=\"#m683f80d9bb\" x=\"30.103125\" y=\"66.439219\" style=\"stroke: #000000; stroke-width: 0.8\"/>\n      </g>\n     </g>\n     <g id=\"text_11\">\n      <!-- 0.8 -->\n      <g transform=\"translate(7.2 70.238438) scale(0.1 -0.1)\">\n       <use xlink:href=\"#DejaVuSans-30\"/>\n       <use xlink:href=\"#DejaVuSans-2e\" x=\"63.623047\"/>\n       <use xlink:href=\"#DejaVuSans-38\" x=\"95.410156\"/>\n      </g>\n     </g>\n    </g>\n    <g id=\"ytick_6\">\n     <g id=\"line2d_12\">\n      <g>\n       <use xlink:href=\"#m683f80d9bb\" x=\"30.103125\" y=\"10.999219\" style=\"stroke: #000000; stroke-width: 0.8\"/>\n      </g>\n     </g>\n     <g id=\"text_12\">\n      <!-- 1.0 -->\n      <g transform=\"translate(7.2 14.798438) scale(0.1 -0.1)\">\n       <use xlink:href=\"#DejaVuSans-31\"/>\n       <use xlink:href=\"#DejaVuSans-2e\" x=\"63.623047\"/>\n       <use xlink:href=\"#DejaVuSans-30\" x=\"95.410156\"/>\n      </g>\n     </g>\n    </g>\n   </g>\n   <g id=\"PathCollection_1\"/>\n   <g id=\"PathCollection_2\">\n    <path d=\"M 309.103125 12.690752 \nL 267.109441 12.552098 \nL 225.115756 13.34695 \nL 169.603125 12.350096 \nL 127.609441 11.549765 \nL 123.410072 10.999219 \n\" clip-path=\"url(#p6c12de8a2b)\" style=\"fill: none; stroke: #472d7b; stroke-width: 1.5\"/>\n   </g>\n   <g id=\"PathCollection_3\">\n    <path d=\"M 309.103125 19.034001 \nL 267.109441 22.185049 \nL 228.062681 25.588692 \nL 225.115756 25.793457 \nL 169.603125 29.850786 \nL 127.609441 31.731629 \nL 85.615756 36.230426 \nL 30.103125 30.992201 \n\" clip-path=\"url(#p6c12de8a2b)\" style=\"fill: none; stroke: #3b528b; stroke-width: 1.5\"/>\n   </g>\n   <g id=\"PathCollection_4\">\n    <path d=\"M 309.103125 25.377251 \nL 307.044611 25.588692 \nL 267.109441 29.720602 \nL 225.115756 33.472127 \nL 169.603125 42.145286 \nL 127.609441 50.928305 \nL 110.112072 54.76764 \nL 85.615756 62.937745 \nL 30.103125 66.074482 \n\" clip-path=\"url(#p6c12de8a2b)\" style=\"fill: none; stroke: #2c728e; stroke-width: 1.5\"/>\n   </g>\n   <g id=\"PathCollection_5\">\n    <path d=\"M 309.103125 32.189234 \nL 267.109441 36.110152 \nL 225.115756 41.150798 \nL 169.603125 54.439786 \nL 168.24849 54.76764 \nL 127.609441 69.357113 \nL 96.503008 83.946587 \nL 85.615756 91.606061 \nL 43.080104 113.125535 \nL 30.103125 121.205858 \n\" clip-path=\"url(#p6c12de8a2b)\" style=\"fill: none; stroke: #21918c; stroke-width: 1.5\"/>\n   </g>\n   <g id=\"PathCollection_6\">\n    <path d=\"M 309.103125 39.017381 \nL 267.109441 42.499703 \nL 225.115756 48.829468 \nL 200.537645 54.76764 \nL 169.603125 67.916178 \nL 133.666222 83.946587 \nL 127.609441 88.602802 \nL 92.688377 113.125535 \nL 85.615756 118.145568 \nL 44.906493 142.304482 \nL 30.103125 163.580798 \n\" clip-path=\"url(#p6c12de8a2b)\" style=\"fill: none; stroke: #28ae80; stroke-width: 1.5\"/>\n   </g>\n   <g id=\"PathCollection_7\">\n    <path d=\"M 309.103125 45.845528 \nL 267.109441 48.889253 \nL 233.416833 54.76764 \nL 225.115756 59.403547 \nL 169.603125 81.42495 \nL 163.950129 83.946587 \nL 127.609441 111.883877 \nL 125.841285 113.125535 \nL 85.615756 141.676978 \nL 84.558373 142.304482 \nL 34.281495 215.25185 \nL 30.103125 224.886408 \n\" clip-path=\"url(#p6c12de8a2b)\" style=\"fill: none; stroke: #5ec962; stroke-width: 1.5\"/>\n   </g>\n   <g id=\"PathCollection_8\">\n    <path d=\"M 309.103125 52.673675 \nL 275.797789 54.76764 \nL 267.109441 60.415178 \nL 225.115756 79.856081 \nL 214.159316 83.946587 \nL 169.603125 110.915008 \nL 166.840383 113.125535 \nL 138.44652 142.304482 \nL 127.609441 161.757113 \nL 85.615756 205.699219 \nL 79.049746 215.25185 \nL 61.062092 288.199219 \n\" clip-path=\"url(#p6c12de8a2b)\" style=\"fill: none; stroke: #addc30; stroke-width: 1.5\"/>\n   </g>\n   <g id=\"PathCollection_9\"/>\n   <g id=\"patch_3\">\n    <path d=\"M 30.103125 288.199219 \nL 30.103125 10.999219 \n\" style=\"fill: none; stroke: #000000; stroke-width: 0.8; stroke-linejoin: miter; stroke-linecap: square\"/>\n   </g>\n   <g id=\"patch_4\">\n    <path d=\"M 309.103125 288.199219 \nL 309.103125 10.999219 \n\" style=\"fill: none; stroke: #000000; stroke-width: 0.8; stroke-linejoin: miter; stroke-linecap: square\"/>\n   </g>\n   <g id=\"patch_5\">\n    <path d=\"M 30.103125 288.199219 \nL 309.103125 288.199219 \n\" style=\"fill: none; stroke: #000000; stroke-width: 0.8; stroke-linejoin: miter; stroke-linecap: square\"/>\n   </g>\n   <g id=\"patch_6\">\n    <path d=\"M 30.103125 10.999219 \nL 309.103125 10.999219 \n\" style=\"fill: none; stroke: #000000; stroke-width: 0.8; stroke-linejoin: miter; stroke-linecap: square\"/>\n   </g>\n  </g>\n </g>\n <defs>\n  <clipPath id=\"p6c12de8a2b\">\n   <rect x=\"30.103125\" y=\"10.999219\" width=\"279\" height=\"277.2\"/>\n  </clipPath>\n </defs>\n</svg>\n"
     },
     "metadata": {},
     "output_type": "display_data"
    }
   ],
   "source": [
    "from IPython.display import set_matplotlib_formats\n",
    "%matplotlib inline\n",
    "set_matplotlib_formats('svg')\n",
    "\n",
    "import matplotlib.pyplot as plt\n",
    "from matplotlib import rcParams\n",
    "\n",
    "\n",
    "# Initialize plot objects\n",
    "rcParams['figure.figsize'] = 5, 5 # sets plot size\n",
    "fig = plt.figure()\n",
    "ax = fig.add_subplot(111)\n",
    "\n",
    "# Generate a contour plot\n",
    "cp = ax.contour(X, Y, Z)"
   ],
   "metadata": {
    "collapsed": false,
    "ExecuteTime": {
     "start_time": "2023-04-10T17:54:46.020325Z",
     "end_time": "2023-04-10T17:54:48.575123Z"
    }
   }
  },
  {
   "cell_type": "code",
   "execution_count": 12,
   "outputs": [
    {
     "data": {
      "text/plain": "<Figure size 500x500 with 1 Axes>",
      "image/svg+xml": "<?xml version=\"1.0\" encoding=\"utf-8\" standalone=\"no\"?>\n<!DOCTYPE svg PUBLIC \"-//W3C//DTD SVG 1.1//EN\"\n  \"http://www.w3.org/Graphics/SVG/1.1/DTD/svg11.dtd\">\n<svg xmlns:xlink=\"http://www.w3.org/1999/xlink\" width=\"337.932812pt\" height=\"325.755469pt\" viewBox=\"0 0 337.932812 325.755469\" xmlns=\"http://www.w3.org/2000/svg\" version=\"1.1\">\n <metadata>\n  <rdf:RDF xmlns:dc=\"http://purl.org/dc/elements/1.1/\" xmlns:cc=\"http://creativecommons.org/ns#\" xmlns:rdf=\"http://www.w3.org/1999/02/22-rdf-syntax-ns#\">\n   <cc:Work>\n    <dc:type rdf:resource=\"http://purl.org/dc/dcmitype/StillImage\"/>\n    <dc:date>2023-04-10T17:55:01.943705</dc:date>\n    <dc:format>image/svg+xml</dc:format>\n    <dc:creator>\n     <cc:Agent>\n      <dc:title>Matplotlib v3.7.1, https://matplotlib.org/</dc:title>\n     </cc:Agent>\n    </dc:creator>\n   </cc:Work>\n  </rdf:RDF>\n </metadata>\n <defs>\n  <style type=\"text/css\">*{stroke-linejoin: round; stroke-linecap: butt}</style>\n </defs>\n <g id=\"figure_1\">\n  <g id=\"patch_1\">\n   <path d=\"M 0 325.755469 \nL 337.932812 325.755469 \nL 337.932812 0 \nL 0 0 \nz\n\" style=\"fill: #ffffff\"/>\n  </g>\n  <g id=\"axes_1\">\n   <g id=\"patch_2\">\n    <path d=\"M 43.78125 288.199219 \nL 322.78125 288.199219 \nL 322.78125 10.999219 \nL 43.78125 10.999219 \nz\n\" style=\"fill: #ffffff\"/>\n   </g>\n   <g id=\"PathCollection_1\">\n    <path d=\"M 99.293881 14.927154 \nL 141.287566 18.431592 \nL 183.28125 19.104482 \nL 238.793881 17.539328 \nL 280.787566 15.763082 \nL 322.78125 14.805168 \nL 322.78125 10.999219 \nL 280.787566 10.999219 \nL 238.793881 10.999219 \nL 183.28125 10.999219 \nL 141.287566 10.999219 \nL 99.293881 10.999219 \nL 90.256941 10.999219 \nz\n\" clip-path=\"url(#p829ff4d02f)\" style=\"fill: #fee7dc\"/>\n   </g>\n   <g id=\"PathCollection_2\">\n    <path d=\"M 77.088829 54.76764 \nL 99.293881 53.394513 \nL 141.287566 44.529413 \nL 183.28125 38.047119 \nL 238.793881 30.912571 \nL 280.787566 27.590752 \nL 300.137597 25.588692 \nL 322.78125 23.262834 \nL 322.78125 14.805168 \nL 280.787566 15.763082 \nL 238.793881 17.539328 \nL 183.28125 19.104482 \nL 141.287566 18.431592 \nL 99.293881 14.927154 \nL 90.256941 10.999219 \nL 43.78125 10.999219 \nL 43.78125 25.588692 \nL 43.78125 54.76764 \nL 43.78125 56.956061 \nz\n\" clip-path=\"url(#p829ff4d02f)\" style=\"fill: #fcbba1\"/>\n   </g>\n   <g id=\"PathCollection_3\">\n    <path d=\"M 56.758229 113.125535 \nL 99.293881 91.606061 \nL 110.181133 83.946587 \nL 141.287566 69.357113 \nL 181.926615 54.76764 \nL 183.28125 54.439786 \nL 238.793881 41.150798 \nL 280.787566 36.110152 \nL 322.78125 32.189234 \nL 322.78125 25.588692 \nL 322.78125 23.262834 \nL 300.137597 25.588692 \nL 280.787566 27.590752 \nL 238.793881 30.912571 \nL 183.28125 38.047119 \nL 141.287566 44.529413 \nL 99.293881 53.394513 \nL 77.088829 54.76764 \nL 43.78125 56.956061 \nL 43.78125 83.946587 \nL 43.78125 113.125535 \nL 43.78125 121.205858 \nz\n\" clip-path=\"url(#p829ff4d02f)\" style=\"fill: #fc8565\"/>\n   </g>\n   <g id=\"PathCollection_4\">\n    <path d=\"M 71.801911 142.304482 \nL 99.293881 125.989372 \nL 117.417471 113.125535 \nL 141.287566 96.363161 \nL 157.438983 83.946587 \nL 183.28125 72.419102 \nL 224.809783 54.76764 \nL 238.793881 51.389025 \nL 280.787566 44.629553 \nL 322.78125 41.29343 \nL 322.78125 32.189234 \nL 280.787566 36.110152 \nL 238.793881 41.150798 \nL 183.28125 54.439786 \nL 181.926615 54.76764 \nL 141.287566 69.357113 \nL 110.181133 83.946587 \nL 99.293881 91.606061 \nL 56.758229 113.125535 \nL 43.78125 121.205858 \nL 43.78125 142.304482 \nL 43.78125 182.577508 \nz\n\" clip-path=\"url(#p829ff4d02f)\" style=\"fill: #f34a36\"/>\n   </g>\n   <g id=\"PathCollection_5\">\n    <path d=\"M 77.805121 215.25185 \nL 99.293881 183.988692 \nL 130.304602 142.304482 \nL 141.287566 134.430798 \nL 166.704796 113.125535 \nL 183.28125 99.862377 \nL 209.576707 83.946587 \nL 238.793881 73.038569 \nL 271.509891 54.76764 \nL 280.787566 53.148954 \nL 322.78125 50.397626 \nL 322.78125 41.29343 \nL 280.787566 44.629553 \nL 238.793881 51.389025 \nL 224.809783 54.76764 \nL 183.28125 72.419102 \nL 157.438983 83.946587 \nL 141.287566 96.363161 \nL 117.417471 113.125535 \nL 99.293881 125.989372 \nL 71.801911 142.304482 \nL 43.78125 182.577508 \nL 43.78125 215.25185 \nL 43.78125 288.199219 \nL 48.051452 288.199219 \nz\n\" clip-path=\"url(#p829ff4d02f)\" style=\"fill: #cb181d\"/>\n   </g>\n   <g id=\"PathCollection_6\">\n    <path d=\"M 99.293881 288.199219 \nL 141.287566 288.199219 \nL 183.28125 288.199219 \nL 238.793881 288.199219 \nL 280.787566 288.199219 \nL 322.78125 288.199219 \nL 322.78125 215.25185 \nL 322.78125 142.304482 \nL 322.78125 113.125535 \nL 322.78125 83.946587 \nL 322.78125 54.76764 \nL 322.78125 50.397626 \nL 280.787566 53.148954 \nL 271.509891 54.76764 \nL 238.793881 73.038569 \nL 209.576707 83.946587 \nL 183.28125 99.862377 \nL 166.704796 113.125535 \nL 141.287566 134.430798 \nL 130.304602 142.304482 \nL 99.293881 183.988692 \nL 77.805121 215.25185 \nL 48.051452 288.199219 \nz\n\" clip-path=\"url(#p829ff4d02f)\" style=\"fill: #900a12\"/>\n   </g>\n   <g id=\"matplotlib.axis_1\">\n    <g id=\"xtick_1\">\n     <g id=\"line2d_1\">\n      <defs>\n       <path id=\"m8a57f607eb\" d=\"M 0 0 \nL 0 3.5 \n\" style=\"stroke: #000000; stroke-width: 0.8\"/>\n      </defs>\n      <g>\n       <use xlink:href=\"#m8a57f607eb\" x=\"43.78125\" y=\"288.199219\" style=\"stroke: #000000; stroke-width: 0.8\"/>\n      </g>\n     </g>\n     <g id=\"text_1\">\n      <!-- 0.0 -->\n      <g transform=\"translate(35.829688 302.797656) scale(0.1 -0.1)\">\n       <defs>\n        <path id=\"DejaVuSans-30\" d=\"M 2034 4250 \nQ 1547 4250 1301 3770 \nQ 1056 3291 1056 2328 \nQ 1056 1369 1301 889 \nQ 1547 409 2034 409 \nQ 2525 409 2770 889 \nQ 3016 1369 3016 2328 \nQ 3016 3291 2770 3770 \nQ 2525 4250 2034 4250 \nz\nM 2034 4750 \nQ 2819 4750 3233 4129 \nQ 3647 3509 3647 2328 \nQ 3647 1150 3233 529 \nQ 2819 -91 2034 -91 \nQ 1250 -91 836 529 \nQ 422 1150 422 2328 \nQ 422 3509 836 4129 \nQ 1250 4750 2034 4750 \nz\n\" transform=\"scale(0.015625)\"/>\n        <path id=\"DejaVuSans-2e\" d=\"M 684 794 \nL 1344 794 \nL 1344 0 \nL 684 0 \nL 684 794 \nz\n\" transform=\"scale(0.015625)\"/>\n       </defs>\n       <use xlink:href=\"#DejaVuSans-30\"/>\n       <use xlink:href=\"#DejaVuSans-2e\" x=\"63.623047\"/>\n       <use xlink:href=\"#DejaVuSans-30\" x=\"95.410156\"/>\n      </g>\n     </g>\n    </g>\n    <g id=\"xtick_2\">\n     <g id=\"line2d_2\">\n      <g>\n       <use xlink:href=\"#m8a57f607eb\" x=\"183.28125\" y=\"288.199219\" style=\"stroke: #000000; stroke-width: 0.8\"/>\n      </g>\n     </g>\n     <g id=\"text_2\">\n      <!-- 0.5 -->\n      <g transform=\"translate(175.329687 302.797656) scale(0.1 -0.1)\">\n       <defs>\n        <path id=\"DejaVuSans-35\" d=\"M 691 4666 \nL 3169 4666 \nL 3169 4134 \nL 1269 4134 \nL 1269 2991 \nQ 1406 3038 1543 3061 \nQ 1681 3084 1819 3084 \nQ 2600 3084 3056 2656 \nQ 3513 2228 3513 1497 \nQ 3513 744 3044 326 \nQ 2575 -91 1722 -91 \nQ 1428 -91 1123 -41 \nQ 819 9 494 109 \nL 494 744 \nQ 775 591 1075 516 \nQ 1375 441 1709 441 \nQ 2250 441 2565 725 \nQ 2881 1009 2881 1497 \nQ 2881 1984 2565 2268 \nQ 2250 2553 1709 2553 \nQ 1456 2553 1204 2497 \nQ 953 2441 691 2322 \nL 691 4666 \nz\n\" transform=\"scale(0.015625)\"/>\n       </defs>\n       <use xlink:href=\"#DejaVuSans-30\"/>\n       <use xlink:href=\"#DejaVuSans-2e\" x=\"63.623047\"/>\n       <use xlink:href=\"#DejaVuSans-35\" x=\"95.410156\"/>\n      </g>\n     </g>\n    </g>\n    <g id=\"xtick_3\">\n     <g id=\"line2d_3\">\n      <g>\n       <use xlink:href=\"#m8a57f607eb\" x=\"322.78125\" y=\"288.199219\" style=\"stroke: #000000; stroke-width: 0.8\"/>\n      </g>\n     </g>\n     <g id=\"text_3\">\n      <!-- 1.0 -->\n      <g transform=\"translate(314.829687 302.797656) scale(0.1 -0.1)\">\n       <defs>\n        <path id=\"DejaVuSans-31\" d=\"M 794 531 \nL 1825 531 \nL 1825 4091 \nL 703 3866 \nL 703 4441 \nL 1819 4666 \nL 2450 4666 \nL 2450 531 \nL 3481 531 \nL 3481 0 \nL 794 0 \nL 794 531 \nz\n\" transform=\"scale(0.015625)\"/>\n       </defs>\n       <use xlink:href=\"#DejaVuSans-31\"/>\n       <use xlink:href=\"#DejaVuSans-2e\" x=\"63.623047\"/>\n       <use xlink:href=\"#DejaVuSans-30\" x=\"95.410156\"/>\n      </g>\n     </g>\n    </g>\n    <g id=\"text_4\">\n     <!-- X-axis -->\n     <g transform=\"translate(168.285156 316.475781) scale(0.1 -0.1)\">\n      <defs>\n       <path id=\"DejaVuSans-58\" d=\"M 403 4666 \nL 1081 4666 \nL 2241 2931 \nL 3406 4666 \nL 4084 4666 \nL 2584 2425 \nL 4184 0 \nL 3506 0 \nL 2194 1984 \nL 872 0 \nL 191 0 \nL 1856 2491 \nL 403 4666 \nz\n\" transform=\"scale(0.015625)\"/>\n       <path id=\"DejaVuSans-2d\" d=\"M 313 2009 \nL 1997 2009 \nL 1997 1497 \nL 313 1497 \nL 313 2009 \nz\n\" transform=\"scale(0.015625)\"/>\n       <path id=\"DejaVuSans-61\" d=\"M 2194 1759 \nQ 1497 1759 1228 1600 \nQ 959 1441 959 1056 \nQ 959 750 1161 570 \nQ 1363 391 1709 391 \nQ 2188 391 2477 730 \nQ 2766 1069 2766 1631 \nL 2766 1759 \nL 2194 1759 \nz\nM 3341 1997 \nL 3341 0 \nL 2766 0 \nL 2766 531 \nQ 2569 213 2275 61 \nQ 1981 -91 1556 -91 \nQ 1019 -91 701 211 \nQ 384 513 384 1019 \nQ 384 1609 779 1909 \nQ 1175 2209 1959 2209 \nL 2766 2209 \nL 2766 2266 \nQ 2766 2663 2505 2880 \nQ 2244 3097 1772 3097 \nQ 1472 3097 1187 3025 \nQ 903 2953 641 2809 \nL 641 3341 \nQ 956 3463 1253 3523 \nQ 1550 3584 1831 3584 \nQ 2591 3584 2966 3190 \nQ 3341 2797 3341 1997 \nz\n\" transform=\"scale(0.015625)\"/>\n       <path id=\"DejaVuSans-78\" d=\"M 3513 3500 \nL 2247 1797 \nL 3578 0 \nL 2900 0 \nL 1881 1375 \nL 863 0 \nL 184 0 \nL 1544 1831 \nL 300 3500 \nL 978 3500 \nL 1906 2253 \nL 2834 3500 \nL 3513 3500 \nz\n\" transform=\"scale(0.015625)\"/>\n       <path id=\"DejaVuSans-69\" d=\"M 603 3500 \nL 1178 3500 \nL 1178 0 \nL 603 0 \nL 603 3500 \nz\nM 603 4863 \nL 1178 4863 \nL 1178 4134 \nL 603 4134 \nL 603 4863 \nz\n\" transform=\"scale(0.015625)\"/>\n       <path id=\"DejaVuSans-73\" d=\"M 2834 3397 \nL 2834 2853 \nQ 2591 2978 2328 3040 \nQ 2066 3103 1784 3103 \nQ 1356 3103 1142 2972 \nQ 928 2841 928 2578 \nQ 928 2378 1081 2264 \nQ 1234 2150 1697 2047 \nL 1894 2003 \nQ 2506 1872 2764 1633 \nQ 3022 1394 3022 966 \nQ 3022 478 2636 193 \nQ 2250 -91 1575 -91 \nQ 1294 -91 989 -36 \nQ 684 19 347 128 \nL 347 722 \nQ 666 556 975 473 \nQ 1284 391 1588 391 \nQ 1994 391 2212 530 \nQ 2431 669 2431 922 \nQ 2431 1156 2273 1281 \nQ 2116 1406 1581 1522 \nL 1381 1569 \nQ 847 1681 609 1914 \nQ 372 2147 372 2553 \nQ 372 3047 722 3315 \nQ 1072 3584 1716 3584 \nQ 2034 3584 2315 3537 \nQ 2597 3491 2834 3397 \nz\n\" transform=\"scale(0.015625)\"/>\n      </defs>\n      <use xlink:href=\"#DejaVuSans-58\"/>\n      <use xlink:href=\"#DejaVuSans-2d\" x=\"63.505859\"/>\n      <use xlink:href=\"#DejaVuSans-61\" x=\"99.589844\"/>\n      <use xlink:href=\"#DejaVuSans-78\" x=\"160.869141\"/>\n      <use xlink:href=\"#DejaVuSans-69\" x=\"220.048828\"/>\n      <use xlink:href=\"#DejaVuSans-73\" x=\"247.832031\"/>\n     </g>\n    </g>\n   </g>\n   <g id=\"matplotlib.axis_2\">\n    <g id=\"ytick_1\">\n     <g id=\"line2d_4\">\n      <defs>\n       <path id=\"mf0412f2b6b\" d=\"M 0 0 \nL -3.5 0 \n\" style=\"stroke: #000000; stroke-width: 0.8\"/>\n      </defs>\n      <g>\n       <use xlink:href=\"#mf0412f2b6b\" x=\"43.78125\" y=\"288.199219\" style=\"stroke: #000000; stroke-width: 0.8\"/>\n      </g>\n     </g>\n     <g id=\"text_5\">\n      <!-- 0.0 -->\n      <g transform=\"translate(20.878125 291.998438) scale(0.1 -0.1)\">\n       <use xlink:href=\"#DejaVuSans-30\"/>\n       <use xlink:href=\"#DejaVuSans-2e\" x=\"63.623047\"/>\n       <use xlink:href=\"#DejaVuSans-30\" x=\"95.410156\"/>\n      </g>\n     </g>\n    </g>\n    <g id=\"ytick_2\">\n     <g id=\"line2d_5\">\n      <g>\n       <use xlink:href=\"#mf0412f2b6b\" x=\"43.78125\" y=\"149.599219\" style=\"stroke: #000000; stroke-width: 0.8\"/>\n      </g>\n     </g>\n     <g id=\"text_6\">\n      <!-- 0.5 -->\n      <g transform=\"translate(20.878125 153.398438) scale(0.1 -0.1)\">\n       <use xlink:href=\"#DejaVuSans-30\"/>\n       <use xlink:href=\"#DejaVuSans-2e\" x=\"63.623047\"/>\n       <use xlink:href=\"#DejaVuSans-35\" x=\"95.410156\"/>\n      </g>\n     </g>\n    </g>\n    <g id=\"ytick_3\">\n     <g id=\"line2d_6\">\n      <g>\n       <use xlink:href=\"#mf0412f2b6b\" x=\"43.78125\" y=\"10.999219\" style=\"stroke: #000000; stroke-width: 0.8\"/>\n      </g>\n     </g>\n     <g id=\"text_7\">\n      <!-- 1.0 -->\n      <g transform=\"translate(20.878125 14.798438) scale(0.1 -0.1)\">\n       <use xlink:href=\"#DejaVuSans-31\"/>\n       <use xlink:href=\"#DejaVuSans-2e\" x=\"63.623047\"/>\n       <use xlink:href=\"#DejaVuSans-30\" x=\"95.410156\"/>\n      </g>\n     </g>\n    </g>\n    <g id=\"text_8\">\n     <!-- Y-axis -->\n     <g transform=\"translate(14.798438 163.880469) rotate(-90) scale(0.1 -0.1)\">\n      <defs>\n       <path id=\"DejaVuSans-59\" d=\"M -13 4666 \nL 666 4666 \nL 1959 2747 \nL 3244 4666 \nL 3922 4666 \nL 2272 2222 \nL 2272 0 \nL 1638 0 \nL 1638 2222 \nL -13 4666 \nz\n\" transform=\"scale(0.015625)\"/>\n      </defs>\n      <use xlink:href=\"#DejaVuSans-59\"/>\n      <use xlink:href=\"#DejaVuSans-2d\" x=\"49.208984\"/>\n      <use xlink:href=\"#DejaVuSans-61\" x=\"85.292969\"/>\n      <use xlink:href=\"#DejaVuSans-78\" x=\"146.572266\"/>\n      <use xlink:href=\"#DejaVuSans-69\" x=\"205.751953\"/>\n      <use xlink:href=\"#DejaVuSans-73\" x=\"233.535156\"/>\n     </g>\n    </g>\n   </g>\n   <g id=\"PathCollection_7\">\n    <path d=\"M 322.78125 14.805168 \nL 280.787566 15.763082 \nL 238.793881 17.539328 \nL 199.024994 18.660594 \n\" clip-path=\"url(#p829ff4d02f)\" style=\"fill: none; stroke: #000000; stroke-width: 1.5\"/>\n    <path d=\"M 167.533272 18.852143 \nL 141.287566 18.431592 \nL 99.293881 14.927154 \nL 90.256941 10.999219 \n\" clip-path=\"url(#p829ff4d02f)\" style=\"fill: none; stroke: #000000; stroke-width: 1.5\"/>\n   </g>\n   <g id=\"PathCollection_8\">\n    <path d=\"M 322.78125 23.262834 \nL 300.137597 25.588692 \nL 280.787566 27.590752 \nL 238.793881 30.912571 \nL 198.902763 36.039424 \n\" clip-path=\"url(#p829ff4d02f)\" style=\"fill: none; stroke: #000000; stroke-width: 1.5\"/>\n    <path d=\"M 167.715608 40.449887 \nL 141.287566 44.529413 \nL 99.293881 53.394513 \nL 77.088829 54.76764 \nL 43.78125 56.956061 \n\" clip-path=\"url(#p829ff4d02f)\" style=\"fill: none; stroke: #000000; stroke-width: 1.5\"/>\n   </g>\n   <g id=\"PathCollection_9\">\n    <path d=\"M 322.78125 32.189234 \nL 280.787566 36.110152 \nL 238.793881 41.150798 \nL 183.28125 54.439786 \nL 181.926615 54.76764 \nL 152.172389 65.449447 \n\" clip-path=\"url(#p829ff4d02f)\" style=\"fill: none; stroke: #000000; stroke-width: 1.5\"/>\n    <path d=\"M 130.817011 74.267991 \nL 110.181133 83.946587 \nL 99.293881 91.606061 \nL 56.758229 113.125535 \nL 43.78125 121.205858 \n\" clip-path=\"url(#p829ff4d02f)\" style=\"fill: none; stroke: #000000; stroke-width: 1.5\"/>\n   </g>\n   <g id=\"PathCollection_10\">\n    <path d=\"M 322.78125 41.29343 \nL 280.787566 44.629553 \nL 238.793881 51.389025 \nL 224.809783 54.76764 \nL 183.28125 72.419102 \nL 168.000828 79.235255 \n\" clip-path=\"url(#p829ff4d02f)\" style=\"fill: none; stroke: #000000; stroke-width: 1.5\"/>\n    <path d=\"M 148.270203 90.995184 \nL 141.287566 96.363161 \nL 117.417471 113.125535 \nL 99.293881 125.989372 \nL 71.801911 142.304482 \nL 43.78125 182.577508 \n\" clip-path=\"url(#p829ff4d02f)\" style=\"fill: none; stroke: #000000; stroke-width: 1.5\"/>\n   </g>\n   <g id=\"PathCollection_11\">\n    <path d=\"M 322.78125 50.397626 \nL 280.787566 53.148954 \nL 271.509891 54.76764 \nL 238.793881 73.038569 \nL 209.576707 83.946587 \nL 183.28125 99.862377 \nL 175.735013 105.900274 \n\" clip-path=\"url(#p829ff4d02f)\" style=\"fill: none; stroke: #000000; stroke-width: 1.5\"/>\n    <path d=\"M 157.84166 120.554804 \nL 141.287566 134.430798 \nL 130.304602 142.304482 \nL 99.293881 183.988692 \nL 77.805121 215.25185 \nL 48.051452 288.199219 \n\" clip-path=\"url(#p829ff4d02f)\" style=\"fill: none; stroke: #000000; stroke-width: 1.5\"/>\n   </g>\n   <g id=\"patch_3\">\n    <path d=\"M 43.78125 288.199219 \nL 43.78125 10.999219 \n\" style=\"fill: none; stroke: #000000; stroke-width: 0.8; stroke-linejoin: miter; stroke-linecap: square\"/>\n   </g>\n   <g id=\"patch_4\">\n    <path d=\"M 322.78125 288.199219 \nL 322.78125 10.999219 \n\" style=\"fill: none; stroke: #000000; stroke-width: 0.8; stroke-linejoin: miter; stroke-linecap: square\"/>\n   </g>\n   <g id=\"patch_5\">\n    <path d=\"M 43.78125 288.199219 \nL 322.78125 288.199219 \n\" style=\"fill: none; stroke: #000000; stroke-width: 0.8; stroke-linejoin: miter; stroke-linecap: square\"/>\n   </g>\n   <g id=\"patch_6\">\n    <path d=\"M 43.78125 10.999219 \nL 322.78125 10.999219 \n\" style=\"fill: none; stroke: #000000; stroke-width: 0.8; stroke-linejoin: miter; stroke-linecap: square\"/>\n   </g>\n   <g id=\"text_9\">\n    <g clip-path=\"url(#p829ff4d02f)\">\n     <!-- −0.4 -->\n     <g transform=\"translate(171.156852 21.937655) rotate(-0.348498) scale(0.1 -0.1)\">\n      <defs>\n       <path id=\"DejaVuSans-2212\" d=\"M 678 2272 \nL 4684 2272 \nL 4684 1741 \nL 678 1741 \nL 678 2272 \nz\n\" transform=\"scale(0.015625)\"/>\n       <path id=\"DejaVuSans-34\" d=\"M 2419 4116 \nL 825 1625 \nL 2419 1625 \nL 2419 4116 \nz\nM 2253 4666 \nL 3047 4666 \nL 3047 1625 \nL 3713 1625 \nL 3713 1100 \nL 3047 1100 \nL 3047 0 \nL 2419 0 \nL 2419 1100 \nL 313 1100 \nL 313 1709 \nL 2253 4666 \nz\n\" transform=\"scale(0.015625)\"/>\n      </defs>\n      <use xlink:href=\"#DejaVuSans-2212\"/>\n      <use xlink:href=\"#DejaVuSans-30\" x=\"83.789062\"/>\n      <use xlink:href=\"#DejaVuSans-2e\" x=\"147.412109\"/>\n      <use xlink:href=\"#DejaVuSans-34\" x=\"179.199219\"/>\n     </g>\n    </g>\n   </g>\n   <g id=\"text_10\">\n    <g clip-path=\"url(#p829ff4d02f)\">\n     <!-- −0.2 -->\n     <g transform=\"translate(171.645847 42.47942) rotate(-8.049346) scale(0.1 -0.1)\">\n      <defs>\n       <path id=\"DejaVuSans-32\" d=\"M 1228 531 \nL 3431 531 \nL 3431 0 \nL 469 0 \nL 469 531 \nQ 828 903 1448 1529 \nQ 2069 2156 2228 2338 \nQ 2531 2678 2651 2914 \nQ 2772 3150 2772 3378 \nQ 2772 3750 2511 3984 \nQ 2250 4219 1831 4219 \nQ 1534 4219 1204 4116 \nQ 875 4013 500 3803 \nL 500 4441 \nQ 881 4594 1212 4672 \nQ 1544 4750 1819 4750 \nQ 2544 4750 2975 4387 \nQ 3406 4025 3406 3419 \nQ 3406 3131 3298 2873 \nQ 3191 2616 2906 2266 \nQ 2828 2175 2409 1742 \nQ 1991 1309 1228 531 \nz\n\" transform=\"scale(0.015625)\"/>\n      </defs>\n      <use xlink:href=\"#DejaVuSans-2212\"/>\n      <use xlink:href=\"#DejaVuSans-30\" x=\"83.789062\"/>\n      <use xlink:href=\"#DejaVuSans-2e\" x=\"147.412109\"/>\n      <use xlink:href=\"#DejaVuSans-32\" x=\"179.199219\"/>\n     </g>\n    </g>\n   </g>\n   <g id=\"text_11\">\n    <g clip-path=\"url(#p829ff4d02f)\">\n     <!-- 0.0 -->\n     <g transform=\"translate(134.991181 74.942544) rotate(-22.437812) scale(0.1 -0.1)\">\n      <use xlink:href=\"#DejaVuSans-30\"/>\n      <use xlink:href=\"#DejaVuSans-2e\" x=\"63.623047\"/>\n      <use xlink:href=\"#DejaVuSans-30\" x=\"95.410156\"/>\n     </g>\n    </g>\n   </g>\n   <g id=\"text_12\">\n    <g clip-path=\"url(#p829ff4d02f)\">\n     <!-- 0.2 -->\n     <g transform=\"translate(152.021374 90.387939) rotate(-30.795964) scale(0.1 -0.1)\">\n      <use xlink:href=\"#DejaVuSans-30\"/>\n      <use xlink:href=\"#DejaVuSans-2e\" x=\"63.623047\"/>\n      <use xlink:href=\"#DejaVuSans-32\" x=\"95.410156\"/>\n     </g>\n    </g>\n   </g>\n   <g id=\"text_13\">\n    <g clip-path=\"url(#p829ff4d02f)\">\n     <!-- 0.4 -->\n     <g transform=\"translate(162.301449 120.298542) rotate(-39.317233) scale(0.1 -0.1)\">\n      <use xlink:href=\"#DejaVuSans-30\"/>\n      <use xlink:href=\"#DejaVuSans-2e\" x=\"63.623047\"/>\n      <use xlink:href=\"#DejaVuSans-34\" x=\"95.410156\"/>\n     </g>\n    </g>\n   </g>\n  </g>\n </g>\n <defs>\n  <clipPath id=\"p829ff4d02f\">\n   <rect x=\"43.78125\" y=\"10.999219\" width=\"279\" height=\"277.2\"/>\n  </clipPath>\n </defs>\n</svg>\n"
     },
     "metadata": {},
     "output_type": "display_data"
    }
   ],
   "source": [
    "# Initialize plot objects\n",
    "rcParams['figure.figsize'] = 5, 5 # sets plot size\n",
    "fig = plt.figure()\n",
    "ax = fig.add_subplot(111)\n",
    "\n",
    "# Define levels in z-axis where we want lines to appear\n",
    "levels = np.array([-0.4,-0.2,0,0.2,0.4])\n",
    "\n",
    "# Generate a color mapping of the levels we've specified\n",
    "import matplotlib.cm as cm # matplotlib's color map library\n",
    "cpf = ax.contourf(X,Y,Z, len(levels), cmap=cm.Reds)\n",
    "\n",
    "# Set all level lines to black\n",
    "line_colors = ['black' for l in cpf.levels]\n",
    "\n",
    "# Make plot and customize axes\n",
    "cp = ax.contour(X, Y, Z, levels=levels, colors=line_colors)\n",
    "ax.clabel(cp, fontsize=10, colors=line_colors)\n",
    "plt.xticks([0,0.5,1])\n",
    "plt.yticks([0,0.5,1])\n",
    "ax.set_xlabel('X-axis')\n",
    "_ = ax.set_ylabel('Y-axis')\n",
    "#plt.savefig('figure.pdf') # uncomment to save vector/high-res version"
   ],
   "metadata": {
    "collapsed": false,
    "ExecuteTime": {
     "start_time": "2023-04-10T17:55:01.887994Z",
     "end_time": "2023-04-10T17:55:01.962210Z"
    }
   }
  },
  {
   "cell_type": "code",
   "execution_count": null,
   "outputs": [],
   "source": [
    "%load_ext rpy2.ipython"
   ],
   "metadata": {
    "collapsed": false
   }
  }
 ],
 "metadata": {
  "kernelspec": {
   "display_name": "Python 3",
   "language": "python",
   "name": "python3"
  },
  "language_info": {
   "codemirror_mode": {
    "name": "ipython",
    "version": 2
   },
   "file_extension": ".py",
   "mimetype": "text/x-python",
   "name": "python",
   "nbconvert_exporter": "python",
   "pygments_lexer": "ipython2",
   "version": "2.7.6"
  }
 },
 "nbformat": 4,
 "nbformat_minor": 0
}
